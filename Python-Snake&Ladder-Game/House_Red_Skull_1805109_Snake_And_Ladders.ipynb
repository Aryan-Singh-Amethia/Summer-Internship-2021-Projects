{
  "nbformat": 4,
  "nbformat_minor": 0,
  "metadata": {
    "colab": {
      "name": "House Red Skull_1805109_Snake And Ladders.ipynb",
      "provenance": [],
      "collapsed_sections": []
    },
    "kernelspec": {
      "name": "python3",
      "display_name": "Python 3"
    }
  },
  "cells": [
    {
      "cell_type": "markdown",
      "metadata": {
        "id": "x5OZLo_f3gsJ"
      },
      "source": [
        "########## PROBLEM STATEMENT #########\r\n",
        "\r\n",
        "Design and implement a Snakes and Ladders game in Python.\r\n",
        "\r\n",
        "● There are 6 face dice which are being rolled by the player to their chance.\r\n",
        "\r\n",
        "● The player starts from 0 and has to reach the final position (in our case it's 100).\r\n",
        "\r\n",
        "● There are some ladders which turn out to be lucky for the player as they shorten the way.\r\n",
        "\r\n",
        "● There are some snakes present in between the game which turns out\r\n",
        "to be the enemy of the player as they just lengthen their way to 100.\r\n",
        "\r\n",
        "● The position of snakes and ladders are stored in start:end format\r\n",
        "where start denotes the position of ladder/snake and end denotes the\r\n",
        "value that it reaches.\r\n",
        "\r\n",
        "Position of snakes: {17 : 7, 54 : 34, 62 : 19, 98 : 79}\r\n",
        "\r\n",
        "Position of ladders: {3 : 38, 24 : 33, 42 : 93, 72 : 84}\r\n",
        "\r\n"
      ]
    },
    {
      "cell_type": "code",
      "metadata": {
        "colab": {
          "base_uri": "https://localhost:8080/"
        },
        "id": "bA9FPq2S6ZUO",
        "outputId": "fd7d0f8e-abbd-4926-9b19-f6c21077178d"
      },
      "source": [
        "'''\r\n",
        "This is the Initialization block.\r\n",
        "\r\n",
        "Here I have imported random function for use in auto mode.\r\n",
        "\r\n",
        "Initial Messages of name entries are displayed.\r\n",
        "\r\n",
        "Initial positions of both players are taken as 1.\r\n",
        "\r\n",
        "' Turn ' a variable to denote the active player.\r\n",
        "\r\n",
        "        * 1 for Player 1\r\n",
        "\r\n",
        "        * 2 for Player 2\r\n",
        "    \r\n",
        "'''\r\n",
        "import random\r\n",
        "print(\"###### Welcome To Snake & Ladders Game ######\")\r\n",
        "print(\"Enter the name of Palyer 1 :\")\r\n",
        "player1=input()\r\n",
        "print(\"Enter the name of Palyer 2 :\")\r\n",
        "player2=input()\r\n",
        "print(\"##### Let us Start #####\")\r\n",
        "pos_player1,pos_player2=0,0\r\n",
        "turn=1\r\n",
        "Position_of_snakes= {17 : 7, 54 : 34, 62 : 19, 98 : 79}\r\n",
        "Position_of_ladders= {3 : 38, 24 : 33, 42 : 93, 72 : 84}\r\n"
      ],
      "execution_count": null,
      "outputs": [
        {
          "output_type": "stream",
          "text": [
            "###### Welcome To Snake & Ladders Game ######\n",
            "Enter the name of Palyer 1 :\n",
            "Aryan\n",
            "Enter the name of Palyer 2 :\n",
            "Nalin\n",
            "##### Let us Start #####\n"
          ],
          "name": "stdout"
        }
      ]
    },
    {
      "cell_type": "markdown",
      "metadata": {
        "id": "jpkKFJxP71lR"
      },
      "source": [
        "Now ,\r\n",
        "     we are ready to start the game But first let's define some helper functions \r\n",
        "     to prevent rewriting of code."
      ]
    },
    {
      "cell_type": "code",
      "metadata": {
        "id": "k5B4o22i88cc"
      },
      "source": [
        "def print_and_enter(turn):\r\n",
        "   '''\r\n",
        "    A function to inform the players whose turn it is to roll OR enter.\r\n",
        "   '''\r\n",
        "   if turn == 1:\r\n",
        "          user_input=input(\"Player 1 : \")\r\n",
        "   else:\r\n",
        "          user_input=input(\"Player 2 : \")\r\n",
        "   return user_input.lower()"
      ],
      "execution_count": null,
      "outputs": []
    },
    {
      "cell_type": "code",
      "metadata": {
        "id": "McUPBBJC9hAU"
      },
      "source": [
        "def increment(turn,user_input):\r\n",
        "  '''\r\n",
        "  A function to increment/change the player's position based on \r\n",
        "  the type of mode input, i.e. 'auto' OR 'manual'\r\n",
        "  \r\n",
        "  'auto'- player enters roll and we roll the die to generate a random number\r\n",
        "          between 1 and 6 (inclusive)\r\n",
        "\r\n",
        "  'manual'- player enters a number between 1 and 20 and if it is permissible\r\n",
        "            increment the player's piece\r\n",
        "\r\n",
        "  '''\r\n",
        "\r\n",
        "  global pos_player1,pos_player2\r\n",
        "\r\n",
        "  if user_input == \"roll\" : # for auto input\r\n",
        "          if turn == 1 :\r\n",
        "                       n=random.randrange(1,7,1)\r\n",
        "                       print(f\"You got a {n}\")\r\n",
        "                       if(pos_player1 + n <=100):     \r\n",
        "                          pos_player1+=n\r\n",
        "\r\n",
        "\r\n",
        "          else:\r\n",
        "               n=random.randrange(1,7,1)\r\n",
        "               print(f\"You got a {n}\")\r\n",
        "               if(pos_player2 + n <=100):    \r\n",
        "                pos_player2+=n\r\n",
        "            \r\n",
        "  else :\r\n",
        "       #for manual input\r\n",
        "\r\n",
        "\r\n",
        "       if turn == 1:\r\n",
        "              print(f\"You got a {user_input}\")\r\n",
        "              if pos_player1 + int(user_input) <=100 :    \r\n",
        "                    pos_player1+=int(user_input)\r\n",
        "       else:\r\n",
        "              print(f\"You got a {user_input}\")\r\n",
        "              if pos_player2 + int(user_input) <=100 :    \r\n",
        "                  pos_player2+=int(user_input)"
      ],
      "execution_count": null,
      "outputs": []
    },
    {
      "cell_type": "code",
      "metadata": {
        "id": "BYZqWbGXDdjr"
      },
      "source": [
        "'''\r\n",
        "Here is the declaration of two lists.\r\n",
        "\r\n",
        "possible_inputs1 - contains all valid string inputs which a player can make\r\n",
        "\r\n",
        "possible _inputs2 - conatins a list of all possible manual inputs.\r\n",
        "'''\r\n",
        "possible_inputs1=[\"roll\",\"quit\"]\r\n",
        "possible_inputs2=[str(i) for i in range(1,21)]"
      ],
      "execution_count": null,
      "outputs": []
    },
    {
      "cell_type": "markdown",
      "metadata": {
        "id": "CUwSwTdX-dn7"
      },
      "source": [
        "Now,\r\n",
        "\r\n",
        "Here is the main Driver code "
      ]
    },
    {
      "cell_type": "code",
      "metadata": {
        "colab": {
          "base_uri": "https://localhost:8080/"
        },
        "id": "99AQiuVaDMne",
        "outputId": "48e143a8-9959-48f3-ff08-b1296daddfac"
      },
      "source": [
        "while pos_player1!=100 or pos_player2!=100 :\r\n",
        "  user_input=print_and_enter(turn)\r\n",
        "\r\n",
        "  # Handling string exceptions\r\n",
        "  '''\r\n",
        "  Any player can input only two valid strings \"roll\" and \"quit\".\r\n",
        "  If any invalid string is entered, the game catches it and \r\n",
        "  prompts the user to give a valid input.\r\n",
        "  '''\r\n",
        "  while  user_input not in possible_inputs1 and user_input not in possible_inputs2:\r\n",
        "      print(\"Uh Oh! It seems like an invalid input.... \\n Plz enter again :(\")\r\n",
        "      print(\"### Valid Inputs ### \\n Auto :- roll | quit \\n Manual :- 1 to 20 (inclusive)\")\r\n",
        "      user_input=print_and_enter(turn)\r\n",
        "     \r\n",
        "\r\n",
        "\r\n",
        "\r\n",
        "  #Handling Quit condition\r\n",
        "  '''\r\n",
        "  This block deals with checking the quit condition.\r\n",
        "\r\n",
        "  If one player quits, the other is declared the winner by default.\r\n",
        "  (as per problem statement)\r\n",
        "\r\n",
        "  If anyone quits the game is exited after declaring the winner.\r\n",
        "  '''\r\n",
        "  if user_input==\"quit\":\r\n",
        "      if turn==1:\r\n",
        "          print(\"Player2 won the Game \\n ##### Game Sucessfully Finished #####\")\r\n",
        "      else:\r\n",
        "          print(\"Player1 won the Game \\n ##### Game Sucessfully Finished #####\")\r\n",
        "      break\r\n",
        "\r\n",
        "  # Calling the increment function wrt the Active Player    \r\n",
        "  increment(turn,user_input)\r\n",
        "\r\n",
        "\r\n",
        "  '''\r\n",
        "  This block checks for the presence of snakes OR ladders \r\n",
        "  as per the given dictionaries.\r\n",
        "\r\n",
        "  If a ladder is found, the player enjoys the bonus. \r\n",
        "\r\n",
        "  If a snake if found, the player pays the penalty. \r\n",
        "  '''\r\n",
        "  if(turn == 1 and pos_player1 in Position_of_ladders):\r\n",
        "        pos_player1=Position_of_ladders[pos_player1]\r\n",
        "  elif turn == 1 and pos_player1 in Position_of_snakes:\r\n",
        "        pos_player1=Position_of_snakes[pos_player1]      \r\n",
        "  elif turn == 2 and pos_player2 in Position_of_ladders:\r\n",
        "         pos_player2=Position_of_ladders[pos_player2]\r\n",
        "  elif turn == 2 and pos_player2 in Position_of_snakes:\r\n",
        "         pos_player2=Position_of_snakes[pos_player2]\r\n",
        "\r\n",
        "  '''\r\n",
        "  The following block displays the final position of the players,\r\n",
        "  after all changes have been made\r\n",
        "  '''\r\n",
        "  if turn ==1:\r\n",
        "       print(f\"Your final position is {pos_player1}\")\r\n",
        "  elif turn==2:\r\n",
        "        print(f\"Your final position is {pos_player2}\")\r\n",
        "\r\n",
        "  '''\r\n",
        "  Here we check the termination condition.\r\n",
        "\r\n",
        "  The game terminates is either player reaches 100th position.\r\n",
        "  '''\r\n",
        "  if pos_player1==100:\r\n",
        "      print(\"Player 1 won the game.\")\r\n",
        "      print(\"##### Game sucessfully finished #####\")\r\n",
        "      break\r\n",
        "  elif pos_player2==100:\r\n",
        "      print(\"Player 2 won the game.\")\r\n",
        "      print(\"##### Game sucessfully finished #####\")\r\n",
        "      break\r\n",
        "\r\n",
        "  '''\r\n",
        "  Finally , we change the active player\r\n",
        "  by changing turn values\r\n",
        "  '''\r\n",
        "  if turn==1:\r\n",
        "      turn=2 \r\n",
        "  else:\r\n",
        "      turn=1\r\n",
        "      "
      ],
      "execution_count": null,
      "outputs": [
        {
          "output_type": "stream",
          "text": [
            "Player 1 : roll\n",
            "You got a 5\n",
            "Your final position is 5\n",
            "Player 2 : roll\n",
            "You got a 5\n",
            "Your final position is 5\n",
            "Player 1 : 12\n",
            "You got a 12\n",
            "Your final position is 7\n",
            "Player 2 : 45\n",
            "Uh Oh! It seems like an invalid input.... \n",
            " Plz enter again :(\n",
            "### Valid Inputs ### \n",
            " Auto :- roll | quit \n",
            " Manual :- 1 to 20 (inclusive)\n",
            "Player 2 : roll\n",
            "You got a 4\n",
            "Your final position is 9\n",
            "Player 1 : roll\n",
            "You got a 3\n",
            "Your final position is 10\n",
            "Player 2 : QuiT\n",
            "Player1 won the Game \n",
            " ##### Game Sucessfully Finished #####\n"
          ],
          "name": "stdout"
        }
      ]
    },
    {
      "cell_type": "code",
      "metadata": {
        "id": "YeoRoLmMEPQU"
      },
      "source": [
        ""
      ],
      "execution_count": null,
      "outputs": []
    }
  ]
}