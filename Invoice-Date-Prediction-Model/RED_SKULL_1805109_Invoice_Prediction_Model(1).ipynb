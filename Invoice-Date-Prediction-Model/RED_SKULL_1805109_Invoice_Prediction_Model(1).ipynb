{
  "nbformat": 4,
  "nbformat_minor": 0,
  "metadata": {
    "colab": {
      "name": "RED SKULL_1805109_Invoice Prediction Model.ipynb",
      "provenance": [],
      "collapsed_sections": [
        "Sa_CkPA5JESt",
        "wgEQ7almNXTN",
        "fWzjJKHNOFsf",
        "OVlXV1s6Q5tx",
        "IsFmNBhkSgNn",
        "qchPi02OWXFh",
        "lhM73LIYZd1N",
        "6UCB2qZ1mMnJ",
        "423Xjer8l7qf",
        "tICApBxMruPG",
        "AqGr3Lur7-ZC",
        "hOfKnkziGAso",
        "lBA-u9Vfwn6n",
        "HaZBVla60-sn",
        "A-RtJqKY8I6f",
        "kl6CpTyaKqUk",
        "hU8hvXeWK7KV",
        "-m4lmpjELIAp"
      ]
    },
    "kernelspec": {
      "display_name": "Python 3",
      "name": "python3"
    }
  },
  "cells": [
    {
      "cell_type": "markdown",
      "metadata": {
        "id": "Sa_CkPA5JESt"
      },
      "source": [
        "#INVOICE PAYMENT DATE PREDICTION MODEL\n",
        "\n"
      ]
    },
    {
      "cell_type": "markdown",
      "metadata": {
        "id": "wgEQ7almNXTN"
      },
      "source": [
        "# 1.1 Loading the given data set"
      ]
    },
    {
      "cell_type": "code",
      "metadata": {
        "colab": {
          "base_uri": "https://localhost:8080/",
          "height": 330
        },
        "id": "dwTmj8SANlUx",
        "outputId": "cb4489dd-11de-4a65-97d2-285172f1a69a"
      },
      "source": [
        "import pandas as pd\n",
        "original_main_data=pd.read_csv(\"/content/drive/MyDrive/1805109.csv\")\n",
        "original_main_data.head()"
      ],
      "execution_count": null,
      "outputs": [
        {
          "output_type": "execute_result",
          "data": {
            "text/html": [
              "<div>\n",
              "<style scoped>\n",
              "    .dataframe tbody tr th:only-of-type {\n",
              "        vertical-align: middle;\n",
              "    }\n",
              "\n",
              "    .dataframe tbody tr th {\n",
              "        vertical-align: top;\n",
              "    }\n",
              "\n",
              "    .dataframe thead th {\n",
              "        text-align: right;\n",
              "    }\n",
              "</style>\n",
              "<table border=\"1\" class=\"dataframe\">\n",
              "  <thead>\n",
              "    <tr style=\"text-align: right;\">\n",
              "      <th></th>\n",
              "      <th>business_code</th>\n",
              "      <th>cust_number</th>\n",
              "      <th>name_customer</th>\n",
              "      <th>clear_date</th>\n",
              "      <th>buisness_year</th>\n",
              "      <th>doc_id</th>\n",
              "      <th>posting_date</th>\n",
              "      <th>document_create_date</th>\n",
              "      <th>document_create_date.1</th>\n",
              "      <th>due_in_date</th>\n",
              "      <th>invoice_currency</th>\n",
              "      <th>document type</th>\n",
              "      <th>posting_id</th>\n",
              "      <th>area_business</th>\n",
              "      <th>total_open_amount</th>\n",
              "      <th>baseline_create_date</th>\n",
              "      <th>cust_payment_terms</th>\n",
              "      <th>invoice_id</th>\n",
              "      <th>isOpen</th>\n",
              "    </tr>\n",
              "  </thead>\n",
              "  <tbody>\n",
              "    <tr>\n",
              "      <th>0</th>\n",
              "      <td>U001</td>\n",
              "      <td>0200782001</td>\n",
              "      <td>GORDO in</td>\n",
              "      <td>2019-03-12 00:00:00</td>\n",
              "      <td>2019.0</td>\n",
              "      <td>1.928829e+09</td>\n",
              "      <td>2019-02-20</td>\n",
              "      <td>20190220</td>\n",
              "      <td>20190220</td>\n",
              "      <td>20190307.0</td>\n",
              "      <td>USD</td>\n",
              "      <td>RV</td>\n",
              "      <td>1.0</td>\n",
              "      <td>NaN</td>\n",
              "      <td>35308.72</td>\n",
              "      <td>20190220.0</td>\n",
              "      <td>NAA8</td>\n",
              "      <td>1.928829e+09</td>\n",
              "      <td>0</td>\n",
              "    </tr>\n",
              "    <tr>\n",
              "      <th>1</th>\n",
              "      <td>U001</td>\n",
              "      <td>0200769623</td>\n",
              "      <td>WAL-MAR corporation</td>\n",
              "      <td>2019-04-23 00:00:00</td>\n",
              "      <td>2019.0</td>\n",
              "      <td>1.929092e+09</td>\n",
              "      <td>2019-04-07</td>\n",
              "      <td>20190405</td>\n",
              "      <td>20190407</td>\n",
              "      <td>20190422.0</td>\n",
              "      <td>USD</td>\n",
              "      <td>RV</td>\n",
              "      <td>1.0</td>\n",
              "      <td>NaN</td>\n",
              "      <td>27641.22</td>\n",
              "      <td>20190407.0</td>\n",
              "      <td>NAH4</td>\n",
              "      <td>1.929092e+09</td>\n",
              "      <td>0</td>\n",
              "    </tr>\n",
              "    <tr>\n",
              "      <th>2</th>\n",
              "      <td>U001</td>\n",
              "      <td>0200780849</td>\n",
              "      <td>LAUREL llc</td>\n",
              "      <td>2019-02-13 00:00:00</td>\n",
              "      <td>2019.0</td>\n",
              "      <td>1.928707e+09</td>\n",
              "      <td>2019-01-29</td>\n",
              "      <td>20190129</td>\n",
              "      <td>20190129</td>\n",
              "      <td>20190213.0</td>\n",
              "      <td>USD</td>\n",
              "      <td>RV</td>\n",
              "      <td>1.0</td>\n",
              "      <td>NaN</td>\n",
              "      <td>22092.83</td>\n",
              "      <td>20190129.0</td>\n",
              "      <td>NAA8</td>\n",
              "      <td>1.928707e+09</td>\n",
              "      <td>0</td>\n",
              "    </tr>\n",
              "    <tr>\n",
              "      <th>3</th>\n",
              "      <td>U001</td>\n",
              "      <td>0200743123</td>\n",
              "      <td>KROGER foundation</td>\n",
              "      <td>2019-02-08 00:00:00</td>\n",
              "      <td>2019.0</td>\n",
              "      <td>1.928670e+09</td>\n",
              "      <td>2019-01-24</td>\n",
              "      <td>20190123</td>\n",
              "      <td>20190124</td>\n",
              "      <td>20190208.0</td>\n",
              "      <td>USD</td>\n",
              "      <td>RV</td>\n",
              "      <td>1.0</td>\n",
              "      <td>NaN</td>\n",
              "      <td>79422.35</td>\n",
              "      <td>20190124.0</td>\n",
              "      <td>NAA8</td>\n",
              "      <td>1.928670e+09</td>\n",
              "      <td>0</td>\n",
              "    </tr>\n",
              "    <tr>\n",
              "      <th>4</th>\n",
              "      <td>U001</td>\n",
              "      <td>0200769623</td>\n",
              "      <td>WAL-MAR foundation</td>\n",
              "      <td>2020-02-11 00:00:00</td>\n",
              "      <td>2020.0</td>\n",
              "      <td>1.930437e+09</td>\n",
              "      <td>2020-01-25</td>\n",
              "      <td>20200124</td>\n",
              "      <td>20200125</td>\n",
              "      <td>20200209.0</td>\n",
              "      <td>USD</td>\n",
              "      <td>RV</td>\n",
              "      <td>1.0</td>\n",
              "      <td>NaN</td>\n",
              "      <td>764.76</td>\n",
              "      <td>20200125.0</td>\n",
              "      <td>NAH4</td>\n",
              "      <td>1.930437e+09</td>\n",
              "      <td>0</td>\n",
              "    </tr>\n",
              "  </tbody>\n",
              "</table>\n",
              "</div>"
            ],
            "text/plain": [
              "  business_code cust_number  ...    invoice_id isOpen\n",
              "0          U001  0200782001  ...  1.928829e+09      0\n",
              "1          U001  0200769623  ...  1.929092e+09      0\n",
              "2          U001  0200780849  ...  1.928707e+09      0\n",
              "3          U001  0200743123  ...  1.928670e+09      0\n",
              "4          U001  0200769623  ...  1.930437e+09      0\n",
              "\n",
              "[5 rows x 19 columns]"
            ]
          },
          "metadata": {
            "tags": []
          },
          "execution_count": 133
        }
      ]
    },
    {
      "cell_type": "markdown",
      "metadata": {
        "id": "fWzjJKHNOFsf"
      },
      "source": [
        "#1.2 Getting to know our Data"
      ]
    },
    {
      "cell_type": "code",
      "metadata": {
        "colab": {
          "base_uri": "https://localhost:8080/"
        },
        "id": "azRIfGgpPSjt",
        "outputId": "c06f5f12-fd7e-438e-8417-8acd6a6502f3"
      },
      "source": [
        "# Finding the total number of rows or entries in the data set\n",
        "len(original_main_data)"
      ],
      "execution_count": null,
      "outputs": [
        {
          "output_type": "execute_result",
          "data": {
            "text/plain": [
              "50000"
            ]
          },
          "metadata": {
            "tags": []
          },
          "execution_count": 134
        }
      ]
    },
    {
      "cell_type": "code",
      "metadata": {
        "colab": {
          "base_uri": "https://localhost:8080/"
        },
        "id": "1gjwhwrZ66E8",
        "outputId": "dbf58b16-fe89-49df-f915-a65647587840"
      },
      "source": [
        "# Getting first look at the data\n",
        "original_main_data.info()"
      ],
      "execution_count": null,
      "outputs": [
        {
          "output_type": "stream",
          "text": [
            "<class 'pandas.core.frame.DataFrame'>\n",
            "RangeIndex: 50000 entries, 0 to 49999\n",
            "Data columns (total 19 columns):\n",
            " #   Column                  Non-Null Count  Dtype  \n",
            "---  ------                  --------------  -----  \n",
            " 0   business_code           50000 non-null  object \n",
            " 1   cust_number             50000 non-null  object \n",
            " 2   name_customer           50000 non-null  object \n",
            " 3   clear_date              45594 non-null  object \n",
            " 4   buisness_year           50000 non-null  float64\n",
            " 5   doc_id                  50000 non-null  float64\n",
            " 6   posting_date            50000 non-null  object \n",
            " 7   document_create_date    50000 non-null  int64  \n",
            " 8   document_create_date.1  50000 non-null  int64  \n",
            " 9   due_in_date             50000 non-null  float64\n",
            " 10  invoice_currency        50000 non-null  object \n",
            " 11  document type           50000 non-null  object \n",
            " 12  posting_id              50000 non-null  float64\n",
            " 13  area_business           0 non-null      float64\n",
            " 14  total_open_amount       50000 non-null  float64\n",
            " 15  baseline_create_date    50000 non-null  float64\n",
            " 16  cust_payment_terms      50000 non-null  object \n",
            " 17  invoice_id              49994 non-null  float64\n",
            " 18  isOpen                  50000 non-null  int64  \n",
            "dtypes: float64(8), int64(3), object(8)\n",
            "memory usage: 7.2+ MB\n"
          ],
          "name": "stdout"
        }
      ]
    },
    {
      "cell_type": "code",
      "metadata": {
        "colab": {
          "base_uri": "https://localhost:8080/"
        },
        "id": "zAGYUpz87PRC",
        "outputId": "e1504690-c535-4a60-eb5d-5b1d25b72c97"
      },
      "source": [
        "# Checking for NULL values\n",
        "\n",
        "original_main_data.isna().sum()"
      ],
      "execution_count": null,
      "outputs": [
        {
          "output_type": "execute_result",
          "data": {
            "text/plain": [
              "business_code                 0\n",
              "cust_number                   0\n",
              "name_customer                 0\n",
              "clear_date                 4406\n",
              "buisness_year                 0\n",
              "doc_id                        0\n",
              "posting_date                  0\n",
              "document_create_date          0\n",
              "document_create_date.1        0\n",
              "due_in_date                   0\n",
              "invoice_currency              0\n",
              "document type                 0\n",
              "posting_id                    0\n",
              "area_business             50000\n",
              "total_open_amount             0\n",
              "baseline_create_date          0\n",
              "cust_payment_terms            0\n",
              "invoice_id                    6\n",
              "isOpen                        0\n",
              "dtype: int64"
            ]
          },
          "metadata": {
            "tags": []
          },
          "execution_count": 136
        }
      ]
    },
    {
      "cell_type": "markdown",
      "metadata": {
        "id": "-phBrW-bO8I-"
      },
      "source": [
        "INFERENCE :\n",
        "\n",
        "       1. The column \" area_business \" is completly empty\n",
        "\n",
        "       2. The column \" clear date \" has some null values. These are intentionally null as these are the dates we have to predict.\n",
        "\n",
        "       3. Most of the date columns are of type Object"
      ]
    },
    {
      "cell_type": "markdown",
      "metadata": {
        "id": "OVlXV1s6Q5tx"
      },
      "source": [
        "# 2.1 Basic Preprocessing"
      ]
    },
    {
      "cell_type": "code",
      "metadata": {
        "id": "3ZTSuZcN7aEB"
      },
      "source": [
        "# Converting the Object type date columns to Date_Time objects\n",
        "\n",
        "\n",
        "from datetime import datetime\n",
        "\n",
        "original_main_data['posting_date']=pd.to_datetime(original_main_data['posting_date'])\n",
        "\n",
        "original_main_data['document_create_date']=pd.to_datetime(original_main_data['document_create_date'],format='%Y%m%d')\n",
        "\n",
        "original_main_data['document_create_date.1']=pd.to_datetime(original_main_data['document_create_date.1'],format='%Y%m%d')\n",
        "\n",
        "original_main_data['due_in_date']=pd.to_datetime(original_main_data['due_in_date'],format='%Y%m%d')\n",
        "\n",
        "original_main_data['baseline_create_date']=pd.to_datetime(original_main_data['baseline_create_date'],format='%Y%m%d')\n",
        "\n",
        "original_main_data['due_in_date']=pd.to_datetime(original_main_data['due_in_date'])\n",
        "\n",
        "original_main_data['clear_date']=pd.to_datetime(original_main_data['clear_date'])\n"
      ],
      "execution_count": null,
      "outputs": []
    },
    {
      "cell_type": "code",
      "metadata": {
        "colab": {
          "base_uri": "https://localhost:8080/"
        },
        "id": "SyTszkyTYO9O",
        "outputId": "d8f3c5f2-f541-4b2e-ee81-c394dfcdd639"
      },
      "source": [
        "# Verifying our Conversions\n",
        "\n",
        "original_main_data.info()"
      ],
      "execution_count": null,
      "outputs": [
        {
          "output_type": "stream",
          "text": [
            "<class 'pandas.core.frame.DataFrame'>\n",
            "RangeIndex: 50000 entries, 0 to 49999\n",
            "Data columns (total 19 columns):\n",
            " #   Column                  Non-Null Count  Dtype         \n",
            "---  ------                  --------------  -----         \n",
            " 0   business_code           50000 non-null  object        \n",
            " 1   cust_number             50000 non-null  object        \n",
            " 2   name_customer           50000 non-null  object        \n",
            " 3   clear_date              45594 non-null  datetime64[ns]\n",
            " 4   buisness_year           50000 non-null  float64       \n",
            " 5   doc_id                  50000 non-null  float64       \n",
            " 6   posting_date            50000 non-null  datetime64[ns]\n",
            " 7   document_create_date    50000 non-null  datetime64[ns]\n",
            " 8   document_create_date.1  50000 non-null  datetime64[ns]\n",
            " 9   due_in_date             50000 non-null  datetime64[ns]\n",
            " 10  invoice_currency        50000 non-null  object        \n",
            " 11  document type           50000 non-null  object        \n",
            " 12  posting_id              50000 non-null  float64       \n",
            " 13  area_business           0 non-null      float64       \n",
            " 14  total_open_amount       50000 non-null  float64       \n",
            " 15  baseline_create_date    50000 non-null  datetime64[ns]\n",
            " 16  cust_payment_terms      50000 non-null  object        \n",
            " 17  invoice_id              49994 non-null  float64       \n",
            " 18  isOpen                  50000 non-null  int64         \n",
            "dtypes: datetime64[ns](6), float64(6), int64(1), object(6)\n",
            "memory usage: 7.2+ MB\n"
          ],
          "name": "stdout"
        }
      ]
    },
    {
      "cell_type": "markdown",
      "metadata": {
        "id": "pkByzYECRXa9"
      },
      "source": [
        "NOTE :\n",
        "\n",
        "       1. The column \"area_business\" is completly NULL.It is not feasible for *NULL imputation* .\n",
        "\n",
        "       2. Hence I ma dropping it as it will not give any useful information"
      ]
    },
    {
      "cell_type": "code",
      "metadata": {
        "id": "eDpgKN09YO2D"
      },
      "source": [
        "# Dropping column 'area_business'\n",
        "original_main_data.drop('area_business',axis=1,inplace=True)"
      ],
      "execution_count": null,
      "outputs": []
    },
    {
      "cell_type": "markdown",
      "metadata": {
        "id": "IsFmNBhkSgNn"
      },
      "source": [
        "# 2.2 Checking for anamolies in our data"
      ]
    },
    {
      "cell_type": "markdown",
      "metadata": {
        "id": "JGhKCXXXTMUO"
      },
      "source": [
        "NOTE :\n",
        "\n",
        "     1. From the given data dictionary we have,\n",
        "       \n",
        "        * document_create_date is the date on which the invoice document was created \n",
        "\n",
        "        * clear_date is the date when the invoice was cleared.\n",
        "\n",
        "        Thus,it doesen't make entries to have clear_date before document_create_date"
      ]
    },
    {
      "cell_type": "code",
      "metadata": {
        "id": "HCju7CTkYOzY",
        "colab": {
          "base_uri": "https://localhost:8080/"
        },
        "outputId": "8aa19682-54d0-43df-9720-004eae616fe9"
      },
      "source": [
        "#Checking for the above condition\n",
        "\n",
        "len(original_main_data.loc[original_main_data['document_create_date.1'] > original_main_data['clear_date']]) \n",
        "\n",
        "\n"
      ],
      "execution_count": null,
      "outputs": [
        {
          "output_type": "execute_result",
          "data": {
            "text/plain": [
              "0"
            ]
          },
          "metadata": {
            "tags": []
          },
          "execution_count": 140
        }
      ]
    },
    {
      "cell_type": "markdown",
      "metadata": {
        "id": "6iZ4rteNUO1F"
      },
      "source": [
        "Similarly, below I have checked for columns like \n",
        "\n",
        "               1. due_in_date\n",
        "\n",
        "               2. posting_date\n",
        "\n",
        "               3. baseline_create_date\n",
        "\n",
        "  These columns should also not contain dates before document_create_date"
      ]
    },
    {
      "cell_type": "code",
      "metadata": {
        "colab": {
          "base_uri": "https://localhost:8080/"
        },
        "id": "BuqBpyg2vm_f",
        "outputId": "e968a4e9-ecc4-46aa-aa4f-fa32542cdad7"
      },
      "source": [
        "len(original_main_data.loc[original_main_data['document_create_date.1'] > original_main_data['due_in_date']])   "
      ],
      "execution_count": null,
      "outputs": [
        {
          "output_type": "execute_result",
          "data": {
            "text/plain": [
              "134"
            ]
          },
          "metadata": {
            "tags": []
          },
          "execution_count": 141
        }
      ]
    },
    {
      "cell_type": "code",
      "metadata": {
        "colab": {
          "base_uri": "https://localhost:8080/"
        },
        "id": "00Uw2Q57YOwm",
        "outputId": "e8de8b08-0cac-4898-d6c1-a92745e83646"
      },
      "source": [
        "len(original_main_data.loc[original_main_data['document_create_date.1'] > original_main_data['posting_date']])"
      ],
      "execution_count": null,
      "outputs": [
        {
          "output_type": "execute_result",
          "data": {
            "text/plain": [
              "0"
            ]
          },
          "metadata": {
            "tags": []
          },
          "execution_count": 142
        }
      ]
    },
    {
      "cell_type": "code",
      "metadata": {
        "colab": {
          "base_uri": "https://localhost:8080/"
        },
        "id": "HphXhkB0YOtV",
        "outputId": "b3af7127-e5cb-4de7-900b-4fba1a7d4b16"
      },
      "source": [
        "len(original_main_data.loc[original_main_data['document_create_date.1'] > original_main_data['baseline_create_date']])"
      ],
      "execution_count": null,
      "outputs": [
        {
          "output_type": "execute_result",
          "data": {
            "text/plain": [
              "2154"
            ]
          },
          "metadata": {
            "tags": []
          },
          "execution_count": 143
        }
      ]
    },
    {
      "cell_type": "markdown",
      "metadata": {
        "id": "b7_vmXCXUzFa"
      },
      "source": [
        "Below is the percenatge of these rows with anomalies"
      ]
    },
    {
      "cell_type": "code",
      "metadata": {
        "colab": {
          "base_uri": "https://localhost:8080/"
        },
        "id": "pfxiaONBYOp7",
        "outputId": "432109e1-d911-4a28-c541-40ea98dd1ffb"
      },
      "source": [
        "# number of abnormal data rows as as percentage\n",
        "\n",
        "(134+2154)/len(original_main_data)"
      ],
      "execution_count": null,
      "outputs": [
        {
          "output_type": "execute_result",
          "data": {
            "text/plain": [
              "0.04576"
            ]
          },
          "metadata": {
            "tags": []
          },
          "execution_count": 144
        }
      ]
    },
    {
      "cell_type": "markdown",
      "metadata": {
        "id": "7qoz8Hq7VDCX"
      },
      "source": [
        "Now as these rows constiture of only about 4% of our data-set, It is better to drop them\n",
        "\n"
      ]
    },
    {
      "cell_type": "code",
      "metadata": {
        "colab": {
          "base_uri": "https://localhost:8080/"
        },
        "id": "aHQb8kvbijYY",
        "outputId": "a9f21869-5c18-4fda-beff-39826edb5057"
      },
      "source": [
        "#Dropping the abnormal rows\n",
        "original_main_data.drop(original_main_data[original_main_data['document_create_date.1'] > original_main_data['due_in_date']].index,inplace=True,axis=0)\n",
        "original_main_data.drop(original_main_data[original_main_data['document_create_date.1'] > original_main_data['baseline_create_date']].index,inplace=True,axis=0)\n",
        "len(original_main_data)"
      ],
      "execution_count": null,
      "outputs": [
        {
          "output_type": "execute_result",
          "data": {
            "text/plain": [
              "47846"
            ]
          },
          "metadata": {
            "tags": []
          },
          "execution_count": 145
        }
      ]
    },
    {
      "cell_type": "markdown",
      "metadata": {
        "id": "qchPi02OWXFh"
      },
      "source": [
        "# 3.1 DATA SPLITTING"
      ]
    },
    {
      "cell_type": "markdown",
      "metadata": {
        "id": "6srAB7goWwcW"
      },
      "source": [
        "From observation ,my data is time based hence is to be split according to the given dates in ascending order.\n",
        "\n",
        "1. The data is  splitted  into training and test sets based on a SPLIT_DATE.\n",
        "\n",
        "2. The entries haveing data before this date belong to train set and after the split date belong to test set "
      ]
    },
    {
      "cell_type": "code",
      "metadata": {
        "id": "7X7LxDE8K7Jo"
      },
      "source": [
        "#Splitting the data set into train and test sets\n",
        "\n",
        "# The entries whicch do not have a clearing date are the ons we have to predict.\n",
        "\n",
        "# Here I put those entries into test_set and the remaining into train set\n",
        "training_data=original_main_data.loc[original_main_data['clear_date'].isna()==False,:]\n",
        "test_data=original_main_data.loc[original_main_data['clear_date'].isna()==True,:]\n"
      ],
      "execution_count": null,
      "outputs": []
    },
    {
      "cell_type": "code",
      "metadata": {
        "colab": {
          "base_uri": "https://localhost:8080/"
        },
        "id": "HoUz1HZKLyFi",
        "outputId": "0af278e0-f17c-483a-d131-640bdfcba440"
      },
      "source": [
        "# Training Data\n",
        "training_data.info()"
      ],
      "execution_count": null,
      "outputs": [
        {
          "output_type": "stream",
          "text": [
            "<class 'pandas.core.frame.DataFrame'>\n",
            "Int64Index: 43658 entries, 0 to 45593\n",
            "Data columns (total 18 columns):\n",
            " #   Column                  Non-Null Count  Dtype         \n",
            "---  ------                  --------------  -----         \n",
            " 0   business_code           43658 non-null  object        \n",
            " 1   cust_number             43658 non-null  object        \n",
            " 2   name_customer           43658 non-null  object        \n",
            " 3   clear_date              43658 non-null  datetime64[ns]\n",
            " 4   buisness_year           43658 non-null  float64       \n",
            " 5   doc_id                  43658 non-null  float64       \n",
            " 6   posting_date            43658 non-null  datetime64[ns]\n",
            " 7   document_create_date    43658 non-null  datetime64[ns]\n",
            " 8   document_create_date.1  43658 non-null  datetime64[ns]\n",
            " 9   due_in_date             43658 non-null  datetime64[ns]\n",
            " 10  invoice_currency        43658 non-null  object        \n",
            " 11  document type           43658 non-null  object        \n",
            " 12  posting_id              43658 non-null  float64       \n",
            " 13  total_open_amount       43658 non-null  float64       \n",
            " 14  baseline_create_date    43658 non-null  datetime64[ns]\n",
            " 15  cust_payment_terms      43658 non-null  object        \n",
            " 16  invoice_id              43652 non-null  float64       \n",
            " 17  isOpen                  43658 non-null  int64         \n",
            "dtypes: datetime64[ns](6), float64(5), int64(1), object(6)\n",
            "memory usage: 6.3+ MB\n"
          ],
          "name": "stdout"
        }
      ]
    },
    {
      "cell_type": "code",
      "metadata": {
        "colab": {
          "base_uri": "https://localhost:8080/",
          "height": 278
        },
        "id": "s8M_j358MhOQ",
        "outputId": "11d60e79-f935-4b23-8f8d-f2c1c27a2d67"
      },
      "source": [
        "# Test Data\n",
        "test_data.head()"
      ],
      "execution_count": null,
      "outputs": [
        {
          "output_type": "execute_result",
          "data": {
            "text/html": [
              "<div>\n",
              "<style scoped>\n",
              "    .dataframe tbody tr th:only-of-type {\n",
              "        vertical-align: middle;\n",
              "    }\n",
              "\n",
              "    .dataframe tbody tr th {\n",
              "        vertical-align: top;\n",
              "    }\n",
              "\n",
              "    .dataframe thead th {\n",
              "        text-align: right;\n",
              "    }\n",
              "</style>\n",
              "<table border=\"1\" class=\"dataframe\">\n",
              "  <thead>\n",
              "    <tr style=\"text-align: right;\">\n",
              "      <th></th>\n",
              "      <th>business_code</th>\n",
              "      <th>cust_number</th>\n",
              "      <th>name_customer</th>\n",
              "      <th>clear_date</th>\n",
              "      <th>buisness_year</th>\n",
              "      <th>doc_id</th>\n",
              "      <th>posting_date</th>\n",
              "      <th>document_create_date</th>\n",
              "      <th>document_create_date.1</th>\n",
              "      <th>due_in_date</th>\n",
              "      <th>invoice_currency</th>\n",
              "      <th>document type</th>\n",
              "      <th>posting_id</th>\n",
              "      <th>total_open_amount</th>\n",
              "      <th>baseline_create_date</th>\n",
              "      <th>cust_payment_terms</th>\n",
              "      <th>invoice_id</th>\n",
              "      <th>isOpen</th>\n",
              "    </tr>\n",
              "  </thead>\n",
              "  <tbody>\n",
              "    <tr>\n",
              "      <th>45594</th>\n",
              "      <td>U001</td>\n",
              "      <td>0200769623</td>\n",
              "      <td>WAL-MAR systems</td>\n",
              "      <td>NaT</td>\n",
              "      <td>2020.0</td>\n",
              "      <td>1.930582e+09</td>\n",
              "      <td>2020-03-01</td>\n",
              "      <td>2020-02-29</td>\n",
              "      <td>2020-03-01</td>\n",
              "      <td>2020-03-16</td>\n",
              "      <td>USD</td>\n",
              "      <td>RV</td>\n",
              "      <td>1.0</td>\n",
              "      <td>13353.11</td>\n",
              "      <td>2020-03-01</td>\n",
              "      <td>NAH4</td>\n",
              "      <td>1.930582e+09</td>\n",
              "      <td>1</td>\n",
              "    </tr>\n",
              "    <tr>\n",
              "      <th>45595</th>\n",
              "      <td>U001</td>\n",
              "      <td>0200782772</td>\n",
              "      <td>ASSOC G trust</td>\n",
              "      <td>NaT</td>\n",
              "      <td>2020.0</td>\n",
              "      <td>1.930870e+09</td>\n",
              "      <td>2020-05-06</td>\n",
              "      <td>2020-05-06</td>\n",
              "      <td>2020-05-06</td>\n",
              "      <td>2020-05-21</td>\n",
              "      <td>USD</td>\n",
              "      <td>RV</td>\n",
              "      <td>1.0</td>\n",
              "      <td>26157.86</td>\n",
              "      <td>2020-05-06</td>\n",
              "      <td>NAA8</td>\n",
              "      <td>1.930870e+09</td>\n",
              "      <td>1</td>\n",
              "    </tr>\n",
              "    <tr>\n",
              "      <th>45596</th>\n",
              "      <td>U001</td>\n",
              "      <td>0200794332</td>\n",
              "      <td>COST corporation</td>\n",
              "      <td>NaT</td>\n",
              "      <td>2020.0</td>\n",
              "      <td>1.930642e+09</td>\n",
              "      <td>2020-03-12</td>\n",
              "      <td>2020-03-11</td>\n",
              "      <td>2020-03-12</td>\n",
              "      <td>2020-03-27</td>\n",
              "      <td>USD</td>\n",
              "      <td>RV</td>\n",
              "      <td>1.0</td>\n",
              "      <td>83937.31</td>\n",
              "      <td>2020-03-12</td>\n",
              "      <td>NAAX</td>\n",
              "      <td>1.930642e+09</td>\n",
              "      <td>1</td>\n",
              "    </tr>\n",
              "    <tr>\n",
              "      <th>45597</th>\n",
              "      <td>U001</td>\n",
              "      <td>0200714710</td>\n",
              "      <td>SYSCO  co</td>\n",
              "      <td>NaT</td>\n",
              "      <td>2020.0</td>\n",
              "      <td>1.930628e+09</td>\n",
              "      <td>2020-03-12</td>\n",
              "      <td>2020-03-10</td>\n",
              "      <td>2020-03-12</td>\n",
              "      <td>2020-04-13</td>\n",
              "      <td>USD</td>\n",
              "      <td>RV</td>\n",
              "      <td>1.0</td>\n",
              "      <td>510.31</td>\n",
              "      <td>2020-03-12</td>\n",
              "      <td>NA32</td>\n",
              "      <td>1.930628e+09</td>\n",
              "      <td>1</td>\n",
              "    </tr>\n",
              "    <tr>\n",
              "      <th>45598</th>\n",
              "      <td>U001</td>\n",
              "      <td>0200744019</td>\n",
              "      <td>TARG llc</td>\n",
              "      <td>NaT</td>\n",
              "      <td>2020.0</td>\n",
              "      <td>1.930753e+09</td>\n",
              "      <td>2020-04-07</td>\n",
              "      <td>2020-04-06</td>\n",
              "      <td>2020-04-07</td>\n",
              "      <td>2020-04-22</td>\n",
              "      <td>USD</td>\n",
              "      <td>RV</td>\n",
              "      <td>1.0</td>\n",
              "      <td>16807.58</td>\n",
              "      <td>2020-04-07</td>\n",
              "      <td>NAA8</td>\n",
              "      <td>1.930753e+09</td>\n",
              "      <td>1</td>\n",
              "    </tr>\n",
              "  </tbody>\n",
              "</table>\n",
              "</div>"
            ],
            "text/plain": [
              "      business_code cust_number  ...    invoice_id isOpen\n",
              "45594          U001  0200769623  ...  1.930582e+09      1\n",
              "45595          U001  0200782772  ...  1.930870e+09      1\n",
              "45596          U001  0200794332  ...  1.930642e+09      1\n",
              "45597          U001  0200714710  ...  1.930628e+09      1\n",
              "45598          U001  0200744019  ...  1.930753e+09      1\n",
              "\n",
              "[5 rows x 18 columns]"
            ]
          },
          "metadata": {
            "tags": []
          },
          "execution_count": 148
        }
      ]
    },
    {
      "cell_type": "code",
      "metadata": {
        "colab": {
          "base_uri": "https://localhost:8080/"
        },
        "id": "MpsQzjVbNGHB",
        "outputId": "02fe8c62-2941-4074-869f-4ef90d48d8bb"
      },
      "source": [
        "training_data.shape"
      ],
      "execution_count": null,
      "outputs": [
        {
          "output_type": "execute_result",
          "data": {
            "text/plain": [
              "(43658, 18)"
            ]
          },
          "metadata": {
            "tags": []
          },
          "execution_count": 149
        }
      ]
    },
    {
      "cell_type": "code",
      "metadata": {
        "colab": {
          "base_uri": "https://localhost:8080/"
        },
        "id": "EqnCIWJkOvZ7",
        "outputId": "49009d60-31d3-4107-8caa-7bc840f26f8a"
      },
      "source": [
        "test_data.shape"
      ],
      "execution_count": null,
      "outputs": [
        {
          "output_type": "execute_result",
          "data": {
            "text/plain": [
              "(4188, 18)"
            ]
          },
          "metadata": {
            "tags": []
          },
          "execution_count": 150
        }
      ]
    },
    {
      "cell_type": "markdown",
      "metadata": {
        "id": "1GWbeLybX6FR"
      },
      "source": [
        "Now testing for null values in training data"
      ]
    },
    {
      "cell_type": "code",
      "metadata": {
        "colab": {
          "base_uri": "https://localhost:8080/"
        },
        "id": "IGsweCszOzpb",
        "outputId": "6dcf6cd6-1f8a-4512-da32-9a5ac9b66233"
      },
      "source": [
        "training_data.isna().sum()"
      ],
      "execution_count": null,
      "outputs": [
        {
          "output_type": "execute_result",
          "data": {
            "text/plain": [
              "business_code             0\n",
              "cust_number               0\n",
              "name_customer             0\n",
              "clear_date                0\n",
              "buisness_year             0\n",
              "doc_id                    0\n",
              "posting_date              0\n",
              "document_create_date      0\n",
              "document_create_date.1    0\n",
              "due_in_date               0\n",
              "invoice_currency          0\n",
              "document type             0\n",
              "posting_id                0\n",
              "total_open_amount         0\n",
              "baseline_create_date      0\n",
              "cust_payment_terms        0\n",
              "invoice_id                6\n",
              "isOpen                    0\n",
              "dtype: int64"
            ]
          },
          "metadata": {
            "tags": []
          },
          "execution_count": 151
        }
      ]
    },
    {
      "cell_type": "markdown",
      "metadata": {
        "id": "MZz5SAmrYXUr"
      },
      "source": [
        "NOTE :\n",
        "       1. There are still rows where the column \"invoice_id\" contains some NULL values"
      ]
    },
    {
      "cell_type": "markdown",
      "metadata": {
        "id": "lhM73LIYZd1N"
      },
      "source": [
        "# 4.1 Exploratory Data Analysis (E.D.A)"
      ]
    },
    {
      "cell_type": "code",
      "metadata": {
        "colab": {
          "base_uri": "https://localhost:8080/"
        },
        "id": "DI3PPDYURMc_",
        "outputId": "0e9a0e38-9d29-4a6c-c784-e0937537762a"
      },
      "source": [
        "# Note the currency is of different types for different invoices\n",
        "test_data['invoice_currency'].unique()"
      ],
      "execution_count": null,
      "outputs": [
        {
          "output_type": "execute_result",
          "data": {
            "text/plain": [
              "array(['USD', 'CAD'], dtype=object)"
            ]
          },
          "metadata": {
            "tags": []
          },
          "execution_count": 152
        }
      ]
    },
    {
      "cell_type": "markdown",
      "metadata": {
        "id": "mVvc32jYSgmU"
      },
      "source": [
        "NOTE TO SELF :\n",
        "\n",
        "By now Data has been split by date into training and testing sets (first 70-30%)split"
      ]
    },
    {
      "cell_type": "code",
      "metadata": {
        "colab": {
          "base_uri": "https://localhost:8080/",
          "height": 206
        },
        "id": "umKO5W4YT0c-",
        "outputId": "ee5bf645-0fba-44ea-dfa4-71ce259b8387"
      },
      "source": [
        "original_main_data[['clear_date','posting_date','document_create_date','due_in_date','baseline_create_date']].head()\n"
      ],
      "execution_count": null,
      "outputs": [
        {
          "output_type": "execute_result",
          "data": {
            "text/html": [
              "<div>\n",
              "<style scoped>\n",
              "    .dataframe tbody tr th:only-of-type {\n",
              "        vertical-align: middle;\n",
              "    }\n",
              "\n",
              "    .dataframe tbody tr th {\n",
              "        vertical-align: top;\n",
              "    }\n",
              "\n",
              "    .dataframe thead th {\n",
              "        text-align: right;\n",
              "    }\n",
              "</style>\n",
              "<table border=\"1\" class=\"dataframe\">\n",
              "  <thead>\n",
              "    <tr style=\"text-align: right;\">\n",
              "      <th></th>\n",
              "      <th>clear_date</th>\n",
              "      <th>posting_date</th>\n",
              "      <th>document_create_date</th>\n",
              "      <th>due_in_date</th>\n",
              "      <th>baseline_create_date</th>\n",
              "    </tr>\n",
              "  </thead>\n",
              "  <tbody>\n",
              "    <tr>\n",
              "      <th>0</th>\n",
              "      <td>2019-03-12</td>\n",
              "      <td>2019-02-20</td>\n",
              "      <td>2019-02-20</td>\n",
              "      <td>2019-03-07</td>\n",
              "      <td>2019-02-20</td>\n",
              "    </tr>\n",
              "    <tr>\n",
              "      <th>1</th>\n",
              "      <td>2019-04-23</td>\n",
              "      <td>2019-04-07</td>\n",
              "      <td>2019-04-05</td>\n",
              "      <td>2019-04-22</td>\n",
              "      <td>2019-04-07</td>\n",
              "    </tr>\n",
              "    <tr>\n",
              "      <th>2</th>\n",
              "      <td>2019-02-13</td>\n",
              "      <td>2019-01-29</td>\n",
              "      <td>2019-01-29</td>\n",
              "      <td>2019-02-13</td>\n",
              "      <td>2019-01-29</td>\n",
              "    </tr>\n",
              "    <tr>\n",
              "      <th>3</th>\n",
              "      <td>2019-02-08</td>\n",
              "      <td>2019-01-24</td>\n",
              "      <td>2019-01-23</td>\n",
              "      <td>2019-02-08</td>\n",
              "      <td>2019-01-24</td>\n",
              "    </tr>\n",
              "    <tr>\n",
              "      <th>4</th>\n",
              "      <td>2020-02-11</td>\n",
              "      <td>2020-01-25</td>\n",
              "      <td>2020-01-24</td>\n",
              "      <td>2020-02-09</td>\n",
              "      <td>2020-01-25</td>\n",
              "    </tr>\n",
              "  </tbody>\n",
              "</table>\n",
              "</div>"
            ],
            "text/plain": [
              "  clear_date posting_date document_create_date due_in_date baseline_create_date\n",
              "0 2019-03-12   2019-02-20           2019-02-20  2019-03-07           2019-02-20\n",
              "1 2019-04-23   2019-04-07           2019-04-05  2019-04-22           2019-04-07\n",
              "2 2019-02-13   2019-01-29           2019-01-29  2019-02-13           2019-01-29\n",
              "3 2019-02-08   2019-01-24           2019-01-23  2019-02-08           2019-01-24\n",
              "4 2020-02-11   2020-01-25           2020-01-24  2020-02-09           2020-01-25"
            ]
          },
          "metadata": {
            "tags": []
          },
          "execution_count": 153
        }
      ]
    },
    {
      "cell_type": "markdown",
      "metadata": {
        "id": "M_Oefny1fkP4"
      },
      "source": [
        " NOTE:-\n",
        "\n",
        "     <#> Target value is the Column named 'due_in_date'\n",
        "\n",
        "     <#> Bucket value can be calculated by the following :\n",
        "              \n",
        "              'aging_bucket'='clear_date' - 'due_in_date'\n",
        "              "
      ]
    },
    {
      "cell_type": "code",
      "metadata": {
        "colab": {
          "base_uri": "https://localhost:8080/",
          "height": 181
        },
        "id": "TLbyvFlOXGY8",
        "outputId": "4c8d3aeb-0230-4b72-f5ae-830ab86309f6"
      },
      "source": [
        "training_data.groupby('invoice_currency').count()"
      ],
      "execution_count": null,
      "outputs": [
        {
          "output_type": "execute_result",
          "data": {
            "text/html": [
              "<div>\n",
              "<style scoped>\n",
              "    .dataframe tbody tr th:only-of-type {\n",
              "        vertical-align: middle;\n",
              "    }\n",
              "\n",
              "    .dataframe tbody tr th {\n",
              "        vertical-align: top;\n",
              "    }\n",
              "\n",
              "    .dataframe thead th {\n",
              "        text-align: right;\n",
              "    }\n",
              "</style>\n",
              "<table border=\"1\" class=\"dataframe\">\n",
              "  <thead>\n",
              "    <tr style=\"text-align: right;\">\n",
              "      <th></th>\n",
              "      <th>business_code</th>\n",
              "      <th>cust_number</th>\n",
              "      <th>name_customer</th>\n",
              "      <th>clear_date</th>\n",
              "      <th>buisness_year</th>\n",
              "      <th>doc_id</th>\n",
              "      <th>posting_date</th>\n",
              "      <th>document_create_date</th>\n",
              "      <th>document_create_date.1</th>\n",
              "      <th>due_in_date</th>\n",
              "      <th>document type</th>\n",
              "      <th>posting_id</th>\n",
              "      <th>total_open_amount</th>\n",
              "      <th>baseline_create_date</th>\n",
              "      <th>cust_payment_terms</th>\n",
              "      <th>invoice_id</th>\n",
              "      <th>isOpen</th>\n",
              "    </tr>\n",
              "    <tr>\n",
              "      <th>invoice_currency</th>\n",
              "      <th></th>\n",
              "      <th></th>\n",
              "      <th></th>\n",
              "      <th></th>\n",
              "      <th></th>\n",
              "      <th></th>\n",
              "      <th></th>\n",
              "      <th></th>\n",
              "      <th></th>\n",
              "      <th></th>\n",
              "      <th></th>\n",
              "      <th></th>\n",
              "      <th></th>\n",
              "      <th></th>\n",
              "      <th></th>\n",
              "      <th></th>\n",
              "      <th></th>\n",
              "    </tr>\n",
              "  </thead>\n",
              "  <tbody>\n",
              "    <tr>\n",
              "      <th>CAD</th>\n",
              "      <td>3539</td>\n",
              "      <td>3539</td>\n",
              "      <td>3539</td>\n",
              "      <td>3539</td>\n",
              "      <td>3539</td>\n",
              "      <td>3539</td>\n",
              "      <td>3539</td>\n",
              "      <td>3539</td>\n",
              "      <td>3539</td>\n",
              "      <td>3539</td>\n",
              "      <td>3539</td>\n",
              "      <td>3539</td>\n",
              "      <td>3539</td>\n",
              "      <td>3539</td>\n",
              "      <td>3539</td>\n",
              "      <td>3533</td>\n",
              "      <td>3539</td>\n",
              "    </tr>\n",
              "    <tr>\n",
              "      <th>USD</th>\n",
              "      <td>40119</td>\n",
              "      <td>40119</td>\n",
              "      <td>40119</td>\n",
              "      <td>40119</td>\n",
              "      <td>40119</td>\n",
              "      <td>40119</td>\n",
              "      <td>40119</td>\n",
              "      <td>40119</td>\n",
              "      <td>40119</td>\n",
              "      <td>40119</td>\n",
              "      <td>40119</td>\n",
              "      <td>40119</td>\n",
              "      <td>40119</td>\n",
              "      <td>40119</td>\n",
              "      <td>40119</td>\n",
              "      <td>40119</td>\n",
              "      <td>40119</td>\n",
              "    </tr>\n",
              "  </tbody>\n",
              "</table>\n",
              "</div>"
            ],
            "text/plain": [
              "                  business_code  cust_number  ...  invoice_id  isOpen\n",
              "invoice_currency                              ...                    \n",
              "CAD                        3539         3539  ...        3533    3539\n",
              "USD                       40119        40119  ...       40119   40119\n",
              "\n",
              "[2 rows x 17 columns]"
            ]
          },
          "metadata": {
            "tags": []
          },
          "execution_count": 154
        }
      ]
    },
    {
      "cell_type": "markdown",
      "metadata": {
        "id": "fLJxVajAaL-h"
      },
      "source": [
        "Below we have our first look at the test_data.\n",
        "\n",
        "*   The test data has 4188 entries all of which have \"clear_date\" as null\n",
        "\n",
        "*   These are the entries we have to predict\n",
        "\n"
      ]
    },
    {
      "cell_type": "code",
      "metadata": {
        "colab": {
          "base_uri": "https://localhost:8080/"
        },
        "id": "JSVZ-Xeua3lg",
        "outputId": "e48d35d7-a081-435e-f794-67e318d09267"
      },
      "source": [
        "len(test_data)"
      ],
      "execution_count": null,
      "outputs": [
        {
          "output_type": "execute_result",
          "data": {
            "text/plain": [
              "4188"
            ]
          },
          "metadata": {
            "tags": []
          },
          "execution_count": 155
        }
      ]
    },
    {
      "cell_type": "code",
      "metadata": {
        "colab": {
          "base_uri": "https://localhost:8080/"
        },
        "id": "_KPibw2_Ty7y",
        "outputId": "6cb3de98-9dd8-4a4e-f95c-0d59985118c5"
      },
      "source": [
        "test_data.isna().sum()"
      ],
      "execution_count": null,
      "outputs": [
        {
          "output_type": "execute_result",
          "data": {
            "text/plain": [
              "business_code                0\n",
              "cust_number                  0\n",
              "name_customer                0\n",
              "clear_date                4188\n",
              "buisness_year                0\n",
              "doc_id                       0\n",
              "posting_date                 0\n",
              "document_create_date         0\n",
              "document_create_date.1       0\n",
              "due_in_date                  0\n",
              "invoice_currency             0\n",
              "document type                0\n",
              "posting_id                   0\n",
              "total_open_amount            0\n",
              "baseline_create_date         0\n",
              "cust_payment_terms           0\n",
              "invoice_id                   0\n",
              "isOpen                       0\n",
              "dtype: int64"
            ]
          },
          "metadata": {
            "tags": []
          },
          "execution_count": 156
        }
      ]
    },
    {
      "cell_type": "code",
      "metadata": {
        "colab": {
          "base_uri": "https://localhost:8080/"
        },
        "id": "m4w-dco_Z71A",
        "outputId": "7b637472-9143-4597-cc7f-7490106a5b6a"
      },
      "source": [
        "training_data.isna().sum()"
      ],
      "execution_count": null,
      "outputs": [
        {
          "output_type": "execute_result",
          "data": {
            "text/plain": [
              "business_code             0\n",
              "cust_number               0\n",
              "name_customer             0\n",
              "clear_date                0\n",
              "buisness_year             0\n",
              "doc_id                    0\n",
              "posting_date              0\n",
              "document_create_date      0\n",
              "document_create_date.1    0\n",
              "due_in_date               0\n",
              "invoice_currency          0\n",
              "document type             0\n",
              "posting_id                0\n",
              "total_open_amount         0\n",
              "baseline_create_date      0\n",
              "cust_payment_terms        0\n",
              "invoice_id                6\n",
              "isOpen                    0\n",
              "dtype: int64"
            ]
          },
          "metadata": {
            "tags": []
          },
          "execution_count": 157
        }
      ]
    },
    {
      "cell_type": "markdown",
      "metadata": {
        "id": "znRaYlD-doAK"
      },
      "source": [
        "The column \"Invoice_id\" is an id column .\n",
        "\n",
        "\n",
        "*   Since it is not feasible to impute these values for the time being i am dropping it\n",
        "\n",
        "\n",
        "\n",
        "\n"
      ]
    },
    {
      "cell_type": "code",
      "metadata": {
        "colab": {
          "base_uri": "https://localhost:8080/",
          "height": 292
        },
        "id": "Deob9k95aA4p",
        "outputId": "75690fd0-49c1-41b2-e062-02ab1eaae45b"
      },
      "source": [
        "# Note invoice_id is missing 6 values, for time being I am dropping it.\n",
        "training_data[pd.isnull(training_data['invoice_id'])==True]"
      ],
      "execution_count": null,
      "outputs": [
        {
          "output_type": "execute_result",
          "data": {
            "text/html": [
              "<div>\n",
              "<style scoped>\n",
              "    .dataframe tbody tr th:only-of-type {\n",
              "        vertical-align: middle;\n",
              "    }\n",
              "\n",
              "    .dataframe tbody tr th {\n",
              "        vertical-align: top;\n",
              "    }\n",
              "\n",
              "    .dataframe thead th {\n",
              "        text-align: right;\n",
              "    }\n",
              "</style>\n",
              "<table border=\"1\" class=\"dataframe\">\n",
              "  <thead>\n",
              "    <tr style=\"text-align: right;\">\n",
              "      <th></th>\n",
              "      <th>business_code</th>\n",
              "      <th>cust_number</th>\n",
              "      <th>name_customer</th>\n",
              "      <th>clear_date</th>\n",
              "      <th>buisness_year</th>\n",
              "      <th>doc_id</th>\n",
              "      <th>posting_date</th>\n",
              "      <th>document_create_date</th>\n",
              "      <th>document_create_date.1</th>\n",
              "      <th>due_in_date</th>\n",
              "      <th>invoice_currency</th>\n",
              "      <th>document type</th>\n",
              "      <th>posting_id</th>\n",
              "      <th>total_open_amount</th>\n",
              "      <th>baseline_create_date</th>\n",
              "      <th>cust_payment_terms</th>\n",
              "      <th>invoice_id</th>\n",
              "      <th>isOpen</th>\n",
              "    </tr>\n",
              "  </thead>\n",
              "  <tbody>\n",
              "    <tr>\n",
              "      <th>2633</th>\n",
              "      <td>CA02</td>\n",
              "      <td>0140104429</td>\n",
              "      <td>COSTCO</td>\n",
              "      <td>2019-05-02</td>\n",
              "      <td>2019.0</td>\n",
              "      <td>9.500000e+09</td>\n",
              "      <td>2019-03-29</td>\n",
              "      <td>2019-03-29</td>\n",
              "      <td>2019-02-27</td>\n",
              "      <td>2019-03-09</td>\n",
              "      <td>CAD</td>\n",
              "      <td>X2</td>\n",
              "      <td>1.0</td>\n",
              "      <td>52992.00</td>\n",
              "      <td>2019-02-27</td>\n",
              "      <td>CA10</td>\n",
              "      <td>NaN</td>\n",
              "      <td>0</td>\n",
              "    </tr>\n",
              "    <tr>\n",
              "      <th>10246</th>\n",
              "      <td>CA02</td>\n",
              "      <td>0140106054</td>\n",
              "      <td>TREE  systems</td>\n",
              "      <td>2019-05-06</td>\n",
              "      <td>2019.0</td>\n",
              "      <td>9.500000e+09</td>\n",
              "      <td>2019-03-29</td>\n",
              "      <td>2019-03-29</td>\n",
              "      <td>2019-02-08</td>\n",
              "      <td>2019-02-18</td>\n",
              "      <td>CAD</td>\n",
              "      <td>X2</td>\n",
              "      <td>1.0</td>\n",
              "      <td>29170.80</td>\n",
              "      <td>2019-02-08</td>\n",
              "      <td>CA10</td>\n",
              "      <td>NaN</td>\n",
              "      <td>0</td>\n",
              "    </tr>\n",
              "    <tr>\n",
              "      <th>15668</th>\n",
              "      <td>CA02</td>\n",
              "      <td>0140104225</td>\n",
              "      <td>SAVE-ON-</td>\n",
              "      <td>2019-05-08</td>\n",
              "      <td>2019.0</td>\n",
              "      <td>9.500000e+09</td>\n",
              "      <td>2019-03-29</td>\n",
              "      <td>2019-03-29</td>\n",
              "      <td>2019-02-21</td>\n",
              "      <td>2019-03-03</td>\n",
              "      <td>CAD</td>\n",
              "      <td>X2</td>\n",
              "      <td>1.0</td>\n",
              "      <td>4065.13</td>\n",
              "      <td>2019-02-21</td>\n",
              "      <td>CA10</td>\n",
              "      <td>NaN</td>\n",
              "      <td>0</td>\n",
              "    </tr>\n",
              "    <tr>\n",
              "      <th>26037</th>\n",
              "      <td>CA02</td>\n",
              "      <td>0140106054</td>\n",
              "      <td>TREE  llc</td>\n",
              "      <td>2019-05-09</td>\n",
              "      <td>2019.0</td>\n",
              "      <td>9.500000e+09</td>\n",
              "      <td>2019-03-29</td>\n",
              "      <td>2019-03-29</td>\n",
              "      <td>2019-02-25</td>\n",
              "      <td>2019-03-07</td>\n",
              "      <td>CAD</td>\n",
              "      <td>X2</td>\n",
              "      <td>1.0</td>\n",
              "      <td>5896.80</td>\n",
              "      <td>2019-02-25</td>\n",
              "      <td>CA10</td>\n",
              "      <td>NaN</td>\n",
              "      <td>0</td>\n",
              "    </tr>\n",
              "    <tr>\n",
              "      <th>29132</th>\n",
              "      <td>CA02</td>\n",
              "      <td>0140104429</td>\n",
              "      <td>COSTCO foundation</td>\n",
              "      <td>2019-05-22</td>\n",
              "      <td>2019.0</td>\n",
              "      <td>9.500000e+09</td>\n",
              "      <td>2019-03-29</td>\n",
              "      <td>2019-03-29</td>\n",
              "      <td>2019-03-22</td>\n",
              "      <td>2019-04-01</td>\n",
              "      <td>CAD</td>\n",
              "      <td>X2</td>\n",
              "      <td>1.0</td>\n",
              "      <td>5353.20</td>\n",
              "      <td>2019-03-22</td>\n",
              "      <td>CA10</td>\n",
              "      <td>NaN</td>\n",
              "      <td>0</td>\n",
              "    </tr>\n",
              "    <tr>\n",
              "      <th>38671</th>\n",
              "      <td>CA02</td>\n",
              "      <td>0140106054</td>\n",
              "      <td>TREE  trust</td>\n",
              "      <td>2019-05-09</td>\n",
              "      <td>2019.0</td>\n",
              "      <td>9.500000e+09</td>\n",
              "      <td>2019-03-29</td>\n",
              "      <td>2019-03-29</td>\n",
              "      <td>2019-02-24</td>\n",
              "      <td>2019-03-06</td>\n",
              "      <td>CAD</td>\n",
              "      <td>X2</td>\n",
              "      <td>1.0</td>\n",
              "      <td>18277.92</td>\n",
              "      <td>2019-02-24</td>\n",
              "      <td>CA10</td>\n",
              "      <td>NaN</td>\n",
              "      <td>0</td>\n",
              "    </tr>\n",
              "  </tbody>\n",
              "</table>\n",
              "</div>"
            ],
            "text/plain": [
              "      business_code cust_number  ... invoice_id isOpen\n",
              "2633           CA02  0140104429  ...        NaN      0\n",
              "10246          CA02  0140106054  ...        NaN      0\n",
              "15668          CA02  0140104225  ...        NaN      0\n",
              "26037          CA02  0140106054  ...        NaN      0\n",
              "29132          CA02  0140104429  ...        NaN      0\n",
              "38671          CA02  0140106054  ...        NaN      0\n",
              "\n",
              "[6 rows x 18 columns]"
            ]
          },
          "metadata": {
            "tags": []
          },
          "execution_count": 158
        }
      ]
    },
    {
      "cell_type": "code",
      "metadata": {
        "colab": {
          "base_uri": "https://localhost:8080/",
          "height": 513
        },
        "id": "hQWvwW6sbQ5n",
        "outputId": "51ed1e9b-251e-4066-bb96-8cdd94c3c4d9"
      },
      "source": [
        "# these are the 6 empty rows in the training data-set\n",
        "# Our test data contains no empty rows (confirmed)\n",
        "\n",
        "train_data_new=training_data[pd.isnull(training_data['invoice_id'])!=True]\n",
        "train_data_new"
      ],
      "execution_count": null,
      "outputs": [
        {
          "output_type": "execute_result",
          "data": {
            "text/html": [
              "<div>\n",
              "<style scoped>\n",
              "    .dataframe tbody tr th:only-of-type {\n",
              "        vertical-align: middle;\n",
              "    }\n",
              "\n",
              "    .dataframe tbody tr th {\n",
              "        vertical-align: top;\n",
              "    }\n",
              "\n",
              "    .dataframe thead th {\n",
              "        text-align: right;\n",
              "    }\n",
              "</style>\n",
              "<table border=\"1\" class=\"dataframe\">\n",
              "  <thead>\n",
              "    <tr style=\"text-align: right;\">\n",
              "      <th></th>\n",
              "      <th>business_code</th>\n",
              "      <th>cust_number</th>\n",
              "      <th>name_customer</th>\n",
              "      <th>clear_date</th>\n",
              "      <th>buisness_year</th>\n",
              "      <th>doc_id</th>\n",
              "      <th>posting_date</th>\n",
              "      <th>document_create_date</th>\n",
              "      <th>document_create_date.1</th>\n",
              "      <th>due_in_date</th>\n",
              "      <th>invoice_currency</th>\n",
              "      <th>document type</th>\n",
              "      <th>posting_id</th>\n",
              "      <th>total_open_amount</th>\n",
              "      <th>baseline_create_date</th>\n",
              "      <th>cust_payment_terms</th>\n",
              "      <th>invoice_id</th>\n",
              "      <th>isOpen</th>\n",
              "    </tr>\n",
              "  </thead>\n",
              "  <tbody>\n",
              "    <tr>\n",
              "      <th>0</th>\n",
              "      <td>U001</td>\n",
              "      <td>0200782001</td>\n",
              "      <td>GORDO in</td>\n",
              "      <td>2019-03-12</td>\n",
              "      <td>2019.0</td>\n",
              "      <td>1.928829e+09</td>\n",
              "      <td>2019-02-20</td>\n",
              "      <td>2019-02-20</td>\n",
              "      <td>2019-02-20</td>\n",
              "      <td>2019-03-07</td>\n",
              "      <td>USD</td>\n",
              "      <td>RV</td>\n",
              "      <td>1.0</td>\n",
              "      <td>35308.72</td>\n",
              "      <td>2019-02-20</td>\n",
              "      <td>NAA8</td>\n",
              "      <td>1.928829e+09</td>\n",
              "      <td>0</td>\n",
              "    </tr>\n",
              "    <tr>\n",
              "      <th>1</th>\n",
              "      <td>U001</td>\n",
              "      <td>0200769623</td>\n",
              "      <td>WAL-MAR corporation</td>\n",
              "      <td>2019-04-23</td>\n",
              "      <td>2019.0</td>\n",
              "      <td>1.929092e+09</td>\n",
              "      <td>2019-04-07</td>\n",
              "      <td>2019-04-05</td>\n",
              "      <td>2019-04-07</td>\n",
              "      <td>2019-04-22</td>\n",
              "      <td>USD</td>\n",
              "      <td>RV</td>\n",
              "      <td>1.0</td>\n",
              "      <td>27641.22</td>\n",
              "      <td>2019-04-07</td>\n",
              "      <td>NAH4</td>\n",
              "      <td>1.929092e+09</td>\n",
              "      <td>0</td>\n",
              "    </tr>\n",
              "    <tr>\n",
              "      <th>2</th>\n",
              "      <td>U001</td>\n",
              "      <td>0200780849</td>\n",
              "      <td>LAUREL llc</td>\n",
              "      <td>2019-02-13</td>\n",
              "      <td>2019.0</td>\n",
              "      <td>1.928707e+09</td>\n",
              "      <td>2019-01-29</td>\n",
              "      <td>2019-01-29</td>\n",
              "      <td>2019-01-29</td>\n",
              "      <td>2019-02-13</td>\n",
              "      <td>USD</td>\n",
              "      <td>RV</td>\n",
              "      <td>1.0</td>\n",
              "      <td>22092.83</td>\n",
              "      <td>2019-01-29</td>\n",
              "      <td>NAA8</td>\n",
              "      <td>1.928707e+09</td>\n",
              "      <td>0</td>\n",
              "    </tr>\n",
              "    <tr>\n",
              "      <th>3</th>\n",
              "      <td>U001</td>\n",
              "      <td>0200743123</td>\n",
              "      <td>KROGER foundation</td>\n",
              "      <td>2019-02-08</td>\n",
              "      <td>2019.0</td>\n",
              "      <td>1.928670e+09</td>\n",
              "      <td>2019-01-24</td>\n",
              "      <td>2019-01-23</td>\n",
              "      <td>2019-01-24</td>\n",
              "      <td>2019-02-08</td>\n",
              "      <td>USD</td>\n",
              "      <td>RV</td>\n",
              "      <td>1.0</td>\n",
              "      <td>79422.35</td>\n",
              "      <td>2019-01-24</td>\n",
              "      <td>NAA8</td>\n",
              "      <td>1.928670e+09</td>\n",
              "      <td>0</td>\n",
              "    </tr>\n",
              "    <tr>\n",
              "      <th>4</th>\n",
              "      <td>U001</td>\n",
              "      <td>0200769623</td>\n",
              "      <td>WAL-MAR foundation</td>\n",
              "      <td>2020-02-11</td>\n",
              "      <td>2020.0</td>\n",
              "      <td>1.930437e+09</td>\n",
              "      <td>2020-01-25</td>\n",
              "      <td>2020-01-24</td>\n",
              "      <td>2020-01-25</td>\n",
              "      <td>2020-02-09</td>\n",
              "      <td>USD</td>\n",
              "      <td>RV</td>\n",
              "      <td>1.0</td>\n",
              "      <td>764.76</td>\n",
              "      <td>2020-01-25</td>\n",
              "      <td>NAH4</td>\n",
              "      <td>1.930437e+09</td>\n",
              "      <td>0</td>\n",
              "    </tr>\n",
              "    <tr>\n",
              "      <th>...</th>\n",
              "      <td>...</td>\n",
              "      <td>...</td>\n",
              "      <td>...</td>\n",
              "      <td>...</td>\n",
              "      <td>...</td>\n",
              "      <td>...</td>\n",
              "      <td>...</td>\n",
              "      <td>...</td>\n",
              "      <td>...</td>\n",
              "      <td>...</td>\n",
              "      <td>...</td>\n",
              "      <td>...</td>\n",
              "      <td>...</td>\n",
              "      <td>...</td>\n",
              "      <td>...</td>\n",
              "      <td>...</td>\n",
              "      <td>...</td>\n",
              "      <td>...</td>\n",
              "    </tr>\n",
              "    <tr>\n",
              "      <th>45588</th>\n",
              "      <td>U001</td>\n",
              "      <td>0200148860</td>\n",
              "      <td>DOLLA</td>\n",
              "      <td>2019-06-13</td>\n",
              "      <td>2019.0</td>\n",
              "      <td>1.929403e+09</td>\n",
              "      <td>2019-05-29</td>\n",
              "      <td>2019-05-29</td>\n",
              "      <td>2019-05-29</td>\n",
              "      <td>2019-06-13</td>\n",
              "      <td>USD</td>\n",
              "      <td>RV</td>\n",
              "      <td>1.0</td>\n",
              "      <td>75112.04</td>\n",
              "      <td>2019-05-29</td>\n",
              "      <td>NAA8</td>\n",
              "      <td>1.929403e+09</td>\n",
              "      <td>0</td>\n",
              "    </tr>\n",
              "    <tr>\n",
              "      <th>45590</th>\n",
              "      <td>CA02</td>\n",
              "      <td>0140105686</td>\n",
              "      <td>SYSC</td>\n",
              "      <td>2019-09-12</td>\n",
              "      <td>2019.0</td>\n",
              "      <td>2.960575e+09</td>\n",
              "      <td>2019-08-23</td>\n",
              "      <td>2019-08-23</td>\n",
              "      <td>2019-08-23</td>\n",
              "      <td>2019-09-08</td>\n",
              "      <td>CAD</td>\n",
              "      <td>RV</td>\n",
              "      <td>1.0</td>\n",
              "      <td>1472.60</td>\n",
              "      <td>2019-08-29</td>\n",
              "      <td>CA10</td>\n",
              "      <td>2.960575e+09</td>\n",
              "      <td>0</td>\n",
              "    </tr>\n",
              "    <tr>\n",
              "      <th>45591</th>\n",
              "      <td>U001</td>\n",
              "      <td>200769623</td>\n",
              "      <td>WAL-MAR trust</td>\n",
              "      <td>2019-03-18</td>\n",
              "      <td>2019.0</td>\n",
              "      <td>1.928913e+09</td>\n",
              "      <td>2019-03-06</td>\n",
              "      <td>2019-03-06</td>\n",
              "      <td>2019-03-06</td>\n",
              "      <td>2019-03-21</td>\n",
              "      <td>USD</td>\n",
              "      <td>RV</td>\n",
              "      <td>1.0</td>\n",
              "      <td>2221.50</td>\n",
              "      <td>2019-03-06</td>\n",
              "      <td>NAH4</td>\n",
              "      <td>1.928913e+09</td>\n",
              "      <td>0</td>\n",
              "    </tr>\n",
              "    <tr>\n",
              "      <th>45592</th>\n",
              "      <td>U001</td>\n",
              "      <td>0200726979</td>\n",
              "      <td>BJ'S  co</td>\n",
              "      <td>2020-03-03</td>\n",
              "      <td>2020.0</td>\n",
              "      <td>1.930538e+09</td>\n",
              "      <td>2020-02-17</td>\n",
              "      <td>2020-02-18</td>\n",
              "      <td>2020-02-17</td>\n",
              "      <td>2020-03-03</td>\n",
              "      <td>USD</td>\n",
              "      <td>RV</td>\n",
              "      <td>1.0</td>\n",
              "      <td>331.91</td>\n",
              "      <td>2020-02-17</td>\n",
              "      <td>NAA8</td>\n",
              "      <td>1.930538e+09</td>\n",
              "      <td>0</td>\n",
              "    </tr>\n",
              "    <tr>\n",
              "      <th>45593</th>\n",
              "      <td>U001</td>\n",
              "      <td>200739006</td>\n",
              "      <td>AL trust</td>\n",
              "      <td>2019-04-19</td>\n",
              "      <td>2019.0</td>\n",
              "      <td>1.929092e+09</td>\n",
              "      <td>2019-04-06</td>\n",
              "      <td>2019-04-05</td>\n",
              "      <td>2019-04-06</td>\n",
              "      <td>2019-04-21</td>\n",
              "      <td>USD</td>\n",
              "      <td>RV</td>\n",
              "      <td>1.0</td>\n",
              "      <td>16174.95</td>\n",
              "      <td>2019-04-06</td>\n",
              "      <td>NAA8</td>\n",
              "      <td>1.929092e+09</td>\n",
              "      <td>0</td>\n",
              "    </tr>\n",
              "  </tbody>\n",
              "</table>\n",
              "<p>43652 rows × 18 columns</p>\n",
              "</div>"
            ],
            "text/plain": [
              "      business_code cust_number  ...    invoice_id isOpen\n",
              "0              U001  0200782001  ...  1.928829e+09      0\n",
              "1              U001  0200769623  ...  1.929092e+09      0\n",
              "2              U001  0200780849  ...  1.928707e+09      0\n",
              "3              U001  0200743123  ...  1.928670e+09      0\n",
              "4              U001  0200769623  ...  1.930437e+09      0\n",
              "...             ...         ...  ...           ...    ...\n",
              "45588          U001  0200148860  ...  1.929403e+09      0\n",
              "45590          CA02  0140105686  ...  2.960575e+09      0\n",
              "45591          U001   200769623  ...  1.928913e+09      0\n",
              "45592          U001  0200726979  ...  1.930538e+09      0\n",
              "45593          U001   200739006  ...  1.929092e+09      0\n",
              "\n",
              "[43652 rows x 18 columns]"
            ]
          },
          "metadata": {
            "tags": []
          },
          "execution_count": 159
        }
      ]
    },
    {
      "cell_type": "code",
      "metadata": {
        "colab": {
          "base_uri": "https://localhost:8080/"
        },
        "id": "RV391CVIhUUo",
        "outputId": "97bc6326-e9be-456d-e4e2-5132c5c08479"
      },
      "source": [
        "train_data_new.isna().sum()\n",
        "\n",
        "# Thus all null values are now finally removed"
      ],
      "execution_count": null,
      "outputs": [
        {
          "output_type": "execute_result",
          "data": {
            "text/plain": [
              "business_code             0\n",
              "cust_number               0\n",
              "name_customer             0\n",
              "clear_date                0\n",
              "buisness_year             0\n",
              "doc_id                    0\n",
              "posting_date              0\n",
              "document_create_date      0\n",
              "document_create_date.1    0\n",
              "due_in_date               0\n",
              "invoice_currency          0\n",
              "document type             0\n",
              "posting_id                0\n",
              "total_open_amount         0\n",
              "baseline_create_date      0\n",
              "cust_payment_terms        0\n",
              "invoice_id                0\n",
              "isOpen                    0\n",
              "dtype: int64"
            ]
          },
          "metadata": {
            "tags": []
          },
          "execution_count": 160
        }
      ]
    },
    {
      "cell_type": "markdown",
      "metadata": {
        "id": "_GEd0pKneI8Q"
      },
      "source": [
        "As seen earlier, the currency column has two values.\n",
        "\n",
        "In other words they are not in the same unit."
      ]
    },
    {
      "cell_type": "code",
      "metadata": {
        "colab": {
          "base_uri": "https://localhost:8080/",
          "height": 181
        },
        "id": "NRM7sWF0h4pE",
        "outputId": "489f3074-1ac5-46b6-8007-379a74e00d19"
      },
      "source": [
        "# Now solving the currency issue (Converting all CAD to USD throught)\n",
        "\n",
        "\n",
        "train_data_new.groupby('invoice_currency').count()"
      ],
      "execution_count": null,
      "outputs": [
        {
          "output_type": "execute_result",
          "data": {
            "text/html": [
              "<div>\n",
              "<style scoped>\n",
              "    .dataframe tbody tr th:only-of-type {\n",
              "        vertical-align: middle;\n",
              "    }\n",
              "\n",
              "    .dataframe tbody tr th {\n",
              "        vertical-align: top;\n",
              "    }\n",
              "\n",
              "    .dataframe thead th {\n",
              "        text-align: right;\n",
              "    }\n",
              "</style>\n",
              "<table border=\"1\" class=\"dataframe\">\n",
              "  <thead>\n",
              "    <tr style=\"text-align: right;\">\n",
              "      <th></th>\n",
              "      <th>business_code</th>\n",
              "      <th>cust_number</th>\n",
              "      <th>name_customer</th>\n",
              "      <th>clear_date</th>\n",
              "      <th>buisness_year</th>\n",
              "      <th>doc_id</th>\n",
              "      <th>posting_date</th>\n",
              "      <th>document_create_date</th>\n",
              "      <th>document_create_date.1</th>\n",
              "      <th>due_in_date</th>\n",
              "      <th>document type</th>\n",
              "      <th>posting_id</th>\n",
              "      <th>total_open_amount</th>\n",
              "      <th>baseline_create_date</th>\n",
              "      <th>cust_payment_terms</th>\n",
              "      <th>invoice_id</th>\n",
              "      <th>isOpen</th>\n",
              "    </tr>\n",
              "    <tr>\n",
              "      <th>invoice_currency</th>\n",
              "      <th></th>\n",
              "      <th></th>\n",
              "      <th></th>\n",
              "      <th></th>\n",
              "      <th></th>\n",
              "      <th></th>\n",
              "      <th></th>\n",
              "      <th></th>\n",
              "      <th></th>\n",
              "      <th></th>\n",
              "      <th></th>\n",
              "      <th></th>\n",
              "      <th></th>\n",
              "      <th></th>\n",
              "      <th></th>\n",
              "      <th></th>\n",
              "      <th></th>\n",
              "    </tr>\n",
              "  </thead>\n",
              "  <tbody>\n",
              "    <tr>\n",
              "      <th>CAD</th>\n",
              "      <td>3533</td>\n",
              "      <td>3533</td>\n",
              "      <td>3533</td>\n",
              "      <td>3533</td>\n",
              "      <td>3533</td>\n",
              "      <td>3533</td>\n",
              "      <td>3533</td>\n",
              "      <td>3533</td>\n",
              "      <td>3533</td>\n",
              "      <td>3533</td>\n",
              "      <td>3533</td>\n",
              "      <td>3533</td>\n",
              "      <td>3533</td>\n",
              "      <td>3533</td>\n",
              "      <td>3533</td>\n",
              "      <td>3533</td>\n",
              "      <td>3533</td>\n",
              "    </tr>\n",
              "    <tr>\n",
              "      <th>USD</th>\n",
              "      <td>40119</td>\n",
              "      <td>40119</td>\n",
              "      <td>40119</td>\n",
              "      <td>40119</td>\n",
              "      <td>40119</td>\n",
              "      <td>40119</td>\n",
              "      <td>40119</td>\n",
              "      <td>40119</td>\n",
              "      <td>40119</td>\n",
              "      <td>40119</td>\n",
              "      <td>40119</td>\n",
              "      <td>40119</td>\n",
              "      <td>40119</td>\n",
              "      <td>40119</td>\n",
              "      <td>40119</td>\n",
              "      <td>40119</td>\n",
              "      <td>40119</td>\n",
              "    </tr>\n",
              "  </tbody>\n",
              "</table>\n",
              "</div>"
            ],
            "text/plain": [
              "                  business_code  cust_number  ...  invoice_id  isOpen\n",
              "invoice_currency                              ...                    \n",
              "CAD                        3533         3533  ...        3533    3533\n",
              "USD                       40119        40119  ...       40119   40119\n",
              "\n",
              "[2 rows x 17 columns]"
            ]
          },
          "metadata": {
            "tags": []
          },
          "execution_count": 161
        }
      ]
    },
    {
      "cell_type": "code",
      "metadata": {
        "colab": {
          "base_uri": "https://localhost:8080/",
          "height": 243
        },
        "id": "rPcZKmB7iOem",
        "outputId": "d5f6fdf9-1625-4001-ccec-03447615d120"
      },
      "source": [
        "train_data_new.loc[train_data_new['invoice_currency']=='CAD'].head()"
      ],
      "execution_count": null,
      "outputs": [
        {
          "output_type": "execute_result",
          "data": {
            "text/html": [
              "<div>\n",
              "<style scoped>\n",
              "    .dataframe tbody tr th:only-of-type {\n",
              "        vertical-align: middle;\n",
              "    }\n",
              "\n",
              "    .dataframe tbody tr th {\n",
              "        vertical-align: top;\n",
              "    }\n",
              "\n",
              "    .dataframe thead th {\n",
              "        text-align: right;\n",
              "    }\n",
              "</style>\n",
              "<table border=\"1\" class=\"dataframe\">\n",
              "  <thead>\n",
              "    <tr style=\"text-align: right;\">\n",
              "      <th></th>\n",
              "      <th>business_code</th>\n",
              "      <th>cust_number</th>\n",
              "      <th>name_customer</th>\n",
              "      <th>clear_date</th>\n",
              "      <th>buisness_year</th>\n",
              "      <th>doc_id</th>\n",
              "      <th>posting_date</th>\n",
              "      <th>document_create_date</th>\n",
              "      <th>document_create_date.1</th>\n",
              "      <th>due_in_date</th>\n",
              "      <th>invoice_currency</th>\n",
              "      <th>document type</th>\n",
              "      <th>posting_id</th>\n",
              "      <th>total_open_amount</th>\n",
              "      <th>baseline_create_date</th>\n",
              "      <th>cust_payment_terms</th>\n",
              "      <th>invoice_id</th>\n",
              "      <th>isOpen</th>\n",
              "    </tr>\n",
              "  </thead>\n",
              "  <tbody>\n",
              "    <tr>\n",
              "      <th>24</th>\n",
              "      <td>CA02</td>\n",
              "      <td>0140104475</td>\n",
              "      <td>FOC corp</td>\n",
              "      <td>2019-12-02</td>\n",
              "      <td>2019.0</td>\n",
              "      <td>2.960592e+09</td>\n",
              "      <td>2019-11-07</td>\n",
              "      <td>2019-11-07</td>\n",
              "      <td>2019-11-07</td>\n",
              "      <td>2019-11-25</td>\n",
              "      <td>CAD</td>\n",
              "      <td>RV</td>\n",
              "      <td>1.0</td>\n",
              "      <td>57555.08</td>\n",
              "      <td>2019-11-15</td>\n",
              "      <td>CA10</td>\n",
              "      <td>2.960592e+09</td>\n",
              "      <td>0</td>\n",
              "    </tr>\n",
              "    <tr>\n",
              "      <th>33</th>\n",
              "      <td>CA02</td>\n",
              "      <td>0140104440</td>\n",
              "      <td>SO us</td>\n",
              "      <td>2019-06-19</td>\n",
              "      <td>2019.0</td>\n",
              "      <td>2.960553e+09</td>\n",
              "      <td>2019-06-03</td>\n",
              "      <td>2019-06-03</td>\n",
              "      <td>2019-06-03</td>\n",
              "      <td>2019-06-14</td>\n",
              "      <td>CAD</td>\n",
              "      <td>RV</td>\n",
              "      <td>1.0</td>\n",
              "      <td>304843.83</td>\n",
              "      <td>2019-06-04</td>\n",
              "      <td>CA10</td>\n",
              "      <td>2.960553e+09</td>\n",
              "      <td>0</td>\n",
              "    </tr>\n",
              "    <tr>\n",
              "      <th>43</th>\n",
              "      <td>CA02</td>\n",
              "      <td>0140104409</td>\n",
              "      <td>LOB llc</td>\n",
              "      <td>2019-02-15</td>\n",
              "      <td>2019.0</td>\n",
              "      <td>2.960527e+09</td>\n",
              "      <td>2019-01-31</td>\n",
              "      <td>2019-01-31</td>\n",
              "      <td>2019-01-31</td>\n",
              "      <td>2019-02-10</td>\n",
              "      <td>CAD</td>\n",
              "      <td>RV</td>\n",
              "      <td>1.0</td>\n",
              "      <td>159838.65</td>\n",
              "      <td>2019-01-31</td>\n",
              "      <td>CA10</td>\n",
              "      <td>2.960527e+09</td>\n",
              "      <td>0</td>\n",
              "    </tr>\n",
              "    <tr>\n",
              "      <th>68</th>\n",
              "      <td>CA02</td>\n",
              "      <td>0140104409</td>\n",
              "      <td>LOB associates</td>\n",
              "      <td>2019-12-20</td>\n",
              "      <td>2019.0</td>\n",
              "      <td>2.960600e+09</td>\n",
              "      <td>2019-12-11</td>\n",
              "      <td>2019-12-11</td>\n",
              "      <td>2019-12-11</td>\n",
              "      <td>2019-12-25</td>\n",
              "      <td>CAD</td>\n",
              "      <td>RV</td>\n",
              "      <td>1.0</td>\n",
              "      <td>90787.03</td>\n",
              "      <td>2019-12-15</td>\n",
              "      <td>CA10</td>\n",
              "      <td>2.960600e+09</td>\n",
              "      <td>0</td>\n",
              "    </tr>\n",
              "    <tr>\n",
              "      <th>95</th>\n",
              "      <td>CA02</td>\n",
              "      <td>0140104440</td>\n",
              "      <td>SO corporation</td>\n",
              "      <td>2019-02-26</td>\n",
              "      <td>2019.0</td>\n",
              "      <td>2.960525e+09</td>\n",
              "      <td>2019-02-02</td>\n",
              "      <td>2019-02-03</td>\n",
              "      <td>2019-02-02</td>\n",
              "      <td>2019-02-22</td>\n",
              "      <td>CAD</td>\n",
              "      <td>RV</td>\n",
              "      <td>1.0</td>\n",
              "      <td>244627.81</td>\n",
              "      <td>2019-02-12</td>\n",
              "      <td>CA10</td>\n",
              "      <td>2.960525e+09</td>\n",
              "      <td>0</td>\n",
              "    </tr>\n",
              "  </tbody>\n",
              "</table>\n",
              "</div>"
            ],
            "text/plain": [
              "   business_code cust_number  ...    invoice_id isOpen\n",
              "24          CA02  0140104475  ...  2.960592e+09      0\n",
              "33          CA02  0140104440  ...  2.960553e+09      0\n",
              "43          CA02  0140104409  ...  2.960527e+09      0\n",
              "68          CA02  0140104409  ...  2.960600e+09      0\n",
              "95          CA02  0140104440  ...  2.960525e+09      0\n",
              "\n",
              "[5 rows x 18 columns]"
            ]
          },
          "metadata": {
            "tags": []
          },
          "execution_count": 162
        }
      ]
    },
    {
      "cell_type": "code",
      "metadata": {
        "colab": {
          "base_uri": "https://localhost:8080/",
          "height": 355
        },
        "id": "TwEtJE7Ni693",
        "outputId": "016cf4ce-1d38-43fd-cfad-33658f277730"
      },
      "source": [
        "# Conversion from CAD to USD \n",
        "\n",
        "# i CAD =0.79 CAD\n",
        "import numpy as np\n",
        "train_data_1=train_data_new\n",
        "train_data_1['total_open_amount']=np.where(train_data_1.invoice_currency=='CAD',\n",
        "                                             train_data_1.total_open_amount*0.79,\n",
        "                                           train_data_1.total_open_amount)\n",
        "train_data_1.tail()"
      ],
      "execution_count": null,
      "outputs": [
        {
          "output_type": "stream",
          "text": [
            "/usr/local/lib/python3.6/dist-packages/ipykernel_launcher.py:8: SettingWithCopyWarning: \n",
            "A value is trying to be set on a copy of a slice from a DataFrame.\n",
            "Try using .loc[row_indexer,col_indexer] = value instead\n",
            "\n",
            "See the caveats in the documentation: https://pandas.pydata.org/pandas-docs/stable/user_guide/indexing.html#returning-a-view-versus-a-copy\n",
            "  \n"
          ],
          "name": "stderr"
        },
        {
          "output_type": "execute_result",
          "data": {
            "text/html": [
              "<div>\n",
              "<style scoped>\n",
              "    .dataframe tbody tr th:only-of-type {\n",
              "        vertical-align: middle;\n",
              "    }\n",
              "\n",
              "    .dataframe tbody tr th {\n",
              "        vertical-align: top;\n",
              "    }\n",
              "\n",
              "    .dataframe thead th {\n",
              "        text-align: right;\n",
              "    }\n",
              "</style>\n",
              "<table border=\"1\" class=\"dataframe\">\n",
              "  <thead>\n",
              "    <tr style=\"text-align: right;\">\n",
              "      <th></th>\n",
              "      <th>business_code</th>\n",
              "      <th>cust_number</th>\n",
              "      <th>name_customer</th>\n",
              "      <th>clear_date</th>\n",
              "      <th>buisness_year</th>\n",
              "      <th>doc_id</th>\n",
              "      <th>posting_date</th>\n",
              "      <th>document_create_date</th>\n",
              "      <th>document_create_date.1</th>\n",
              "      <th>due_in_date</th>\n",
              "      <th>invoice_currency</th>\n",
              "      <th>document type</th>\n",
              "      <th>posting_id</th>\n",
              "      <th>total_open_amount</th>\n",
              "      <th>baseline_create_date</th>\n",
              "      <th>cust_payment_terms</th>\n",
              "      <th>invoice_id</th>\n",
              "      <th>isOpen</th>\n",
              "    </tr>\n",
              "  </thead>\n",
              "  <tbody>\n",
              "    <tr>\n",
              "      <th>45588</th>\n",
              "      <td>U001</td>\n",
              "      <td>0200148860</td>\n",
              "      <td>DOLLA</td>\n",
              "      <td>2019-06-13</td>\n",
              "      <td>2019.0</td>\n",
              "      <td>1.929403e+09</td>\n",
              "      <td>2019-05-29</td>\n",
              "      <td>2019-05-29</td>\n",
              "      <td>2019-05-29</td>\n",
              "      <td>2019-06-13</td>\n",
              "      <td>USD</td>\n",
              "      <td>RV</td>\n",
              "      <td>1.0</td>\n",
              "      <td>75112.040</td>\n",
              "      <td>2019-05-29</td>\n",
              "      <td>NAA8</td>\n",
              "      <td>1.929403e+09</td>\n",
              "      <td>0</td>\n",
              "    </tr>\n",
              "    <tr>\n",
              "      <th>45590</th>\n",
              "      <td>CA02</td>\n",
              "      <td>0140105686</td>\n",
              "      <td>SYSC</td>\n",
              "      <td>2019-09-12</td>\n",
              "      <td>2019.0</td>\n",
              "      <td>2.960575e+09</td>\n",
              "      <td>2019-08-23</td>\n",
              "      <td>2019-08-23</td>\n",
              "      <td>2019-08-23</td>\n",
              "      <td>2019-09-08</td>\n",
              "      <td>CAD</td>\n",
              "      <td>RV</td>\n",
              "      <td>1.0</td>\n",
              "      <td>1163.354</td>\n",
              "      <td>2019-08-29</td>\n",
              "      <td>CA10</td>\n",
              "      <td>2.960575e+09</td>\n",
              "      <td>0</td>\n",
              "    </tr>\n",
              "    <tr>\n",
              "      <th>45591</th>\n",
              "      <td>U001</td>\n",
              "      <td>200769623</td>\n",
              "      <td>WAL-MAR trust</td>\n",
              "      <td>2019-03-18</td>\n",
              "      <td>2019.0</td>\n",
              "      <td>1.928913e+09</td>\n",
              "      <td>2019-03-06</td>\n",
              "      <td>2019-03-06</td>\n",
              "      <td>2019-03-06</td>\n",
              "      <td>2019-03-21</td>\n",
              "      <td>USD</td>\n",
              "      <td>RV</td>\n",
              "      <td>1.0</td>\n",
              "      <td>2221.500</td>\n",
              "      <td>2019-03-06</td>\n",
              "      <td>NAH4</td>\n",
              "      <td>1.928913e+09</td>\n",
              "      <td>0</td>\n",
              "    </tr>\n",
              "    <tr>\n",
              "      <th>45592</th>\n",
              "      <td>U001</td>\n",
              "      <td>0200726979</td>\n",
              "      <td>BJ'S  co</td>\n",
              "      <td>2020-03-03</td>\n",
              "      <td>2020.0</td>\n",
              "      <td>1.930538e+09</td>\n",
              "      <td>2020-02-17</td>\n",
              "      <td>2020-02-18</td>\n",
              "      <td>2020-02-17</td>\n",
              "      <td>2020-03-03</td>\n",
              "      <td>USD</td>\n",
              "      <td>RV</td>\n",
              "      <td>1.0</td>\n",
              "      <td>331.910</td>\n",
              "      <td>2020-02-17</td>\n",
              "      <td>NAA8</td>\n",
              "      <td>1.930538e+09</td>\n",
              "      <td>0</td>\n",
              "    </tr>\n",
              "    <tr>\n",
              "      <th>45593</th>\n",
              "      <td>U001</td>\n",
              "      <td>200739006</td>\n",
              "      <td>AL trust</td>\n",
              "      <td>2019-04-19</td>\n",
              "      <td>2019.0</td>\n",
              "      <td>1.929092e+09</td>\n",
              "      <td>2019-04-06</td>\n",
              "      <td>2019-04-05</td>\n",
              "      <td>2019-04-06</td>\n",
              "      <td>2019-04-21</td>\n",
              "      <td>USD</td>\n",
              "      <td>RV</td>\n",
              "      <td>1.0</td>\n",
              "      <td>16174.950</td>\n",
              "      <td>2019-04-06</td>\n",
              "      <td>NAA8</td>\n",
              "      <td>1.929092e+09</td>\n",
              "      <td>0</td>\n",
              "    </tr>\n",
              "  </tbody>\n",
              "</table>\n",
              "</div>"
            ],
            "text/plain": [
              "      business_code cust_number  ...    invoice_id isOpen\n",
              "45588          U001  0200148860  ...  1.929403e+09      0\n",
              "45590          CA02  0140105686  ...  2.960575e+09      0\n",
              "45591          U001   200769623  ...  1.928913e+09      0\n",
              "45592          U001  0200726979  ...  1.930538e+09      0\n",
              "45593          U001   200739006  ...  1.929092e+09      0\n",
              "\n",
              "[5 rows x 18 columns]"
            ]
          },
          "metadata": {
            "tags": []
          },
          "execution_count": 163
        }
      ]
    },
    {
      "cell_type": "code",
      "metadata": {
        "colab": {
          "base_uri": "https://localhost:8080/"
        },
        "id": "ByKn1jlRq1Yv",
        "outputId": "109c0365-c535-4e76-c25e-46f6fac6b93d"
      },
      "source": [
        "print(\"Data brfore conversion\")\n",
        "original_main_data.loc[45590,['invoice_currency','total_open_amount']]\n"
      ],
      "execution_count": null,
      "outputs": [
        {
          "output_type": "stream",
          "text": [
            "Data brfore conversion\n"
          ],
          "name": "stdout"
        },
        {
          "output_type": "execute_result",
          "data": {
            "text/plain": [
              "invoice_currency        CAD\n",
              "total_open_amount    1472.6\n",
              "Name: 45590, dtype: object"
            ]
          },
          "metadata": {
            "tags": []
          },
          "execution_count": 164
        }
      ]
    },
    {
      "cell_type": "code",
      "metadata": {
        "colab": {
          "base_uri": "https://localhost:8080/"
        },
        "id": "WPaW7wnnvCgx",
        "outputId": "940a5616-b48c-441a-a6eb-c1d6eb18c75e"
      },
      "source": [
        "train_data=train_data_new\n",
        "train_data.loc[45590,['invoice_currency','total_open_amount']]"
      ],
      "execution_count": null,
      "outputs": [
        {
          "output_type": "execute_result",
          "data": {
            "text/plain": [
              "invoice_currency         CAD\n",
              "total_open_amount    1163.35\n",
              "Name: 45590, dtype: object"
            ]
          },
          "metadata": {
            "tags": []
          },
          "execution_count": 165
        }
      ]
    },
    {
      "cell_type": "markdown",
      "metadata": {
        "id": "bCc7uhSje4va"
      },
      "source": [
        "As evident from above, all CAD have been converted tro USD and stored in train_data"
      ]
    },
    {
      "cell_type": "code",
      "metadata": {
        "colab": {
          "base_uri": "https://localhost:8080/"
        },
        "id": "ITHK4A7evWwl",
        "outputId": "bfb69cd1-70a1-40be-9ed2-7d9a2c1ab7db"
      },
      "source": [
        "train_data.info()\n"
      ],
      "execution_count": null,
      "outputs": [
        {
          "output_type": "stream",
          "text": [
            "<class 'pandas.core.frame.DataFrame'>\n",
            "Int64Index: 43652 entries, 0 to 45593\n",
            "Data columns (total 18 columns):\n",
            " #   Column                  Non-Null Count  Dtype         \n",
            "---  ------                  --------------  -----         \n",
            " 0   business_code           43652 non-null  object        \n",
            " 1   cust_number             43652 non-null  object        \n",
            " 2   name_customer           43652 non-null  object        \n",
            " 3   clear_date              43652 non-null  datetime64[ns]\n",
            " 4   buisness_year           43652 non-null  float64       \n",
            " 5   doc_id                  43652 non-null  float64       \n",
            " 6   posting_date            43652 non-null  datetime64[ns]\n",
            " 7   document_create_date    43652 non-null  datetime64[ns]\n",
            " 8   document_create_date.1  43652 non-null  datetime64[ns]\n",
            " 9   due_in_date             43652 non-null  datetime64[ns]\n",
            " 10  invoice_currency        43652 non-null  object        \n",
            " 11  document type           43652 non-null  object        \n",
            " 12  posting_id              43652 non-null  float64       \n",
            " 13  total_open_amount       43652 non-null  float64       \n",
            " 14  baseline_create_date    43652 non-null  datetime64[ns]\n",
            " 15  cust_payment_terms      43652 non-null  object        \n",
            " 16  invoice_id              43652 non-null  float64       \n",
            " 17  isOpen                  43652 non-null  int64         \n",
            "dtypes: datetime64[ns](6), float64(5), int64(1), object(6)\n",
            "memory usage: 7.6+ MB\n"
          ],
          "name": "stdout"
        }
      ]
    },
    {
      "cell_type": "code",
      "metadata": {
        "colab": {
          "base_uri": "https://localhost:8080/",
          "height": 295
        },
        "id": "qnBYhLV7zKxc",
        "outputId": "4673193f-8f7b-4e03-d76f-aab512d5ee05"
      },
      "source": [
        "# Now we sort the training data based on invoice posting date\n",
        "\n",
        "train_data.sort_values('document_create_date.1')\n",
        "train_data.head()"
      ],
      "execution_count": null,
      "outputs": [
        {
          "output_type": "execute_result",
          "data": {
            "text/html": [
              "<div>\n",
              "<style scoped>\n",
              "    .dataframe tbody tr th:only-of-type {\n",
              "        vertical-align: middle;\n",
              "    }\n",
              "\n",
              "    .dataframe tbody tr th {\n",
              "        vertical-align: top;\n",
              "    }\n",
              "\n",
              "    .dataframe thead th {\n",
              "        text-align: right;\n",
              "    }\n",
              "</style>\n",
              "<table border=\"1\" class=\"dataframe\">\n",
              "  <thead>\n",
              "    <tr style=\"text-align: right;\">\n",
              "      <th></th>\n",
              "      <th>business_code</th>\n",
              "      <th>cust_number</th>\n",
              "      <th>name_customer</th>\n",
              "      <th>clear_date</th>\n",
              "      <th>buisness_year</th>\n",
              "      <th>doc_id</th>\n",
              "      <th>posting_date</th>\n",
              "      <th>document_create_date</th>\n",
              "      <th>document_create_date.1</th>\n",
              "      <th>due_in_date</th>\n",
              "      <th>invoice_currency</th>\n",
              "      <th>document type</th>\n",
              "      <th>posting_id</th>\n",
              "      <th>total_open_amount</th>\n",
              "      <th>baseline_create_date</th>\n",
              "      <th>cust_payment_terms</th>\n",
              "      <th>invoice_id</th>\n",
              "      <th>isOpen</th>\n",
              "    </tr>\n",
              "  </thead>\n",
              "  <tbody>\n",
              "    <tr>\n",
              "      <th>0</th>\n",
              "      <td>U001</td>\n",
              "      <td>0200782001</td>\n",
              "      <td>GORDO in</td>\n",
              "      <td>2019-03-12</td>\n",
              "      <td>2019.0</td>\n",
              "      <td>1.928829e+09</td>\n",
              "      <td>2019-02-20</td>\n",
              "      <td>2019-02-20</td>\n",
              "      <td>2019-02-20</td>\n",
              "      <td>2019-03-07</td>\n",
              "      <td>USD</td>\n",
              "      <td>RV</td>\n",
              "      <td>1.0</td>\n",
              "      <td>35308.72</td>\n",
              "      <td>2019-02-20</td>\n",
              "      <td>NAA8</td>\n",
              "      <td>1.928829e+09</td>\n",
              "      <td>0</td>\n",
              "    </tr>\n",
              "    <tr>\n",
              "      <th>1</th>\n",
              "      <td>U001</td>\n",
              "      <td>0200769623</td>\n",
              "      <td>WAL-MAR corporation</td>\n",
              "      <td>2019-04-23</td>\n",
              "      <td>2019.0</td>\n",
              "      <td>1.929092e+09</td>\n",
              "      <td>2019-04-07</td>\n",
              "      <td>2019-04-05</td>\n",
              "      <td>2019-04-07</td>\n",
              "      <td>2019-04-22</td>\n",
              "      <td>USD</td>\n",
              "      <td>RV</td>\n",
              "      <td>1.0</td>\n",
              "      <td>27641.22</td>\n",
              "      <td>2019-04-07</td>\n",
              "      <td>NAH4</td>\n",
              "      <td>1.929092e+09</td>\n",
              "      <td>0</td>\n",
              "    </tr>\n",
              "    <tr>\n",
              "      <th>2</th>\n",
              "      <td>U001</td>\n",
              "      <td>0200780849</td>\n",
              "      <td>LAUREL llc</td>\n",
              "      <td>2019-02-13</td>\n",
              "      <td>2019.0</td>\n",
              "      <td>1.928707e+09</td>\n",
              "      <td>2019-01-29</td>\n",
              "      <td>2019-01-29</td>\n",
              "      <td>2019-01-29</td>\n",
              "      <td>2019-02-13</td>\n",
              "      <td>USD</td>\n",
              "      <td>RV</td>\n",
              "      <td>1.0</td>\n",
              "      <td>22092.83</td>\n",
              "      <td>2019-01-29</td>\n",
              "      <td>NAA8</td>\n",
              "      <td>1.928707e+09</td>\n",
              "      <td>0</td>\n",
              "    </tr>\n",
              "    <tr>\n",
              "      <th>3</th>\n",
              "      <td>U001</td>\n",
              "      <td>0200743123</td>\n",
              "      <td>KROGER foundation</td>\n",
              "      <td>2019-02-08</td>\n",
              "      <td>2019.0</td>\n",
              "      <td>1.928670e+09</td>\n",
              "      <td>2019-01-24</td>\n",
              "      <td>2019-01-23</td>\n",
              "      <td>2019-01-24</td>\n",
              "      <td>2019-02-08</td>\n",
              "      <td>USD</td>\n",
              "      <td>RV</td>\n",
              "      <td>1.0</td>\n",
              "      <td>79422.35</td>\n",
              "      <td>2019-01-24</td>\n",
              "      <td>NAA8</td>\n",
              "      <td>1.928670e+09</td>\n",
              "      <td>0</td>\n",
              "    </tr>\n",
              "    <tr>\n",
              "      <th>4</th>\n",
              "      <td>U001</td>\n",
              "      <td>0200769623</td>\n",
              "      <td>WAL-MAR foundation</td>\n",
              "      <td>2020-02-11</td>\n",
              "      <td>2020.0</td>\n",
              "      <td>1.930437e+09</td>\n",
              "      <td>2020-01-25</td>\n",
              "      <td>2020-01-24</td>\n",
              "      <td>2020-01-25</td>\n",
              "      <td>2020-02-09</td>\n",
              "      <td>USD</td>\n",
              "      <td>RV</td>\n",
              "      <td>1.0</td>\n",
              "      <td>764.76</td>\n",
              "      <td>2020-01-25</td>\n",
              "      <td>NAH4</td>\n",
              "      <td>1.930437e+09</td>\n",
              "      <td>0</td>\n",
              "    </tr>\n",
              "  </tbody>\n",
              "</table>\n",
              "</div>"
            ],
            "text/plain": [
              "  business_code cust_number  ...    invoice_id isOpen\n",
              "0          U001  0200782001  ...  1.928829e+09      0\n",
              "1          U001  0200769623  ...  1.929092e+09      0\n",
              "2          U001  0200780849  ...  1.928707e+09      0\n",
              "3          U001  0200743123  ...  1.928670e+09      0\n",
              "4          U001  0200769623  ...  1.930437e+09      0\n",
              "\n",
              "[5 rows x 18 columns]"
            ]
          },
          "metadata": {
            "tags": []
          },
          "execution_count": 167
        }
      ]
    },
    {
      "cell_type": "markdown",
      "metadata": {
        "id": "6UCB2qZ1mMnJ"
      },
      "source": [
        "# 4.2 CONSTANT COLUMNS"
      ]
    },
    {
      "cell_type": "markdown",
      "metadata": {
        "id": "Sn8TyiG_k1rJ"
      },
      "source": [
        "Taking a look at the \"document_type\" column"
      ]
    },
    {
      "cell_type": "code",
      "metadata": {
        "colab": {
          "base_uri": "https://localhost:8080/"
        },
        "id": "LxZc0hJtz5G2",
        "outputId": "0109fe4b-bf0f-46ad-b8f6-2ddb39d7a5c5"
      },
      "source": [
        "train_data['document type'].unique()\n"
      ],
      "execution_count": null,
      "outputs": [
        {
          "output_type": "execute_result",
          "data": {
            "text/plain": [
              "array(['RV'], dtype=object)"
            ]
          },
          "metadata": {
            "tags": []
          },
          "execution_count": 168
        }
      ]
    },
    {
      "cell_type": "code",
      "metadata": {
        "colab": {
          "base_uri": "https://localhost:8080/",
          "height": 149
        },
        "id": "fTrvH_YHxvVB",
        "outputId": "0b4cf311-75de-4077-9ea4-ba160cdfceb8"
      },
      "source": [
        "train_data.groupby(\"document type\").count()"
      ],
      "execution_count": null,
      "outputs": [
        {
          "output_type": "execute_result",
          "data": {
            "text/html": [
              "<div>\n",
              "<style scoped>\n",
              "    .dataframe tbody tr th:only-of-type {\n",
              "        vertical-align: middle;\n",
              "    }\n",
              "\n",
              "    .dataframe tbody tr th {\n",
              "        vertical-align: top;\n",
              "    }\n",
              "\n",
              "    .dataframe thead th {\n",
              "        text-align: right;\n",
              "    }\n",
              "</style>\n",
              "<table border=\"1\" class=\"dataframe\">\n",
              "  <thead>\n",
              "    <tr style=\"text-align: right;\">\n",
              "      <th></th>\n",
              "      <th>business_code</th>\n",
              "      <th>cust_number</th>\n",
              "      <th>name_customer</th>\n",
              "      <th>clear_date</th>\n",
              "      <th>buisness_year</th>\n",
              "      <th>doc_id</th>\n",
              "      <th>posting_date</th>\n",
              "      <th>document_create_date</th>\n",
              "      <th>document_create_date.1</th>\n",
              "      <th>due_in_date</th>\n",
              "      <th>invoice_currency</th>\n",
              "      <th>posting_id</th>\n",
              "      <th>total_open_amount</th>\n",
              "      <th>baseline_create_date</th>\n",
              "      <th>cust_payment_terms</th>\n",
              "      <th>invoice_id</th>\n",
              "      <th>isOpen</th>\n",
              "    </tr>\n",
              "    <tr>\n",
              "      <th>document type</th>\n",
              "      <th></th>\n",
              "      <th></th>\n",
              "      <th></th>\n",
              "      <th></th>\n",
              "      <th></th>\n",
              "      <th></th>\n",
              "      <th></th>\n",
              "      <th></th>\n",
              "      <th></th>\n",
              "      <th></th>\n",
              "      <th></th>\n",
              "      <th></th>\n",
              "      <th></th>\n",
              "      <th></th>\n",
              "      <th></th>\n",
              "      <th></th>\n",
              "      <th></th>\n",
              "    </tr>\n",
              "  </thead>\n",
              "  <tbody>\n",
              "    <tr>\n",
              "      <th>RV</th>\n",
              "      <td>43652</td>\n",
              "      <td>43652</td>\n",
              "      <td>43652</td>\n",
              "      <td>43652</td>\n",
              "      <td>43652</td>\n",
              "      <td>43652</td>\n",
              "      <td>43652</td>\n",
              "      <td>43652</td>\n",
              "      <td>43652</td>\n",
              "      <td>43652</td>\n",
              "      <td>43652</td>\n",
              "      <td>43652</td>\n",
              "      <td>43652</td>\n",
              "      <td>43652</td>\n",
              "      <td>43652</td>\n",
              "      <td>43652</td>\n",
              "      <td>43652</td>\n",
              "    </tr>\n",
              "  </tbody>\n",
              "</table>\n",
              "</div>"
            ],
            "text/plain": [
              "               business_code  cust_number  ...  invoice_id  isOpen\n",
              "document type                              ...                    \n",
              "RV                     43652        43652  ...       43652   43652\n",
              "\n",
              "[1 rows x 17 columns]"
            ]
          },
          "metadata": {
            "tags": []
          },
          "execution_count": 169
        }
      ]
    },
    {
      "cell_type": "markdown",
      "metadata": {
        "id": "ieM-tj2UlGQS"
      },
      "source": [
        " This 'document type' column has all same values."
      ]
    },
    {
      "cell_type": "code",
      "metadata": {
        "colab": {
          "base_uri": "https://localhost:8080/",
          "height": 149
        },
        "id": "-B82QTeAm5pB",
        "outputId": "f32a70d3-e3fd-405a-8afb-4ba393105dc8"
      },
      "source": [
        "train_data.groupby(\"isOpen\").count()\n",
        "# isOpen values are all same"
      ],
      "execution_count": null,
      "outputs": [
        {
          "output_type": "execute_result",
          "data": {
            "text/html": [
              "<div>\n",
              "<style scoped>\n",
              "    .dataframe tbody tr th:only-of-type {\n",
              "        vertical-align: middle;\n",
              "    }\n",
              "\n",
              "    .dataframe tbody tr th {\n",
              "        vertical-align: top;\n",
              "    }\n",
              "\n",
              "    .dataframe thead th {\n",
              "        text-align: right;\n",
              "    }\n",
              "</style>\n",
              "<table border=\"1\" class=\"dataframe\">\n",
              "  <thead>\n",
              "    <tr style=\"text-align: right;\">\n",
              "      <th></th>\n",
              "      <th>business_code</th>\n",
              "      <th>cust_number</th>\n",
              "      <th>name_customer</th>\n",
              "      <th>clear_date</th>\n",
              "      <th>buisness_year</th>\n",
              "      <th>doc_id</th>\n",
              "      <th>posting_date</th>\n",
              "      <th>document_create_date</th>\n",
              "      <th>document_create_date.1</th>\n",
              "      <th>due_in_date</th>\n",
              "      <th>invoice_currency</th>\n",
              "      <th>document type</th>\n",
              "      <th>posting_id</th>\n",
              "      <th>total_open_amount</th>\n",
              "      <th>baseline_create_date</th>\n",
              "      <th>cust_payment_terms</th>\n",
              "      <th>invoice_id</th>\n",
              "    </tr>\n",
              "    <tr>\n",
              "      <th>isOpen</th>\n",
              "      <th></th>\n",
              "      <th></th>\n",
              "      <th></th>\n",
              "      <th></th>\n",
              "      <th></th>\n",
              "      <th></th>\n",
              "      <th></th>\n",
              "      <th></th>\n",
              "      <th></th>\n",
              "      <th></th>\n",
              "      <th></th>\n",
              "      <th></th>\n",
              "      <th></th>\n",
              "      <th></th>\n",
              "      <th></th>\n",
              "      <th></th>\n",
              "      <th></th>\n",
              "    </tr>\n",
              "  </thead>\n",
              "  <tbody>\n",
              "    <tr>\n",
              "      <th>0</th>\n",
              "      <td>43652</td>\n",
              "      <td>43652</td>\n",
              "      <td>43652</td>\n",
              "      <td>43652</td>\n",
              "      <td>43652</td>\n",
              "      <td>43652</td>\n",
              "      <td>43652</td>\n",
              "      <td>43652</td>\n",
              "      <td>43652</td>\n",
              "      <td>43652</td>\n",
              "      <td>43652</td>\n",
              "      <td>43652</td>\n",
              "      <td>43652</td>\n",
              "      <td>43652</td>\n",
              "      <td>43652</td>\n",
              "      <td>43652</td>\n",
              "      <td>43652</td>\n",
              "    </tr>\n",
              "  </tbody>\n",
              "</table>\n",
              "</div>"
            ],
            "text/plain": [
              "        business_code  cust_number  ...  cust_payment_terms  invoice_id\n",
              "isOpen                              ...                                \n",
              "0               43652        43652  ...               43652       43652\n",
              "\n",
              "[1 rows x 17 columns]"
            ]
          },
          "metadata": {
            "tags": []
          },
          "execution_count": 170
        }
      ]
    },
    {
      "cell_type": "markdown",
      "metadata": {
        "id": "h_oD8AFkm9Pp"
      },
      "source": [
        "The column \"is_open\" also conatains same values"
      ]
    },
    {
      "cell_type": "markdown",
      "metadata": {
        "id": "423Xjer8l7qf"
      },
      "source": [
        "# 4.3 DUPLICATE COLUMNS"
      ]
    },
    {
      "cell_type": "code",
      "metadata": {
        "colab": {
          "base_uri": "https://localhost:8080/",
          "height": 86
        },
        "id": "ZYYjBeHLlVX7",
        "outputId": "f5274d8e-72fc-4b0d-e7e1-aef9fca905b9"
      },
      "source": [
        "# Checking for duplicate columns\n",
        "train_data.loc[train_data.invoice_id!=train_data.doc_id]"
      ],
      "execution_count": null,
      "outputs": [
        {
          "output_type": "execute_result",
          "data": {
            "text/html": [
              "<div>\n",
              "<style scoped>\n",
              "    .dataframe tbody tr th:only-of-type {\n",
              "        vertical-align: middle;\n",
              "    }\n",
              "\n",
              "    .dataframe tbody tr th {\n",
              "        vertical-align: top;\n",
              "    }\n",
              "\n",
              "    .dataframe thead th {\n",
              "        text-align: right;\n",
              "    }\n",
              "</style>\n",
              "<table border=\"1\" class=\"dataframe\">\n",
              "  <thead>\n",
              "    <tr style=\"text-align: right;\">\n",
              "      <th></th>\n",
              "      <th>business_code</th>\n",
              "      <th>cust_number</th>\n",
              "      <th>name_customer</th>\n",
              "      <th>clear_date</th>\n",
              "      <th>buisness_year</th>\n",
              "      <th>doc_id</th>\n",
              "      <th>posting_date</th>\n",
              "      <th>document_create_date</th>\n",
              "      <th>document_create_date.1</th>\n",
              "      <th>due_in_date</th>\n",
              "      <th>invoice_currency</th>\n",
              "      <th>document type</th>\n",
              "      <th>posting_id</th>\n",
              "      <th>total_open_amount</th>\n",
              "      <th>baseline_create_date</th>\n",
              "      <th>cust_payment_terms</th>\n",
              "      <th>invoice_id</th>\n",
              "      <th>isOpen</th>\n",
              "    </tr>\n",
              "  </thead>\n",
              "  <tbody>\n",
              "  </tbody>\n",
              "</table>\n",
              "</div>"
            ],
            "text/plain": [
              "Empty DataFrame\n",
              "Columns: [business_code, cust_number, name_customer, clear_date, buisness_year, doc_id, posting_date, document_create_date, document_create_date.1, due_in_date, invoice_currency, document type, posting_id, total_open_amount, baseline_create_date, cust_payment_terms, invoice_id, isOpen]\n",
              "Index: []"
            ]
          },
          "metadata": {
            "tags": []
          },
          "execution_count": 171
        }
      ]
    },
    {
      "cell_type": "markdown",
      "metadata": {
        "id": "OGHH469RlyTx"
      },
      "source": [
        "Hence we can infer that \"invoice_id\" and \"doc_id\" are duplicate columns"
      ]
    },
    {
      "cell_type": "markdown",
      "metadata": {
        "id": "KtDWHN3QnqC2"
      },
      "source": [
        "'invoce_id' and 'doc_id' are giving the same infomation \n",
        "\n",
        "So new info is derived from either of them \n",
        "\n",
        "So I can drop one of them."
      ]
    },
    {
      "cell_type": "code",
      "metadata": {
        "colab": {
          "base_uri": "https://localhost:8080/",
          "height": 492
        },
        "id": "k9Hh3bcIrcVI",
        "outputId": "48b30380-78db-4f3e-b598-ce78260be8b1"
      },
      "source": [
        "train_data.groupby(\"cust_payment_terms\").count()  #esssential features"
      ],
      "execution_count": null,
      "outputs": [
        {
          "output_type": "execute_result",
          "data": {
            "text/html": [
              "<div>\n",
              "<style scoped>\n",
              "    .dataframe tbody tr th:only-of-type {\n",
              "        vertical-align: middle;\n",
              "    }\n",
              "\n",
              "    .dataframe tbody tr th {\n",
              "        vertical-align: top;\n",
              "    }\n",
              "\n",
              "    .dataframe thead th {\n",
              "        text-align: right;\n",
              "    }\n",
              "</style>\n",
              "<table border=\"1\" class=\"dataframe\">\n",
              "  <thead>\n",
              "    <tr style=\"text-align: right;\">\n",
              "      <th></th>\n",
              "      <th>business_code</th>\n",
              "      <th>cust_number</th>\n",
              "      <th>name_customer</th>\n",
              "      <th>clear_date</th>\n",
              "      <th>buisness_year</th>\n",
              "      <th>doc_id</th>\n",
              "      <th>posting_date</th>\n",
              "      <th>document_create_date</th>\n",
              "      <th>document_create_date.1</th>\n",
              "      <th>due_in_date</th>\n",
              "      <th>invoice_currency</th>\n",
              "      <th>document type</th>\n",
              "      <th>posting_id</th>\n",
              "      <th>total_open_amount</th>\n",
              "      <th>baseline_create_date</th>\n",
              "      <th>invoice_id</th>\n",
              "      <th>isOpen</th>\n",
              "    </tr>\n",
              "    <tr>\n",
              "      <th>cust_payment_terms</th>\n",
              "      <th></th>\n",
              "      <th></th>\n",
              "      <th></th>\n",
              "      <th></th>\n",
              "      <th></th>\n",
              "      <th></th>\n",
              "      <th></th>\n",
              "      <th></th>\n",
              "      <th></th>\n",
              "      <th></th>\n",
              "      <th></th>\n",
              "      <th></th>\n",
              "      <th></th>\n",
              "      <th></th>\n",
              "      <th></th>\n",
              "      <th></th>\n",
              "      <th></th>\n",
              "    </tr>\n",
              "  </thead>\n",
              "  <tbody>\n",
              "    <tr>\n",
              "      <th>90M7</th>\n",
              "      <td>3</td>\n",
              "      <td>3</td>\n",
              "      <td>3</td>\n",
              "      <td>3</td>\n",
              "      <td>3</td>\n",
              "      <td>3</td>\n",
              "      <td>3</td>\n",
              "      <td>3</td>\n",
              "      <td>3</td>\n",
              "      <td>3</td>\n",
              "      <td>3</td>\n",
              "      <td>3</td>\n",
              "      <td>3</td>\n",
              "      <td>3</td>\n",
              "      <td>3</td>\n",
              "      <td>3</td>\n",
              "      <td>3</td>\n",
              "    </tr>\n",
              "    <tr>\n",
              "      <th>B052</th>\n",
              "      <td>4</td>\n",
              "      <td>4</td>\n",
              "      <td>4</td>\n",
              "      <td>4</td>\n",
              "      <td>4</td>\n",
              "      <td>4</td>\n",
              "      <td>4</td>\n",
              "      <td>4</td>\n",
              "      <td>4</td>\n",
              "      <td>4</td>\n",
              "      <td>4</td>\n",
              "      <td>4</td>\n",
              "      <td>4</td>\n",
              "      <td>4</td>\n",
              "      <td>4</td>\n",
              "      <td>4</td>\n",
              "      <td>4</td>\n",
              "    </tr>\n",
              "    <tr>\n",
              "      <th>B112</th>\n",
              "      <td>2</td>\n",
              "      <td>2</td>\n",
              "      <td>2</td>\n",
              "      <td>2</td>\n",
              "      <td>2</td>\n",
              "      <td>2</td>\n",
              "      <td>2</td>\n",
              "      <td>2</td>\n",
              "      <td>2</td>\n",
              "      <td>2</td>\n",
              "      <td>2</td>\n",
              "      <td>2</td>\n",
              "      <td>2</td>\n",
              "      <td>2</td>\n",
              "      <td>2</td>\n",
              "      <td>2</td>\n",
              "      <td>2</td>\n",
              "    </tr>\n",
              "    <tr>\n",
              "      <th>BR12</th>\n",
              "      <td>4</td>\n",
              "      <td>4</td>\n",
              "      <td>4</td>\n",
              "      <td>4</td>\n",
              "      <td>4</td>\n",
              "      <td>4</td>\n",
              "      <td>4</td>\n",
              "      <td>4</td>\n",
              "      <td>4</td>\n",
              "      <td>4</td>\n",
              "      <td>4</td>\n",
              "      <td>4</td>\n",
              "      <td>4</td>\n",
              "      <td>4</td>\n",
              "      <td>4</td>\n",
              "      <td>4</td>\n",
              "      <td>4</td>\n",
              "    </tr>\n",
              "    <tr>\n",
              "      <th>BR56</th>\n",
              "      <td>6</td>\n",
              "      <td>6</td>\n",
              "      <td>6</td>\n",
              "      <td>6</td>\n",
              "      <td>6</td>\n",
              "      <td>6</td>\n",
              "      <td>6</td>\n",
              "      <td>6</td>\n",
              "      <td>6</td>\n",
              "      <td>6</td>\n",
              "      <td>6</td>\n",
              "      <td>6</td>\n",
              "      <td>6</td>\n",
              "      <td>6</td>\n",
              "      <td>6</td>\n",
              "      <td>6</td>\n",
              "      <td>6</td>\n",
              "    </tr>\n",
              "    <tr>\n",
              "      <th>...</th>\n",
              "      <td>...</td>\n",
              "      <td>...</td>\n",
              "      <td>...</td>\n",
              "      <td>...</td>\n",
              "      <td>...</td>\n",
              "      <td>...</td>\n",
              "      <td>...</td>\n",
              "      <td>...</td>\n",
              "      <td>...</td>\n",
              "      <td>...</td>\n",
              "      <td>...</td>\n",
              "      <td>...</td>\n",
              "      <td>...</td>\n",
              "      <td>...</td>\n",
              "      <td>...</td>\n",
              "      <td>...</td>\n",
              "      <td>...</td>\n",
              "    </tr>\n",
              "    <tr>\n",
              "      <th>NAWM</th>\n",
              "      <td>2</td>\n",
              "      <td>2</td>\n",
              "      <td>2</td>\n",
              "      <td>2</td>\n",
              "      <td>2</td>\n",
              "      <td>2</td>\n",
              "      <td>2</td>\n",
              "      <td>2</td>\n",
              "      <td>2</td>\n",
              "      <td>2</td>\n",
              "      <td>2</td>\n",
              "      <td>2</td>\n",
              "      <td>2</td>\n",
              "      <td>2</td>\n",
              "      <td>2</td>\n",
              "      <td>2</td>\n",
              "      <td>2</td>\n",
              "    </tr>\n",
              "    <tr>\n",
              "      <th>NAWN</th>\n",
              "      <td>108</td>\n",
              "      <td>108</td>\n",
              "      <td>108</td>\n",
              "      <td>108</td>\n",
              "      <td>108</td>\n",
              "      <td>108</td>\n",
              "      <td>108</td>\n",
              "      <td>108</td>\n",
              "      <td>108</td>\n",
              "      <td>108</td>\n",
              "      <td>108</td>\n",
              "      <td>108</td>\n",
              "      <td>108</td>\n",
              "      <td>108</td>\n",
              "      <td>108</td>\n",
              "      <td>108</td>\n",
              "      <td>108</td>\n",
              "    </tr>\n",
              "    <tr>\n",
              "      <th>NAWP</th>\n",
              "      <td>68</td>\n",
              "      <td>68</td>\n",
              "      <td>68</td>\n",
              "      <td>68</td>\n",
              "      <td>68</td>\n",
              "      <td>68</td>\n",
              "      <td>68</td>\n",
              "      <td>68</td>\n",
              "      <td>68</td>\n",
              "      <td>68</td>\n",
              "      <td>68</td>\n",
              "      <td>68</td>\n",
              "      <td>68</td>\n",
              "      <td>68</td>\n",
              "      <td>68</td>\n",
              "      <td>68</td>\n",
              "      <td>68</td>\n",
              "    </tr>\n",
              "    <tr>\n",
              "      <th>NAWU</th>\n",
              "      <td>137</td>\n",
              "      <td>137</td>\n",
              "      <td>137</td>\n",
              "      <td>137</td>\n",
              "      <td>137</td>\n",
              "      <td>137</td>\n",
              "      <td>137</td>\n",
              "      <td>137</td>\n",
              "      <td>137</td>\n",
              "      <td>137</td>\n",
              "      <td>137</td>\n",
              "      <td>137</td>\n",
              "      <td>137</td>\n",
              "      <td>137</td>\n",
              "      <td>137</td>\n",
              "      <td>137</td>\n",
              "      <td>137</td>\n",
              "    </tr>\n",
              "    <tr>\n",
              "      <th>NAX2</th>\n",
              "      <td>658</td>\n",
              "      <td>658</td>\n",
              "      <td>658</td>\n",
              "      <td>658</td>\n",
              "      <td>658</td>\n",
              "      <td>658</td>\n",
              "      <td>658</td>\n",
              "      <td>658</td>\n",
              "      <td>658</td>\n",
              "      <td>658</td>\n",
              "      <td>658</td>\n",
              "      <td>658</td>\n",
              "      <td>658</td>\n",
              "      <td>658</td>\n",
              "      <td>658</td>\n",
              "      <td>658</td>\n",
              "      <td>658</td>\n",
              "    </tr>\n",
              "  </tbody>\n",
              "</table>\n",
              "<p>68 rows × 17 columns</p>\n",
              "</div>"
            ],
            "text/plain": [
              "                    business_code  cust_number  ...  invoice_id  isOpen\n",
              "cust_payment_terms                              ...                    \n",
              "90M7                            3            3  ...           3       3\n",
              "B052                            4            4  ...           4       4\n",
              "B112                            2            2  ...           2       2\n",
              "BR12                            4            4  ...           4       4\n",
              "BR56                            6            6  ...           6       6\n",
              "...                           ...          ...  ...         ...     ...\n",
              "NAWM                            2            2  ...           2       2\n",
              "NAWN                          108          108  ...         108     108\n",
              "NAWP                           68           68  ...          68      68\n",
              "NAWU                          137          137  ...         137     137\n",
              "NAX2                          658          658  ...         658     658\n",
              "\n",
              "[68 rows x 17 columns]"
            ]
          },
          "metadata": {
            "tags": []
          },
          "execution_count": 172
        }
      ]
    },
    {
      "cell_type": "markdown",
      "metadata": {
        "id": "vT423DW8r6zw"
      },
      "source": [
        "'isOpen' column is all 0 because this is test data and all invoives \n",
        "are unique.\n",
        "\n",
        "This column also provides no new additional info.\n"
      ]
    },
    {
      "cell_type": "code",
      "metadata": {
        "colab": {
          "base_uri": "https://localhost:8080/"
        },
        "id": "1nmB43F4xOye",
        "outputId": "2ae53ca5-659d-431c-cbb1-44fef43531e2"
      },
      "source": [
        "train_data['posting_id'].unique()"
      ],
      "execution_count": null,
      "outputs": [
        {
          "output_type": "execute_result",
          "data": {
            "text/plain": [
              "array([1.])"
            ]
          },
          "metadata": {
            "tags": []
          },
          "execution_count": 173
        }
      ]
    },
    {
      "cell_type": "markdown",
      "metadata": {
        "id": "PU4aSbFU0rHW"
      },
      "source": [
        "The column posting_id is also an constant column"
      ]
    },
    {
      "cell_type": "code",
      "metadata": {
        "colab": {
          "base_uri": "https://localhost:8080/",
          "height": 478
        },
        "id": "w-lSacUC029K",
        "outputId": "1e050584-4d93-467d-99e7-871e4560c553"
      },
      "source": [
        "train_data.loc[train_data['document_create_date.1']!=train_data['baseline_create_date'],:]"
      ],
      "execution_count": null,
      "outputs": [
        {
          "output_type": "execute_result",
          "data": {
            "text/html": [
              "<div>\n",
              "<style scoped>\n",
              "    .dataframe tbody tr th:only-of-type {\n",
              "        vertical-align: middle;\n",
              "    }\n",
              "\n",
              "    .dataframe tbody tr th {\n",
              "        vertical-align: top;\n",
              "    }\n",
              "\n",
              "    .dataframe thead th {\n",
              "        text-align: right;\n",
              "    }\n",
              "</style>\n",
              "<table border=\"1\" class=\"dataframe\">\n",
              "  <thead>\n",
              "    <tr style=\"text-align: right;\">\n",
              "      <th></th>\n",
              "      <th>business_code</th>\n",
              "      <th>cust_number</th>\n",
              "      <th>name_customer</th>\n",
              "      <th>clear_date</th>\n",
              "      <th>buisness_year</th>\n",
              "      <th>doc_id</th>\n",
              "      <th>posting_date</th>\n",
              "      <th>document_create_date</th>\n",
              "      <th>document_create_date.1</th>\n",
              "      <th>due_in_date</th>\n",
              "      <th>invoice_currency</th>\n",
              "      <th>document type</th>\n",
              "      <th>posting_id</th>\n",
              "      <th>total_open_amount</th>\n",
              "      <th>baseline_create_date</th>\n",
              "      <th>cust_payment_terms</th>\n",
              "      <th>invoice_id</th>\n",
              "      <th>isOpen</th>\n",
              "    </tr>\n",
              "  </thead>\n",
              "  <tbody>\n",
              "    <tr>\n",
              "      <th>24</th>\n",
              "      <td>CA02</td>\n",
              "      <td>0140104475</td>\n",
              "      <td>FOC corp</td>\n",
              "      <td>2019-12-02</td>\n",
              "      <td>2019.0</td>\n",
              "      <td>2.960592e+09</td>\n",
              "      <td>2019-11-07</td>\n",
              "      <td>2019-11-07</td>\n",
              "      <td>2019-11-07</td>\n",
              "      <td>2019-11-25</td>\n",
              "      <td>CAD</td>\n",
              "      <td>RV</td>\n",
              "      <td>1.0</td>\n",
              "      <td>45468.5132</td>\n",
              "      <td>2019-11-15</td>\n",
              "      <td>CA10</td>\n",
              "      <td>2.960592e+09</td>\n",
              "      <td>0</td>\n",
              "    </tr>\n",
              "    <tr>\n",
              "      <th>33</th>\n",
              "      <td>CA02</td>\n",
              "      <td>0140104440</td>\n",
              "      <td>SO us</td>\n",
              "      <td>2019-06-19</td>\n",
              "      <td>2019.0</td>\n",
              "      <td>2.960553e+09</td>\n",
              "      <td>2019-06-03</td>\n",
              "      <td>2019-06-03</td>\n",
              "      <td>2019-06-03</td>\n",
              "      <td>2019-06-14</td>\n",
              "      <td>CAD</td>\n",
              "      <td>RV</td>\n",
              "      <td>1.0</td>\n",
              "      <td>240826.6257</td>\n",
              "      <td>2019-06-04</td>\n",
              "      <td>CA10</td>\n",
              "      <td>2.960553e+09</td>\n",
              "      <td>0</td>\n",
              "    </tr>\n",
              "    <tr>\n",
              "      <th>68</th>\n",
              "      <td>CA02</td>\n",
              "      <td>0140104409</td>\n",
              "      <td>LOB associates</td>\n",
              "      <td>2019-12-20</td>\n",
              "      <td>2019.0</td>\n",
              "      <td>2.960600e+09</td>\n",
              "      <td>2019-12-11</td>\n",
              "      <td>2019-12-11</td>\n",
              "      <td>2019-12-11</td>\n",
              "      <td>2019-12-25</td>\n",
              "      <td>CAD</td>\n",
              "      <td>RV</td>\n",
              "      <td>1.0</td>\n",
              "      <td>71721.7537</td>\n",
              "      <td>2019-12-15</td>\n",
              "      <td>CA10</td>\n",
              "      <td>2.960600e+09</td>\n",
              "      <td>0</td>\n",
              "    </tr>\n",
              "    <tr>\n",
              "      <th>95</th>\n",
              "      <td>CA02</td>\n",
              "      <td>0140104440</td>\n",
              "      <td>SO corporation</td>\n",
              "      <td>2019-02-26</td>\n",
              "      <td>2019.0</td>\n",
              "      <td>2.960525e+09</td>\n",
              "      <td>2019-02-02</td>\n",
              "      <td>2019-02-03</td>\n",
              "      <td>2019-02-02</td>\n",
              "      <td>2019-02-22</td>\n",
              "      <td>CAD</td>\n",
              "      <td>RV</td>\n",
              "      <td>1.0</td>\n",
              "      <td>193255.9699</td>\n",
              "      <td>2019-02-12</td>\n",
              "      <td>CA10</td>\n",
              "      <td>2.960525e+09</td>\n",
              "      <td>0</td>\n",
              "    </tr>\n",
              "    <tr>\n",
              "      <th>117</th>\n",
              "      <td>CA02</td>\n",
              "      <td>0140105847</td>\n",
              "      <td>GORDON F systems</td>\n",
              "      <td>2019-05-13</td>\n",
              "      <td>2019.0</td>\n",
              "      <td>2.960544e+09</td>\n",
              "      <td>2019-04-26</td>\n",
              "      <td>2019-04-26</td>\n",
              "      <td>2019-04-26</td>\n",
              "      <td>2019-05-07</td>\n",
              "      <td>CAD</td>\n",
              "      <td>RV</td>\n",
              "      <td>1.0</td>\n",
              "      <td>2071.3800</td>\n",
              "      <td>2019-04-27</td>\n",
              "      <td>CA10</td>\n",
              "      <td>2.960544e+09</td>\n",
              "      <td>0</td>\n",
              "    </tr>\n",
              "    <tr>\n",
              "      <th>...</th>\n",
              "      <td>...</td>\n",
              "      <td>...</td>\n",
              "      <td>...</td>\n",
              "      <td>...</td>\n",
              "      <td>...</td>\n",
              "      <td>...</td>\n",
              "      <td>...</td>\n",
              "      <td>...</td>\n",
              "      <td>...</td>\n",
              "      <td>...</td>\n",
              "      <td>...</td>\n",
              "      <td>...</td>\n",
              "      <td>...</td>\n",
              "      <td>...</td>\n",
              "      <td>...</td>\n",
              "      <td>...</td>\n",
              "      <td>...</td>\n",
              "      <td>...</td>\n",
              "    </tr>\n",
              "    <tr>\n",
              "      <th>45505</th>\n",
              "      <td>CA02</td>\n",
              "      <td>0140104508</td>\n",
              "      <td>BULK  co</td>\n",
              "      <td>2019-05-31</td>\n",
              "      <td>2019.0</td>\n",
              "      <td>2.960549e+09</td>\n",
              "      <td>2019-05-16</td>\n",
              "      <td>2019-05-16</td>\n",
              "      <td>2019-05-16</td>\n",
              "      <td>2019-05-27</td>\n",
              "      <td>CAD</td>\n",
              "      <td>RV</td>\n",
              "      <td>1.0</td>\n",
              "      <td>6630.5174</td>\n",
              "      <td>2019-05-17</td>\n",
              "      <td>CA10</td>\n",
              "      <td>2.960549e+09</td>\n",
              "      <td>0</td>\n",
              "    </tr>\n",
              "    <tr>\n",
              "      <th>45507</th>\n",
              "      <td>CA02</td>\n",
              "      <td>0140104423</td>\n",
              "      <td>METRO  llc</td>\n",
              "      <td>2019-03-26</td>\n",
              "      <td>2019.0</td>\n",
              "      <td>2.960535e+09</td>\n",
              "      <td>2019-03-14</td>\n",
              "      <td>2019-03-14</td>\n",
              "      <td>2019-03-14</td>\n",
              "      <td>2019-03-25</td>\n",
              "      <td>CAD</td>\n",
              "      <td>RV</td>\n",
              "      <td>1.0</td>\n",
              "      <td>96127.2632</td>\n",
              "      <td>2019-03-15</td>\n",
              "      <td>CA10</td>\n",
              "      <td>2.960535e+09</td>\n",
              "      <td>0</td>\n",
              "    </tr>\n",
              "    <tr>\n",
              "      <th>45516</th>\n",
              "      <td>CA02</td>\n",
              "      <td>0140104440</td>\n",
              "      <td>SO llc</td>\n",
              "      <td>2019-07-05</td>\n",
              "      <td>2019.0</td>\n",
              "      <td>2.960556e+09</td>\n",
              "      <td>2019-06-20</td>\n",
              "      <td>2019-06-20</td>\n",
              "      <td>2019-06-20</td>\n",
              "      <td>2019-07-02</td>\n",
              "      <td>CAD</td>\n",
              "      <td>RV</td>\n",
              "      <td>1.0</td>\n",
              "      <td>9751.1517</td>\n",
              "      <td>2019-06-22</td>\n",
              "      <td>CA10</td>\n",
              "      <td>2.960556e+09</td>\n",
              "      <td>0</td>\n",
              "    </tr>\n",
              "    <tr>\n",
              "      <th>45549</th>\n",
              "      <td>CA02</td>\n",
              "      <td>0140104429</td>\n",
              "      <td>COSTCO corp</td>\n",
              "      <td>2019-08-26</td>\n",
              "      <td>2019.0</td>\n",
              "      <td>2.960573e+09</td>\n",
              "      <td>2019-08-15</td>\n",
              "      <td>2019-08-15</td>\n",
              "      <td>2019-08-15</td>\n",
              "      <td>2019-08-26</td>\n",
              "      <td>CAD</td>\n",
              "      <td>RV</td>\n",
              "      <td>1.0</td>\n",
              "      <td>11451.1053</td>\n",
              "      <td>2019-08-16</td>\n",
              "      <td>CA10</td>\n",
              "      <td>2.960573e+09</td>\n",
              "      <td>0</td>\n",
              "    </tr>\n",
              "    <tr>\n",
              "      <th>45590</th>\n",
              "      <td>CA02</td>\n",
              "      <td>0140105686</td>\n",
              "      <td>SYSC</td>\n",
              "      <td>2019-09-12</td>\n",
              "      <td>2019.0</td>\n",
              "      <td>2.960575e+09</td>\n",
              "      <td>2019-08-23</td>\n",
              "      <td>2019-08-23</td>\n",
              "      <td>2019-08-23</td>\n",
              "      <td>2019-09-08</td>\n",
              "      <td>CAD</td>\n",
              "      <td>RV</td>\n",
              "      <td>1.0</td>\n",
              "      <td>1163.3540</td>\n",
              "      <td>2019-08-29</td>\n",
              "      <td>CA10</td>\n",
              "      <td>2.960575e+09</td>\n",
              "      <td>0</td>\n",
              "    </tr>\n",
              "  </tbody>\n",
              "</table>\n",
              "<p>2966 rows × 18 columns</p>\n",
              "</div>"
            ],
            "text/plain": [
              "      business_code cust_number  ...    invoice_id isOpen\n",
              "24             CA02  0140104475  ...  2.960592e+09      0\n",
              "33             CA02  0140104440  ...  2.960553e+09      0\n",
              "68             CA02  0140104409  ...  2.960600e+09      0\n",
              "95             CA02  0140104440  ...  2.960525e+09      0\n",
              "117            CA02  0140105847  ...  2.960544e+09      0\n",
              "...             ...         ...  ...           ...    ...\n",
              "45505          CA02  0140104508  ...  2.960549e+09      0\n",
              "45507          CA02  0140104423  ...  2.960535e+09      0\n",
              "45516          CA02  0140104440  ...  2.960556e+09      0\n",
              "45549          CA02  0140104429  ...  2.960573e+09      0\n",
              "45590          CA02  0140105686  ...  2.960575e+09      0\n",
              "\n",
              "[2966 rows x 18 columns]"
            ]
          },
          "metadata": {
            "tags": []
          },
          "execution_count": 174
        }
      ]
    },
    {
      "cell_type": "markdown",
      "metadata": {
        "id": "OwgBRadHowJs"
      },
      "source": [
        "These two columns are different namely document_create_date.1 and baseline_create_date"
      ]
    },
    {
      "cell_type": "markdown",
      "metadata": {
        "id": "6Je0arV4wGrf"
      },
      "source": [
        " <#> Target value is the Column named 'due_in_date'\n",
        " \n",
        " <#> Bucket value can be calculated by the following :\n",
        " \n",
        "          'aging_bucket'='clear_date' - 'due_in_date"
      ]
    },
    {
      "cell_type": "code",
      "metadata": {
        "colab": {
          "base_uri": "https://localhost:8080/"
        },
        "id": "F35Q9Pt4nROJ",
        "outputId": "5562af2b-6465-4005-bc30-66f310dafda0"
      },
      "source": [
        "train_data['clear_date']=pd.to_datetime(train_data['clear_date'])\n",
        "train_data.info()"
      ],
      "execution_count": null,
      "outputs": [
        {
          "output_type": "stream",
          "text": [
            "<class 'pandas.core.frame.DataFrame'>\n",
            "Int64Index: 43652 entries, 0 to 45593\n",
            "Data columns (total 18 columns):\n",
            " #   Column                  Non-Null Count  Dtype         \n",
            "---  ------                  --------------  -----         \n",
            " 0   business_code           43652 non-null  object        \n",
            " 1   cust_number             43652 non-null  object        \n",
            " 2   name_customer           43652 non-null  object        \n",
            " 3   clear_date              43652 non-null  datetime64[ns]\n",
            " 4   buisness_year           43652 non-null  float64       \n",
            " 5   doc_id                  43652 non-null  float64       \n",
            " 6   posting_date            43652 non-null  datetime64[ns]\n",
            " 7   document_create_date    43652 non-null  datetime64[ns]\n",
            " 8   document_create_date.1  43652 non-null  datetime64[ns]\n",
            " 9   due_in_date             43652 non-null  datetime64[ns]\n",
            " 10  invoice_currency        43652 non-null  object        \n",
            " 11  document type           43652 non-null  object        \n",
            " 12  posting_id              43652 non-null  float64       \n",
            " 13  total_open_amount       43652 non-null  float64       \n",
            " 14  baseline_create_date    43652 non-null  datetime64[ns]\n",
            " 15  cust_payment_terms      43652 non-null  object        \n",
            " 16  invoice_id              43652 non-null  float64       \n",
            " 17  isOpen                  43652 non-null  int64         \n",
            "dtypes: datetime64[ns](6), float64(5), int64(1), object(6)\n",
            "memory usage: 7.6+ MB\n"
          ],
          "name": "stdout"
        },
        {
          "output_type": "stream",
          "text": [
            "/usr/local/lib/python3.6/dist-packages/ipykernel_launcher.py:1: SettingWithCopyWarning: \n",
            "A value is trying to be set on a copy of a slice from a DataFrame.\n",
            "Try using .loc[row_indexer,col_indexer] = value instead\n",
            "\n",
            "See the caveats in the documentation: https://pandas.pydata.org/pandas-docs/stable/user_guide/indexing.html#returning-a-view-versus-a-copy\n",
            "  \"\"\"Entry point for launching an IPython kernel.\n"
          ],
          "name": "stderr"
        }
      ]
    },
    {
      "cell_type": "code",
      "metadata": {
        "colab": {
          "base_uri": "https://localhost:8080/",
          "height": 580
        },
        "id": "qSr0mL_nxZGh",
        "outputId": "8b2061fd-cb8f-4a6f-e846-bb33340430e6"
      },
      "source": [
        "train_data['due_in_date']=pd.to_datetime(train_data['due_in_date'])\n",
        "#train_data['due_in_date']=train_data['due_in_date'].dt.date\n",
        "train_data['delay']=(train_data['clear_date']-train_data['due_in_date'])\n",
        "\n",
        "train_data['delay']=(train_data['delay']/ np.timedelta64(1, 'D')).astype(int)\n",
        "\n",
        "train_data.tail()"
      ],
      "execution_count": null,
      "outputs": [
        {
          "output_type": "stream",
          "text": [
            "/usr/local/lib/python3.6/dist-packages/ipykernel_launcher.py:1: SettingWithCopyWarning: \n",
            "A value is trying to be set on a copy of a slice from a DataFrame.\n",
            "Try using .loc[row_indexer,col_indexer] = value instead\n",
            "\n",
            "See the caveats in the documentation: https://pandas.pydata.org/pandas-docs/stable/user_guide/indexing.html#returning-a-view-versus-a-copy\n",
            "  \"\"\"Entry point for launching an IPython kernel.\n",
            "/usr/local/lib/python3.6/dist-packages/ipykernel_launcher.py:3: SettingWithCopyWarning: \n",
            "A value is trying to be set on a copy of a slice from a DataFrame.\n",
            "Try using .loc[row_indexer,col_indexer] = value instead\n",
            "\n",
            "See the caveats in the documentation: https://pandas.pydata.org/pandas-docs/stable/user_guide/indexing.html#returning-a-view-versus-a-copy\n",
            "  This is separate from the ipykernel package so we can avoid doing imports until\n",
            "/usr/local/lib/python3.6/dist-packages/ipykernel_launcher.py:5: SettingWithCopyWarning: \n",
            "A value is trying to be set on a copy of a slice from a DataFrame.\n",
            "Try using .loc[row_indexer,col_indexer] = value instead\n",
            "\n",
            "See the caveats in the documentation: https://pandas.pydata.org/pandas-docs/stable/user_guide/indexing.html#returning-a-view-versus-a-copy\n",
            "  \"\"\"\n"
          ],
          "name": "stderr"
        },
        {
          "output_type": "execute_result",
          "data": {
            "text/html": [
              "<div>\n",
              "<style scoped>\n",
              "    .dataframe tbody tr th:only-of-type {\n",
              "        vertical-align: middle;\n",
              "    }\n",
              "\n",
              "    .dataframe tbody tr th {\n",
              "        vertical-align: top;\n",
              "    }\n",
              "\n",
              "    .dataframe thead th {\n",
              "        text-align: right;\n",
              "    }\n",
              "</style>\n",
              "<table border=\"1\" class=\"dataframe\">\n",
              "  <thead>\n",
              "    <tr style=\"text-align: right;\">\n",
              "      <th></th>\n",
              "      <th>business_code</th>\n",
              "      <th>cust_number</th>\n",
              "      <th>name_customer</th>\n",
              "      <th>clear_date</th>\n",
              "      <th>buisness_year</th>\n",
              "      <th>doc_id</th>\n",
              "      <th>posting_date</th>\n",
              "      <th>document_create_date</th>\n",
              "      <th>document_create_date.1</th>\n",
              "      <th>due_in_date</th>\n",
              "      <th>invoice_currency</th>\n",
              "      <th>document type</th>\n",
              "      <th>posting_id</th>\n",
              "      <th>total_open_amount</th>\n",
              "      <th>baseline_create_date</th>\n",
              "      <th>cust_payment_terms</th>\n",
              "      <th>invoice_id</th>\n",
              "      <th>isOpen</th>\n",
              "      <th>delay</th>\n",
              "    </tr>\n",
              "  </thead>\n",
              "  <tbody>\n",
              "    <tr>\n",
              "      <th>45588</th>\n",
              "      <td>U001</td>\n",
              "      <td>0200148860</td>\n",
              "      <td>DOLLA</td>\n",
              "      <td>2019-06-13</td>\n",
              "      <td>2019.0</td>\n",
              "      <td>1.929403e+09</td>\n",
              "      <td>2019-05-29</td>\n",
              "      <td>2019-05-29</td>\n",
              "      <td>2019-05-29</td>\n",
              "      <td>2019-06-13</td>\n",
              "      <td>USD</td>\n",
              "      <td>RV</td>\n",
              "      <td>1.0</td>\n",
              "      <td>75112.040</td>\n",
              "      <td>2019-05-29</td>\n",
              "      <td>NAA8</td>\n",
              "      <td>1.929403e+09</td>\n",
              "      <td>0</td>\n",
              "      <td>0</td>\n",
              "    </tr>\n",
              "    <tr>\n",
              "      <th>45590</th>\n",
              "      <td>CA02</td>\n",
              "      <td>0140105686</td>\n",
              "      <td>SYSC</td>\n",
              "      <td>2019-09-12</td>\n",
              "      <td>2019.0</td>\n",
              "      <td>2.960575e+09</td>\n",
              "      <td>2019-08-23</td>\n",
              "      <td>2019-08-23</td>\n",
              "      <td>2019-08-23</td>\n",
              "      <td>2019-09-08</td>\n",
              "      <td>CAD</td>\n",
              "      <td>RV</td>\n",
              "      <td>1.0</td>\n",
              "      <td>1163.354</td>\n",
              "      <td>2019-08-29</td>\n",
              "      <td>CA10</td>\n",
              "      <td>2.960575e+09</td>\n",
              "      <td>0</td>\n",
              "      <td>4</td>\n",
              "    </tr>\n",
              "    <tr>\n",
              "      <th>45591</th>\n",
              "      <td>U001</td>\n",
              "      <td>200769623</td>\n",
              "      <td>WAL-MAR trust</td>\n",
              "      <td>2019-03-18</td>\n",
              "      <td>2019.0</td>\n",
              "      <td>1.928913e+09</td>\n",
              "      <td>2019-03-06</td>\n",
              "      <td>2019-03-06</td>\n",
              "      <td>2019-03-06</td>\n",
              "      <td>2019-03-21</td>\n",
              "      <td>USD</td>\n",
              "      <td>RV</td>\n",
              "      <td>1.0</td>\n",
              "      <td>2221.500</td>\n",
              "      <td>2019-03-06</td>\n",
              "      <td>NAH4</td>\n",
              "      <td>1.928913e+09</td>\n",
              "      <td>0</td>\n",
              "      <td>-3</td>\n",
              "    </tr>\n",
              "    <tr>\n",
              "      <th>45592</th>\n",
              "      <td>U001</td>\n",
              "      <td>0200726979</td>\n",
              "      <td>BJ'S  co</td>\n",
              "      <td>2020-03-03</td>\n",
              "      <td>2020.0</td>\n",
              "      <td>1.930538e+09</td>\n",
              "      <td>2020-02-17</td>\n",
              "      <td>2020-02-18</td>\n",
              "      <td>2020-02-17</td>\n",
              "      <td>2020-03-03</td>\n",
              "      <td>USD</td>\n",
              "      <td>RV</td>\n",
              "      <td>1.0</td>\n",
              "      <td>331.910</td>\n",
              "      <td>2020-02-17</td>\n",
              "      <td>NAA8</td>\n",
              "      <td>1.930538e+09</td>\n",
              "      <td>0</td>\n",
              "      <td>0</td>\n",
              "    </tr>\n",
              "    <tr>\n",
              "      <th>45593</th>\n",
              "      <td>U001</td>\n",
              "      <td>200739006</td>\n",
              "      <td>AL trust</td>\n",
              "      <td>2019-04-19</td>\n",
              "      <td>2019.0</td>\n",
              "      <td>1.929092e+09</td>\n",
              "      <td>2019-04-06</td>\n",
              "      <td>2019-04-05</td>\n",
              "      <td>2019-04-06</td>\n",
              "      <td>2019-04-21</td>\n",
              "      <td>USD</td>\n",
              "      <td>RV</td>\n",
              "      <td>1.0</td>\n",
              "      <td>16174.950</td>\n",
              "      <td>2019-04-06</td>\n",
              "      <td>NAA8</td>\n",
              "      <td>1.929092e+09</td>\n",
              "      <td>0</td>\n",
              "      <td>-2</td>\n",
              "    </tr>\n",
              "  </tbody>\n",
              "</table>\n",
              "</div>"
            ],
            "text/plain": [
              "      business_code cust_number  name_customer  ...    invoice_id  isOpen  delay\n",
              "45588          U001  0200148860         DOLLA   ...  1.929403e+09       0      0\n",
              "45590          CA02  0140105686          SYSC   ...  2.960575e+09       0      4\n",
              "45591          U001   200769623  WAL-MAR trust  ...  1.928913e+09       0     -3\n",
              "45592          U001  0200726979       BJ'S  co  ...  1.930538e+09       0      0\n",
              "45593          U001   200739006       AL trust  ...  1.929092e+09       0     -2\n",
              "\n",
              "[5 rows x 19 columns]"
            ]
          },
          "metadata": {
            "tags": []
          },
          "execution_count": 176
        }
      ]
    },
    {
      "cell_type": "markdown",
      "metadata": {
        "id": "tICApBxMruPG"
      },
      "source": [
        "# Splitting into Train , Validation_1 and Validation_2"
      ]
    },
    {
      "cell_type": "markdown",
      "metadata": {
        "id": "QWUZ0rTJopCO"
      },
      "source": [
        "Now I am spliting the train data into train : Val 1 :Val 2 = 7:15:15\n"
      ]
    },
    {
      "cell_type": "code",
      "metadata": {
        "colab": {
          "base_uri": "https://localhost:8080/"
        },
        "id": "kBwRoGDKpAdk",
        "outputId": "c6acd791-fbc4-4770-961e-c18d703462e7"
      },
      "source": [
        "len(train_data)"
      ],
      "execution_count": null,
      "outputs": [
        {
          "output_type": "execute_result",
          "data": {
            "text/plain": [
              "43652"
            ]
          },
          "metadata": {
            "tags": []
          },
          "execution_count": 177
        }
      ]
    },
    {
      "cell_type": "code",
      "metadata": {
        "colab": {
          "base_uri": "https://localhost:8080/"
        },
        "id": "ZzIfxIV4pccs",
        "outputId": "3bf48f85-9f64-4c2b-dff5-b2a154ba16c9"
      },
      "source": [
        "final_train_data,val=np.split(train_data,[int(.7*len(train_data))])\n",
        "print(\"Length of final_train_data is \",len(final_train_data),\n",
        "      \"\\n Length of val is \",len(val))"
      ],
      "execution_count": null,
      "outputs": [
        {
          "output_type": "stream",
          "text": [
            "Length of final_train_data is  30556 \n",
            " Length of val is  13096\n"
          ],
          "name": "stdout"
        }
      ]
    },
    {
      "cell_type": "code",
      "metadata": {
        "colab": {
          "base_uri": "https://localhost:8080/"
        },
        "id": "Qcbz75GjsGKD",
        "outputId": "1c52cdf7-f084-49d5-80e2-660b25c9b286"
      },
      "source": [
        "val1,val2=np.split(val,[int(.5*len(val))])\n",
        "print(\"Length of val1 is \",len(val1),\n",
        "      \"\\nLength of val2 is \",len(val2))"
      ],
      "execution_count": null,
      "outputs": [
        {
          "output_type": "stream",
          "text": [
            "Length of val1 is  6548 \n",
            "Length of val2 is  6548\n"
          ],
          "name": "stdout"
        }
      ]
    },
    {
      "cell_type": "code",
      "metadata": {
        "colab": {
          "base_uri": "https://localhost:8080/"
        },
        "id": "JkPCud6XpcKf",
        "outputId": "3caacc82-1df3-4e59-c373-aa0958d99ea9"
      },
      "source": [
        "# Check for missing rows\n",
        "\n",
        "30556+6548*2\n"
      ],
      "execution_count": null,
      "outputs": [
        {
          "output_type": "execute_result",
          "data": {
            "text/plain": [
              "43652"
            ]
          },
          "metadata": {
            "tags": []
          },
          "execution_count": 180
        }
      ]
    },
    {
      "cell_type": "markdown",
      "metadata": {
        "id": "fqoYP0s9s-J6"
      },
      "source": [
        "Hence the data is effectively split witout missing any value"
      ]
    },
    {
      "cell_type": "code",
      "metadata": {
        "id": "8UQDgGtx-ozN",
        "colab": {
          "base_uri": "https://localhost:8080/"
        },
        "outputId": "481ab9d1-abb3-4fa2-99e5-5952ad1ce82a"
      },
      "source": [
        "# Creating Dictionary which will later be used for mapping\n",
        "# This is to be done before splitting into x and y\n",
        "BC_DICT=final_train_data.groupby('business_code')['delay'].mean().to_dict()\n",
        "BC_DICT"
      ],
      "execution_count": null,
      "outputs": [
        {
          "output_type": "execute_result",
          "data": {
            "text/plain": [
              "{'CA02': 6.0990774167669475,\n",
              " 'U001': 0.5291338010250445,\n",
              " 'U002': 6.672727272727273,\n",
              " 'U005': 5.454545454545454,\n",
              " 'U007': 9.5,\n",
              " 'U013': 9.079625292740047}"
            ]
          },
          "metadata": {
            "tags": []
          },
          "execution_count": 181
        }
      ]
    },
    {
      "cell_type": "markdown",
      "metadata": {
        "id": "4McCXYxApcFM"
      },
      "source": [
        "Thus , now the split into train_final,validation-1 and valdation_2 has been done"
      ]
    },
    {
      "cell_type": "markdown",
      "metadata": {
        "id": "cS9qKDT6xgau"
      },
      "source": [
        "Now Splitting the data into X_train and y_train"
      ]
    },
    {
      "cell_type": "code",
      "metadata": {
        "colab": {
          "base_uri": "https://localhost:8080/"
        },
        "id": "7N6SMbUH0ZPz",
        "outputId": "3f77e0c0-338d-44a5-b33b-e640f96a6c9a"
      },
      "source": [
        "X_train = final_train_data.copy()\n",
        "X_train.drop('delay', axis=1, inplace=True)\n",
        "y_train = final_train_data['delay']\n",
        "final_train_data.shape"
      ],
      "execution_count": null,
      "outputs": [
        {
          "output_type": "execute_result",
          "data": {
            "text/plain": [
              "(30556, 19)"
            ]
          },
          "metadata": {
            "tags": []
          },
          "execution_count": 182
        }
      ]
    },
    {
      "cell_type": "code",
      "metadata": {
        "colab": {
          "base_uri": "https://localhost:8080/"
        },
        "id": "0sYSIJ6b0ZNV",
        "outputId": "a6acd992-6d5f-4536-e2e2-4f9f2ac4c44a"
      },
      "source": [
        "X_train.shape"
      ],
      "execution_count": null,
      "outputs": [
        {
          "output_type": "execute_result",
          "data": {
            "text/plain": [
              "(30556, 18)"
            ]
          },
          "metadata": {
            "tags": []
          },
          "execution_count": 183
        }
      ]
    },
    {
      "cell_type": "code",
      "metadata": {
        "colab": {
          "base_uri": "https://localhost:8080/"
        },
        "id": "j_KXlFm20ZKP",
        "outputId": "b56d26a5-8df8-422b-c595-d61f85ef3817"
      },
      "source": [
        "y_train.shape"
      ],
      "execution_count": null,
      "outputs": [
        {
          "output_type": "execute_result",
          "data": {
            "text/plain": [
              "(30556,)"
            ]
          },
          "metadata": {
            "tags": []
          },
          "execution_count": 184
        }
      ]
    },
    {
      "cell_type": "markdown",
      "metadata": {
        "id": "8CRYsFdz0ZHU"
      },
      "source": [
        "Thus,the data is split into X_train and y_train"
      ]
    },
    {
      "cell_type": "code",
      "metadata": {
        "colab": {
          "base_uri": "https://localhost:8080/"
        },
        "id": "Cib5HJcY0ZEj",
        "outputId": "f44cae79-024f-4ac5-e2d8-ba6aefa7036a"
      },
      "source": [
        "y_train.head()"
      ],
      "execution_count": null,
      "outputs": [
        {
          "output_type": "execute_result",
          "data": {
            "text/plain": [
              "0    5\n",
              "1    1\n",
              "2    0\n",
              "3    0\n",
              "4    2\n",
              "Name: delay, dtype: int64"
            ]
          },
          "metadata": {
            "tags": []
          },
          "execution_count": 185
        }
      ]
    },
    {
      "cell_type": "markdown",
      "metadata": {
        "id": "AqGr3Lur7-ZC"
      },
      "source": [
        "# 5.1 Data Visualization and Pattern Analysis"
      ]
    },
    {
      "cell_type": "markdown",
      "metadata": {
        "id": "poSk4meO8PKI"
      },
      "source": [
        "Testing for patterns in data"
      ]
    },
    {
      "cell_type": "markdown",
      "metadata": {
        "id": "EoR05COm8Vgv"
      },
      "source": [
        "Analysis of due_in_date with delay"
      ]
    },
    {
      "cell_type": "code",
      "metadata": {
        "id": "qshLotTQ0Yxc",
        "colab": {
          "base_uri": "https://localhost:8080/"
        },
        "outputId": "dea30ab3-38b1-4e40-de19-e469a7d100ad"
      },
      "source": [
        "\n",
        "days=X_train['due_in_date'].dt.day\n",
        "\n",
        "# Define Day maping function\n",
        "def day_to_bin(day):\n",
        "  if day<=7:\n",
        "    return 1\n",
        "  elif day>7 and day<=14:\n",
        "    return 2\n",
        "  elif day>14 and day<=21:\n",
        "    return 3\n",
        "  else:\n",
        "    return 4\n",
        "\n",
        "day_bins=np.array(days.map(day_to_bin))\n",
        "np.unique(day_bins)"
      ],
      "execution_count": null,
      "outputs": [
        {
          "output_type": "execute_result",
          "data": {
            "text/plain": [
              "array([1, 2, 3, 4])"
            ]
          },
          "metadata": {
            "tags": []
          },
          "execution_count": 186
        }
      ]
    },
    {
      "cell_type": "markdown",
      "metadata": {
        "id": "jLlAOJuLBihQ"
      },
      "source": [
        "Effect of Months on delay:"
      ]
    },
    {
      "cell_type": "code",
      "metadata": {
        "id": "lLPWgCuu0Yr3",
        "colab": {
          "base_uri": "https://localhost:8080/",
          "height": 230
        },
        "outputId": "953f471a-bb5e-40f2-cf45-4372ef334dd5"
      },
      "source": [
        "#Trying monthsas feature\n",
        "due_months=X_train['due_in_date'].dt.month\n",
        "import matplotlib.pyplot as plt\n",
        "fig,ax=plt.subplots(figsize=(7,3))\n",
        "plt.xlabel('months')\n",
        "ax.hist(due_months,bins=[0,1,2,3,4,5,6,7,8,9,10,11,12])\n",
        "plt.show()"
      ],
      "execution_count": null,
      "outputs": [
        {
          "output_type": "display_data",
          "data": {
            "image/png": "[encoded data removed]",
            "text/plain": [
              "<Figure size 504x216 with 1 Axes>"
            ]
          },
          "metadata": {
            "tags": []
          }
        }
      ]
    },
    {
      "cell_type": "markdown",
      "metadata": {
        "id": "FyOd7PY2o2Mb"
      },
      "source": [
        "From here It can be infered that the month in which the client makes payment may be a useful feature as no two months have the same no of due clearence."
      ]
    },
    {
      "cell_type": "markdown",
      "metadata": {
        "id": "S4bx6lZUBpr4"
      },
      "source": [
        "Effect of Amount on delay"
      ]
    },
    {
      "cell_type": "code",
      "metadata": {
        "colab": {
          "base_uri": "https://localhost:8080/",
          "height": 340
        },
        "id": "DljI7-lM0k3W",
        "outputId": "e3ab2ee3-0190-4912-951b-37478a520e75"
      },
      "source": [
        "import seaborn as sns\n",
        "import matplotlib.pyplot as plt\n",
        "plt.figure(figsize=(9,5))\n",
        "plt.xlabel('total_open_amount')\n",
        "plt.ylabel('delay')\n",
        "x=(final_train_data['total_open_amount'])\n",
        "y=final_train_data['delay']\n",
        "plt.scatter(x,y,c=\"blue\")\n",
        "plt.show()"
      ],
      "execution_count": null,
      "outputs": [
        {
          "output_type": "display_data",
          "data": {
            "image/png": "[encoded data removed]",
            "text/plain": [
              "<Figure size 648x360 with 1 Axes>"
            ]
          },
          "metadata": {
            "tags": []
          }
        }
      ]
    },
    {
      "cell_type": "markdown",
      "metadata": {
        "id": "zmgCeuXEqq5A"
      },
      "source": [
        "INFERENCE:\n",
        "\n",
        "Clients with less open_amount tebd to delay more than the ines with hogher total_open_amount"
      ]
    },
    {
      "cell_type": "code",
      "metadata": {
        "colab": {
          "base_uri": "https://localhost:8080/",
          "height": 243
        },
        "id": "T86qV3O7HPrV",
        "outputId": "40031054-6034-4b50-d2ac-2044c3e57666"
      },
      "source": [
        "train_data.tail()"
      ],
      "execution_count": null,
      "outputs": [
        {
          "output_type": "execute_result",
          "data": {
            "text/html": [
              "<div>\n",
              "<style scoped>\n",
              "    .dataframe tbody tr th:only-of-type {\n",
              "        vertical-align: middle;\n",
              "    }\n",
              "\n",
              "    .dataframe tbody tr th {\n",
              "        vertical-align: top;\n",
              "    }\n",
              "\n",
              "    .dataframe thead th {\n",
              "        text-align: right;\n",
              "    }\n",
              "</style>\n",
              "<table border=\"1\" class=\"dataframe\">\n",
              "  <thead>\n",
              "    <tr style=\"text-align: right;\">\n",
              "      <th></th>\n",
              "      <th>business_code</th>\n",
              "      <th>cust_number</th>\n",
              "      <th>name_customer</th>\n",
              "      <th>clear_date</th>\n",
              "      <th>buisness_year</th>\n",
              "      <th>doc_id</th>\n",
              "      <th>posting_date</th>\n",
              "      <th>document_create_date</th>\n",
              "      <th>document_create_date.1</th>\n",
              "      <th>due_in_date</th>\n",
              "      <th>invoice_currency</th>\n",
              "      <th>document type</th>\n",
              "      <th>posting_id</th>\n",
              "      <th>total_open_amount</th>\n",
              "      <th>baseline_create_date</th>\n",
              "      <th>cust_payment_terms</th>\n",
              "      <th>invoice_id</th>\n",
              "      <th>isOpen</th>\n",
              "      <th>delay</th>\n",
              "    </tr>\n",
              "  </thead>\n",
              "  <tbody>\n",
              "    <tr>\n",
              "      <th>45588</th>\n",
              "      <td>U001</td>\n",
              "      <td>0200148860</td>\n",
              "      <td>DOLLA</td>\n",
              "      <td>2019-06-13</td>\n",
              "      <td>2019.0</td>\n",
              "      <td>1.929403e+09</td>\n",
              "      <td>2019-05-29</td>\n",
              "      <td>2019-05-29</td>\n",
              "      <td>2019-05-29</td>\n",
              "      <td>2019-06-13</td>\n",
              "      <td>USD</td>\n",
              "      <td>RV</td>\n",
              "      <td>1.0</td>\n",
              "      <td>75112.040</td>\n",
              "      <td>2019-05-29</td>\n",
              "      <td>NAA8</td>\n",
              "      <td>1.929403e+09</td>\n",
              "      <td>0</td>\n",
              "      <td>0</td>\n",
              "    </tr>\n",
              "    <tr>\n",
              "      <th>45590</th>\n",
              "      <td>CA02</td>\n",
              "      <td>0140105686</td>\n",
              "      <td>SYSC</td>\n",
              "      <td>2019-09-12</td>\n",
              "      <td>2019.0</td>\n",
              "      <td>2.960575e+09</td>\n",
              "      <td>2019-08-23</td>\n",
              "      <td>2019-08-23</td>\n",
              "      <td>2019-08-23</td>\n",
              "      <td>2019-09-08</td>\n",
              "      <td>CAD</td>\n",
              "      <td>RV</td>\n",
              "      <td>1.0</td>\n",
              "      <td>1163.354</td>\n",
              "      <td>2019-08-29</td>\n",
              "      <td>CA10</td>\n",
              "      <td>2.960575e+09</td>\n",
              "      <td>0</td>\n",
              "      <td>4</td>\n",
              "    </tr>\n",
              "    <tr>\n",
              "      <th>45591</th>\n",
              "      <td>U001</td>\n",
              "      <td>200769623</td>\n",
              "      <td>WAL-MAR trust</td>\n",
              "      <td>2019-03-18</td>\n",
              "      <td>2019.0</td>\n",
              "      <td>1.928913e+09</td>\n",
              "      <td>2019-03-06</td>\n",
              "      <td>2019-03-06</td>\n",
              "      <td>2019-03-06</td>\n",
              "      <td>2019-03-21</td>\n",
              "      <td>USD</td>\n",
              "      <td>RV</td>\n",
              "      <td>1.0</td>\n",
              "      <td>2221.500</td>\n",
              "      <td>2019-03-06</td>\n",
              "      <td>NAH4</td>\n",
              "      <td>1.928913e+09</td>\n",
              "      <td>0</td>\n",
              "      <td>-3</td>\n",
              "    </tr>\n",
              "    <tr>\n",
              "      <th>45592</th>\n",
              "      <td>U001</td>\n",
              "      <td>0200726979</td>\n",
              "      <td>BJ'S  co</td>\n",
              "      <td>2020-03-03</td>\n",
              "      <td>2020.0</td>\n",
              "      <td>1.930538e+09</td>\n",
              "      <td>2020-02-17</td>\n",
              "      <td>2020-02-18</td>\n",
              "      <td>2020-02-17</td>\n",
              "      <td>2020-03-03</td>\n",
              "      <td>USD</td>\n",
              "      <td>RV</td>\n",
              "      <td>1.0</td>\n",
              "      <td>331.910</td>\n",
              "      <td>2020-02-17</td>\n",
              "      <td>NAA8</td>\n",
              "      <td>1.930538e+09</td>\n",
              "      <td>0</td>\n",
              "      <td>0</td>\n",
              "    </tr>\n",
              "    <tr>\n",
              "      <th>45593</th>\n",
              "      <td>U001</td>\n",
              "      <td>200739006</td>\n",
              "      <td>AL trust</td>\n",
              "      <td>2019-04-19</td>\n",
              "      <td>2019.0</td>\n",
              "      <td>1.929092e+09</td>\n",
              "      <td>2019-04-06</td>\n",
              "      <td>2019-04-05</td>\n",
              "      <td>2019-04-06</td>\n",
              "      <td>2019-04-21</td>\n",
              "      <td>USD</td>\n",
              "      <td>RV</td>\n",
              "      <td>1.0</td>\n",
              "      <td>16174.950</td>\n",
              "      <td>2019-04-06</td>\n",
              "      <td>NAA8</td>\n",
              "      <td>1.929092e+09</td>\n",
              "      <td>0</td>\n",
              "      <td>-2</td>\n",
              "    </tr>\n",
              "  </tbody>\n",
              "</table>\n",
              "</div>"
            ],
            "text/plain": [
              "      business_code cust_number  name_customer  ...    invoice_id  isOpen  delay\n",
              "45588          U001  0200148860         DOLLA   ...  1.929403e+09       0      0\n",
              "45590          CA02  0140105686          SYSC   ...  2.960575e+09       0      4\n",
              "45591          U001   200769623  WAL-MAR trust  ...  1.928913e+09       0     -3\n",
              "45592          U001  0200726979       BJ'S  co  ...  1.930538e+09       0      0\n",
              "45593          U001   200739006       AL trust  ...  1.929092e+09       0     -2\n",
              "\n",
              "[5 rows x 19 columns]"
            ]
          },
          "metadata": {
            "tags": []
          },
          "execution_count": 189
        }
      ]
    },
    {
      "cell_type": "code",
      "metadata": {
        "colab": {
          "base_uri": "https://localhost:8080/"
        },
        "id": "FuUOZtOm1vTA",
        "outputId": "7a754dd6-432e-4707-de62-15c93e5a8708"
      },
      "source": [
        "train_data.info()"
      ],
      "execution_count": null,
      "outputs": [
        {
          "output_type": "stream",
          "text": [
            "<class 'pandas.core.frame.DataFrame'>\n",
            "Int64Index: 43652 entries, 0 to 45593\n",
            "Data columns (total 19 columns):\n",
            " #   Column                  Non-Null Count  Dtype         \n",
            "---  ------                  --------------  -----         \n",
            " 0   business_code           43652 non-null  object        \n",
            " 1   cust_number             43652 non-null  object        \n",
            " 2   name_customer           43652 non-null  object        \n",
            " 3   clear_date              43652 non-null  datetime64[ns]\n",
            " 4   buisness_year           43652 non-null  float64       \n",
            " 5   doc_id                  43652 non-null  float64       \n",
            " 6   posting_date            43652 non-null  datetime64[ns]\n",
            " 7   document_create_date    43652 non-null  datetime64[ns]\n",
            " 8   document_create_date.1  43652 non-null  datetime64[ns]\n",
            " 9   due_in_date             43652 non-null  datetime64[ns]\n",
            " 10  invoice_currency        43652 non-null  object        \n",
            " 11  document type           43652 non-null  object        \n",
            " 12  posting_id              43652 non-null  float64       \n",
            " 13  total_open_amount       43652 non-null  float64       \n",
            " 14  baseline_create_date    43652 non-null  datetime64[ns]\n",
            " 15  cust_payment_terms      43652 non-null  object        \n",
            " 16  invoice_id              43652 non-null  float64       \n",
            " 17  isOpen                  43652 non-null  int64         \n",
            " 18  delay                   43652 non-null  int64         \n",
            "dtypes: datetime64[ns](6), float64(5), int64(2), object(6)\n",
            "memory usage: 7.9+ MB\n"
          ],
          "name": "stdout"
        }
      ]
    },
    {
      "cell_type": "markdown",
      "metadata": {
        "id": "dsph3hqByBG_"
      },
      "source": [
        "Examining the distribution of total_open_amount"
      ]
    },
    {
      "cell_type": "code",
      "metadata": {
        "colab": {
          "base_uri": "https://localhost:8080/",
          "height": 361
        },
        "id": "N2rsRqtTyJvB",
        "outputId": "87a1cef8-2177-4e9c-a8f1-0430d837ac64"
      },
      "source": [
        "import seaborn as sns\n",
        "sns.distplot(a=X_train['total_open_amount'], kde=False)"
      ],
      "execution_count": null,
      "outputs": [
        {
          "output_type": "stream",
          "text": [
            "/usr/local/lib/python3.6/dist-packages/seaborn/distributions.py:2557: FutureWarning: `distplot` is a deprecated function and will be removed in a future version. Please adapt your code to use either `displot` (a figure-level function with similar flexibility) or `histplot` (an axes-level function for histograms).\n",
            "  warnings.warn(msg, FutureWarning)\n"
          ],
          "name": "stderr"
        },
        {
          "output_type": "execute_result",
          "data": {
            "text/plain": [
              "<matplotlib.axes._subplots.AxesSubplot at 0x7f865463deb8>"
            ]
          },
          "metadata": {
            "tags": []
          },
          "execution_count": 191
        },
        {
          "output_type": "display_data",
          "data": {
            "image/png": "[encoded data removed]",
            "text/plain": [
              "<Figure size 432x288 with 1 Axes>"
            ]
          },
          "metadata": {
            "tags": []
          }
        }
      ]
    },
    {
      "cell_type": "markdown",
      "metadata": {
        "id": "RTwm6TgAyM_P"
      },
      "source": [
        "The distribution is right skewed as seen from graph\n",
        "\n",
        "I will later use log transform to make it as close to a normal distribution as follows"
      ]
    },
    {
      "cell_type": "markdown",
      "metadata": {
        "id": "8uJsiRpwBuHw"
      },
      "source": [
        "Range of Delay"
      ]
    },
    {
      "cell_type": "code",
      "metadata": {
        "colab": {
          "base_uri": "https://localhost:8080/"
        },
        "id": "oNc3R_fAF0NW",
        "outputId": "01d04729-4cc7-485e-8b89-f8f8cb9a84f4"
      },
      "source": [
        "# RAnge of Delay\n",
        "range=np.ptp(train_data['delay'])\n",
        "range"
      ],
      "execution_count": null,
      "outputs": [
        {
          "output_type": "execute_result",
          "data": {
            "text/plain": [
              "350"
            ]
          },
          "metadata": {
            "tags": []
          },
          "execution_count": 192
        }
      ]
    },
    {
      "cell_type": "code",
      "metadata": {
        "colab": {
          "base_uri": "https://localhost:8080/"
        },
        "id": "sHPsOne5HRX-",
        "outputId": "384fb2b4-db9d-4869-a3ac-5403c25d9b77"
      },
      "source": [
        "train_data['delay'].std()"
      ],
      "execution_count": null,
      "outputs": [
        {
          "output_type": "execute_result",
          "data": {
            "text/plain": [
              "10.698680669988184"
            ]
          },
          "metadata": {
            "tags": []
          },
          "execution_count": 193
        }
      ]
    },
    {
      "cell_type": "code",
      "metadata": {
        "colab": {
          "base_uri": "https://localhost:8080/"
        },
        "id": "nBpQpcM3ei7K",
        "outputId": "b38c2655-991f-4b94-ed96-681bc2bd1179"
      },
      "source": [
        "train_data['delay'].mean()/365\n"
      ],
      "execution_count": null,
      "outputs": [
        {
          "output_type": "execute_result",
          "data": {
            "text/plain": [
              "0.0029677436361559483"
            ]
          },
          "metadata": {
            "tags": []
          },
          "execution_count": 194
        }
      ]
    },
    {
      "cell_type": "markdown",
      "metadata": {
        "id": "hnLitRseB38J"
      },
      "source": [
        "Effect of business year on Delay"
      ]
    },
    {
      "cell_type": "code",
      "metadata": {
        "colab": {
          "base_uri": "https://localhost:8080/",
          "height": 413
        },
        "id": "3X-g35s4r-6s",
        "outputId": "24d2762d-69f7-4a25-c3ea-283a2833298c"
      },
      "source": [
        "import numpy as np\n",
        "import matplotlib.pyplot as plt\n",
        "\n",
        "x=train_data.loc[:100,'buisness_year']\n",
        "y=train_data.loc[:100,'delay']\n",
        "fig, ax = plt.subplots(figsize=(9,6))\n",
        "plt.xlabel('buisness_year')\n",
        "plt.ylabel('delay')\n",
        "plt.scatter(x,y)"
      ],
      "execution_count": null,
      "outputs": [
        {
          "output_type": "execute_result",
          "data": {
            "text/plain": [
              "<matplotlib.collections.PathCollection at 0x7f8672a95ac8>"
            ]
          },
          "metadata": {
            "tags": []
          },
          "execution_count": 195
        },
        {
          "output_type": "display_data",
          "data": {
            "image/png": "[encoded data removed]",
            "text/plain": [
              "<Figure size 648x432 with 1 Axes>"
            ]
          },
          "metadata": {
            "tags": []
          }
        }
      ]
    },
    {
      "cell_type": "code",
      "metadata": {
        "colab": {
          "base_uri": "https://localhost:8080/",
          "height": 143
        },
        "id": "K-Am50oryydL",
        "outputId": "11b46b11-d352-4ae1-fdcb-4093531a5911"
      },
      "source": [
        "train_data.groupby('buisness_year').sum()"
      ],
      "execution_count": null,
      "outputs": [
        {
          "output_type": "execute_result",
          "data": {
            "text/html": [
              "<div>\n",
              "<style scoped>\n",
              "    .dataframe tbody tr th:only-of-type {\n",
              "        vertical-align: middle;\n",
              "    }\n",
              "\n",
              "    .dataframe tbody tr th {\n",
              "        vertical-align: top;\n",
              "    }\n",
              "\n",
              "    .dataframe thead th {\n",
              "        text-align: right;\n",
              "    }\n",
              "</style>\n",
              "<table border=\"1\" class=\"dataframe\">\n",
              "  <thead>\n",
              "    <tr style=\"text-align: right;\">\n",
              "      <th></th>\n",
              "      <th>doc_id</th>\n",
              "      <th>posting_id</th>\n",
              "      <th>total_open_amount</th>\n",
              "      <th>invoice_id</th>\n",
              "      <th>isOpen</th>\n",
              "      <th>delay</th>\n",
              "    </tr>\n",
              "    <tr>\n",
              "      <th>buisness_year</th>\n",
              "      <th></th>\n",
              "      <th></th>\n",
              "      <th></th>\n",
              "      <th></th>\n",
              "      <th></th>\n",
              "      <th></th>\n",
              "    </tr>\n",
              "  </thead>\n",
              "  <tbody>\n",
              "    <tr>\n",
              "      <th>2019.0</th>\n",
              "      <td>7.662833e+13</td>\n",
              "      <td>38021.0</td>\n",
              "      <td>1.232645e+09</td>\n",
              "      <td>7.662833e+13</td>\n",
              "      <td>0</td>\n",
              "      <td>42747</td>\n",
              "    </tr>\n",
              "    <tr>\n",
              "      <th>2020.0</th>\n",
              "      <td>1.129146e+13</td>\n",
              "      <td>5631.0</td>\n",
              "      <td>1.773727e+08</td>\n",
              "      <td>1.129146e+13</td>\n",
              "      <td>0</td>\n",
              "      <td>4538</td>\n",
              "    </tr>\n",
              "  </tbody>\n",
              "</table>\n",
              "</div>"
            ],
            "text/plain": [
              "                     doc_id  posting_id  ...  isOpen  delay\n",
              "buisness_year                            ...               \n",
              "2019.0         7.662833e+13     38021.0  ...       0  42747\n",
              "2020.0         1.129146e+13      5631.0  ...       0   4538\n",
              "\n",
              "[2 rows x 6 columns]"
            ]
          },
          "metadata": {
            "tags": []
          },
          "execution_count": 196
        }
      ]
    },
    {
      "cell_type": "code",
      "metadata": {
        "colab": {
          "base_uri": "https://localhost:8080/",
          "height": 355
        },
        "id": "b-oGtOWby75K",
        "outputId": "7eef88f1-8a95-439e-ffef-336ff1e761a2"
      },
      "source": [
        "# Scaling total_open_amount by a factor of 1000\n",
        "train_data['total_amount_by_1000']=train_data['total_open_amount']/1000\n",
        "train_data.tail()"
      ],
      "execution_count": null,
      "outputs": [
        {
          "output_type": "stream",
          "text": [
            "/usr/local/lib/python3.6/dist-packages/ipykernel_launcher.py:2: SettingWithCopyWarning: \n",
            "A value is trying to be set on a copy of a slice from a DataFrame.\n",
            "Try using .loc[row_indexer,col_indexer] = value instead\n",
            "\n",
            "See the caveats in the documentation: https://pandas.pydata.org/pandas-docs/stable/user_guide/indexing.html#returning-a-view-versus-a-copy\n",
            "  \n"
          ],
          "name": "stderr"
        },
        {
          "output_type": "execute_result",
          "data": {
            "text/html": [
              "<div>\n",
              "<style scoped>\n",
              "    .dataframe tbody tr th:only-of-type {\n",
              "        vertical-align: middle;\n",
              "    }\n",
              "\n",
              "    .dataframe tbody tr th {\n",
              "        vertical-align: top;\n",
              "    }\n",
              "\n",
              "    .dataframe thead th {\n",
              "        text-align: right;\n",
              "    }\n",
              "</style>\n",
              "<table border=\"1\" class=\"dataframe\">\n",
              "  <thead>\n",
              "    <tr style=\"text-align: right;\">\n",
              "      <th></th>\n",
              "      <th>business_code</th>\n",
              "      <th>cust_number</th>\n",
              "      <th>name_customer</th>\n",
              "      <th>clear_date</th>\n",
              "      <th>buisness_year</th>\n",
              "      <th>doc_id</th>\n",
              "      <th>posting_date</th>\n",
              "      <th>document_create_date</th>\n",
              "      <th>document_create_date.1</th>\n",
              "      <th>due_in_date</th>\n",
              "      <th>invoice_currency</th>\n",
              "      <th>document type</th>\n",
              "      <th>posting_id</th>\n",
              "      <th>total_open_amount</th>\n",
              "      <th>baseline_create_date</th>\n",
              "      <th>cust_payment_terms</th>\n",
              "      <th>invoice_id</th>\n",
              "      <th>isOpen</th>\n",
              "      <th>delay</th>\n",
              "      <th>total_amount_by_1000</th>\n",
              "    </tr>\n",
              "  </thead>\n",
              "  <tbody>\n",
              "    <tr>\n",
              "      <th>45588</th>\n",
              "      <td>U001</td>\n",
              "      <td>0200148860</td>\n",
              "      <td>DOLLA</td>\n",
              "      <td>2019-06-13</td>\n",
              "      <td>2019.0</td>\n",
              "      <td>1.929403e+09</td>\n",
              "      <td>2019-05-29</td>\n",
              "      <td>2019-05-29</td>\n",
              "      <td>2019-05-29</td>\n",
              "      <td>2019-06-13</td>\n",
              "      <td>USD</td>\n",
              "      <td>RV</td>\n",
              "      <td>1.0</td>\n",
              "      <td>75112.040</td>\n",
              "      <td>2019-05-29</td>\n",
              "      <td>NAA8</td>\n",
              "      <td>1.929403e+09</td>\n",
              "      <td>0</td>\n",
              "      <td>0</td>\n",
              "      <td>75.112040</td>\n",
              "    </tr>\n",
              "    <tr>\n",
              "      <th>45590</th>\n",
              "      <td>CA02</td>\n",
              "      <td>0140105686</td>\n",
              "      <td>SYSC</td>\n",
              "      <td>2019-09-12</td>\n",
              "      <td>2019.0</td>\n",
              "      <td>2.960575e+09</td>\n",
              "      <td>2019-08-23</td>\n",
              "      <td>2019-08-23</td>\n",
              "      <td>2019-08-23</td>\n",
              "      <td>2019-09-08</td>\n",
              "      <td>CAD</td>\n",
              "      <td>RV</td>\n",
              "      <td>1.0</td>\n",
              "      <td>1163.354</td>\n",
              "      <td>2019-08-29</td>\n",
              "      <td>CA10</td>\n",
              "      <td>2.960575e+09</td>\n",
              "      <td>0</td>\n",
              "      <td>4</td>\n",
              "      <td>1.163354</td>\n",
              "    </tr>\n",
              "    <tr>\n",
              "      <th>45591</th>\n",
              "      <td>U001</td>\n",
              "      <td>200769623</td>\n",
              "      <td>WAL-MAR trust</td>\n",
              "      <td>2019-03-18</td>\n",
              "      <td>2019.0</td>\n",
              "      <td>1.928913e+09</td>\n",
              "      <td>2019-03-06</td>\n",
              "      <td>2019-03-06</td>\n",
              "      <td>2019-03-06</td>\n",
              "      <td>2019-03-21</td>\n",
              "      <td>USD</td>\n",
              "      <td>RV</td>\n",
              "      <td>1.0</td>\n",
              "      <td>2221.500</td>\n",
              "      <td>2019-03-06</td>\n",
              "      <td>NAH4</td>\n",
              "      <td>1.928913e+09</td>\n",
              "      <td>0</td>\n",
              "      <td>-3</td>\n",
              "      <td>2.221500</td>\n",
              "    </tr>\n",
              "    <tr>\n",
              "      <th>45592</th>\n",
              "      <td>U001</td>\n",
              "      <td>0200726979</td>\n",
              "      <td>BJ'S  co</td>\n",
              "      <td>2020-03-03</td>\n",
              "      <td>2020.0</td>\n",
              "      <td>1.930538e+09</td>\n",
              "      <td>2020-02-17</td>\n",
              "      <td>2020-02-18</td>\n",
              "      <td>2020-02-17</td>\n",
              "      <td>2020-03-03</td>\n",
              "      <td>USD</td>\n",
              "      <td>RV</td>\n",
              "      <td>1.0</td>\n",
              "      <td>331.910</td>\n",
              "      <td>2020-02-17</td>\n",
              "      <td>NAA8</td>\n",
              "      <td>1.930538e+09</td>\n",
              "      <td>0</td>\n",
              "      <td>0</td>\n",
              "      <td>0.331910</td>\n",
              "    </tr>\n",
              "    <tr>\n",
              "      <th>45593</th>\n",
              "      <td>U001</td>\n",
              "      <td>200739006</td>\n",
              "      <td>AL trust</td>\n",
              "      <td>2019-04-19</td>\n",
              "      <td>2019.0</td>\n",
              "      <td>1.929092e+09</td>\n",
              "      <td>2019-04-06</td>\n",
              "      <td>2019-04-05</td>\n",
              "      <td>2019-04-06</td>\n",
              "      <td>2019-04-21</td>\n",
              "      <td>USD</td>\n",
              "      <td>RV</td>\n",
              "      <td>1.0</td>\n",
              "      <td>16174.950</td>\n",
              "      <td>2019-04-06</td>\n",
              "      <td>NAA8</td>\n",
              "      <td>1.929092e+09</td>\n",
              "      <td>0</td>\n",
              "      <td>-2</td>\n",
              "      <td>16.174950</td>\n",
              "    </tr>\n",
              "  </tbody>\n",
              "</table>\n",
              "</div>"
            ],
            "text/plain": [
              "      business_code cust_number  ... delay total_amount_by_1000\n",
              "45588          U001  0200148860  ...     0            75.112040\n",
              "45590          CA02  0140105686  ...     4             1.163354\n",
              "45591          U001   200769623  ...    -3             2.221500\n",
              "45592          U001  0200726979  ...     0             0.331910\n",
              "45593          U001   200739006  ...    -2            16.174950\n",
              "\n",
              "[5 rows x 20 columns]"
            ]
          },
          "metadata": {
            "tags": []
          },
          "execution_count": 197
        }
      ]
    },
    {
      "cell_type": "markdown",
      "metadata": {
        "id": "OPT4etpIr0n7"
      },
      "source": [
        "A Plot between cust_number and total_amount"
      ]
    },
    {
      "cell_type": "code",
      "metadata": {
        "colab": {
          "base_uri": "https://localhost:8080/",
          "height": 286
        },
        "id": "5eEhpIDp1bWR",
        "outputId": "202c9256-9d55-4311-9c34-0012873b4de9"
      },
      "source": [
        "import matplotlib.pyplot as plt\n",
        "plt.scatter(train_data.loc[:,'cust_number'],train_data.loc[:,'total_amount_by_1000'])\n",
        "plt.xlabel('cust_number')\n",
        "plt.ylabel('total_amount')\n",
        "plt.show()"
      ],
      "execution_count": null,
      "outputs": [
        {
          "output_type": "display_data",
          "data": {
            "image/png": "[encoded data removed]",
            "text/plain": [
              "<Figure size 432x288 with 1 Axes>"
            ]
          },
          "metadata": {
            "tags": []
          }
        }
      ]
    },
    {
      "cell_type": "markdown",
      "metadata": {
        "id": "Eq5riEbsCOFi"
      },
      "source": [
        "Effect of Customer Payment Terms on Delay"
      ]
    },
    {
      "cell_type": "code",
      "metadata": {
        "colab": {
          "base_uri": "https://localhost:8080/"
        },
        "id": "OqJykPVb2FM7",
        "outputId": "fb8112f2-37f5-4992-f77b-3a6f9f8a0646"
      },
      "source": [
        "# Types of terms in data\n",
        "terms=train_data.cust_payment_terms.unique()\n",
        "terms"
      ],
      "execution_count": null,
      "outputs": [
        {
          "output_type": "execute_result",
          "data": {
            "text/plain": [
              "array(['NAA8', 'NAH4', 'NA32', 'NAAX', 'NAU5', 'NAVR', 'NAG2', 'CA10',\n",
              "       'NA10', 'NAGD', 'NAAW', 'NAC6', 'NA3F', 'NAD1', 'NAD5', 'NAX2',\n",
              "       'NAWN', 'NAVF', 'NAVD', 'NAVE', 'NATK', 'NAUZ', 'NAWP', 'BR56',\n",
              "       'NA3B', 'NA38', 'NA84', 'NAVL', 'NAWU', 'NACB', 'NAVQ', 'NAB1',\n",
              "       'NATL', 'NAD4', 'NAVM', 'NABG', 'NA9X', 'CA30', 'NA25', 'C106',\n",
              "       'NA31', 'B112', 'CAB1', 'NATX', 'NATJ', 'NA8Q', 'NAD8', 'NATM',\n",
              "       'NAUW', 'B052', '90M7', 'NAV2', 'NATV', 'NATU', 'NAV9', 'NAWK',\n",
              "       'NAUP', 'BR12', 'NATZ', 'NATH', 'NATY', 'NAUI', 'NAUN', 'NAM2',\n",
              "       'NAUX', 'NAVC', 'MC15', 'NAWM'], dtype=object)"
            ]
          },
          "metadata": {
            "tags": []
          },
          "execution_count": 199
        }
      ]
    },
    {
      "cell_type": "code",
      "metadata": {
        "colab": {
          "base_uri": "https://localhost:8080/",
          "height": 394
        },
        "id": "1Mmsfbg4ckeD",
        "outputId": "c630e193-b2bc-4e02-d334-6ee886f061bc"
      },
      "source": [
        "# Visual Plot\n",
        "df=pd.DataFrame(train_data.groupby('cust_payment_terms')['total_amount_by_1000'].mean()).reset_index()\n",
        "import matplotlib.pyplot as plt\n",
        "fig, ax = plt.subplots(figsize=(9,6))\n",
        "plt.xlabel('cust_payment_terms')\n",
        "plt.ylabel('total_amount(scaled)')\n",
        "ax.plot(df['cust_payment_terms'],df['total_amount_by_1000'])\n",
        "fig.show()\n",
        "\n"
      ],
      "execution_count": null,
      "outputs": [
        {
          "output_type": "display_data",
          "data": {
            "image/png": "[encoded data removed]",
            "text/plain": [
              "<Figure size 648x432 with 1 Axes>"
            ]
          },
          "metadata": {
            "tags": []
          }
        }
      ]
    },
    {
      "cell_type": "markdown",
      "metadata": {
        "id": "WmMM5QK5GKsa"
      },
      "source": [
        "Information given by this is not sufficient so moving on to bar-plot"
      ]
    },
    {
      "cell_type": "code",
      "metadata": {
        "colab": {
          "base_uri": "https://localhost:8080/",
          "height": 590
        },
        "id": "VdnO_84qU_dc",
        "outputId": "4d5eff7e-ed3e-4969-f851-50814fbb8098"
      },
      "source": [
        "# Plotting bar-plot using seaborn\n",
        "sns.set(style=\"whitegrid\")\n",
        "fig=plt.figure(figsize=(30,20))\n",
        "terms=train_data.groupby('cust_payment_terms')['delay'].sum()\n",
        "sns.barplot(y=terms.index,x=terms)"
      ],
      "execution_count": null,
      "outputs": [
        {
          "output_type": "execute_result",
          "data": {
            "text/plain": [
              "<matplotlib.axes._subplots.AxesSubplot at 0x7f8651ac5390>"
            ]
          },
          "metadata": {
            "tags": []
          },
          "execution_count": 201
        },
        {
          "output_type": "display_data",
          "data": {
            "image/png": "[encoded data removed]",
            "text/plain": [
              "<Figure size 2160x1440 with 1 Axes>"
            ]
          },
          "metadata": {
            "tags": []
          }
        }
      ]
    },
    {
      "cell_type": "markdown",
      "metadata": {
        "id": "7H4WxiriFXqW"
      },
      "source": [
        "The above plot shows customer_payment_terms is an essential factor for delay"
      ]
    },
    {
      "cell_type": "markdown",
      "metadata": {
        "id": "WejxcpHHYefI"
      },
      "source": [
        "Hence confirmed that customer payment terms is an Nominal Column"
      ]
    },
    {
      "cell_type": "markdown",
      "metadata": {
        "id": "hOfKnkziGAso"
      },
      "source": [
        "# 6.1 Encoding"
      ]
    },
    {
      "cell_type": "markdown",
      "metadata": {
        "id": "YjHpmgFGZ0Lg"
      },
      "source": [
        "Now doing One Hot encoding for Customer Payment Terms"
      ]
    },
    {
      "cell_type": "markdown",
      "metadata": {
        "id": "iBBD4GWdlbYB"
      },
      "source": [
        "Sadly One hot encoding did not work , It created 68 columns\n",
        "\n",
        "Now moving On to Target Encoding"
      ]
    },
    {
      "cell_type": "code",
      "metadata": {
        "colab": {
          "base_uri": "https://localhost:8080/",
          "height": 295
        },
        "id": "cdrGJuMp2jkv",
        "outputId": "691d4597-d886-4d23-db5a-cbf20e9aaf1b"
      },
      "source": [
        "# Creating a new column that is Invoice Currency code range(0,1)\n",
        "\n",
        "X_train['inv_curr_code']=np.where(X_train.invoice_currency=='CAD',0,1)\n",
        "X_train.loc[X_train.invoice_currency=='CAD',:]\n",
        "\n",
        "# Now we can drop the column invoice_currency column\n",
        "X_train.drop('invoice_currency',axis=1,inplace=True)\n",
        "X_train.head()\n"
      ],
      "execution_count": null,
      "outputs": [
        {
          "output_type": "execute_result",
          "data": {
            "text/html": [
              "<div>\n",
              "<style scoped>\n",
              "    .dataframe tbody tr th:only-of-type {\n",
              "        vertical-align: middle;\n",
              "    }\n",
              "\n",
              "    .dataframe tbody tr th {\n",
              "        vertical-align: top;\n",
              "    }\n",
              "\n",
              "    .dataframe thead th {\n",
              "        text-align: right;\n",
              "    }\n",
              "</style>\n",
              "<table border=\"1\" class=\"dataframe\">\n",
              "  <thead>\n",
              "    <tr style=\"text-align: right;\">\n",
              "      <th></th>\n",
              "      <th>business_code</th>\n",
              "      <th>cust_number</th>\n",
              "      <th>name_customer</th>\n",
              "      <th>clear_date</th>\n",
              "      <th>buisness_year</th>\n",
              "      <th>doc_id</th>\n",
              "      <th>posting_date</th>\n",
              "      <th>document_create_date</th>\n",
              "      <th>document_create_date.1</th>\n",
              "      <th>due_in_date</th>\n",
              "      <th>document type</th>\n",
              "      <th>posting_id</th>\n",
              "      <th>total_open_amount</th>\n",
              "      <th>baseline_create_date</th>\n",
              "      <th>cust_payment_terms</th>\n",
              "      <th>invoice_id</th>\n",
              "      <th>isOpen</th>\n",
              "      <th>inv_curr_code</th>\n",
              "    </tr>\n",
              "  </thead>\n",
              "  <tbody>\n",
              "    <tr>\n",
              "      <th>0</th>\n",
              "      <td>U001</td>\n",
              "      <td>0200782001</td>\n",
              "      <td>GORDO in</td>\n",
              "      <td>2019-03-12</td>\n",
              "      <td>2019.0</td>\n",
              "      <td>1.928829e+09</td>\n",
              "      <td>2019-02-20</td>\n",
              "      <td>2019-02-20</td>\n",
              "      <td>2019-02-20</td>\n",
              "      <td>2019-03-07</td>\n",
              "      <td>RV</td>\n",
              "      <td>1.0</td>\n",
              "      <td>35308.72</td>\n",
              "      <td>2019-02-20</td>\n",
              "      <td>NAA8</td>\n",
              "      <td>1.928829e+09</td>\n",
              "      <td>0</td>\n",
              "      <td>1</td>\n",
              "    </tr>\n",
              "    <tr>\n",
              "      <th>1</th>\n",
              "      <td>U001</td>\n",
              "      <td>0200769623</td>\n",
              "      <td>WAL-MAR corporation</td>\n",
              "      <td>2019-04-23</td>\n",
              "      <td>2019.0</td>\n",
              "      <td>1.929092e+09</td>\n",
              "      <td>2019-04-07</td>\n",
              "      <td>2019-04-05</td>\n",
              "      <td>2019-04-07</td>\n",
              "      <td>2019-04-22</td>\n",
              "      <td>RV</td>\n",
              "      <td>1.0</td>\n",
              "      <td>27641.22</td>\n",
              "      <td>2019-04-07</td>\n",
              "      <td>NAH4</td>\n",
              "      <td>1.929092e+09</td>\n",
              "      <td>0</td>\n",
              "      <td>1</td>\n",
              "    </tr>\n",
              "    <tr>\n",
              "      <th>2</th>\n",
              "      <td>U001</td>\n",
              "      <td>0200780849</td>\n",
              "      <td>LAUREL llc</td>\n",
              "      <td>2019-02-13</td>\n",
              "      <td>2019.0</td>\n",
              "      <td>1.928707e+09</td>\n",
              "      <td>2019-01-29</td>\n",
              "      <td>2019-01-29</td>\n",
              "      <td>2019-01-29</td>\n",
              "      <td>2019-02-13</td>\n",
              "      <td>RV</td>\n",
              "      <td>1.0</td>\n",
              "      <td>22092.83</td>\n",
              "      <td>2019-01-29</td>\n",
              "      <td>NAA8</td>\n",
              "      <td>1.928707e+09</td>\n",
              "      <td>0</td>\n",
              "      <td>1</td>\n",
              "    </tr>\n",
              "    <tr>\n",
              "      <th>3</th>\n",
              "      <td>U001</td>\n",
              "      <td>0200743123</td>\n",
              "      <td>KROGER foundation</td>\n",
              "      <td>2019-02-08</td>\n",
              "      <td>2019.0</td>\n",
              "      <td>1.928670e+09</td>\n",
              "      <td>2019-01-24</td>\n",
              "      <td>2019-01-23</td>\n",
              "      <td>2019-01-24</td>\n",
              "      <td>2019-02-08</td>\n",
              "      <td>RV</td>\n",
              "      <td>1.0</td>\n",
              "      <td>79422.35</td>\n",
              "      <td>2019-01-24</td>\n",
              "      <td>NAA8</td>\n",
              "      <td>1.928670e+09</td>\n",
              "      <td>0</td>\n",
              "      <td>1</td>\n",
              "    </tr>\n",
              "    <tr>\n",
              "      <th>4</th>\n",
              "      <td>U001</td>\n",
              "      <td>0200769623</td>\n",
              "      <td>WAL-MAR foundation</td>\n",
              "      <td>2020-02-11</td>\n",
              "      <td>2020.0</td>\n",
              "      <td>1.930437e+09</td>\n",
              "      <td>2020-01-25</td>\n",
              "      <td>2020-01-24</td>\n",
              "      <td>2020-01-25</td>\n",
              "      <td>2020-02-09</td>\n",
              "      <td>RV</td>\n",
              "      <td>1.0</td>\n",
              "      <td>764.76</td>\n",
              "      <td>2020-01-25</td>\n",
              "      <td>NAH4</td>\n",
              "      <td>1.930437e+09</td>\n",
              "      <td>0</td>\n",
              "      <td>1</td>\n",
              "    </tr>\n",
              "  </tbody>\n",
              "</table>\n",
              "</div>"
            ],
            "text/plain": [
              "  business_code cust_number  ... isOpen inv_curr_code\n",
              "0          U001  0200782001  ...      0             1\n",
              "1          U001  0200769623  ...      0             1\n",
              "2          U001  0200780849  ...      0             1\n",
              "3          U001  0200743123  ...      0             1\n",
              "4          U001  0200769623  ...      0             1\n",
              "\n",
              "[5 rows x 18 columns]"
            ]
          },
          "metadata": {
            "tags": []
          },
          "execution_count": 202
        }
      ]
    },
    {
      "cell_type": "markdown",
      "metadata": {
        "id": "TtYlGP7A3hI8"
      },
      "source": [
        "Now encoding the column 'cust_payment_terms' using Target Encoding"
      ]
    },
    {
      "cell_type": "code",
      "metadata": {
        "colab": {
          "base_uri": "https://localhost:8080/"
        },
        "id": "lPePZMlL5eiW",
        "outputId": "4d530d5c-8e80-40f6-ede9-6be1a8cc2ffd"
      },
      "source": [
        "len(X_train.cust_payment_terms.unique())\n",
        "\n",
        "# These are the number of unique Labels in the cust_payment_terms column\n",
        "# These are to be encoded\n"
      ],
      "execution_count": null,
      "outputs": [
        {
          "output_type": "execute_result",
          "data": {
            "text/plain": [
              "66"
            ]
          },
          "metadata": {
            "tags": []
          },
          "execution_count": 203
        }
      ]
    },
    {
      "cell_type": "code",
      "metadata": {
        "colab": {
          "base_uri": "https://localhost:8080/",
          "height": 492
        },
        "id": "jXK6jnzq5tDb",
        "outputId": "705018f2-dae7-462f-d854-ccb5ea09c9ad"
      },
      "source": [
        "X_train.groupby('cust_payment_terms').count()"
      ],
      "execution_count": null,
      "outputs": [
        {
          "output_type": "execute_result",
          "data": {
            "text/html": [
              "<div>\n",
              "<style scoped>\n",
              "    .dataframe tbody tr th:only-of-type {\n",
              "        vertical-align: middle;\n",
              "    }\n",
              "\n",
              "    .dataframe tbody tr th {\n",
              "        vertical-align: top;\n",
              "    }\n",
              "\n",
              "    .dataframe thead th {\n",
              "        text-align: right;\n",
              "    }\n",
              "</style>\n",
              "<table border=\"1\" class=\"dataframe\">\n",
              "  <thead>\n",
              "    <tr style=\"text-align: right;\">\n",
              "      <th></th>\n",
              "      <th>business_code</th>\n",
              "      <th>cust_number</th>\n",
              "      <th>name_customer</th>\n",
              "      <th>clear_date</th>\n",
              "      <th>buisness_year</th>\n",
              "      <th>doc_id</th>\n",
              "      <th>posting_date</th>\n",
              "      <th>document_create_date</th>\n",
              "      <th>document_create_date.1</th>\n",
              "      <th>due_in_date</th>\n",
              "      <th>document type</th>\n",
              "      <th>posting_id</th>\n",
              "      <th>total_open_amount</th>\n",
              "      <th>baseline_create_date</th>\n",
              "      <th>invoice_id</th>\n",
              "      <th>isOpen</th>\n",
              "      <th>inv_curr_code</th>\n",
              "    </tr>\n",
              "    <tr>\n",
              "      <th>cust_payment_terms</th>\n",
              "      <th></th>\n",
              "      <th></th>\n",
              "      <th></th>\n",
              "      <th></th>\n",
              "      <th></th>\n",
              "      <th></th>\n",
              "      <th></th>\n",
              "      <th></th>\n",
              "      <th></th>\n",
              "      <th></th>\n",
              "      <th></th>\n",
              "      <th></th>\n",
              "      <th></th>\n",
              "      <th></th>\n",
              "      <th></th>\n",
              "      <th></th>\n",
              "      <th></th>\n",
              "    </tr>\n",
              "  </thead>\n",
              "  <tbody>\n",
              "    <tr>\n",
              "      <th>90M7</th>\n",
              "      <td>1</td>\n",
              "      <td>1</td>\n",
              "      <td>1</td>\n",
              "      <td>1</td>\n",
              "      <td>1</td>\n",
              "      <td>1</td>\n",
              "      <td>1</td>\n",
              "      <td>1</td>\n",
              "      <td>1</td>\n",
              "      <td>1</td>\n",
              "      <td>1</td>\n",
              "      <td>1</td>\n",
              "      <td>1</td>\n",
              "      <td>1</td>\n",
              "      <td>1</td>\n",
              "      <td>1</td>\n",
              "      <td>1</td>\n",
              "    </tr>\n",
              "    <tr>\n",
              "      <th>B052</th>\n",
              "      <td>3</td>\n",
              "      <td>3</td>\n",
              "      <td>3</td>\n",
              "      <td>3</td>\n",
              "      <td>3</td>\n",
              "      <td>3</td>\n",
              "      <td>3</td>\n",
              "      <td>3</td>\n",
              "      <td>3</td>\n",
              "      <td>3</td>\n",
              "      <td>3</td>\n",
              "      <td>3</td>\n",
              "      <td>3</td>\n",
              "      <td>3</td>\n",
              "      <td>3</td>\n",
              "      <td>3</td>\n",
              "      <td>3</td>\n",
              "    </tr>\n",
              "    <tr>\n",
              "      <th>B112</th>\n",
              "      <td>2</td>\n",
              "      <td>2</td>\n",
              "      <td>2</td>\n",
              "      <td>2</td>\n",
              "      <td>2</td>\n",
              "      <td>2</td>\n",
              "      <td>2</td>\n",
              "      <td>2</td>\n",
              "      <td>2</td>\n",
              "      <td>2</td>\n",
              "      <td>2</td>\n",
              "      <td>2</td>\n",
              "      <td>2</td>\n",
              "      <td>2</td>\n",
              "      <td>2</td>\n",
              "      <td>2</td>\n",
              "      <td>2</td>\n",
              "    </tr>\n",
              "    <tr>\n",
              "      <th>BR12</th>\n",
              "      <td>4</td>\n",
              "      <td>4</td>\n",
              "      <td>4</td>\n",
              "      <td>4</td>\n",
              "      <td>4</td>\n",
              "      <td>4</td>\n",
              "      <td>4</td>\n",
              "      <td>4</td>\n",
              "      <td>4</td>\n",
              "      <td>4</td>\n",
              "      <td>4</td>\n",
              "      <td>4</td>\n",
              "      <td>4</td>\n",
              "      <td>4</td>\n",
              "      <td>4</td>\n",
              "      <td>4</td>\n",
              "      <td>4</td>\n",
              "    </tr>\n",
              "    <tr>\n",
              "      <th>BR56</th>\n",
              "      <td>5</td>\n",
              "      <td>5</td>\n",
              "      <td>5</td>\n",
              "      <td>5</td>\n",
              "      <td>5</td>\n",
              "      <td>5</td>\n",
              "      <td>5</td>\n",
              "      <td>5</td>\n",
              "      <td>5</td>\n",
              "      <td>5</td>\n",
              "      <td>5</td>\n",
              "      <td>5</td>\n",
              "      <td>5</td>\n",
              "      <td>5</td>\n",
              "      <td>5</td>\n",
              "      <td>5</td>\n",
              "      <td>5</td>\n",
              "    </tr>\n",
              "    <tr>\n",
              "      <th>...</th>\n",
              "      <td>...</td>\n",
              "      <td>...</td>\n",
              "      <td>...</td>\n",
              "      <td>...</td>\n",
              "      <td>...</td>\n",
              "      <td>...</td>\n",
              "      <td>...</td>\n",
              "      <td>...</td>\n",
              "      <td>...</td>\n",
              "      <td>...</td>\n",
              "      <td>...</td>\n",
              "      <td>...</td>\n",
              "      <td>...</td>\n",
              "      <td>...</td>\n",
              "      <td>...</td>\n",
              "      <td>...</td>\n",
              "      <td>...</td>\n",
              "    </tr>\n",
              "    <tr>\n",
              "      <th>NAWK</th>\n",
              "      <td>1</td>\n",
              "      <td>1</td>\n",
              "      <td>1</td>\n",
              "      <td>1</td>\n",
              "      <td>1</td>\n",
              "      <td>1</td>\n",
              "      <td>1</td>\n",
              "      <td>1</td>\n",
              "      <td>1</td>\n",
              "      <td>1</td>\n",
              "      <td>1</td>\n",
              "      <td>1</td>\n",
              "      <td>1</td>\n",
              "      <td>1</td>\n",
              "      <td>1</td>\n",
              "      <td>1</td>\n",
              "      <td>1</td>\n",
              "    </tr>\n",
              "    <tr>\n",
              "      <th>NAWN</th>\n",
              "      <td>71</td>\n",
              "      <td>71</td>\n",
              "      <td>71</td>\n",
              "      <td>71</td>\n",
              "      <td>71</td>\n",
              "      <td>71</td>\n",
              "      <td>71</td>\n",
              "      <td>71</td>\n",
              "      <td>71</td>\n",
              "      <td>71</td>\n",
              "      <td>71</td>\n",
              "      <td>71</td>\n",
              "      <td>71</td>\n",
              "      <td>71</td>\n",
              "      <td>71</td>\n",
              "      <td>71</td>\n",
              "      <td>71</td>\n",
              "    </tr>\n",
              "    <tr>\n",
              "      <th>NAWP</th>\n",
              "      <td>48</td>\n",
              "      <td>48</td>\n",
              "      <td>48</td>\n",
              "      <td>48</td>\n",
              "      <td>48</td>\n",
              "      <td>48</td>\n",
              "      <td>48</td>\n",
              "      <td>48</td>\n",
              "      <td>48</td>\n",
              "      <td>48</td>\n",
              "      <td>48</td>\n",
              "      <td>48</td>\n",
              "      <td>48</td>\n",
              "      <td>48</td>\n",
              "      <td>48</td>\n",
              "      <td>48</td>\n",
              "      <td>48</td>\n",
              "    </tr>\n",
              "    <tr>\n",
              "      <th>NAWU</th>\n",
              "      <td>96</td>\n",
              "      <td>96</td>\n",
              "      <td>96</td>\n",
              "      <td>96</td>\n",
              "      <td>96</td>\n",
              "      <td>96</td>\n",
              "      <td>96</td>\n",
              "      <td>96</td>\n",
              "      <td>96</td>\n",
              "      <td>96</td>\n",
              "      <td>96</td>\n",
              "      <td>96</td>\n",
              "      <td>96</td>\n",
              "      <td>96</td>\n",
              "      <td>96</td>\n",
              "      <td>96</td>\n",
              "      <td>96</td>\n",
              "    </tr>\n",
              "    <tr>\n",
              "      <th>NAX2</th>\n",
              "      <td>455</td>\n",
              "      <td>455</td>\n",
              "      <td>455</td>\n",
              "      <td>455</td>\n",
              "      <td>455</td>\n",
              "      <td>455</td>\n",
              "      <td>455</td>\n",
              "      <td>455</td>\n",
              "      <td>455</td>\n",
              "      <td>455</td>\n",
              "      <td>455</td>\n",
              "      <td>455</td>\n",
              "      <td>455</td>\n",
              "      <td>455</td>\n",
              "      <td>455</td>\n",
              "      <td>455</td>\n",
              "      <td>455</td>\n",
              "    </tr>\n",
              "  </tbody>\n",
              "</table>\n",
              "<p>66 rows × 17 columns</p>\n",
              "</div>"
            ],
            "text/plain": [
              "                    business_code  cust_number  ...  isOpen  inv_curr_code\n",
              "cust_payment_terms                              ...                       \n",
              "90M7                            1            1  ...       1              1\n",
              "B052                            3            3  ...       3              3\n",
              "B112                            2            2  ...       2              2\n",
              "BR12                            4            4  ...       4              4\n",
              "BR56                            5            5  ...       5              5\n",
              "...                           ...          ...  ...     ...            ...\n",
              "NAWK                            1            1  ...       1              1\n",
              "NAWN                           71           71  ...      71             71\n",
              "NAWP                           48           48  ...      48             48\n",
              "NAWU                           96           96  ...      96             96\n",
              "NAX2                          455          455  ...     455            455\n",
              "\n",
              "[66 rows x 17 columns]"
            ]
          },
          "metadata": {
            "tags": []
          },
          "execution_count": 204
        }
      ]
    },
    {
      "cell_type": "markdown",
      "metadata": {
        "id": "t_jyzAsMuj0b"
      },
      "source": [
        "NOTE:\n",
        "\n",
        "\n",
        "\n",
        "*   As from our graph we nmotice that the customer payment terms gighly affect the delay.\n",
        "*   Thus for this I created a new variable \"avg_delay_as_per_terms\"\n",
        "*   It is defined as the median of all the customer who agreed  on the same terms\n",
        "\n",
        "\n",
        "\n",
        "\n"
      ]
    },
    {
      "cell_type": "code",
      "metadata": {
        "colab": {
          "base_uri": "https://localhost:8080/",
          "height": 314
        },
        "id": "K7ZUIvYd6ChV",
        "outputId": "37191d19-7526-48d7-a399-61a838fcf374"
      },
      "source": [
        "# TARGET ENCODING\n",
        "\n",
        "X_train['target'] = y_train # adding it again for demonstration of target encoding\n",
        "\n",
        "target_mapper = X_train.groupby('cust_payment_terms')['target'].median().to_dict()\n",
        "print(target_mapper)\n",
        "\n",
        "X_train.drop('target',axis=1,inplace=True) # Removing it back\n",
        "\n",
        "X_train['avg_delay_as_per_terms'] = X_train['cust_payment_terms'].map(target_mapper)\n",
        "X_train.head()"
      ],
      "execution_count": null,
      "outputs": [
        {
          "output_type": "stream",
          "text": [
            "{'90M7': -1.0, 'B052': -10.0, 'B112': 1.0, 'BR12': -0.5, 'BR56': 1.0, 'C106': -1.0, 'CA10': 4.0, 'CA30': -2.0, 'CAB1': 5.5, 'NA10': 2.0, 'NA25': -3.0, 'NA31': -6.0, 'NA32': 0.0, 'NA38': 2.0, 'NA3B': -3.0, 'NA3F': 8.5, 'NA84': -5.0, 'NA8Q': 9.0, 'NA9X': -8.0, 'NAA8': 0.0, 'NAAW': -19.0, 'NAAX': -1.0, 'NAB1': 3.5, 'NABG': 1.0, 'NAC6': 0.0, 'NACB': 4.0, 'NAD1': 0.0, 'NAD4': 2.0, 'NAD5': 4.0, 'NAD8': 1.0, 'NAG2': 7.0, 'NAGD': 0.0, 'NAH4': -3.0, 'NAM2': -11.0, 'NATH': 1.0, 'NATJ': 1.0, 'NATK': 2.0, 'NATL': 15.0, 'NATM': 1.0, 'NATU': 1.0, 'NATV': 1.0, 'NATX': 1.0, 'NATY': 1.0, 'NATZ': 3.0, 'NAU5': 1.0, 'NAUI': 20.0, 'NAUN': 5.0, 'NAUP': 1.0, 'NAUW': 1.0, 'NAUX': 20.0, 'NAUZ': 1.0, 'NAV2': -8.0, 'NAV9': 14.0, 'NAVC': 7.5, 'NAVD': 0.0, 'NAVE': 0.0, 'NAVF': 7.0, 'NAVL': -2.5, 'NAVM': 1.5, 'NAVQ': 4.0, 'NAVR': 0.0, 'NAWK': 1.0, 'NAWN': 0.0, 'NAWP': -8.0, 'NAWU': 0.0, 'NAX2': 43.0}\n"
          ],
          "name": "stdout"
        },
        {
          "output_type": "execute_result",
          "data": {
            "text/html": [
              "<div>\n",
              "<style scoped>\n",
              "    .dataframe tbody tr th:only-of-type {\n",
              "        vertical-align: middle;\n",
              "    }\n",
              "\n",
              "    .dataframe tbody tr th {\n",
              "        vertical-align: top;\n",
              "    }\n",
              "\n",
              "    .dataframe thead th {\n",
              "        text-align: right;\n",
              "    }\n",
              "</style>\n",
              "<table border=\"1\" class=\"dataframe\">\n",
              "  <thead>\n",
              "    <tr style=\"text-align: right;\">\n",
              "      <th></th>\n",
              "      <th>business_code</th>\n",
              "      <th>cust_number</th>\n",
              "      <th>name_customer</th>\n",
              "      <th>clear_date</th>\n",
              "      <th>buisness_year</th>\n",
              "      <th>doc_id</th>\n",
              "      <th>posting_date</th>\n",
              "      <th>document_create_date</th>\n",
              "      <th>document_create_date.1</th>\n",
              "      <th>due_in_date</th>\n",
              "      <th>document type</th>\n",
              "      <th>posting_id</th>\n",
              "      <th>total_open_amount</th>\n",
              "      <th>baseline_create_date</th>\n",
              "      <th>cust_payment_terms</th>\n",
              "      <th>invoice_id</th>\n",
              "      <th>isOpen</th>\n",
              "      <th>inv_curr_code</th>\n",
              "      <th>avg_delay_as_per_terms</th>\n",
              "    </tr>\n",
              "  </thead>\n",
              "  <tbody>\n",
              "    <tr>\n",
              "      <th>0</th>\n",
              "      <td>U001</td>\n",
              "      <td>0200782001</td>\n",
              "      <td>GORDO in</td>\n",
              "      <td>2019-03-12</td>\n",
              "      <td>2019.0</td>\n",
              "      <td>1.928829e+09</td>\n",
              "      <td>2019-02-20</td>\n",
              "      <td>2019-02-20</td>\n",
              "      <td>2019-02-20</td>\n",
              "      <td>2019-03-07</td>\n",
              "      <td>RV</td>\n",
              "      <td>1.0</td>\n",
              "      <td>35308.72</td>\n",
              "      <td>2019-02-20</td>\n",
              "      <td>NAA8</td>\n",
              "      <td>1.928829e+09</td>\n",
              "      <td>0</td>\n",
              "      <td>1</td>\n",
              "      <td>0.0</td>\n",
              "    </tr>\n",
              "    <tr>\n",
              "      <th>1</th>\n",
              "      <td>U001</td>\n",
              "      <td>0200769623</td>\n",
              "      <td>WAL-MAR corporation</td>\n",
              "      <td>2019-04-23</td>\n",
              "      <td>2019.0</td>\n",
              "      <td>1.929092e+09</td>\n",
              "      <td>2019-04-07</td>\n",
              "      <td>2019-04-05</td>\n",
              "      <td>2019-04-07</td>\n",
              "      <td>2019-04-22</td>\n",
              "      <td>RV</td>\n",
              "      <td>1.0</td>\n",
              "      <td>27641.22</td>\n",
              "      <td>2019-04-07</td>\n",
              "      <td>NAH4</td>\n",
              "      <td>1.929092e+09</td>\n",
              "      <td>0</td>\n",
              "      <td>1</td>\n",
              "      <td>-3.0</td>\n",
              "    </tr>\n",
              "    <tr>\n",
              "      <th>2</th>\n",
              "      <td>U001</td>\n",
              "      <td>0200780849</td>\n",
              "      <td>LAUREL llc</td>\n",
              "      <td>2019-02-13</td>\n",
              "      <td>2019.0</td>\n",
              "      <td>1.928707e+09</td>\n",
              "      <td>2019-01-29</td>\n",
              "      <td>2019-01-29</td>\n",
              "      <td>2019-01-29</td>\n",
              "      <td>2019-02-13</td>\n",
              "      <td>RV</td>\n",
              "      <td>1.0</td>\n",
              "      <td>22092.83</td>\n",
              "      <td>2019-01-29</td>\n",
              "      <td>NAA8</td>\n",
              "      <td>1.928707e+09</td>\n",
              "      <td>0</td>\n",
              "      <td>1</td>\n",
              "      <td>0.0</td>\n",
              "    </tr>\n",
              "    <tr>\n",
              "      <th>3</th>\n",
              "      <td>U001</td>\n",
              "      <td>0200743123</td>\n",
              "      <td>KROGER foundation</td>\n",
              "      <td>2019-02-08</td>\n",
              "      <td>2019.0</td>\n",
              "      <td>1.928670e+09</td>\n",
              "      <td>2019-01-24</td>\n",
              "      <td>2019-01-23</td>\n",
              "      <td>2019-01-24</td>\n",
              "      <td>2019-02-08</td>\n",
              "      <td>RV</td>\n",
              "      <td>1.0</td>\n",
              "      <td>79422.35</td>\n",
              "      <td>2019-01-24</td>\n",
              "      <td>NAA8</td>\n",
              "      <td>1.928670e+09</td>\n",
              "      <td>0</td>\n",
              "      <td>1</td>\n",
              "      <td>0.0</td>\n",
              "    </tr>\n",
              "    <tr>\n",
              "      <th>4</th>\n",
              "      <td>U001</td>\n",
              "      <td>0200769623</td>\n",
              "      <td>WAL-MAR foundation</td>\n",
              "      <td>2020-02-11</td>\n",
              "      <td>2020.0</td>\n",
              "      <td>1.930437e+09</td>\n",
              "      <td>2020-01-25</td>\n",
              "      <td>2020-01-24</td>\n",
              "      <td>2020-01-25</td>\n",
              "      <td>2020-02-09</td>\n",
              "      <td>RV</td>\n",
              "      <td>1.0</td>\n",
              "      <td>764.76</td>\n",
              "      <td>2020-01-25</td>\n",
              "      <td>NAH4</td>\n",
              "      <td>1.930437e+09</td>\n",
              "      <td>0</td>\n",
              "      <td>1</td>\n",
              "      <td>-3.0</td>\n",
              "    </tr>\n",
              "  </tbody>\n",
              "</table>\n",
              "</div>"
            ],
            "text/plain": [
              "  business_code cust_number  ... inv_curr_code avg_delay_as_per_terms\n",
              "0          U001  0200782001  ...             1                    0.0\n",
              "1          U001  0200769623  ...             1                   -3.0\n",
              "2          U001  0200780849  ...             1                    0.0\n",
              "3          U001  0200743123  ...             1                    0.0\n",
              "4          U001  0200769623  ...             1                   -3.0\n",
              "\n",
              "[5 rows x 19 columns]"
            ]
          },
          "metadata": {
            "tags": []
          },
          "execution_count": 205
        }
      ]
    },
    {
      "cell_type": "markdown",
      "metadata": {
        "id": "t2DsL7sP-FTp"
      },
      "source": [
        "Hence , now the target encoding of the column 'cust_payment_terms' has been done\n",
        "\n",
        "The new column which is supposed to replace ot is named avg_delay_as_per_terms"
      ]
    },
    {
      "cell_type": "markdown",
      "metadata": {
        "id": "VGF6KCGVCp0l"
      },
      "source": [
        "Now encoding Customer_name column"
      ]
    },
    {
      "cell_type": "markdown",
      "metadata": {
        "id": "wNW8uVuqvRkr"
      },
      "source": [
        "Now Encoding Customer Name"
      ]
    },
    {
      "cell_type": "code",
      "metadata": {
        "colab": {
          "base_uri": "https://localhost:8080/"
        },
        "id": "whaRgkVgC_8e",
        "outputId": "a1d84523-02b4-40c2-ed0a-3bef061d29e7"
      },
      "source": [
        "# Unique labels for customer name\n",
        "len(X_train.name_customer.unique())"
      ],
      "execution_count": null,
      "outputs": [
        {
          "output_type": "execute_result",
          "data": {
            "text/plain": [
              "3519"
            ]
          },
          "metadata": {
            "tags": []
          },
          "execution_count": 206
        }
      ]
    },
    {
      "cell_type": "code",
      "metadata": {
        "colab": {
          "base_uri": "https://localhost:8080/"
        },
        "id": "jUNiBl7BD8iX",
        "outputId": "d7f7656b-06c9-4a4d-9f23-b6dec109993c"
      },
      "source": [
        "# Target Encoding for customer_name\n",
        "temp=X_train.copy()\n",
        "temp['delay']=y_train\n",
        "col_map=temp.groupby('name_customer')['delay'].mean().to_dict()\n",
        "col_map\n"
      ],
      "execution_count": null,
      "outputs": [
        {
          "output_type": "execute_result",
          "data": {
            "text/plain": [
              "{'10167 systems': 1.0,\n",
              " '236008 corp': 22.0,\n",
              " '9043- corp': -10.0,\n",
              " '99 CE ': 1.5,\n",
              " '99 CE associates': 6.5,\n",
              " '99 CE corporation': 1.0,\n",
              " '99 CE foundation': -23.0,\n",
              " '99 CE llc': 3.3333333333333335,\n",
              " '99 CE systems': 1.75,\n",
              " 'A & W F ': 6.0,\n",
              " 'A & W F associates': 2.8,\n",
              " 'A & W F co': 4.0,\n",
              " 'A & W F corp': 5.0,\n",
              " 'A & W F corporation': 4.0,\n",
              " 'A & W F foundation': 3.5,\n",
              " 'A & W F in': -1.0,\n",
              " 'A & W F systems': 0.6666666666666666,\n",
              " 'A & W F us': 1.0,\n",
              " 'ABC B foundation': 2.0,\n",
              " 'ABC B llc': 2.0,\n",
              " 'ABC B us': 5.0,\n",
              " 'ACE  ': -1.0,\n",
              " 'ACE  us': -1.0,\n",
              " 'ADAMS in': -2.0,\n",
              " 'ADAMS trust': -9.0,\n",
              " 'ADEL foundation': 0.0,\n",
              " 'AFFI ': -7.0,\n",
              " 'AFFI co': -5.5,\n",
              " 'AFFI foundation': -5.0,\n",
              " 'AFFI llc': -10.0,\n",
              " 'AFFI us': -7.0,\n",
              " 'AFFILI ': -4.0,\n",
              " 'AFFILI associates': -3.5,\n",
              " 'AFFILI co': -4.4,\n",
              " 'AFFILI corp': -3.3333333333333335,\n",
              " 'AFFILI corporation': -24.25,\n",
              " 'AFFILI foundation': -2.75,\n",
              " 'AFFILI in': -3.0,\n",
              " 'AFFILI llc': -12.2,\n",
              " 'AFFILI systems': -25.0,\n",
              " 'AFFILI trust': -5.0,\n",
              " 'AFFILI us': -4.0,\n",
              " 'AFGHAN in': -6.0,\n",
              " 'AGR corp': -16.0,\n",
              " 'AGR foundation': -3.0,\n",
              " 'AGR in': -11.0,\n",
              " 'AGR llc': -18.0,\n",
              " 'AGR trust': -9.333333333333334,\n",
              " 'AGR us': -24.0,\n",
              " 'AGS W us': -6.0,\n",
              " 'AIR C in': 7.0,\n",
              " 'AJINOMO foundation': 4.0,\n",
              " 'AL ': -0.5,\n",
              " 'AL MAJ co': 1.0,\n",
              " 'AL associates': 1.5,\n",
              " 'AL co': -2.5,\n",
              " 'AL corp': -1.1,\n",
              " 'AL corporation': 0.14285714285714285,\n",
              " 'AL foundation': 1.4545454545454546,\n",
              " 'AL in': 1.0909090909090908,\n",
              " 'AL llc': 0.6363636363636364,\n",
              " 'AL systems': 0.16666666666666666,\n",
              " 'AL trust': 2.5,\n",
              " 'AL us': -0.125,\n",
              " 'ALBER ': 0.6,\n",
              " 'ALBER associates': 0.5714285714285714,\n",
              " 'ALBER co': 0.2,\n",
              " 'ALBER corp': 0.8333333333333334,\n",
              " 'ALBER corporation': 0.2222222222222222,\n",
              " 'ALBER foundation': 0.25,\n",
              " 'ALBER in': 0.6,\n",
              " 'ALBER llc': 1.6666666666666667,\n",
              " 'ALBER systems': 0.0,\n",
              " 'ALBER trust': 0.5714285714285714,\n",
              " 'ALBER us': 1.1,\n",
              " 'ALBERT ': 0.5555555555555556,\n",
              " 'ALBERT associates': 0.6923076923076923,\n",
              " 'ALBERT co': 0.8235294117647058,\n",
              " 'ALBERT corp': 3.3846153846153846,\n",
              " 'ALBERT corporation': 0.6470588235294118,\n",
              " 'ALBERT foundation': 0.5,\n",
              " 'ALBERT in': 0.35,\n",
              " 'ALBERT llc': 0.2857142857142857,\n",
              " 'ALBERT systems': 0.5714285714285714,\n",
              " 'ALBERT trust': 1.7391304347826086,\n",
              " 'ALBERT us': 0.3125,\n",
              " 'ALI corporation': 0.0,\n",
              " 'ALI foundation': -5.0,\n",
              " 'ALI llc': -2.0,\n",
              " 'ALI systems': -1.0,\n",
              " 'ALI us': -0.5,\n",
              " 'ALIMEN associates': -1.6666666666666667,\n",
              " 'ALIMEN corp': 0.0,\n",
              " 'ALIMEN foundation': 2.0,\n",
              " 'ALIMEN us': 3.0,\n",
              " 'ALIMENTS systems': 3.0,\n",
              " 'ALL associates': -5.0,\n",
              " 'ALMA systems': 1.0,\n",
              " 'ALOHA PA us': 29.0,\n",
              " 'ALVARE in': 0.0,\n",
              " 'ALVARE us': 2.0,\n",
              " 'AM ': -2.0454545454545454,\n",
              " 'AM associates': -3.64,\n",
              " 'AM co': -5.2727272727272725,\n",
              " 'AM corp': -4.275862068965517,\n",
              " 'AM corporation': -4.243243243243243,\n",
              " 'AM foundation': -6.029411764705882,\n",
              " 'AM in': -6.59375,\n",
              " 'AM llc': -4.0,\n",
              " 'AM systems': -0.21428571428571427,\n",
              " 'AM trust': -1.6571428571428573,\n",
              " 'AM us': -3.5789473684210527,\n",
              " 'AMAZO ': 4.0,\n",
              " 'AMAZO associates': 3.0,\n",
              " 'AMAZO co': 13.4,\n",
              " 'AMAZO corp': 6.0,\n",
              " 'AMAZO corporation': 8.0,\n",
              " 'AMAZO foundation': 15.0,\n",
              " 'AMAZO in': 9.0,\n",
              " 'AMAZO llc': 5.0,\n",
              " 'AMAZO systems': 3.3333333333333335,\n",
              " 'AMAZO trust': 7.0,\n",
              " 'AMAZO us': 1.5,\n",
              " 'AMERIC ': 1.0,\n",
              " 'AMERIC corp': 9.666666666666666,\n",
              " 'AMERIC corporation': -1.0,\n",
              " 'AMERIC llc': 0.0,\n",
              " 'AMERIC systems': -2.5,\n",
              " 'AMERIC us': -4.0,\n",
              " 'AMERICAN llc': 1.0,\n",
              " 'AMERICAN trust': 0.0,\n",
              " 'AMI co': 8.0,\n",
              " 'AMY ': 0.0,\n",
              " 'AMY associates': 13.0,\n",
              " 'AMY co': 16.0,\n",
              " 'AMY corporation': 4.5,\n",
              " 'AMY foundation': 5.0,\n",
              " 'AMY in': 8.0,\n",
              " 'AMY us': 9.5,\n",
              " 'AN llc': -1.0,\n",
              " 'ANHA corp': -2.5,\n",
              " 'ANHA foundation': -11.0,\n",
              " 'ANHA llc': -9.5,\n",
              " 'ANHA trust': -3.0,\n",
              " 'ANTONIO ': -5.0,\n",
              " 'ANTONIO trust': 51.0,\n",
              " 'AOF SER foundation': -1.0,\n",
              " 'AOF SER in': -2.0,\n",
              " 'APPE co': 4.0,\n",
              " 'APPE trust': 0.0,\n",
              " 'AR ': 2.5,\n",
              " 'AR associates': -3.0,\n",
              " 'AR corp': 5.0,\n",
              " 'AR foundation': 2.0,\n",
              " 'AR in': 6.5,\n",
              " 'AR llc': -1.0,\n",
              " 'AR trust': 0.5,\n",
              " 'AR us': 4.0,\n",
              " 'ARIZON systems': 0.0,\n",
              " 'ARKANS foundation': -7.0,\n",
              " 'ARMY ': -5.0,\n",
              " 'ARMY associates': -8.0,\n",
              " 'ARMY co': -1.0,\n",
              " 'ARMY foundation': -8.0,\n",
              " 'ARMY llc': 0.0,\n",
              " 'ARRO corporation': 7.0,\n",
              " 'ASSOC G ': -0.5,\n",
              " 'ASSOC G associates': -1.75,\n",
              " 'ASSOC G co': 4.5,\n",
              " 'ASSOC G corp': -1.6666666666666667,\n",
              " 'ASSOC G foundation': 4.0,\n",
              " 'ASSOC G systems': -0.3333333333333333,\n",
              " 'ASSOC G us': -1.0,\n",
              " 'ASSOCI ': -0.4,\n",
              " 'ASSOCI associates': -0.5,\n",
              " 'ASSOCI co': 0.0,\n",
              " 'ASSOCI corp': 0.0,\n",
              " 'ASSOCI corporation': -0.6,\n",
              " 'ASSOCI foundation': 0.25,\n",
              " 'ASSOCI in': 1.0,\n",
              " 'ASSOCI llc': 0.0,\n",
              " 'ASSOCI systems': 0.25,\n",
              " 'ASSOCI trust': -1.0,\n",
              " 'ASSOCI us': -0.3333333333333333,\n",
              " 'ASSOCIA ': 1.75,\n",
              " 'ASSOCIA associates': 1.6666666666666667,\n",
              " 'ASSOCIA co': 4.5,\n",
              " 'ASSOCIA corp': 1.0,\n",
              " 'ASSOCIA corporation': 1.4285714285714286,\n",
              " 'ASSOCIA in': 1.6666666666666667,\n",
              " 'ASSOCIA llc': 1.5,\n",
              " 'ASSOCIA systems': 1.3333333333333333,\n",
              " 'ASSOCIA trust': 1.0,\n",
              " 'ASSOCIA us': 4.5,\n",
              " 'ASSOCIAT ': 3.1403508771929824,\n",
              " 'ASSOCIAT associates': 1.0545454545454545,\n",
              " 'ASSOCIAT co': 3.0,\n",
              " 'ASSOCIAT corp': 1.75,\n",
              " 'ASSOCIAT corporation': 1.4655172413793103,\n",
              " 'ASSOCIAT foundation': 0.8653846153846154,\n",
              " 'ASSOCIAT in': 1.3125,\n",
              " 'ASSOCIAT llc': 1.3636363636363635,\n",
              " 'ASSOCIAT systems': 2.7945205479452055,\n",
              " 'ASSOCIAT trust': 2.2,\n",
              " 'ASSOCIAT us': 0.9649122807017544,\n",
              " 'ASTR co': 7.5,\n",
              " 'ASTR in': 10.0,\n",
              " 'ASTR trust': 11.0,\n",
              " 'ATLANT ': -1.0,\n",
              " 'ATLANT associates': -3.0,\n",
              " 'ATLANT co': -1.0,\n",
              " 'ATLANT corp': 5.5,\n",
              " 'ATLANT corporation': 0.75,\n",
              " 'ATLANT foundation': 1.0,\n",
              " 'ATLANT in': 2.0,\n",
              " 'ATLANT llc': 21.666666666666668,\n",
              " 'ATLANT systems': 0.0,\n",
              " 'ATLANT trust': 5.5,\n",
              " 'ATLANT us': 8.2,\n",
              " 'ATLANTA  co': 6.0,\n",
              " 'ATLANTA  corporation': 12.0,\n",
              " 'ATLANTA  foundation': 2.0,\n",
              " 'ATLANTA  trust': 8.0,\n",
              " 'AVALON foundation': 0.0,\n",
              " 'AVI  corp': -7.0,\n",
              " 'AVRO trust': -1.0,\n",
              " 'B & C F foundation': -2.0,\n",
              " 'B FERN co': 0.0,\n",
              " 'B FERN llc': 21.0,\n",
              " 'B K MI co': 0.0,\n",
              " 'BAKEMAR ': 1.0,\n",
              " 'BAKEMAR associates': 7.5,\n",
              " 'BAKEMAR foundation': 2.0,\n",
              " 'BAKEMAR in': 11.0,\n",
              " 'BAKEMAR systems': 8.0,\n",
              " 'BAKEMAR trust': 16.0,\n",
              " 'BAKEMAR us': 36.0,\n",
              " 'BALLES in': 7.0,\n",
              " 'BALLES llc': 3.0,\n",
              " 'BALLES trust': 5.0,\n",
              " 'BAMA C ': 3.0,\n",
              " 'BAR co': -0.25,\n",
              " 'BAR corp': 0.3333333333333333,\n",
              " 'BAR corporation': 3.0,\n",
              " 'BAR foundation': -0.5,\n",
              " 'BAR in': 0.3333333333333333,\n",
              " 'BAR systems': 0.0,\n",
              " 'BAR trust': 1.0,\n",
              " 'BAR us': -4.5,\n",
              " 'BARB associates': -6.0,\n",
              " 'BARGAIN  ': 1.6666666666666667,\n",
              " 'BARGAIN  associates': 3.0,\n",
              " 'BARGAIN  co': 3.6,\n",
              " 'BARGAIN  corp': 2.0,\n",
              " 'BARGAIN  corporation': 1.8571428571428572,\n",
              " 'BARGAIN  foundation': 2.0,\n",
              " 'BARGAIN  in': 2.142857142857143,\n",
              " 'BARGAIN  llc': 1.3333333333333333,\n",
              " 'BARGAIN  systems': 3.2857142857142856,\n",
              " 'BARGAIN  trust': 4.0,\n",
              " 'BARGAIN  us': 2.4,\n",
              " 'BARN ': 1.0,\n",
              " 'BART corporation': 4.0,\n",
              " 'BART us': 3.5,\n",
              " 'BAS ': -1.0,\n",
              " 'BAS associates': -1.0,\n",
              " 'BAS co': -3.0,\n",
              " 'BAS corp': -0.5,\n",
              " 'BAS corporation': 0.0,\n",
              " 'BAS foundation': -1.0,\n",
              " 'BAS in': 0.0,\n",
              " 'BAS llc': -1.0,\n",
              " 'BAS us': -1.5,\n",
              " 'BASIX  ': -3.0,\n",
              " 'BASIX  corp': -11.0,\n",
              " 'BASIX  corporation': -6.0,\n",
              " 'BASIX  foundation': 3.0,\n",
              " 'BASIX  systems': -7.0,\n",
              " 'BATTA foundation': 0.0,\n",
              " 'BAUGH SU ': 1.0,\n",
              " 'BAUGH SU associates': 1.8333333333333333,\n",
              " 'BAUGH SU co': -2.0,\n",
              " 'BAUGH SU corp': 0.4,\n",
              " 'BAUGH SU corporation': 0.8,\n",
              " 'BAUGH SU foundation': 1.4,\n",
              " 'BAUGH SU in': 1.25,\n",
              " 'BAUGH SU llc': 2.125,\n",
              " 'BAUGH SU systems': -1.7777777777777777,\n",
              " 'BAUGH SU trust': -1.8,\n",
              " 'BAUGH SU us': 2.0,\n",
              " 'BAY  ': 5.0,\n",
              " 'BAY  co': 7.0,\n",
              " 'BAY  foundation': 6.0,\n",
              " 'BAY  in': 5.333333333333333,\n",
              " 'BAY  trust': 4.0,\n",
              " 'BAY  us': 5.5,\n",
              " 'BE ': -4.75,\n",
              " 'BE associates': -4.75,\n",
              " 'BE co': -9.0,\n",
              " 'BE corp': -6.6,\n",
              " 'BE corporation': -3.5,\n",
              " 'BE foundation': -1.75,\n",
              " 'BE in': -4.0,\n",
              " 'BE llc': -1.6666666666666667,\n",
              " 'BE systems': -8.0,\n",
              " 'BE trust': -8.0,\n",
              " 'BE us': -6.0,\n",
              " 'BEEF co': -14.0,\n",
              " 'BELL foundation': 3.0,\n",
              " 'BELL in': 15.0,\n",
              " 'BELLS  corporation': -2.0,\n",
              " 'BEN  ': -1.0,\n",
              " 'BEN  co': -5.0,\n",
              " 'BEN  corp': -9.333333333333334,\n",
              " 'BEN  corporation': -3.6666666666666665,\n",
              " 'BEN  foundation': 22.285714285714285,\n",
              " 'BEN  in': -5.2,\n",
              " 'BEN  llc': -2.6666666666666665,\n",
              " 'BEN  systems': -4.5,\n",
              " 'BEN  trust': -11.0,\n",
              " 'BEN  us': 0.8,\n",
              " 'BEN E ': -2.1666666666666665,\n",
              " 'BEN E KE co': 1.0,\n",
              " 'BEN E KE in': 1.0,\n",
              " 'BEN E associates': -4.0,\n",
              " 'BEN E co': -3.75,\n",
              " 'BEN E corp': -1.0,\n",
              " 'BEN E corporation': -1.75,\n",
              " 'BEN E foundation': -2.75,\n",
              " 'BEN E in': -1.0,\n",
              " 'BEN E llc': -1.6666666666666667,\n",
              " 'BEN E systems': -1.75,\n",
              " 'BEN E trust': -1.0,\n",
              " 'BEN E us': -2.0,\n",
              " 'BEST  associates': -1.5,\n",
              " 'BEST  corp': -15.0,\n",
              " 'BEST  us': -23.0,\n",
              " 'BI ': 0.5,\n",
              " 'BI MA associates': 7.0,\n",
              " 'BI MA systems': 2.3333333333333335,\n",
              " 'BI co': 4.0,\n",
              " 'BI corporation': 6.0,\n",
              " 'BI foundation': 1.3333333333333333,\n",
              " 'BI in': -1.0,\n",
              " 'BI llc': -0.5,\n",
              " 'BI systems': -24.0,\n",
              " 'BI trust': 9.0,\n",
              " 'BI-RIT ': 4.0,\n",
              " 'BI-RIT corp': 0.0,\n",
              " 'BI-RIT corporation': 0.0,\n",
              " 'BI-RIT foundation': -1.0,\n",
              " 'BI-RIT trust': 0.0,\n",
              " 'BICKEL foundation': -1.0,\n",
              " 'BIDF associates': 7.0,\n",
              " 'BIDF foundation': 20.0,\n",
              " 'BIG APP us': -1.0,\n",
              " 'BIG in': -30.0,\n",
              " 'BIG systems': -30.0,\n",
              " 'BIG us': -30.0,\n",
              " 'BIRD-I in': 8.0,\n",
              " 'BIRD-I trust': 5.0,\n",
              " \"BJ'S  \": 0.7281553398058253,\n",
              " \"BJ'S  associates\": 0.717948717948718,\n",
              " \"BJ'S  co\": 0.5851063829787234,\n",
              " \"BJ'S  corp\": 1.09375,\n",
              " \"BJ'S  corporation\": 0.8706896551724138,\n",
              " \"BJ'S  foundation\": 0.5760869565217391,\n",
              " \"BJ'S  in\": 1.6031746031746033,\n",
              " \"BJ'S  llc\": 1.5865384615384615,\n",
              " \"BJ'S  systems\": 1.617391304347826,\n",
              " \"BJ'S  trust\": 0.744,\n",
              " \"BJ'S  us\": 0.63,\n",
              " 'BLAKE foundation': -3.0,\n",
              " 'BLAKE us': 0.0,\n",
              " 'BLOU co': 1.0,\n",
              " 'BLOU corp': 2.0,\n",
              " 'BLOU foundation': 2.0,\n",
              " 'BLOU in': -1.5,\n",
              " 'BLOU llc': 1.3333333333333333,\n",
              " 'BLOU systems': -0.5,\n",
              " 'BLOU us': 3.0,\n",
              " 'BOARD co': -6.0,\n",
              " 'BOARD foundation': -6.0,\n",
              " 'BOARD llc': -8.0,\n",
              " 'BOB E co': -1.0,\n",
              " 'BOB E llc': 11.0,\n",
              " 'BOBBY S systems': -4.0,\n",
              " 'BODAC llc': -4.0,\n",
              " 'BON  associates': 2.0,\n",
              " 'BON  corporation': -1.0,\n",
              " 'BON  llc': 7.0,\n",
              " 'BOVA F co': -5.0,\n",
              " 'BOVA F corporation': -5.0,\n",
              " 'BOZZU ': 1.6666666666666667,\n",
              " 'BOZZU associates': 1.0,\n",
              " 'BOZZU co': 2.5714285714285716,\n",
              " 'BOZZU corp': 1.1666666666666667,\n",
              " 'BOZZU corporation': 1.8888888888888888,\n",
              " 'BOZZU foundation': 2.0,\n",
              " 'BOZZU in': 2.111111111111111,\n",
              " 'BOZZU llc': 1.0,\n",
              " 'BOZZU systems': 3.5454545454545454,\n",
              " 'BOZZU trust': 2.2857142857142856,\n",
              " 'BOZZU us': 2.0,\n",
              " 'BRADY associates': 42.0,\n",
              " 'BRADY co': 38.0,\n",
              " 'BRADY corp': 56.0,\n",
              " 'BRADY corporation': 54.5,\n",
              " 'BRADY foundation': 30.5,\n",
              " 'BRADY in': 42.0,\n",
              " 'BRADY llc': 36.75,\n",
              " 'BRADY systems': 28.0,\n",
              " 'BRADY trust': 36.5,\n",
              " 'BRADY us': 27.333333333333332,\n",
              " 'BRENH ': -1.0,\n",
              " 'BRENH co': -1.0,\n",
              " 'BRENH corp': -1.0,\n",
              " 'BRENH us': -1.0,\n",
              " 'BROOKS ': 3.3333333333333335,\n",
              " 'BROOKS associates': 0.0,\n",
              " 'BROOKS co': 0.25,\n",
              " 'BROOKS corp': 0.0,\n",
              " 'BROOKS corporation': 1.6,\n",
              " 'BROOKS foundation': 6.666666666666667,\n",
              " 'BROOKS in': -1.1666666666666667,\n",
              " 'BROOKS llc': -3.125,\n",
              " 'BROOKS systems': 2.8333333333333335,\n",
              " 'BROOKS trust': -23.5,\n",
              " 'BROOKS us': -6.2,\n",
              " 'BROW associates': -5.0,\n",
              " 'BROW corp': 2.0,\n",
              " 'BRUN co': -1.0,\n",
              " 'BULK  ': 9.0,\n",
              " 'BULK  foundation': 16.0,\n",
              " 'BULK  us': 1.0,\n",
              " 'BUNZ co': 0.0,\n",
              " 'BUR ': 0.0,\n",
              " 'BUR associates': -2.5,\n",
              " 'BUR systems': -2.0,\n",
              " 'BURR ': 0.0,\n",
              " 'BURR associates': 0.4,\n",
              " 'BURR co': 3.2,\n",
              " 'BURR corp': 1.5,\n",
              " 'BURR corporation': 0.75,\n",
              " 'BURR foundation': -2.25,\n",
              " 'BURR in': 2.0,\n",
              " 'BURR llc': 29.5,\n",
              " 'BURR systems': 0.0,\n",
              " 'BURR trust': 0.5,\n",
              " 'BURR us': 13.0,\n",
              " 'BUTTE ': -5.0,\n",
              " 'BUTTE associates': -5.2,\n",
              " 'BUTTE corp': -4.333333333333333,\n",
              " 'BUTTE corporation': -6.0,\n",
              " 'BUTTE foundation': -5.0,\n",
              " 'BUTTE llc': -5.666666666666667,\n",
              " 'BUTTE trust': -2.0,\n",
              " 'BUTTE us': -3.0,\n",
              " 'BUY- ': -0.6666666666666666,\n",
              " 'BUY- associates': -5.0,\n",
              " 'BUY- co': 4.0,\n",
              " 'BUY- foundation': -2.0,\n",
              " 'BUY- in': 4.0,\n",
              " 'BUY- llc': -2.0,\n",
              " 'BUY- systems': 3.0,\n",
              " 'BUY- trust': 2.6666666666666665,\n",
              " 'BUY- us': 1.5,\n",
              " 'C ': 8.428571428571429,\n",
              " 'C  trust': 1.0,\n",
              " 'C H G trust': -9.0,\n",
              " 'C associates': 6.444444444444445,\n",
              " 'C co': 6.4375,\n",
              " 'C corp': 3.8,\n",
              " 'C corporation': 4.625,\n",
              " 'C foundation': 4.1875,\n",
              " 'C in': 11.0,\n",
              " 'C llc': 5.375,\n",
              " 'C systems': 6.9,\n",
              " 'C trust': 6.0,\n",
              " 'C us': 3.0,\n",
              " 'C& ': -7.0,\n",
              " 'C& associates': 1.0,\n",
              " 'C& co': -1.5,\n",
              " 'C& corporation': -25.0,\n",
              " 'C& foundation': -4.75,\n",
              " 'C& llc': -3.0,\n",
              " 'C& systems': -0.5,\n",
              " 'C& trust': -1.0,\n",
              " 'C& us': -3.5,\n",
              " 'C&S W ': 2.0,\n",
              " 'C&S W associates': 0.5,\n",
              " 'C&S W co': 0.5,\n",
              " 'C&S W corp': 0.75,\n",
              " 'C&S W corporation': 2.1666666666666665,\n",
              " 'C&S W foundation': 4.75,\n",
              " 'C&S W in': 1.3333333333333333,\n",
              " 'C&S W llc': 3.0,\n",
              " 'C&S W systems': 1.0,\n",
              " 'C&S W trust': 0.0,\n",
              " 'C&S W us': 0.0,\n",
              " 'C&S WH ': 0.3939393939393939,\n",
              " 'C&S WH associates': -0.17708333333333334,\n",
              " 'C&S WH co': 0.11956521739130435,\n",
              " 'C&S WH corp': -0.42857142857142855,\n",
              " 'C&S WH corporation': -0.0196078431372549,\n",
              " 'C&S WH foundation': -1.47,\n",
              " 'C&S WH in': -0.73,\n",
              " 'C&S WH llc': -1.0465116279069768,\n",
              " 'C&S WH systems': -0.7126436781609196,\n",
              " 'C&S WH trust': -0.40963855421686746,\n",
              " 'C&S WH us': -0.3,\n",
              " 'CALD co': 1.0,\n",
              " 'CALD corp': 1.0,\n",
              " 'CALD systems': -1.0,\n",
              " 'CALIFO associates': -5.666666666666667,\n",
              " 'CALIFO corporation': 2.0,\n",
              " 'CALIFO foundation': 2.0,\n",
              " 'CALIFO systems': -16.0,\n",
              " 'CALIFO us': 1.0,\n",
              " 'CAMP associates': 133.0,\n",
              " 'CAMP corp': 13.0,\n",
              " 'CAMP corporation': 2.0,\n",
              " 'CAMP in': 0.0,\n",
              " 'CAMP systems': 6.0,\n",
              " 'CANADI co': 14.0,\n",
              " 'CANADI in': 12.0,\n",
              " 'CANADI systems': 9.0,\n",
              " 'CAPI co': -9.0,\n",
              " 'CAPI corporation': -9.0,\n",
              " 'CAPITAL co': 8.0,\n",
              " 'CAPITAL corp': 1.0,\n",
              " 'CAPITAL in': 3.0,\n",
              " 'CARA associates': -3.0,\n",
              " 'CARA llc': -4.0,\n",
              " 'CARGILL  foundation': 2.0,\n",
              " 'CARGILL  in': 7.0,\n",
              " 'CARIB ': -6.0,\n",
              " 'CARIB co': -5.0,\n",
              " 'CARIBB systems': 1.0,\n",
              " 'CASC associates': 92.0,\n",
              " 'CASCADE co': 14.0,\n",
              " 'CASEY associates': 11.0,\n",
              " 'CASEY co': -7.0,\n",
              " 'CASEY corp': -6.0,\n",
              " 'CASEY corporation': -8.5,\n",
              " 'CASH-W associates': -0.5,\n",
              " 'CASH-W corporation': -1.0,\n",
              " 'CASH-W foundation': -1.0,\n",
              " 'CD F associates': 7.0,\n",
              " 'CD F co': 6.0,\n",
              " 'CD F foundation': 10.0,\n",
              " 'CE ': -0.3333333333333333,\n",
              " 'CE associates': 0.0,\n",
              " 'CE co': 0.0,\n",
              " 'CE corp': 0.5,\n",
              " 'CE corporation': 0.0,\n",
              " 'CE foundation': -1.0,\n",
              " 'CE llc': -0.3333333333333333,\n",
              " 'CE trust': -0.5,\n",
              " 'CE us': 0.0,\n",
              " 'CEDA ': -2.0,\n",
              " 'CEDARS corp': 0.0,\n",
              " 'CEDARS corporation': 2.0,\n",
              " 'CEDARS llc': 2.6666666666666665,\n",
              " 'CEDARS systems': 3.0,\n",
              " 'CEDARS us': 1.0,\n",
              " 'CENC trust': 5.0,\n",
              " 'CENTRAL  corp': 5.0,\n",
              " 'CHAIN DI foundation': -1.0,\n",
              " 'CHAIR co': 5.0,\n",
              " 'CHAR ': -7.0,\n",
              " 'CHEES co': 4.0,\n",
              " 'CHEES llc': 3.0,\n",
              " 'CHEN ': 8.0,\n",
              " 'CHEN associates': 4.0,\n",
              " 'CHEN co': 7.0,\n",
              " 'CHEN corp': 3.25,\n",
              " 'CHEN corporation': 2.5,\n",
              " 'CHEN foundation': 5.0,\n",
              " 'CHEN in': 3.5,\n",
              " 'CHEN llc': 2.0,\n",
              " 'CHEN systems': 3.5,\n",
              " 'CHEN trust': 3.0,\n",
              " 'CHEN us': 6.333333333333333,\n",
              " 'CHENE corp': -1.0,\n",
              " 'CHENE corporation': 1.0,\n",
              " 'CHENE foundation': -2.0,\n",
              " 'CHICAGO  in': 6.0,\n",
              " 'CHIHAD associates': 2.0,\n",
              " 'CHIHAD corp': 0.0,\n",
              " 'CHIHAD llc': -3.0,\n",
              " 'CHIHAD systems': 0.0,\n",
              " 'CHIHAD trust': -1.0,\n",
              " 'CHUCK systems': 75.0,\n",
              " 'CIE CO systems': 2.0,\n",
              " 'CINNAR corporation': 3.0,\n",
              " 'CINNAR in': 0.0,\n",
              " 'CIRC co': 0.0,\n",
              " 'CITY L associates': -1.0,\n",
              " 'CITY L us': -2.0,\n",
              " 'CJ  corporation': 24.0,\n",
              " 'CJR WH ': 2.0,\n",
              " 'CJR WH associates': 0.0,\n",
              " 'CJR WH co': -3.5,\n",
              " 'CJR WH foundation': 0.0,\n",
              " 'CJR WH systems': 2.0,\n",
              " 'CJR WH trust': -5.0,\n",
              " 'CL ': 13.0,\n",
              " 'CO ': 4.333333333333333,\n",
              " 'CO associates': -1.0,\n",
              " 'CO co': -0.2,\n",
              " 'CO corp': -0.8,\n",
              " 'CO corporation': -0.5,\n",
              " 'CO foundation': 0.8,\n",
              " 'CO in': 0.2857142857142857,\n",
              " 'CO llc': 0.7272727272727273,\n",
              " 'CO systems': -0.6666666666666666,\n",
              " 'CO trust': 7.0,\n",
              " 'CO us': -0.16666666666666666,\n",
              " 'COAS ': -1.1666666666666667,\n",
              " 'COAS associates': -0.4,\n",
              " 'COAS co': -0.42857142857142855,\n",
              " 'COAS corp': 0.08333333333333333,\n",
              " 'COAS corporation': -0.25,\n",
              " 'COAS foundation': -0.8,\n",
              " 'COAS in': 0.0,\n",
              " 'COAS llc': -1.5,\n",
              " 'COAS systems': -0.4,\n",
              " 'COAS trust': -1.0,\n",
              " 'COAS us': 0.0,\n",
              " 'COASTAL  ': -6.0,\n",
              " 'COASTAL  corporation': -1.0,\n",
              " 'COASTAL  in': -1.0,\n",
              " 'COASTAL  llc': -1.0,\n",
              " 'COASTAL  us': -1.0,\n",
              " 'COLABOR  ': 2.2,\n",
              " 'COLABOR  associates': 4.888888888888889,\n",
              " 'COLABOR  co': 2.4285714285714284,\n",
              " 'COLABOR  corp': 2.2,\n",
              " 'COLABOR  corporation': 4.6,\n",
              " 'COLABOR  foundation': 5.666666666666667,\n",
              " 'COLABOR  in': 1.4166666666666667,\n",
              " 'COLABOR  llc': -0.25,\n",
              " 'COLABOR  systems': 1.875,\n",
              " 'COLABOR  trust': 2.75,\n",
              " 'COLABOR  us': 0.16666666666666666,\n",
              " 'COLDST ': 12.0,\n",
              " 'COLDST co': 5.0,\n",
              " 'COLDST llc': 3.0,\n",
              " 'COLDST systems': 3.0,\n",
              " 'COLOM ': 3.0,\n",
              " 'COLOM associates': 1.0,\n",
              " 'COLOM co': 2.75,\n",
              " 'COLOM corporation': 1.0,\n",
              " 'COLOM foundation': 2.0,\n",
              " 'COLOM in': 3.0,\n",
              " 'COLOM llc': 45.0,\n",
              " 'COLOM systems': 0.0,\n",
              " 'COLOM trust': 0.0,\n",
              " 'COLOME associates': 1.0,\n",
              " 'COLOME corp': -2.0,\n",
              " 'COLOME foundation': 1.0,\n",
              " 'COLOME in': 2.0,\n",
              " 'COLOME trust': -2.5,\n",
              " 'COLORA corporation': 3.0,\n",
              " 'COMERCI co': -7.0,\n",
              " 'COMERCI corp': -2.0,\n",
              " 'COMERCI corporation': -1.0,\n",
              " 'COMERCI foundation': 0.0,\n",
              " 'COMERCI in': -2.3333333333333335,\n",
              " 'COMERCI llc': -3.0,\n",
              " 'COMERCI systems': 0.0,\n",
              " 'COMERCI trust': 0.3333333333333333,\n",
              " 'COMPREHE associates': 11.0,\n",
              " 'CON co': -27.0,\n",
              " 'CONSERVED ': 5.0,\n",
              " 'CONSO ': 0.0,\n",
              " 'CONSO corp': 0.0,\n",
              " 'CONSO foundation': -1.0,\n",
              " 'CONSO in': 2.0,\n",
              " 'CONSO systems': 1.0,\n",
              " 'CONSOLID corp': -5.0,\n",
              " 'CONSUMER corp': 1.0,\n",
              " 'CONSUMER corporation': 0.0,\n",
              " 'CONSUMER foundation': -1.0,\n",
              " 'CONSUMER trust': -2.0,\n",
              " 'CONSUMER us': -1.3333333333333333,\n",
              " 'CONT corp': -2.0,\n",
              " 'CONTRA trust': 25.0,\n",
              " 'CONW associates': 12.0,\n",
              " 'CONW corporation': 7.0,\n",
              " 'CONW foundation': 6.0,\n",
              " 'CONW us': 1.0,\n",
              " 'COPPE co': 2.0,\n",
              " 'CORE-M ': -2.0,\n",
              " 'CORE-M corp': -8.0,\n",
              " 'CORE-M foundation': -8.0,\n",
              " 'CORE-M systems': -2.0,\n",
              " 'CORE-M trust': -8.0,\n",
              " 'CORN associates': -6.0,\n",
              " 'CORN foundation': -2.0,\n",
              " 'COS ': 7.0,\n",
              " 'COS co': 1.0,\n",
              " 'COS corp': 5.0,\n",
              " 'COS corporation': -6.5,\n",
              " 'COS foundation': 2.6666666666666665,\n",
              " 'COS in': -3.5,\n",
              " 'COS llc': 4.0,\n",
              " 'COS trust': 0.8,\n",
              " 'COST ': 0.011904761904761904,\n",
              " 'COST associates': -1.8051948051948052,\n",
              " 'COST co': -0.27380952380952384,\n",
              " 'COST corp': -1.1219512195121952,\n",
              " 'COST corporation': -2.0869565217391304,\n",
              " 'COST foundation': 0.27941176470588236,\n",
              " 'COST in': -0.7432432432432432,\n",
              " 'COST llc': -0.6629213483146067,\n",
              " 'COST systems': -0.07042253521126761,\n",
              " 'COST trust': -0.18461538461538463,\n",
              " 'COST us': -0.07575757575757576,\n",
              " 'COSTCO ': 3.090909090909091,\n",
              " 'COSTCO associates': 2.75,\n",
              " 'COSTCO co': 5.464285714285714,\n",
              " 'COSTCO corp': 4.411764705882353,\n",
              " 'COSTCO corporation': 5.4411764705882355,\n",
              " 'COSTCO foundation': 6.03125,\n",
              " 'COSTCO in': 3.1739130434782608,\n",
              " 'COSTCO llc': 3.935483870967742,\n",
              " 'COSTCO systems': 3.0,\n",
              " 'COSTCO trust': 4.096774193548387,\n",
              " 'COSTCO us': 8.521739130434783,\n",
              " 'COTO llc': 126.0,\n",
              " 'COUN ': 20.0,\n",
              " 'COUN corporation': 1.0,\n",
              " 'CPG associates': -1.0,\n",
              " 'CPG co': -4.0,\n",
              " 'CSM BAK corp': -8.0,\n",
              " 'CSM BAK systems': -16.0,\n",
              " 'CSU  associates': 1.0,\n",
              " 'CTI  in': -1.0,\n",
              " 'CTI  llc': -6.0,\n",
              " 'CTI  us': -5.0,\n",
              " 'CTI A associates': -1.0,\n",
              " 'CTI A corp': 0.0,\n",
              " 'CTI A corporation': -1.0,\n",
              " 'CTI A llc': 0.0,\n",
              " 'CTI A systems': -5.0,\n",
              " 'CTI A us': -6.0,\n",
              " 'CULINAR co': 4.0,\n",
              " 'CULINAR llc': -2.0,\n",
              " 'CUSTOM ': 4.0,\n",
              " 'CUSTOM corporation': 5.0,\n",
              " 'CUSTOM foundation': 2.0,\n",
              " 'CUSTOM systems': 3.6666666666666665,\n",
              " 'CUSTOM us': 6.0,\n",
              " 'CUSTOMI ': 0.0,\n",
              " 'CUSTOMI corp': 0.0,\n",
              " 'CUSTOMI corporation': 2.0,\n",
              " 'CUSTOMI foundation': 0.5,\n",
              " 'CUSTOMI in': 1.0,\n",
              " 'CUSTOMI llc': 2.0,\n",
              " 'CUSTOMI us': 0.0,\n",
              " 'D &  systems': -1.0,\n",
              " 'D corp': 2.0,\n",
              " 'D in': 2.0,\n",
              " 'D systems': 2.0,\n",
              " 'D us': 3.0,\n",
              " \"D'ALB foundation\": 1.0,\n",
              " \"D'ALB llc\": -5.0,\n",
              " \"D'ALB systems\": 1.0,\n",
              " \"D'B foundation\": -5.0,\n",
              " \"D'C foundation\": -30.0,\n",
              " 'D. & A. llc': 8.0,\n",
              " 'DAIL co': 3.0,\n",
              " 'DAIRY associates': 0.0,\n",
              " 'DAIRY corp': -0.5,\n",
              " 'DAIRY llc': -1.0,\n",
              " 'DAIRY us': 2.0,\n",
              " 'DAKO co': -12.0,\n",
              " 'DARDEN D ': -2.75,\n",
              " 'DARDEN D associates': -0.75,\n",
              " 'DARDEN D co': -3.0,\n",
              " 'DARDEN D corp': 16.666666666666668,\n",
              " 'DARDEN D corporation': -3.0,\n",
              " 'DARDEN D foundation': 19.666666666666668,\n",
              " 'DARDEN D in': 3.142857142857143,\n",
              " 'DARDEN D llc': -4.0,\n",
              " 'DARDEN D trust': -3.8,\n",
              " 'DARDEN D us': 13.8,\n",
              " 'DASA I associates': -2.0,\n",
              " 'DASA I co': 2.5,\n",
              " 'DASA I corporation': 4.0,\n",
              " 'DASA I in': 4.0,\n",
              " 'DASA I llc': 4.0,\n",
              " 'DASA I systems': 2.0,\n",
              " 'DASA I trust': 4.5,\n",
              " 'DAVID  llc': 17.0,\n",
              " 'DAWN FOO corp': -3.0,\n",
              " 'DAWN FOO llc': -3.0,\n",
              " 'DAWN corp': 8.0,\n",
              " 'DAWN corporation': 3.0,\n",
              " 'DAWN in': 2.0,\n",
              " 'DAWN trust': 1.0,\n",
              " 'DAYLIGH co': 16.0,\n",
              " 'DEALER corp': -1.0,\n",
              " 'DEALER in': 8.0,\n",
              " 'DECA corporation': 8.0,\n",
              " 'DECA foundation': 8.0,\n",
              " 'DECA llc': -11.0,\n",
              " 'DEL MONA corporation': -6.0,\n",
              " 'DELHAIZE ': 0.34782608695652173,\n",
              " 'DELHAIZE associates': -0.5769230769230769,\n",
              " 'DELHAIZE co': -0.21428571428571427,\n",
              " 'DELHAIZE corp': -0.1,\n",
              " 'DELHAIZE corporation': 3.40625,\n",
              " 'DELHAIZE foundation': 2.892857142857143,\n",
              " 'DELHAIZE in': -3.1176470588235294,\n",
              " 'DELHAIZE llc': 1.2105263157894737,\n",
              " 'DELHAIZE systems': 4.133333333333334,\n",
              " 'DELHAIZE trust': 1.8181818181818181,\n",
              " 'DELHAIZE us': 1.9411764705882353,\n",
              " 'DEMOU ': -1.0,\n",
              " 'DEMOU associates': -0.5,\n",
              " 'DEMOU co': -1.5,\n",
              " 'DEMOU corp': -0.6666666666666666,\n",
              " 'DEMOU corporation': -1.0,\n",
              " 'DEMOU foundation': -1.0,\n",
              " 'DEMOU in': -0.3333333333333333,\n",
              " 'DEMOU llc': -0.2,\n",
              " 'DEMOU systems': -0.5,\n",
              " 'DEMOU trust': -0.2,\n",
              " 'DEMOU us': -1.0,\n",
              " 'DENN trust': 9.0,\n",
              " 'DENVER associates': -6.0,\n",
              " 'DENVER co': -6.0,\n",
              " 'DENVER corp': -6.666666666666667,\n",
              " 'DENVER corporation': -8.0,\n",
              " 'DENVER foundation': -8.0,\n",
              " 'DENVER in': -6.5,\n",
              " 'DI ': 0.0,\n",
              " 'DI associates': 0.5,\n",
              " 'DI co': 1.25,\n",
              " 'DI corp': 0.0,\n",
              " 'DI corporation': 0.6,\n",
              " 'DI foundation': 0.6666666666666666,\n",
              " 'DI in': 1.0,\n",
              " 'DI llc': 1.0,\n",
              " 'DI systems': 1.0,\n",
              " 'DI trust': 0.3333333333333333,\n",
              " 'DI us': 1.3333333333333333,\n",
              " 'DIAC foundation': -2.0,\n",
              " 'DIAMO ': 22.0,\n",
              " 'DIAMON corporation': -1.0,\n",
              " 'DIAMON in': -3.0,\n",
              " 'DIANA D us': -2.0,\n",
              " 'DIANN associates': -2.0,\n",
              " 'DIANN co': -5.0,\n",
              " 'DIANN corp': 9.0,\n",
              " 'DIANN corporation': 2.0,\n",
              " 'DIANN in': -1.0,\n",
              " 'DIANN systems': -0.5,\n",
              " 'DIANN trust': -3.0,\n",
              " 'DICA corp': 3.0,\n",
              " 'DICK co': 0.0,\n",
              " 'DICK corp': -9.0,\n",
              " 'DICK trust': 3.0,\n",
              " 'DICK us': 1.0,\n",
              " 'DIRECT  ': 0.3333333333333333,\n",
              " 'DIRECT  in': 8.0,\n",
              " 'DIRECT  llc': -5.0,\n",
              " 'DIS ': -1.0,\n",
              " 'DIS llc': 1.6666666666666667,\n",
              " 'DIS systems': -0.5,\n",
              " 'DIS trust': -1.0,\n",
              " 'DIXIE  llc': 5.0,\n",
              " 'DO llc': 5.0,\n",
              " 'DO trust': 2.0,\n",
              " 'DOERLE ': 0.0,\n",
              " 'DOERLE co': 18.5,\n",
              " 'DOERLE corp': 3.0,\n",
              " 'DOERLE in': 5.0,\n",
              " 'DOLLA ': -4.333333333333333,\n",
              " 'DOLLA associates': 1.0625,\n",
              " 'DOLLA co': -7.083333333333333,\n",
              " 'DOLLA corp': -5.777777777777778,\n",
              " 'DOLLA corporation': -5.176470588235294,\n",
              " 'DOLLA foundation': 0.15384615384615385,\n",
              " 'DOLLA in': -5.875,\n",
              " 'DOLLA llc': -8.882352941176471,\n",
              " 'DOLLA systems': -7.2,\n",
              " 'DOLLA trust': -0.8333333333333334,\n",
              " 'DOLLA us': -5.892857142857143,\n",
              " 'DOLLAR ': -5.571428571428571,\n",
              " 'DOLLAR associates': 4.142857142857143,\n",
              " 'DOLLAR co': 2.1666666666666665,\n",
              " 'DOLLAR corp': -3.5714285714285716,\n",
              " 'DOLLAR corporation': 0.2,\n",
              " 'DOLLAR foundation': 2.3636363636363638,\n",
              " 'DOLLAR in': 3.1818181818181817,\n",
              " 'DOLLAR llc': -2.4,\n",
              " 'DOLLAR systems': 7.6,\n",
              " 'DOLLAR trust': 2.111111111111111,\n",
              " 'DOLLAR us': 1.75,\n",
              " 'DOLLARA associates': -2.0,\n",
              " 'DOLLARA co': -2.0,\n",
              " 'DOLLARA corp': -1.0,\n",
              " 'DOLLARA corporation': 0.0,\n",
              " 'DOLLARA foundation': 4.0,\n",
              " 'DOLLARA in': -4.666666666666667,\n",
              " 'DOLLARA systems': -0.5,\n",
              " 'DOLLARA trust': -4.5,\n",
              " 'DOLLARA us': -5.0,\n",
              " 'DORI in': -1.0,\n",
              " 'DOT ': -6.901960784313726,\n",
              " 'DOT associates': -8.738095238095237,\n",
              " 'DOT co': -7.625,\n",
              " 'DOT corp': -6.075,\n",
              " 'DOT corporation': -7.222222222222222,\n",
              " 'DOT foundation': -7.777777777777778,\n",
              " 'DOT in': -7.735294117647059,\n",
              " 'DOT llc': -6.953488372093023,\n",
              " 'DOT systems': -8.357142857142858,\n",
              " 'DOT trust': -5.372549019607843,\n",
              " 'DOT us': -7.386363636363637,\n",
              " 'DOUB us': 2.0,\n",
              " 'DOWNE co': 2.0,\n",
              " 'DPI W systems': -1.0,\n",
              " 'DRIS co': -2.0,\n",
              " 'DRIS corp': -1.0,\n",
              " 'DRIS llc': -2.0,\n",
              " 'DRIS trust': -2.0,\n",
              " 'DUNKIN ': 1.0,\n",
              " 'DUNKIN associates': 3.0,\n",
              " 'DUNKIN co': 1.0,\n",
              " 'DUNKIN corp': 1.0,\n",
              " 'DUNKIN corporation': 3.0,\n",
              " 'DUNKIN foundation': 2.0,\n",
              " 'DUNKIN trust': 1.0,\n",
              " 'DUTCH  co': 0.5,\n",
              " 'DUTCH  corporation': -2.0,\n",
              " 'DUTCH  foundation': 1.0,\n",
              " 'DUTCH  llc': 4.0,\n",
              " 'E D S corp': 1.0,\n",
              " 'E D S corporation': 2.0,\n",
              " 'E D S trust': 5.0,\n",
              " 'E&S corp': 0.5,\n",
              " 'EB co': 2.0,\n",
              " 'EBER corp': 1.5,\n",
              " 'EBER corporation': 4.0,\n",
              " 'ECS  associates': 8.0,\n",
              " 'EDDY P ': 5.0,\n",
              " 'EDDY P associates': 4.0,\n",
              " 'EDDY P corp': 4.0,\n",
              " 'EDDY P corporation': 0.0,\n",
              " 'EDDY P foundation': -1.0,\n",
              " 'EDDY P in': -3.0,\n",
              " 'EDDY P llc': 5.0,\n",
              " 'EDDY P trust': 15.0,\n",
              " 'EDDY P us': 0.0,\n",
              " 'EDEN ': 0.0,\n",
              " 'EL GR corp': 4.0,\n",
              " 'EL GR us': 0.0,\n",
              " \"ELI'S co\": 0.0,\n",
              " 'ELLIOT foundation': -9.0,\n",
              " 'ELLIOT in': 7.0,\n",
              " 'ELLIOT systems': 4.0,\n",
              " 'ELLIOT trust': -5.0,\n",
              " 'ELSTO co': 22.0,\n",
              " 'EMP associates': 6.0,\n",
              " 'EMP corporation': 5.0,\n",
              " 'ESSEX  ': 4.0,\n",
              " 'ESSEX  foundation': 5.0,\n",
              " 'ESSEX  in': 7.0,\n",
              " 'ESSEX  systems': 6.0,\n",
              " 'ESSEX  us': 3.75,\n",
              " 'EWT-EU co': 4.5,\n",
              " 'EWT-EU corp': -3.0,\n",
              " 'EWT-EU llc': 4.5,\n",
              " 'EWT-EU trust': 4.0,\n",
              " 'EWT-EU us': 3.5,\n",
              " 'F ': 4.5,\n",
              " 'F &  ': -1.0,\n",
              " 'F & corp': 0.0,\n",
              " 'F & foundation': 0.0,\n",
              " 'F J W foundation': -8.0,\n",
              " 'F J W trust': -2.0,\n",
              " 'F J W us': 4.0,\n",
              " 'F associates': 3.0,\n",
              " 'F co': 7.0,\n",
              " 'F corp': 7.0,\n",
              " 'F corporation': 2.5,\n",
              " 'F foundation': 1.5,\n",
              " 'F in': 6.0,\n",
              " 'F llc': 4.0,\n",
              " 'F systems': 2.0,\n",
              " 'F trust': 2.25,\n",
              " 'F us': 2.0,\n",
              " 'FACE ': 22.0,\n",
              " 'FACE associates': 10.5,\n",
              " 'FACE corporation': 7.0,\n",
              " ...}"
            ]
          },
          "metadata": {
            "tags": []
          },
          "execution_count": 207
        }
      ]
    },
    {
      "cell_type": "markdown",
      "metadata": {
        "id": "TN3LYjL_EX1G"
      },
      "source": [
        "Now merging this with the X_train"
      ]
    },
    {
      "cell_type": "code",
      "metadata": {
        "colab": {
          "base_uri": "https://localhost:8080/",
          "height": 295
        },
        "id": "1kz3aCtbHJcJ",
        "outputId": "8d6d2d39-f369-4fdc-9041-e82f065f2f5c"
      },
      "source": [
        "'''\n",
        "new=X_train.merge(col_map,how='left',left_on=['name_customer'],right_on=['name_customer'])\n",
        "new.loc[45:50,:]\n",
        "'''\n",
        "X_train['cust_name(ENC)']=X_train['name_customer'].map(col_map)\n",
        "X_train.head()"
      ],
      "execution_count": null,
      "outputs": [
        {
          "output_type": "execute_result",
          "data": {
            "text/html": [
              "<div>\n",
              "<style scoped>\n",
              "    .dataframe tbody tr th:only-of-type {\n",
              "        vertical-align: middle;\n",
              "    }\n",
              "\n",
              "    .dataframe tbody tr th {\n",
              "        vertical-align: top;\n",
              "    }\n",
              "\n",
              "    .dataframe thead th {\n",
              "        text-align: right;\n",
              "    }\n",
              "</style>\n",
              "<table border=\"1\" class=\"dataframe\">\n",
              "  <thead>\n",
              "    <tr style=\"text-align: right;\">\n",
              "      <th></th>\n",
              "      <th>business_code</th>\n",
              "      <th>cust_number</th>\n",
              "      <th>name_customer</th>\n",
              "      <th>clear_date</th>\n",
              "      <th>buisness_year</th>\n",
              "      <th>doc_id</th>\n",
              "      <th>posting_date</th>\n",
              "      <th>document_create_date</th>\n",
              "      <th>document_create_date.1</th>\n",
              "      <th>due_in_date</th>\n",
              "      <th>document type</th>\n",
              "      <th>posting_id</th>\n",
              "      <th>total_open_amount</th>\n",
              "      <th>baseline_create_date</th>\n",
              "      <th>cust_payment_terms</th>\n",
              "      <th>invoice_id</th>\n",
              "      <th>isOpen</th>\n",
              "      <th>inv_curr_code</th>\n",
              "      <th>avg_delay_as_per_terms</th>\n",
              "      <th>cust_name(ENC)</th>\n",
              "    </tr>\n",
              "  </thead>\n",
              "  <tbody>\n",
              "    <tr>\n",
              "      <th>0</th>\n",
              "      <td>U001</td>\n",
              "      <td>0200782001</td>\n",
              "      <td>GORDO in</td>\n",
              "      <td>2019-03-12</td>\n",
              "      <td>2019.0</td>\n",
              "      <td>1.928829e+09</td>\n",
              "      <td>2019-02-20</td>\n",
              "      <td>2019-02-20</td>\n",
              "      <td>2019-02-20</td>\n",
              "      <td>2019-03-07</td>\n",
              "      <td>RV</td>\n",
              "      <td>1.0</td>\n",
              "      <td>35308.72</td>\n",
              "      <td>2019-02-20</td>\n",
              "      <td>NAA8</td>\n",
              "      <td>1.928829e+09</td>\n",
              "      <td>0</td>\n",
              "      <td>1</td>\n",
              "      <td>0.0</td>\n",
              "      <td>-1.666667</td>\n",
              "    </tr>\n",
              "    <tr>\n",
              "      <th>1</th>\n",
              "      <td>U001</td>\n",
              "      <td>0200769623</td>\n",
              "      <td>WAL-MAR corporation</td>\n",
              "      <td>2019-04-23</td>\n",
              "      <td>2019.0</td>\n",
              "      <td>1.929092e+09</td>\n",
              "      <td>2019-04-07</td>\n",
              "      <td>2019-04-05</td>\n",
              "      <td>2019-04-07</td>\n",
              "      <td>2019-04-22</td>\n",
              "      <td>RV</td>\n",
              "      <td>1.0</td>\n",
              "      <td>27641.22</td>\n",
              "      <td>2019-04-07</td>\n",
              "      <td>NAH4</td>\n",
              "      <td>1.929092e+09</td>\n",
              "      <td>0</td>\n",
              "      <td>1</td>\n",
              "      <td>-3.0</td>\n",
              "      <td>-1.967606</td>\n",
              "    </tr>\n",
              "    <tr>\n",
              "      <th>2</th>\n",
              "      <td>U001</td>\n",
              "      <td>0200780849</td>\n",
              "      <td>LAUREL llc</td>\n",
              "      <td>2019-02-13</td>\n",
              "      <td>2019.0</td>\n",
              "      <td>1.928707e+09</td>\n",
              "      <td>2019-01-29</td>\n",
              "      <td>2019-01-29</td>\n",
              "      <td>2019-01-29</td>\n",
              "      <td>2019-02-13</td>\n",
              "      <td>RV</td>\n",
              "      <td>1.0</td>\n",
              "      <td>22092.83</td>\n",
              "      <td>2019-01-29</td>\n",
              "      <td>NAA8</td>\n",
              "      <td>1.928707e+09</td>\n",
              "      <td>0</td>\n",
              "      <td>1</td>\n",
              "      <td>0.0</td>\n",
              "      <td>0.000000</td>\n",
              "    </tr>\n",
              "    <tr>\n",
              "      <th>3</th>\n",
              "      <td>U001</td>\n",
              "      <td>0200743123</td>\n",
              "      <td>KROGER foundation</td>\n",
              "      <td>2019-02-08</td>\n",
              "      <td>2019.0</td>\n",
              "      <td>1.928670e+09</td>\n",
              "      <td>2019-01-24</td>\n",
              "      <td>2019-01-23</td>\n",
              "      <td>2019-01-24</td>\n",
              "      <td>2019-02-08</td>\n",
              "      <td>RV</td>\n",
              "      <td>1.0</td>\n",
              "      <td>79422.35</td>\n",
              "      <td>2019-01-24</td>\n",
              "      <td>NAA8</td>\n",
              "      <td>1.928670e+09</td>\n",
              "      <td>0</td>\n",
              "      <td>1</td>\n",
              "      <td>0.0</td>\n",
              "      <td>0.869565</td>\n",
              "    </tr>\n",
              "    <tr>\n",
              "      <th>4</th>\n",
              "      <td>U001</td>\n",
              "      <td>0200769623</td>\n",
              "      <td>WAL-MAR foundation</td>\n",
              "      <td>2020-02-11</td>\n",
              "      <td>2020.0</td>\n",
              "      <td>1.930437e+09</td>\n",
              "      <td>2020-01-25</td>\n",
              "      <td>2020-01-24</td>\n",
              "      <td>2020-01-25</td>\n",
              "      <td>2020-02-09</td>\n",
              "      <td>RV</td>\n",
              "      <td>1.0</td>\n",
              "      <td>764.76</td>\n",
              "      <td>2020-01-25</td>\n",
              "      <td>NAH4</td>\n",
              "      <td>1.930437e+09</td>\n",
              "      <td>0</td>\n",
              "      <td>1</td>\n",
              "      <td>-3.0</td>\n",
              "      <td>-2.168210</td>\n",
              "    </tr>\n",
              "  </tbody>\n",
              "</table>\n",
              "</div>"
            ],
            "text/plain": [
              "  business_code cust_number  ... avg_delay_as_per_terms cust_name(ENC)\n",
              "0          U001  0200782001  ...                    0.0      -1.666667\n",
              "1          U001  0200769623  ...                   -3.0      -1.967606\n",
              "2          U001  0200780849  ...                    0.0       0.000000\n",
              "3          U001  0200743123  ...                    0.0       0.869565\n",
              "4          U001  0200769623  ...                   -3.0      -2.168210\n",
              "\n",
              "[5 rows x 20 columns]"
            ]
          },
          "metadata": {
            "tags": []
          },
          "execution_count": 208
        }
      ]
    },
    {
      "cell_type": "code",
      "metadata": {
        "colab": {
          "base_uri": "https://localhost:8080/",
          "height": 295
        },
        "id": "ssPHfIsHKt7s",
        "outputId": "4e056ed9-1a33-40b4-876b-1a2f34ac85e5"
      },
      "source": [
        "X_train.head()"
      ],
      "execution_count": null,
      "outputs": [
        {
          "output_type": "execute_result",
          "data": {
            "text/html": [
              "<div>\n",
              "<style scoped>\n",
              "    .dataframe tbody tr th:only-of-type {\n",
              "        vertical-align: middle;\n",
              "    }\n",
              "\n",
              "    .dataframe tbody tr th {\n",
              "        vertical-align: top;\n",
              "    }\n",
              "\n",
              "    .dataframe thead th {\n",
              "        text-align: right;\n",
              "    }\n",
              "</style>\n",
              "<table border=\"1\" class=\"dataframe\">\n",
              "  <thead>\n",
              "    <tr style=\"text-align: right;\">\n",
              "      <th></th>\n",
              "      <th>business_code</th>\n",
              "      <th>cust_number</th>\n",
              "      <th>name_customer</th>\n",
              "      <th>clear_date</th>\n",
              "      <th>buisness_year</th>\n",
              "      <th>doc_id</th>\n",
              "      <th>posting_date</th>\n",
              "      <th>document_create_date</th>\n",
              "      <th>document_create_date.1</th>\n",
              "      <th>due_in_date</th>\n",
              "      <th>document type</th>\n",
              "      <th>posting_id</th>\n",
              "      <th>total_open_amount</th>\n",
              "      <th>baseline_create_date</th>\n",
              "      <th>cust_payment_terms</th>\n",
              "      <th>invoice_id</th>\n",
              "      <th>isOpen</th>\n",
              "      <th>inv_curr_code</th>\n",
              "      <th>avg_delay_as_per_terms</th>\n",
              "      <th>cust_name(ENC)</th>\n",
              "    </tr>\n",
              "  </thead>\n",
              "  <tbody>\n",
              "    <tr>\n",
              "      <th>0</th>\n",
              "      <td>U001</td>\n",
              "      <td>0200782001</td>\n",
              "      <td>GORDO in</td>\n",
              "      <td>2019-03-12</td>\n",
              "      <td>2019.0</td>\n",
              "      <td>1.928829e+09</td>\n",
              "      <td>2019-02-20</td>\n",
              "      <td>2019-02-20</td>\n",
              "      <td>2019-02-20</td>\n",
              "      <td>2019-03-07</td>\n",
              "      <td>RV</td>\n",
              "      <td>1.0</td>\n",
              "      <td>35308.72</td>\n",
              "      <td>2019-02-20</td>\n",
              "      <td>NAA8</td>\n",
              "      <td>1.928829e+09</td>\n",
              "      <td>0</td>\n",
              "      <td>1</td>\n",
              "      <td>0.0</td>\n",
              "      <td>-1.666667</td>\n",
              "    </tr>\n",
              "    <tr>\n",
              "      <th>1</th>\n",
              "      <td>U001</td>\n",
              "      <td>0200769623</td>\n",
              "      <td>WAL-MAR corporation</td>\n",
              "      <td>2019-04-23</td>\n",
              "      <td>2019.0</td>\n",
              "      <td>1.929092e+09</td>\n",
              "      <td>2019-04-07</td>\n",
              "      <td>2019-04-05</td>\n",
              "      <td>2019-04-07</td>\n",
              "      <td>2019-04-22</td>\n",
              "      <td>RV</td>\n",
              "      <td>1.0</td>\n",
              "      <td>27641.22</td>\n",
              "      <td>2019-04-07</td>\n",
              "      <td>NAH4</td>\n",
              "      <td>1.929092e+09</td>\n",
              "      <td>0</td>\n",
              "      <td>1</td>\n",
              "      <td>-3.0</td>\n",
              "      <td>-1.967606</td>\n",
              "    </tr>\n",
              "    <tr>\n",
              "      <th>2</th>\n",
              "      <td>U001</td>\n",
              "      <td>0200780849</td>\n",
              "      <td>LAUREL llc</td>\n",
              "      <td>2019-02-13</td>\n",
              "      <td>2019.0</td>\n",
              "      <td>1.928707e+09</td>\n",
              "      <td>2019-01-29</td>\n",
              "      <td>2019-01-29</td>\n",
              "      <td>2019-01-29</td>\n",
              "      <td>2019-02-13</td>\n",
              "      <td>RV</td>\n",
              "      <td>1.0</td>\n",
              "      <td>22092.83</td>\n",
              "      <td>2019-01-29</td>\n",
              "      <td>NAA8</td>\n",
              "      <td>1.928707e+09</td>\n",
              "      <td>0</td>\n",
              "      <td>1</td>\n",
              "      <td>0.0</td>\n",
              "      <td>0.000000</td>\n",
              "    </tr>\n",
              "    <tr>\n",
              "      <th>3</th>\n",
              "      <td>U001</td>\n",
              "      <td>0200743123</td>\n",
              "      <td>KROGER foundation</td>\n",
              "      <td>2019-02-08</td>\n",
              "      <td>2019.0</td>\n",
              "      <td>1.928670e+09</td>\n",
              "      <td>2019-01-24</td>\n",
              "      <td>2019-01-23</td>\n",
              "      <td>2019-01-24</td>\n",
              "      <td>2019-02-08</td>\n",
              "      <td>RV</td>\n",
              "      <td>1.0</td>\n",
              "      <td>79422.35</td>\n",
              "      <td>2019-01-24</td>\n",
              "      <td>NAA8</td>\n",
              "      <td>1.928670e+09</td>\n",
              "      <td>0</td>\n",
              "      <td>1</td>\n",
              "      <td>0.0</td>\n",
              "      <td>0.869565</td>\n",
              "    </tr>\n",
              "    <tr>\n",
              "      <th>4</th>\n",
              "      <td>U001</td>\n",
              "      <td>0200769623</td>\n",
              "      <td>WAL-MAR foundation</td>\n",
              "      <td>2020-02-11</td>\n",
              "      <td>2020.0</td>\n",
              "      <td>1.930437e+09</td>\n",
              "      <td>2020-01-25</td>\n",
              "      <td>2020-01-24</td>\n",
              "      <td>2020-01-25</td>\n",
              "      <td>2020-02-09</td>\n",
              "      <td>RV</td>\n",
              "      <td>1.0</td>\n",
              "      <td>764.76</td>\n",
              "      <td>2020-01-25</td>\n",
              "      <td>NAH4</td>\n",
              "      <td>1.930437e+09</td>\n",
              "      <td>0</td>\n",
              "      <td>1</td>\n",
              "      <td>-3.0</td>\n",
              "      <td>-2.168210</td>\n",
              "    </tr>\n",
              "  </tbody>\n",
              "</table>\n",
              "</div>"
            ],
            "text/plain": [
              "  business_code cust_number  ... avg_delay_as_per_terms cust_name(ENC)\n",
              "0          U001  0200782001  ...                    0.0      -1.666667\n",
              "1          U001  0200769623  ...                   -3.0      -1.967606\n",
              "2          U001  0200780849  ...                    0.0       0.000000\n",
              "3          U001  0200743123  ...                    0.0       0.869565\n",
              "4          U001  0200769623  ...                   -3.0      -2.168210\n",
              "\n",
              "[5 rows x 20 columns]"
            ]
          },
          "metadata": {
            "tags": []
          },
          "execution_count": 209
        }
      ]
    },
    {
      "cell_type": "markdown",
      "metadata": {
        "id": "5oUQhfJfvf0o"
      },
      "source": [
        "Thus by now customer_names have been encoded as \"cust_name(ENC)\""
      ]
    },
    {
      "cell_type": "markdown",
      "metadata": {
        "id": "CMUPe7Rgv-K7"
      },
      "source": [
        "Business_year column is already in float and requires no changes.\n",
        "\n",
        "This  column is also essential as delay depends on business year as per graph"
      ]
    },
    {
      "cell_type": "code",
      "metadata": {
        "colab": {
          "base_uri": "https://localhost:8080/"
        },
        "id": "tbNZkhZfLEoi",
        "outputId": "b20b3dc9-163c-4ce1-85e6-27b9b775b708"
      },
      "source": [
        "X_train.groupby('buisness_year').size()"
      ],
      "execution_count": null,
      "outputs": [
        {
          "output_type": "execute_result",
          "data": {
            "text/plain": [
              "buisness_year\n",
              "2019.0    26562\n",
              "2020.0     3994\n",
              "dtype: int64"
            ]
          },
          "metadata": {
            "tags": []
          },
          "execution_count": 210
        }
      ]
    },
    {
      "cell_type": "code",
      "metadata": {
        "colab": {
          "base_uri": "https://localhost:8080/"
        },
        "id": "4HCQgWYzQh0i",
        "outputId": "cc054d70-3489-43bb-a681-7d4c31bd7ca9"
      },
      "source": [
        "len(X_train.business_code.unique())"
      ],
      "execution_count": null,
      "outputs": [
        {
          "output_type": "execute_result",
          "data": {
            "text/plain": [
              "6"
            ]
          },
          "metadata": {
            "tags": []
          },
          "execution_count": 211
        }
      ]
    },
    {
      "cell_type": "markdown",
      "metadata": {
        "id": "1Lr0kV-tlz_I"
      },
      "source": [
        "Encoding Customer Number"
      ]
    },
    {
      "cell_type": "code",
      "metadata": {
        "colab": {
          "base_uri": "https://localhost:8080/"
        },
        "id": "c9RP1V8-mS8Z",
        "outputId": "873dac0d-1cc0-453b-97d0-e63dceebb6a4"
      },
      "source": [
        "# Unique customer numbers\n",
        "len(X_train.cust_number.unique())"
      ],
      "execution_count": null,
      "outputs": [
        {
          "output_type": "execute_result",
          "data": {
            "text/plain": [
              "1231"
            ]
          },
          "metadata": {
            "tags": []
          },
          "execution_count": 212
        }
      ]
    },
    {
      "cell_type": "code",
      "metadata": {
        "colab": {
          "base_uri": "https://localhost:8080/"
        },
        "id": "xskeeO8qmW89",
        "outputId": "0c254ab5-98ea-4e36-e713-ea7db6517168"
      },
      "source": [
        "# Target Encoding for cust_number\n",
        "temp=X_train.copy()\n",
        "temp['delay']=y_train\n",
        "MAPPER=temp.groupby('cust_number')['delay'].mean().to_dict()\n",
        "MAPPER"
      ],
      "execution_count": null,
      "outputs": [
        {
          "output_type": "execute_result",
          "data": {
            "text/plain": [
              "{'0100000048': 0.6666666666666666,\n",
              " '0100000051': -25.0,\n",
              " '0100000158': 92.0,\n",
              " '0100000161': 2.0,\n",
              " '0100000217': -3.0,\n",
              " '0100000222': -3.7857142857142856,\n",
              " '0100000272': -6.0,\n",
              " '0100000533': -10.25,\n",
              " '0100000933': -8.0,\n",
              " '0100001196': 1.8714285714285714,\n",
              " '0100001222': 2.0,\n",
              " '0100001362': 2.0,\n",
              " '0100001452': -2.25,\n",
              " '0100003940': 0.5,\n",
              " '0100004317': 0.0,\n",
              " '0100004335': 1.5,\n",
              " '0100004536': -0.6153846153846154,\n",
              " '0100004744': 0.0,\n",
              " '0100005721': -8.333333333333334,\n",
              " '0100006176': 3.5,\n",
              " '0100006311': 0.0,\n",
              " '0100006671': 3.0,\n",
              " '0100006823': 3.5,\n",
              " '0100006887': -7.0,\n",
              " '0100007741': 13.0,\n",
              " '0100007796': 1.7777777777777777,\n",
              " '0100007916': -23.666666666666668,\n",
              " '0100008001': -6.333333333333333,\n",
              " '0100008347': 2.6666666666666665,\n",
              " '0100008870': 0.0,\n",
              " '0100009866': 0.0,\n",
              " '0100009932': 2.6666666666666665,\n",
              " '0100009983': 8.0,\n",
              " '0100010082': -30.0,\n",
              " '0100010265': 3.0,\n",
              " '0100011023': -2.0,\n",
              " '0100011556': -10.0,\n",
              " '0100011656': -6.0,\n",
              " '0100011799': -4.0,\n",
              " '0100011895': 0.5,\n",
              " '0100011958': 2.0625,\n",
              " '0100012181': -26.0,\n",
              " '0100012482': -3.5,\n",
              " '0100012638': -1.0,\n",
              " '0100012698': 16.75,\n",
              " '0100012707': 22.5,\n",
              " '0100012991': -1.5555555555555556,\n",
              " '0100013148': -3.0,\n",
              " '0100013335': -6.5,\n",
              " '0100013347': 8.5,\n",
              " '0100013521': -1.0,\n",
              " '0100013928': -0.25,\n",
              " '0100014187': 0.0,\n",
              " '0100014288': -8.0,\n",
              " '0100014810': 12.0,\n",
              " '0100015455': 1.3333333333333333,\n",
              " '0100015557': -2.3846153846153846,\n",
              " '0100015818': -1.0,\n",
              " '0100016691': 5.625,\n",
              " '0100017545': -10.166666666666666,\n",
              " '0100018142': 11.0,\n",
              " '0100018311': 1.0,\n",
              " '0100018986': 7.0,\n",
              " '0100019293': 3.125,\n",
              " '0100019410': -3.5,\n",
              " '0100021392': -0.5,\n",
              " '0100021540': -0.2857142857142857,\n",
              " '0100021633': -2.0,\n",
              " '0100022342': 2.5,\n",
              " '0100024102': 2.2,\n",
              " '0100024746': 130.0,\n",
              " '0100024767': 9.5,\n",
              " '0100024776': 0.8,\n",
              " '0100025066': -1.5,\n",
              " '0100025068': 66.0,\n",
              " '0100025382': 5.0,\n",
              " '0100025470': 0.16666666666666666,\n",
              " '0100025658': 8.6,\n",
              " '0100025721': 6.333333333333333,\n",
              " '0100025890': -0.125,\n",
              " '0100026809': -2.875,\n",
              " '0100026902': 2.0,\n",
              " '0100026939': 2.0,\n",
              " '0100026947': -1.0,\n",
              " '0100027103': 0.0,\n",
              " '0100027281': 22.0,\n",
              " '0100027362': -2.0,\n",
              " '0100027617': 13.0,\n",
              " '0100027744': 5.5,\n",
              " '0100027772': -4.0,\n",
              " '0100028184': 10.0,\n",
              " '0100028210': 7.0,\n",
              " '0100028237': 6.0,\n",
              " '0100028299': 1.0,\n",
              " '0100028413': 0.0,\n",
              " '0100028450': 2.7777777777777777,\n",
              " '0100028708': 8.5,\n",
              " '0100028715': 0.0,\n",
              " '0100028731': 2.0,\n",
              " '0100028952': 9.0,\n",
              " '0100029392': 37.0,\n",
              " '0100029649': -0.1111111111111111,\n",
              " '0100029677': 10.333333333333334,\n",
              " '0100029726': 5.0,\n",
              " '0100029811': 4.666666666666667,\n",
              " '0100029855': 24.0,\n",
              " '0100030014': -4.8,\n",
              " '0100030194': 6.827586206896552,\n",
              " '0100030223': -5.0,\n",
              " '0100030250': 2.5,\n",
              " '0100030419': 25.0,\n",
              " '0100030443': 1.2,\n",
              " '0100030565': -3.0,\n",
              " '0100030646': 11.0,\n",
              " '0100030653': 5.0,\n",
              " '0100030855': -4.0,\n",
              " '0100030964': -6.32258064516129,\n",
              " '0100031483': -2.6666666666666665,\n",
              " '0100031628': 8.25,\n",
              " '0100031686': 3.5,\n",
              " '0100031704': 1.2829457364341086,\n",
              " '0100031723': -2.8,\n",
              " '0100031757': 3.0,\n",
              " '0100031920': -1.6666666666666667,\n",
              " '0100031969': 3.0,\n",
              " '0100031970': 4.0,\n",
              " '0100032278': 4.333333333333333,\n",
              " '0100032284': 16.75,\n",
              " '0100032505': -5.666666666666667,\n",
              " '0100032523': 14.0,\n",
              " '0100032791': 10.5,\n",
              " '0100033268': -3.0,\n",
              " '0100033394': -1.8,\n",
              " '0100033439': -3.5,\n",
              " '0100033558': -21.5,\n",
              " '0100034022': -6.666666666666667,\n",
              " '0100034087': -28.0,\n",
              " '0100034330': 5.4375,\n",
              " '0100034443': 0.2,\n",
              " '0100034822': -2.0,\n",
              " '0100034952': 2.0,\n",
              " '0100034953': 5.0,\n",
              " '0100034954': 5.0,\n",
              " '0100034958': 6.0,\n",
              " '0100034961': 10.0,\n",
              " '0100035071': 16.0,\n",
              " '0100035111': -10.0,\n",
              " '0100035134': 8.0,\n",
              " '0100035137': -2.0,\n",
              " '0100035138': 1.0,\n",
              " '0100035139': -1.0,\n",
              " '0100035143': -1.0,\n",
              " '0100035260': 4.0,\n",
              " '0100035296': 9.0,\n",
              " '0100035505': 7.333333333333333,\n",
              " '0100035578': 1.0,\n",
              " '0100035824': -1.0,\n",
              " '0100035833': -4.0,\n",
              " '0100035877': 1.5714285714285714,\n",
              " '0100035971': 2.6666666666666665,\n",
              " '0100036009': 7.666666666666667,\n",
              " '0100036039': -2.0,\n",
              " '0100036060': 7.0,\n",
              " '0100036062': 0.0,\n",
              " '0100036066': 1.72,\n",
              " '0100036136': -9.0,\n",
              " '0100036153': 1.0,\n",
              " '0100036168': 8.0,\n",
              " '0100036250': -4.0,\n",
              " '0100036292': 6.846153846153846,\n",
              " '0100036318': 4.666666666666667,\n",
              " '0100036451': 15.0,\n",
              " '0100036470': -1.0,\n",
              " '0100036486': 3.0,\n",
              " '0100036530': -3.0,\n",
              " '0100036538': -6.75,\n",
              " '0100037174': 2.6666666666666665,\n",
              " '0100037383': 13.5,\n",
              " '0100037583': -10.0,\n",
              " '0100043883': 3.5,\n",
              " '0100043892': -0.6923076923076923,\n",
              " '0100043895': -5.0,\n",
              " '0100043898': 29.0,\n",
              " '0100043902': -5.0,\n",
              " '0100043903': -5.5,\n",
              " '0100043909': 2.0,\n",
              " '0100043921': 4.5,\n",
              " '0100043928': 0.0,\n",
              " '0100043931': 7.666666666666667,\n",
              " '0100043933': -15.0,\n",
              " '0100043936': 0.76,\n",
              " '0100043946': -5.0,\n",
              " '0100043948': -1.5714285714285714,\n",
              " '0100043949': -0.3333333333333333,\n",
              " '0100043955': 14.0,\n",
              " '0100043956': 0.5,\n",
              " '0100043961': 0.0,\n",
              " '0100043962': -29.0,\n",
              " '0100043963': -8.5,\n",
              " '0100043964': -6.0,\n",
              " '0100043973': -6.666666666666667,\n",
              " '0100043975': 1.0,\n",
              " '0100043977': 19.0,\n",
              " '0100043978': 45.0,\n",
              " '0100043987': 3.0,\n",
              " '0100043993': -4.0,\n",
              " '0100044010': -21.666666666666668,\n",
              " '0100044019': -8.0,\n",
              " '0100044037': 0.0,\n",
              " '0100044044': 16.0,\n",
              " '0100044048': 24.0,\n",
              " '0100044049': 12.0,\n",
              " '0100046048': -0.4,\n",
              " '0100046464': 1.0,\n",
              " '0100046476': 4.0,\n",
              " '0100046479': -1.0,\n",
              " '0100046480': 1.0,\n",
              " '0100046487': -3.0,\n",
              " '0100046614': 41.0,\n",
              " '0100047273': 75.0,\n",
              " '0100047366': 7.0,\n",
              " '0100047382': -8.0,\n",
              " '0100047388': 0.0,\n",
              " '0100047397': -2.0,\n",
              " '0100047403': 8.0,\n",
              " '0100047441': 25.5,\n",
              " '0100047471': -5.0,\n",
              " '0100047527': 4.6,\n",
              " '0100047674': 1.1666666666666667,\n",
              " '0100047799': 46.5,\n",
              " '0100047806': 1.75,\n",
              " '0100048218': 11.0,\n",
              " '0100048689': 9.666666666666666,\n",
              " '0100049075': 3.0,\n",
              " '0100049079': 4.888888888888889,\n",
              " '0100049207': -6.6,\n",
              " '0100049577': 15.5,\n",
              " '0100049605': 126.0,\n",
              " '0100049617': 2.0,\n",
              " '0100049661': 15.0,\n",
              " '0100049747': 13.5,\n",
              " '0100049850': -42.0,\n",
              " '0100049962': -14.0,\n",
              " '0100050364': 1.2222222222222223,\n",
              " '0100050377': 4.0,\n",
              " '0100050491': 1.0,\n",
              " '0100050703': -0.6666666666666666,\n",
              " '0100050962': 10.0,\n",
              " '0100051641': 27.0,\n",
              " '0100051668': -8.0,\n",
              " '0100051674': 4.0,\n",
              " '0100052024': -2.5,\n",
              " '0100052167': 0.0,\n",
              " '0100052229': 0.0,\n",
              " '0100052281': -30.0,\n",
              " '0100052692': 32.0,\n",
              " '0100052751': 17.0,\n",
              " '0100052782': 2.3333333333333335,\n",
              " '0100052815': 6.0,\n",
              " '0100052830': 15.5,\n",
              " '0100052909': 1.0,\n",
              " '0100052927': -6.0,\n",
              " '0100053090': -5.75,\n",
              " '0100053298': -3.0,\n",
              " '0100053411': -0.75,\n",
              " '0100053542': 3.5,\n",
              " '0100053554': 1.0,\n",
              " '0100053578': 8.0,\n",
              " '0100053763': 5.666666666666667,\n",
              " '0100053926': 0.3333333333333333,\n",
              " '0100054027': 3.0,\n",
              " '0100054178': 21.0,\n",
              " '0100054194': -12.333333333333334,\n",
              " '0100054231': 9.0,\n",
              " '0100054380': -2.0,\n",
              " '0100054539': -12.0,\n",
              " '0100054709': 9.0,\n",
              " '0100054867': -1.5,\n",
              " '0100054980': -1.6666666666666667,\n",
              " '0100054993': 5.0,\n",
              " '0100055068': 1.0,\n",
              " '0100055160': -20.0,\n",
              " '0100055290': 14.0,\n",
              " '0100055606': 1.0,\n",
              " '0100056133': -5.5,\n",
              " '0100056666': 0.0,\n",
              " '0100056786': 11.0,\n",
              " '0100057168': 0.5,\n",
              " '0100057642': 7.0,\n",
              " '0100057868': 5.0,\n",
              " '0100057874': 5.0,\n",
              " '0100058003': -18.0,\n",
              " '0100058011': -20.0,\n",
              " '0100058031': -9.0,\n",
              " '0100058035': -14.0,\n",
              " '0100058044': -3.0,\n",
              " '0100058048': 19.0,\n",
              " '0100058056': 4.0,\n",
              " '0100058075': 3.0,\n",
              " '0100058316': -6.0,\n",
              " '0100058365': -7.5,\n",
              " '0140049310': -0.5,\n",
              " '0140101555': 11.0,\n",
              " '0140101577': -24.0,\n",
              " '0140101584': -2.8,\n",
              " '0140101591': 9.333333333333334,\n",
              " '0140101682': 13.0,\n",
              " '0140101772': -0.5,\n",
              " '0140101904': -21.0,\n",
              " '0140102142': -3.0,\n",
              " '0140102883': 18.0,\n",
              " '0140103278': 3.357142857142857,\n",
              " '0140103293': -4.6,\n",
              " '0140103311': 0.0,\n",
              " '0140103335': -2.076923076923077,\n",
              " '0140103392': -7.0,\n",
              " '0140103394': -12.0,\n",
              " '0140103400': -2.6,\n",
              " '0140103409': -4.777777777777778,\n",
              " '0140103413': -10.0,\n",
              " '0140103415': 7.0,\n",
              " '0140103423': -6.5,\n",
              " '0140103435': 5.666666666666667,\n",
              " '0140103461': 10.0,\n",
              " '0140103470': -1.0,\n",
              " '0140103480': -0.7428571428571429,\n",
              " '0140103496': -8.0,\n",
              " '0140103499': 8.0,\n",
              " '0140103592': -1.4615384615384615,\n",
              " '0140103621': 20.0,\n",
              " '0140103699': -2.5,\n",
              " '0140103713': -2.25,\n",
              " '0140103767': 0.0,\n",
              " '0140103983': 12.5,\n",
              " '0140104146': 1.0,\n",
              " '0140104223': 8.0,\n",
              " '0140104225': -0.8378378378378378,\n",
              " '0140104229': 2.0869565217391304,\n",
              " '0140104234': 5.0,\n",
              " '0140104240': 2.292682926829268,\n",
              " '0140104249': 5.290909090909091,\n",
              " '0140104258': -3.0,\n",
              " '0140104263': 11.285714285714286,\n",
              " '0140104265': 5.0,\n",
              " '0140104277': 7.5,\n",
              " '0140104285': 1.0,\n",
              " '0140104331': -6.0,\n",
              " '0140104336': -1.0,\n",
              " '0140104340': 2.4705882352941178,\n",
              " '0140104392': 6.4,\n",
              " '0140104409': 1.2994350282485876,\n",
              " '0140104423': 0.030303030303030304,\n",
              " '0140104429': 4.833333333333333,\n",
              " '0140104432': 6.666666666666667,\n",
              " '0140104440': 5.934010152284264,\n",
              " '0140104472': 4.470588235294118,\n",
              " '0140104475': 10.1,\n",
              " '0140104508': 8.75,\n",
              " '0140104550': 11.666666666666666,\n",
              " '0140104552': -0.23529411764705882,\n",
              " '0140104878': -1.0,\n",
              " '0140104950': -0.5,\n",
              " '0140104978': 0.0,\n",
              " '0140104995': 5.0,\n",
              " '0140105000': -0.5,\n",
              " '0140105039': -3.0,\n",
              " '0140105357': 1.5,\n",
              " '0140105414': 7.0,\n",
              " '0140105508': -2.2666666666666666,\n",
              " '0140105578': -14.0,\n",
              " '0140105652': 2.0,\n",
              " '0140105678': 7.666666666666667,\n",
              " '0140105686': 4.770053475935829,\n",
              " '0140105713': 0.16666666666666666,\n",
              " '0140105785': 8.0,\n",
              " '0140105845': 2.0,\n",
              " '0140105847': 5.0576923076923075,\n",
              " '0140105963': 11.285714285714286,\n",
              " '0140106030': -3.0,\n",
              " '0140106078': 5.0,\n",
              " '0140106099': 3.0,\n",
              " '0140106181': 61.473684210526315,\n",
              " '0140106184': 4.333333333333333,\n",
              " '0140106200': 2.0,\n",
              " '0140106209': -3.75,\n",
              " '0140106212': -0.3333333333333333,\n",
              " '0140106224': -1.0,\n",
              " '0140106227': 4.0,\n",
              " '0140106231': 5.0,\n",
              " '0140106244': 11.0,\n",
              " '0140106249': 2.7142857142857144,\n",
              " '0140106257': 2.0,\n",
              " '0140106260': 5.5,\n",
              " '0140106263': 11.0,\n",
              " '0140106271': 2.5,\n",
              " '0140106293': 3.310344827586207,\n",
              " '0140106302': 10.0,\n",
              " '0140106316': -1.3333333333333333,\n",
              " '0140106343': 1.6666666666666667,\n",
              " '0140106347': -2.0,\n",
              " '0140106358': -1.0,\n",
              " '0140106372': 0.8333333333333334,\n",
              " '0140106376': -0.6666666666666666,\n",
              " '0140106379': 3.0,\n",
              " '0140106408': 8.962145110410095,\n",
              " '0140106421': 2.3333333333333335,\n",
              " '0140106434': 1.0,\n",
              " '0140115721': 0.0,\n",
              " '0140118168': -2.0,\n",
              " '0140118172': -14.333333333333334,\n",
              " '0140120967': 4.2,\n",
              " '0140136190': -7.0,\n",
              " '0140142846': 2.84375,\n",
              " '0200014556': 1.1111111111111112,\n",
              " '0200019542': 3.0,\n",
              " '0200024233': 68.0,\n",
              " '0200029010': 4.621621621621622,\n",
              " '0200032026': 2.0,\n",
              " '0200033653': 8.0,\n",
              " '0200035911': 3.0,\n",
              " '0200036413': 1.0,\n",
              " '0200037027': -0.2,\n",
              " '0200039093': 1.5,\n",
              " '0200040366': 6.7,\n",
              " '0200048886': -1.1428571428571428,\n",
              " '0200050554': 0.0,\n",
              " '0200058206': 3.0,\n",
              " '0200063296': -1.25,\n",
              " '0200066217': -2.0,\n",
              " '0200071186': 1.0,\n",
              " '0200076137': -0.0625,\n",
              " '0200077530': -19.5,\n",
              " '0200077933': -2.0,\n",
              " '0200077943': -2.0,\n",
              " '0200078245': 2.0,\n",
              " '0200078443': 6.0,\n",
              " '0200078609': -8.0,\n",
              " '0200078795': 1.3777777777777778,\n",
              " '0200078854': -0.2857142857142857,\n",
              " '0200084659': 13.75,\n",
              " '0200085585': 2.0,\n",
              " '0200093491': 1.0,\n",
              " '0200096390': 2.142857142857143,\n",
              " '0200097356': 0.0,\n",
              " '0200101145': 10.0,\n",
              " '0200101621': 1.75,\n",
              " '0200103402': 4.5,\n",
              " '0200112301': 0.0,\n",
              " '0200115792': 32.333333333333336,\n",
              " '0200117492': -0.25,\n",
              " '0200122006': 0.0,\n",
              " '0200122145': 6.0,\n",
              " '0200122490': 0.0,\n",
              " '0200124052': -6.666666666666667,\n",
              " '0200124634': 10.0,\n",
              " '0200126819': 0.7586206896551724,\n",
              " '0200129450': 4.3125,\n",
              " '0200132251': 2.6,\n",
              " '0200134883': -5.0,\n",
              " '0200135060': 0.0,\n",
              " '0200138417': 13.0,\n",
              " '0200139730': -3.0,\n",
              " '0200148860': -4.46448087431694,\n",
              " '0200149567': 1.0833333333333333,\n",
              " '0200152841': -9.0,\n",
              " '0200152991': 2.274336283185841,\n",
              " '0200164995': -1.5,\n",
              " '0200172815': -2.75,\n",
              " '0200182291': -6.0,\n",
              " '0200182381': 13.0,\n",
              " '0200185734': -1.0,\n",
              " '0200186937': 1.1363636363636365,\n",
              " '0200192492': -24.333333333333332,\n",
              " '0200197349': 0.0,\n",
              " '0200198605': -1.0,\n",
              " '0200200340': 50.0,\n",
              " '0200200412': -1.75,\n",
              " '0200202604': 9.0,\n",
              " '0200207008': 6.0,\n",
              " '0200210681': -7.0,\n",
              " '0200212683': 0.0,\n",
              " '0200219770': 2.0,\n",
              " '0200229974': 3.8378378378378377,\n",
              " '0200230690': 1.6666666666666667,\n",
              " '0200231309': -2.0,\n",
              " '0200232199': 22.0,\n",
              " '0200236583': 1.8,\n",
              " '0200238407': 0.0,\n",
              " '0200246495': -0.3333333333333333,\n",
              " '0200253680': 0.2,\n",
              " '0200255310': -2.0,\n",
              " '0200257211': -2.0,\n",
              " '0200268458': 0.0,\n",
              " '0200274078': -10.0,\n",
              " '0200275115': 1.2105263157894737,\n",
              " '0200275253': -2.0,\n",
              " '0200279964': 5.0,\n",
              " '0200286074': -0.5,\n",
              " '0200287284': -16.5,\n",
              " '0200290370': 2.5483870967741935,\n",
              " '0200307138': -7.0,\n",
              " '0200308132': 3.0,\n",
              " '0200315290': -0.7777777777777778,\n",
              " '0200326954': 1.3333333333333333,\n",
              " '0200331749': 1.3783783783783783,\n",
              " '0200337148': -0.45714285714285713,\n",
              " '0200342745': -7.0,\n",
              " '0200345943': 2.125,\n",
              " '0200346918': 1.0,\n",
              " '0200357714': 1.8571428571428572,\n",
              " '0200358522': 9.333333333333334,\n",
              " '0200359490': 0.8,\n",
              " '0200362900': 3.5,\n",
              " '0200366118': -1.0,\n",
              " '0200372070': -4.0,\n",
              " '0200375138': 11.4,\n",
              " '0200378310': -0.25,\n",
              " '0200378414': 0.0,\n",
              " '0200382900': 0.2222222222222222,\n",
              " '0200384836': 0.0,\n",
              " '0200386051': 21.4,\n",
              " '0200387240': 2.0,\n",
              " '0200387798': 1.8888888888888888,\n",
              " '0200390794': -0.6666666666666666,\n",
              " '0200390937': 1.0,\n",
              " '0200396637': -3.652173913043478,\n",
              " '0200397082': 3.2222222222222223,\n",
              " '0200397176': 5.0,\n",
              " '0200397526': 13.5,\n",
              " '0200399141': 7.2,\n",
              " '0200400844': 4.0,\n",
              " '0200403651': -0.1111111111111111,\n",
              " '0200403703': 3.375,\n",
              " '0200406153': 5.0,\n",
              " '0200406273': 5.0,\n",
              " '0200407025': 0.7631578947368421,\n",
              " '0200410851': 10.0,\n",
              " '0200413833': 4.5,\n",
              " '0200417804': -2.0,\n",
              " '0200418007': -3.532710280373832,\n",
              " '0200420725': 4.0,\n",
              " '0200424504': 2.9411764705882355,\n",
              " '0200426616': -1.0,\n",
              " '0200434439': 0.5694444444444444,\n",
              " '0200435191': -3.75,\n",
              " '0200437182': 0.75,\n",
              " '0200439044': 3.0,\n",
              " '0200439158': 1.4666666666666666,\n",
              " '0200443644': 1.0,\n",
              " '0200447006': 23.0,\n",
              " '0200447765': 4.0,\n",
              " '0200452014': 3.5,\n",
              " '0200452949': 2.0,\n",
              " '0200455322': 6.934426229508197,\n",
              " '0200457993': -4.928571428571429,\n",
              " '0200458131': 0.8,\n",
              " '0200458253': 5.333333333333333,\n",
              " '0200459173': 6.5,\n",
              " '0200463411': 2.0,\n",
              " '0200466603': 0.5714285714285714,\n",
              " '0200468954': 4.0,\n",
              " '0200472086': -1.0,\n",
              " '0200472566': 6.5,\n",
              " '0200472708': 11.0,\n",
              " '0200481695': -2.0,\n",
              " '0200486270': -0.375,\n",
              " '0200489854': 22.0,\n",
              " '0200490745': 3.0,\n",
              " '0200493614': 1.6,\n",
              " '0200494102': 0.6666666666666666,\n",
              " '0200500195': 0.0,\n",
              " '0200501669': 6.909090909090909,\n",
              " '0200508557': 2.1666666666666665,\n",
              " '0200511033': -3.0,\n",
              " '0200512145': -30.0,\n",
              " '0200515231': 2.0588235294117645,\n",
              " '0200516657': 0.0,\n",
              " '0200519201': 6.217391304347826,\n",
              " '0200526831': 0.5,\n",
              " '0200529372': 13.333333333333334,\n",
              " '0200539926': -0.25,\n",
              " '0200540723': -1.75,\n",
              " '0200541916': 0.0,\n",
              " '0200543982': -3.0,\n",
              " '0200550425': -1.0,\n",
              " '0200553372': -0.6666666666666666,\n",
              " '0200555117': 3.3191489361702127,\n",
              " '0200555693': 0.0,\n",
              " '0200557600': 2.090909090909091,\n",
              " '0200559683': 2.6,\n",
              " '0200560331': -22.0,\n",
              " '0200561861': -0.275,\n",
              " '0200565499': 0.0,\n",
              " '0200571849': 1.7352941176470589,\n",
              " '0200573068': -0.14285714285714285,\n",
              " '0200576926': -0.4,\n",
              " '0200580232': -0.8076923076923077,\n",
              " '0200589514': 0.5,\n",
              " '0200603114': 1.0,\n",
              " '0200605403': 5.0,\n",
              " '0200606231': -0.5,\n",
              " '0200608118': -0.1,\n",
              " '0200609331': 0.8333333333333334,\n",
              " '0200610381': -3.0,\n",
              " '0200612379': -2.0,\n",
              " '0200622385': 1.2666666666666666,\n",
              " '0200623300': 0.0,\n",
              " '0200624321': -1.5,\n",
              " '0200630112': 2.0,\n",
              " '0200637319': -1.0,\n",
              " '0200646464': 0.5714285714285714,\n",
              " '0200656729': -4.0,\n",
              " '0200657619': 3.5,\n",
              " '0200658936': 1.0,\n",
              " '0200661137': -6.375,\n",
              " '0200668077': 4.25,\n",
              " '0200673194': 1.2222222222222223,\n",
              " '0200674679': -1.0,\n",
              " '0200675050': 2.0,\n",
              " '0200677269': -2.5,\n",
              " '0200678532': 1.5,\n",
              " '0200679800': 26.0,\n",
              " '0200681816': -2.0,\n",
              " '0200684768': 4.0,\n",
              " '0200685603': -7.0,\n",
              " '0200685765': 3.6666666666666665,\n",
              " '0200687457': -7.0,\n",
              " '0200689451': 0.0,\n",
              " '0200692711': -3.0,\n",
              " '0200696090': 1.525,\n",
              " '0200697207': -0.14285714285714285,\n",
              " '0200700057': 0.0,\n",
              " '0200700919': 0.8235294117647058,\n",
              " '0200701040': -2.3636363636363638,\n",
              " '0200701314': 1.2727272727272727,\n",
              " '0200702238': -1.0,\n",
              " '0200702946': 1.0,\n",
              " '0200703332': 0.0,\n",
              " '0200703398': -3.0,\n",
              " '0200703851': 13.0,\n",
              " '0200704045': 0.7243589743589743,\n",
              " '0200704858': -2.985074626865672,\n",
              " '0200705089': -0.27692307692307694,\n",
              " '0200705372': 0.5238095238095238,\n",
              " '0200705742': -7.252408477842004,\n",
              " '0200705985': -1.0,\n",
              " '0200706331': 0.0,\n",
              " '0200706844': 0.6822033898305084,\n",
              " '0200707005': 0.3142857142857143,\n",
              " '0200707519': -1.5,\n",
              " '0200707741': 4.545454545454546,\n",
              " '0200707822': 0.5658198614318707,\n",
              " '0200708411': -7.769230769230769,\n",
              " '0200711029': -0.016129032258064516,\n",
              " '0200711899': -4.0,\n",
              " '0200712102': 8.35483870967742,\n",
              " '0200712105': 2.586206896551724,\n",
              " '0200712187': 0.0,\n",
              " '0200712349': -5.5,\n",
              " '0200712836': -0.6666666666666666,\n",
              " '0200713007': 3.6,\n",
              " '0200714710': 1.593984962406015,\n",
              " '0200716210': 3.0,\n",
              " '0200718130': 0.45454545454545453,\n",
              " '0200718164': 0.0,\n",
              " '0200718635': 2.5,\n",
              " '0200719300': 2.8518518518518516,\n",
              " '0200719526': -1.8333333333333333,\n",
              " '0200719839': -0.9,\n",
              " '0200720238': -1.3333333333333333,\n",
              " '0200720419': -8.5,\n",
              " '0200721222': 0.46153846153846156,\n",
              " '0200721330': 2.9285714285714284,\n",
              " '0200721530': -2.857142857142857,\n",
              " '0200722352': -0.6666666666666666,\n",
              " '0200722369': -4.125,\n",
              " '0200722444': -1.7285714285714286,\n",
              " '0200723406': 0.0,\n",
              " '0200723794': 0.4642857142857143,\n",
              " '0200724432': -4.0,\n",
              " '0200724999': 8.5,\n",
              " '0200725393': -9.0,\n",
              " '0200725421': 1.0810810810810811,\n",
              " '0200725511': -7.0,\n",
              " '0200726025': -3.5714285714285716,\n",
              " '0200726979': 1.0243024302430244,\n",
              " '0200727272': 3.9,\n",
              " '0200727278': 0.6,\n",
              " '0200727524': 0.0,\n",
              " '0200728270': 4.5,\n",
              " '0200728652': -1.0,\n",
              " '0200728703': -2.0,\n",
              " '0200729290': 1.3636363636363635,\n",
              " '0200729477': -6.0,\n",
              " '0200729828': -0.4482758620689655,\n",
              " '0200729942': -2.5460122699386503,\n",
              " '0200729968': 0.6666666666666666,\n",
              " '0200731999': 0.3333333333333333,\n",
              " '0200732755': 0.78,\n",
              " '0200733702': -3.0,\n",
              " '0200734891': 2.0,\n",
              " '0200735226': -4.0,\n",
              " '0200735528': 1.4482758620689655,\n",
              " '0200736312': 0.0,\n",
              " '0200736337': 1.225,\n",
              " '0200737422': -2.0,\n",
              " '0200737918': -2.3333333333333335,\n",
              " '0200738514': -5.25,\n",
              " '0200738884': 2.6666666666666665,\n",
              " '0200739006': 0.5411764705882353,\n",
              " '0200739044': -0.4,\n",
              " '0200739074': -1.0,\n",
              " '0200739386': -3.0,\n",
              " '0200739534': 0.984375,\n",
              " '0200739941': -0.8333333333333334,\n",
              " '0200740393': -2.5,\n",
              " '0200741174': 1.6923076923076923,\n",
              " '0200741831': 4.555555555555555,\n",
              " '0200742344': 0.25,\n",
              " '0200742419': -10.0,\n",
              " '0200742492': -1.5,\n",
              " '0200742521': 1.35,\n",
              " '0200742791': 2.107142857142857,\n",
              " '0200743123': 1.0625,\n",
              " '0200743129': -3.5384615384615383,\n",
              " '0200743592': -2.0,\n",
              " '0200743618': 2.8,\n",
              " '0200743996': 2.380952380952381,\n",
              " '0200744019': 2.13251155624037,\n",
              " '0200744410': 0.6,\n",
              " '0200744707': -0.3333333333333333,\n",
              " '0200745469': -8.0,\n",
              " '0200747369': -0.6857142857142857,\n",
              " '0200747831': -4.5,\n",
              " '0200748108': 2.6140350877192984,\n",
              " '0200748335': 4.333333333333333,\n",
              " '0200749091': 3.0,\n",
              " '0200749225': 1.5098039215686274,\n",
              " '0200749730': 3.0,\n",
              " '0200749782': 0.6727272727272727,\n",
              " '0200750051': 0.5342465753424658,\n",
              " '0200750131': 2.0,\n",
              " '0200751137': 2.0,\n",
              " '0200751679': 0.0,\n",
              " '0200752302': 1.6491228070175439,\n",
              " '0200752393': -6.863636363636363,\n",
              " '0200752607': -8.333333333333334,\n",
              " '0200754118': -4.4,\n",
              " '0200754142': 2.0,\n",
              " '0200754278': 2.375,\n",
              " '0200755288': -4.666666666666667,\n",
              " '0200755701': 0.09523809523809523,\n",
              " '0200756072': 2.9306930693069306,\n",
              " '0200756811': 7.666666666666667,\n",
              " '0200758531': -1.0,\n",
              " '0200758883': -1.0,\n",
              " '0200759082': 1.2972972972972974,\n",
              " '0200759878': 1.108433734939759,\n",
              " '0200760428': 6.0,\n",
              " '0200760666': 1.6923076923076923,\n",
              " '0200761342': 2.0,\n",
              " '0200761497': 0.6,\n",
              " '0200761734': -3.038732394366197,\n",
              " '0200762166': 12.0,\n",
              " '0200762301': -0.47156153050672184,\n",
              " '0200762950': -0.16666666666666666,\n",
              " '0200763152': 4.0,\n",
              " '0200763229': 0.9,\n",
              " '0200763489': 0.6470588235294118,\n",
              " '0200763814': 1.6124031007751938,\n",
              " '0200764795': 2.2327586206896552,\n",
              " '0200765011': 1.631578947368421,\n",
              " '0200767520': 3.25,\n",
              " '0200767729': -3.4285714285714284,\n",
              " '0200768357': 0.0,\n",
              " '0200769037': 0.0,\n",
              " '0200769072': 1.6666666666666667,\n",
              " '0200769369': 0.7209302325581395,\n",
              " '0200769556': -8.0,\n",
              " '0200769623': -2.3308398023994354,\n",
              " '0200769643': 0.0,\n",
              " '0200770567': -0.38461538461538464,\n",
              " '0200770677': -2.5714285714285716,\n",
              " '0200771157': 0.9821428571428571,\n",
              " '0200772595': 0.06521739130434782,\n",
              " '0200772670': 1.8905723905723906,\n",
              " '0200773094': 4.0,\n",
              " '0200773364': -3.5,\n",
              " '0200774000': -1.0,\n",
              " '0200774517': -1.0,\n",
              " '0200775094': 1.5,\n",
              " '0200775660': 2.0,\n",
              " '0200776463': 1.3440860215053763,\n",
              " '0200777735': -5.413793103448276,\n",
              " '0200778355': 2.7906976744186047,\n",
              " '0200778870': 6.011904761904762,\n",
              " '0200778998': -0.36363636363636365,\n",
              " '0200779051': -9.935483870967742,\n",
              " '0200779111': -2.4,\n",
              " '0200779166': -4.0,\n",
              " '0200779340': -3.5,\n",
              " '0200779719': 0.16666666666666666,\n",
              " '0200779906': 2.0714285714285716,\n",
              " '0200780383': 1.4107744107744107,\n",
              " '0200780825': 3.590909090909091,\n",
              " '0200780849': -0.058823529411764705,\n",
              " '0200781484': -2.0,\n",
              " '0200781803': 0.6538461538461539,\n",
              " '0200781831': 2.2,\n",
              " '0200782001': 1.125925925925926,\n",
              " '0200782207': 4.666666666666667,\n",
              " '0200782249': -1.0,\n",
              " '0200782669': 0.42,\n",
              " '0200782772': 0.0,\n",
              " '0200783189': -5.166666666666667,\n",
              " '0200783190': 0.2222222222222222,\n",
              " '0200783289': 3.0,\n",
              " '0200783317': -0.3333333333333333,\n",
              " '0200783609': 2.0,\n",
              " '0200783734': -1.5,\n",
              " '0200784454': 4.0,\n",
              " '0200784489': 1.3333333333333333,\n",
              " '0200785971': 2.6206896551724137,\n",
              " '0200786288': -0.8208955223880597,\n",
              " '0200788704': 4.333333333333333,\n",
              " '0200788848': -0.125,\n",
              " '0200789077': 1.793103448275862,\n",
              " '0200789266': -2.0,\n",
              " '0200789344': 0.0,\n",
              " '0200789896': 1.0,\n",
              " '0200790012': 9.0,\n",
              " '0200790099': -0.5,\n",
              " '0200790107': 0.6285714285714286,\n",
              " '0200790165': 0.2,\n",
              " '0200790215': -10.0,\n",
              " '0200790543': -0.5714285714285714,\n",
              " '0200790710': 4.0,\n",
              " '0200790748': 0.25,\n",
              " '0200791699': 0.0,\n",
              " '0200791792': -1.8333333333333333,\n",
              " '0200792105': -2.0,\n",
              " '0200792200': 2.0,\n",
              " '0200792277': 1.3333333333333333,\n",
              " '0200792283': 3.6923076923076925,\n",
              " '0200792293': 2.9917355371900825,\n",
              " '0200792734': 0.0,\n",
              " '0200793000': 1.75,\n",
              " '0200793088': -0.5833333333333334,\n",
              " '0200793122': -1.3,\n",
              " '0200793319': -3.4,\n",
              " '0200793513': 0.46153846153846156,\n",
              " '0200793568': 2.5384615384615383,\n",
              " '0200793830': -3.227272727272727,\n",
              " '0200794332': -0.5211640211640212,\n",
              " '0200795091': -7.0,\n",
              " '0200795490': 4.065217391304348,\n",
              " '0200796637': -4.571428571428571,\n",
              " '0200796828': -12.0,\n",
              " '0200797452': 1.305084745762712,\n",
              " '0200797984': 0.16666666666666666,\n",
              " '0200799180': 4.363636363636363,\n",
              " '0200799342': -3.533333333333333,\n",
              " '0200799367': 2.8660287081339715,\n",
              " '0200799420': 0.5,\n",
              " '0200799538': -3.3461538461538463,\n",
              " '0200800406': 7.0,\n",
              " '0200803094': 0.0,\n",
              " '0200803125': 4.0,\n",
              " '0200806580': -4.827586206896552,\n",
              " '0200806643': 0.6,\n",
              " '0200816226': -1.0,\n",
              " '0200816950': 4.785714285714286,\n",
              " '0200820380': 0.5384615384615384,\n",
              " '0200822900': 36.714285714285715,\n",
              " '0200825136': -0.14285714285714285,\n",
              " '0200825139': 12.0,\n",
              " '0200826820': -9.0,\n",
              " '0200827835': -12.25,\n",
              " '0200830009': -27.0,\n",
              " '0200833713': 2.0,\n",
              " '0200845765': 9.0,\n",
              " '0200847305': 4.4,\n",
              " '0200854853': 2.4285714285714284,\n",
              " '0200856934': -3.0,\n",
              " '0200858049': -3.0,\n",
              " '0200861551': -3.6,\n",
              " '0200865666': 0.42105263157894735,\n",
              " '0200875006': 0.8571428571428571,\n",
              " '0200875680': -4.0,\n",
              " '0200879892': 0.0,\n",
              " '0200881076': 0.7857142857142857,\n",
              " '0200886415': 1.2,\n",
              " '0200888842': -1.0,\n",
              " '0200891601': 20.875,\n",
              " '0200895669': -1.25,\n",
              " '0200895843': 3.588235294117647,\n",
              " '0200899778': -3.5,\n",
              " '0200900212': -3.8,\n",
              " '0200900909': 0.9532710280373832,\n",
              " '0200909198': -7.5,\n",
              " '0200913718': 8.0,\n",
              " '0200915438': 1.5,\n",
              " '0200920735': 1.0857142857142856,\n",
              " '0200934569': 35.0,\n",
              " '0200935731': 0.0,\n",
              " '0200935892': 3.0,\n",
              " '0200936373': 1.337719298245614,\n",
              " '0200936615': 1.0,\n",
              " '0200942148': 38.111111111111114,\n",
              " '0200943275': 1.3793103448275863,\n",
              " '0200943423': 0.0,\n",
              " '0200945514': 10.0,\n",
              " '0200948009': -1.0,\n",
              " '0200955827': 5.166666666666667,\n",
              " '0200956366': 0.56,\n",
              " '0200958768': -19.0,\n",
              " '0200963022': -6.0,\n",
              " '0200965912': 1.4722222222222223,\n",
              " '0200966888': 6.5,\n",
              " '0200966902': 5.0,\n",
              " '0200966944': 2.5,\n",
              " '0200971591': 6.0,\n",
              " '0200972004': 0.0,\n",
              " '0200974851': 1.035,\n",
              " '0200978592': 10.416666666666666,\n",
              " '0200978899': 1.7142857142857142,\n",
              " '0200980828': -2.176470588235294,\n",
              " '0200982290': 0.0,\n",
              " '0200982294': -1.75,\n",
              " '0200984655': 10.0,\n",
              " '0200984794': -1.2142857142857142,\n",
              " '0200986966': 0.0,\n",
              " '0200987178': -3.3333333333333335,\n",
              " '0200991008': 9.5,\n",
              " '0200992849': 9.5,\n",
              " '0200999003': -8.0,\n",
              " '100000217': -2.0,\n",
              " '100000222': -4.0,\n",
              " '100001196': -5.714285714285714,\n",
              " '100001452': -1.0,\n",
              " '100006311': -4.0,\n",
              " '100011895': 0.0,\n",
              " '100012638': 1.0,\n",
              " '100012991': 2.5,\n",
              " '100014810': 12.0,\n",
              " '100015557': 9.0,\n",
              " '100016691': 4.0,\n",
              " '100019293': 4.0,\n",
              " '100021540': -20.0,\n",
              " '100021786': -41.0,\n",
              " '100024776': 20.0,\n",
              " '100027744': 7.0,\n",
              " '100028450': 3.0,\n",
              " '100029677': 30.0,\n",
              " '100030194': 19.0,\n",
              " '100030964': -6.0,\n",
              " '100031628': 2.0,\n",
              " '100031704': 0.7142857142857143,\n",
              " '100032178': 17.0,\n",
              " '100033268': -1.0,\n",
              " '100033558': -25.5,\n",
              " '100034955': -2.0,\n",
              " '100035877': 3.0,\n",
              " '100036039': -8.0,\n",
              " '100036060': 46.0,\n",
              " '100036066': 1.0,\n",
              " '100036292': 12.0,\n",
              " '100036538': -7.5,\n",
              " '100043892': -5.0,\n",
              " '100043936': 0.0,\n",
              " '100043955': 12.0,\n",
              " '100044052': 10.0,\n",
              " '100046479': -12.0,\n",
              " '100047339': 8.5,\n",
              " '100047527': 0.0,\n",
              " '100047799': 23.0,\n",
              " '100049207': 3.0,\n",
              " '100049404': 6.0,\n",
              " '100052832': 1.0,\n",
              " '100053763': -9.0,\n",
              " '100054867': -5.0,\n",
              " '100058018': -11.0,\n",
              " '140101584': 1.0,\n",
              " '140101772': 0.0,\n",
              " '140103278': 1.0,\n",
              " '140103335': -6.0,\n",
              " '140103400': -1.0,\n",
              " '140103409': -2.0,\n",
              " '140103435': -9.0,\n",
              " '140103480': 1.0,\n",
              " '140103699': -3.0,\n",
              " '140103767': 0.0,\n",
              " '140104225': -5.0,\n",
              " '140104229': 16.0,\n",
              " '140104240': 2.75,\n",
              " '140104249': 4.0,\n",
              " '140104285': 2.0,\n",
              " '140104340': 2.25,\n",
              " '140104409': 3.2,\n",
              " '140104423': 0.09090909090909091,\n",
              " ...}"
            ]
          },
          "metadata": {
            "tags": []
          },
          "execution_count": 213
        }
      ]
    },
    {
      "cell_type": "code",
      "metadata": {
        "colab": {
          "base_uri": "https://localhost:8080/",
          "height": 295
        },
        "id": "wRk1Cb9VmmqS",
        "outputId": "391d029e-1e06-49bf-c688-febdf58cf17a"
      },
      "source": [
        "# mapping cust_number(ENC)\n",
        "X_train['cust_num(ENC)']=X_train['cust_number'].map(MAPPER)\n",
        "X_train.head()"
      ],
      "execution_count": null,
      "outputs": [
        {
          "output_type": "execute_result",
          "data": {
            "text/html": [
              "<div>\n",
              "<style scoped>\n",
              "    .dataframe tbody tr th:only-of-type {\n",
              "        vertical-align: middle;\n",
              "    }\n",
              "\n",
              "    .dataframe tbody tr th {\n",
              "        vertical-align: top;\n",
              "    }\n",
              "\n",
              "    .dataframe thead th {\n",
              "        text-align: right;\n",
              "    }\n",
              "</style>\n",
              "<table border=\"1\" class=\"dataframe\">\n",
              "  <thead>\n",
              "    <tr style=\"text-align: right;\">\n",
              "      <th></th>\n",
              "      <th>business_code</th>\n",
              "      <th>cust_number</th>\n",
              "      <th>name_customer</th>\n",
              "      <th>clear_date</th>\n",
              "      <th>buisness_year</th>\n",
              "      <th>doc_id</th>\n",
              "      <th>posting_date</th>\n",
              "      <th>document_create_date</th>\n",
              "      <th>document_create_date.1</th>\n",
              "      <th>due_in_date</th>\n",
              "      <th>document type</th>\n",
              "      <th>posting_id</th>\n",
              "      <th>total_open_amount</th>\n",
              "      <th>baseline_create_date</th>\n",
              "      <th>cust_payment_terms</th>\n",
              "      <th>invoice_id</th>\n",
              "      <th>isOpen</th>\n",
              "      <th>inv_curr_code</th>\n",
              "      <th>avg_delay_as_per_terms</th>\n",
              "      <th>cust_name(ENC)</th>\n",
              "      <th>cust_num(ENC)</th>\n",
              "    </tr>\n",
              "  </thead>\n",
              "  <tbody>\n",
              "    <tr>\n",
              "      <th>0</th>\n",
              "      <td>U001</td>\n",
              "      <td>0200782001</td>\n",
              "      <td>GORDO in</td>\n",
              "      <td>2019-03-12</td>\n",
              "      <td>2019.0</td>\n",
              "      <td>1.928829e+09</td>\n",
              "      <td>2019-02-20</td>\n",
              "      <td>2019-02-20</td>\n",
              "      <td>2019-02-20</td>\n",
              "      <td>2019-03-07</td>\n",
              "      <td>RV</td>\n",
              "      <td>1.0</td>\n",
              "      <td>35308.72</td>\n",
              "      <td>2019-02-20</td>\n",
              "      <td>NAA8</td>\n",
              "      <td>1.928829e+09</td>\n",
              "      <td>0</td>\n",
              "      <td>1</td>\n",
              "      <td>0.0</td>\n",
              "      <td>-1.666667</td>\n",
              "      <td>1.125926</td>\n",
              "    </tr>\n",
              "    <tr>\n",
              "      <th>1</th>\n",
              "      <td>U001</td>\n",
              "      <td>0200769623</td>\n",
              "      <td>WAL-MAR corporation</td>\n",
              "      <td>2019-04-23</td>\n",
              "      <td>2019.0</td>\n",
              "      <td>1.929092e+09</td>\n",
              "      <td>2019-04-07</td>\n",
              "      <td>2019-04-05</td>\n",
              "      <td>2019-04-07</td>\n",
              "      <td>2019-04-22</td>\n",
              "      <td>RV</td>\n",
              "      <td>1.0</td>\n",
              "      <td>27641.22</td>\n",
              "      <td>2019-04-07</td>\n",
              "      <td>NAH4</td>\n",
              "      <td>1.929092e+09</td>\n",
              "      <td>0</td>\n",
              "      <td>1</td>\n",
              "      <td>-3.0</td>\n",
              "      <td>-1.967606</td>\n",
              "      <td>-2.330840</td>\n",
              "    </tr>\n",
              "    <tr>\n",
              "      <th>2</th>\n",
              "      <td>U001</td>\n",
              "      <td>0200780849</td>\n",
              "      <td>LAUREL llc</td>\n",
              "      <td>2019-02-13</td>\n",
              "      <td>2019.0</td>\n",
              "      <td>1.928707e+09</td>\n",
              "      <td>2019-01-29</td>\n",
              "      <td>2019-01-29</td>\n",
              "      <td>2019-01-29</td>\n",
              "      <td>2019-02-13</td>\n",
              "      <td>RV</td>\n",
              "      <td>1.0</td>\n",
              "      <td>22092.83</td>\n",
              "      <td>2019-01-29</td>\n",
              "      <td>NAA8</td>\n",
              "      <td>1.928707e+09</td>\n",
              "      <td>0</td>\n",
              "      <td>1</td>\n",
              "      <td>0.0</td>\n",
              "      <td>0.000000</td>\n",
              "      <td>-0.058824</td>\n",
              "    </tr>\n",
              "    <tr>\n",
              "      <th>3</th>\n",
              "      <td>U001</td>\n",
              "      <td>0200743123</td>\n",
              "      <td>KROGER foundation</td>\n",
              "      <td>2019-02-08</td>\n",
              "      <td>2019.0</td>\n",
              "      <td>1.928670e+09</td>\n",
              "      <td>2019-01-24</td>\n",
              "      <td>2019-01-23</td>\n",
              "      <td>2019-01-24</td>\n",
              "      <td>2019-02-08</td>\n",
              "      <td>RV</td>\n",
              "      <td>1.0</td>\n",
              "      <td>79422.35</td>\n",
              "      <td>2019-01-24</td>\n",
              "      <td>NAA8</td>\n",
              "      <td>1.928670e+09</td>\n",
              "      <td>0</td>\n",
              "      <td>1</td>\n",
              "      <td>0.0</td>\n",
              "      <td>0.869565</td>\n",
              "      <td>1.062500</td>\n",
              "    </tr>\n",
              "    <tr>\n",
              "      <th>4</th>\n",
              "      <td>U001</td>\n",
              "      <td>0200769623</td>\n",
              "      <td>WAL-MAR foundation</td>\n",
              "      <td>2020-02-11</td>\n",
              "      <td>2020.0</td>\n",
              "      <td>1.930437e+09</td>\n",
              "      <td>2020-01-25</td>\n",
              "      <td>2020-01-24</td>\n",
              "      <td>2020-01-25</td>\n",
              "      <td>2020-02-09</td>\n",
              "      <td>RV</td>\n",
              "      <td>1.0</td>\n",
              "      <td>764.76</td>\n",
              "      <td>2020-01-25</td>\n",
              "      <td>NAH4</td>\n",
              "      <td>1.930437e+09</td>\n",
              "      <td>0</td>\n",
              "      <td>1</td>\n",
              "      <td>-3.0</td>\n",
              "      <td>-2.168210</td>\n",
              "      <td>-2.330840</td>\n",
              "    </tr>\n",
              "  </tbody>\n",
              "</table>\n",
              "</div>"
            ],
            "text/plain": [
              "  business_code cust_number  ... cust_name(ENC) cust_num(ENC)\n",
              "0          U001  0200782001  ...      -1.666667      1.125926\n",
              "1          U001  0200769623  ...      -1.967606     -2.330840\n",
              "2          U001  0200780849  ...       0.000000     -0.058824\n",
              "3          U001  0200743123  ...       0.869565      1.062500\n",
              "4          U001  0200769623  ...      -2.168210     -2.330840\n",
              "\n",
              "[5 rows x 21 columns]"
            ]
          },
          "metadata": {
            "tags": []
          },
          "execution_count": 214
        }
      ]
    },
    {
      "cell_type": "markdown",
      "metadata": {
        "id": "W5LPi9DenD2x"
      },
      "source": [
        "Now ,\n",
        "       The column cust_number has  beeen encoded as 'cust_num(ENC)'"
      ]
    },
    {
      "cell_type": "markdown",
      "metadata": {
        "id": "lBA-u9Vfwn6n"
      },
      "source": [
        "# 7.1 Feature Engineering"
      ]
    },
    {
      "cell_type": "markdown",
      "metadata": {
        "id": "SmMIc7d9w0m8"
      },
      "source": [
        "Here I am creating a new feature called as \"time_given\"\n",
        "*   This feature denotes the time given to a particular client to clear his payment dues\n",
        "*   time_given=due_in_date - document_create_date.1\n",
        "\n",
        "\n",
        "\n"
      ]
    },
    {
      "cell_type": "code",
      "metadata": {
        "colab": {
          "base_uri": "https://localhost:8080/",
          "height": 295
        },
        "id": "_cVFF0K2oU3_",
        "outputId": "8c4ea6d1-8b3d-4551-d644-94c2c1a273d2"
      },
      "source": [
        "# Creating new feature\n",
        "X_train['time_given']=X_train['due_in_date']-X_train['document_create_date.1']\n",
        "X_train.head()"
      ],
      "execution_count": null,
      "outputs": [
        {
          "output_type": "execute_result",
          "data": {
            "text/html": [
              "<div>\n",
              "<style scoped>\n",
              "    .dataframe tbody tr th:only-of-type {\n",
              "        vertical-align: middle;\n",
              "    }\n",
              "\n",
              "    .dataframe tbody tr th {\n",
              "        vertical-align: top;\n",
              "    }\n",
              "\n",
              "    .dataframe thead th {\n",
              "        text-align: right;\n",
              "    }\n",
              "</style>\n",
              "<table border=\"1\" class=\"dataframe\">\n",
              "  <thead>\n",
              "    <tr style=\"text-align: right;\">\n",
              "      <th></th>\n",
              "      <th>business_code</th>\n",
              "      <th>cust_number</th>\n",
              "      <th>name_customer</th>\n",
              "      <th>clear_date</th>\n",
              "      <th>buisness_year</th>\n",
              "      <th>doc_id</th>\n",
              "      <th>posting_date</th>\n",
              "      <th>document_create_date</th>\n",
              "      <th>document_create_date.1</th>\n",
              "      <th>due_in_date</th>\n",
              "      <th>document type</th>\n",
              "      <th>posting_id</th>\n",
              "      <th>total_open_amount</th>\n",
              "      <th>baseline_create_date</th>\n",
              "      <th>cust_payment_terms</th>\n",
              "      <th>invoice_id</th>\n",
              "      <th>isOpen</th>\n",
              "      <th>inv_curr_code</th>\n",
              "      <th>avg_delay_as_per_terms</th>\n",
              "      <th>cust_name(ENC)</th>\n",
              "      <th>cust_num(ENC)</th>\n",
              "      <th>time_given</th>\n",
              "    </tr>\n",
              "  </thead>\n",
              "  <tbody>\n",
              "    <tr>\n",
              "      <th>0</th>\n",
              "      <td>U001</td>\n",
              "      <td>0200782001</td>\n",
              "      <td>GORDO in</td>\n",
              "      <td>2019-03-12</td>\n",
              "      <td>2019.0</td>\n",
              "      <td>1.928829e+09</td>\n",
              "      <td>2019-02-20</td>\n",
              "      <td>2019-02-20</td>\n",
              "      <td>2019-02-20</td>\n",
              "      <td>2019-03-07</td>\n",
              "      <td>RV</td>\n",
              "      <td>1.0</td>\n",
              "      <td>35308.72</td>\n",
              "      <td>2019-02-20</td>\n",
              "      <td>NAA8</td>\n",
              "      <td>1.928829e+09</td>\n",
              "      <td>0</td>\n",
              "      <td>1</td>\n",
              "      <td>0.0</td>\n",
              "      <td>-1.666667</td>\n",
              "      <td>1.125926</td>\n",
              "      <td>15 days</td>\n",
              "    </tr>\n",
              "    <tr>\n",
              "      <th>1</th>\n",
              "      <td>U001</td>\n",
              "      <td>0200769623</td>\n",
              "      <td>WAL-MAR corporation</td>\n",
              "      <td>2019-04-23</td>\n",
              "      <td>2019.0</td>\n",
              "      <td>1.929092e+09</td>\n",
              "      <td>2019-04-07</td>\n",
              "      <td>2019-04-05</td>\n",
              "      <td>2019-04-07</td>\n",
              "      <td>2019-04-22</td>\n",
              "      <td>RV</td>\n",
              "      <td>1.0</td>\n",
              "      <td>27641.22</td>\n",
              "      <td>2019-04-07</td>\n",
              "      <td>NAH4</td>\n",
              "      <td>1.929092e+09</td>\n",
              "      <td>0</td>\n",
              "      <td>1</td>\n",
              "      <td>-3.0</td>\n",
              "      <td>-1.967606</td>\n",
              "      <td>-2.330840</td>\n",
              "      <td>15 days</td>\n",
              "    </tr>\n",
              "    <tr>\n",
              "      <th>2</th>\n",
              "      <td>U001</td>\n",
              "      <td>0200780849</td>\n",
              "      <td>LAUREL llc</td>\n",
              "      <td>2019-02-13</td>\n",
              "      <td>2019.0</td>\n",
              "      <td>1.928707e+09</td>\n",
              "      <td>2019-01-29</td>\n",
              "      <td>2019-01-29</td>\n",
              "      <td>2019-01-29</td>\n",
              "      <td>2019-02-13</td>\n",
              "      <td>RV</td>\n",
              "      <td>1.0</td>\n",
              "      <td>22092.83</td>\n",
              "      <td>2019-01-29</td>\n",
              "      <td>NAA8</td>\n",
              "      <td>1.928707e+09</td>\n",
              "      <td>0</td>\n",
              "      <td>1</td>\n",
              "      <td>0.0</td>\n",
              "      <td>0.000000</td>\n",
              "      <td>-0.058824</td>\n",
              "      <td>15 days</td>\n",
              "    </tr>\n",
              "    <tr>\n",
              "      <th>3</th>\n",
              "      <td>U001</td>\n",
              "      <td>0200743123</td>\n",
              "      <td>KROGER foundation</td>\n",
              "      <td>2019-02-08</td>\n",
              "      <td>2019.0</td>\n",
              "      <td>1.928670e+09</td>\n",
              "      <td>2019-01-24</td>\n",
              "      <td>2019-01-23</td>\n",
              "      <td>2019-01-24</td>\n",
              "      <td>2019-02-08</td>\n",
              "      <td>RV</td>\n",
              "      <td>1.0</td>\n",
              "      <td>79422.35</td>\n",
              "      <td>2019-01-24</td>\n",
              "      <td>NAA8</td>\n",
              "      <td>1.928670e+09</td>\n",
              "      <td>0</td>\n",
              "      <td>1</td>\n",
              "      <td>0.0</td>\n",
              "      <td>0.869565</td>\n",
              "      <td>1.062500</td>\n",
              "      <td>15 days</td>\n",
              "    </tr>\n",
              "    <tr>\n",
              "      <th>4</th>\n",
              "      <td>U001</td>\n",
              "      <td>0200769623</td>\n",
              "      <td>WAL-MAR foundation</td>\n",
              "      <td>2020-02-11</td>\n",
              "      <td>2020.0</td>\n",
              "      <td>1.930437e+09</td>\n",
              "      <td>2020-01-25</td>\n",
              "      <td>2020-01-24</td>\n",
              "      <td>2020-01-25</td>\n",
              "      <td>2020-02-09</td>\n",
              "      <td>RV</td>\n",
              "      <td>1.0</td>\n",
              "      <td>764.76</td>\n",
              "      <td>2020-01-25</td>\n",
              "      <td>NAH4</td>\n",
              "      <td>1.930437e+09</td>\n",
              "      <td>0</td>\n",
              "      <td>1</td>\n",
              "      <td>-3.0</td>\n",
              "      <td>-2.168210</td>\n",
              "      <td>-2.330840</td>\n",
              "      <td>15 days</td>\n",
              "    </tr>\n",
              "  </tbody>\n",
              "</table>\n",
              "</div>"
            ],
            "text/plain": [
              "  business_code cust_number  ... cust_num(ENC) time_given\n",
              "0          U001  0200782001  ...      1.125926    15 days\n",
              "1          U001  0200769623  ...     -2.330840    15 days\n",
              "2          U001  0200780849  ...     -0.058824    15 days\n",
              "3          U001  0200743123  ...      1.062500    15 days\n",
              "4          U001  0200769623  ...     -2.330840    15 days\n",
              "\n",
              "[5 rows x 22 columns]"
            ]
          },
          "metadata": {
            "tags": []
          },
          "execution_count": 215
        }
      ]
    },
    {
      "cell_type": "markdown",
      "metadata": {
        "id": "dJ-dYyYixWcY"
      },
      "source": [
        "The time difference is of type \"TimeDelta\"\n",
        "\n",
        "Now converting it to int type"
      ]
    },
    {
      "cell_type": "code",
      "metadata": {
        "colab": {
          "base_uri": "https://localhost:8080/"
        },
        "id": "f0Ax8oWbsLS5",
        "outputId": "a62bc426-3152-455b-f027-2b7939882840"
      },
      "source": [
        "# Conversion from TimeDelta to int\n",
        "X_train['time_given']=(X_train['time_given']/ np.timedelta64(1, 'D')).astype(int)\n",
        "X_train.info()"
      ],
      "execution_count": null,
      "outputs": [
        {
          "output_type": "stream",
          "text": [
            "<class 'pandas.core.frame.DataFrame'>\n",
            "Int64Index: 30556 entries, 0 to 31911\n",
            "Data columns (total 22 columns):\n",
            " #   Column                  Non-Null Count  Dtype         \n",
            "---  ------                  --------------  -----         \n",
            " 0   business_code           30556 non-null  object        \n",
            " 1   cust_number             30556 non-null  object        \n",
            " 2   name_customer           30556 non-null  object        \n",
            " 3   clear_date              30556 non-null  datetime64[ns]\n",
            " 4   buisness_year           30556 non-null  float64       \n",
            " 5   doc_id                  30556 non-null  float64       \n",
            " 6   posting_date            30556 non-null  datetime64[ns]\n",
            " 7   document_create_date    30556 non-null  datetime64[ns]\n",
            " 8   document_create_date.1  30556 non-null  datetime64[ns]\n",
            " 9   due_in_date             30556 non-null  datetime64[ns]\n",
            " 10  document type           30556 non-null  object        \n",
            " 11  posting_id              30556 non-null  float64       \n",
            " 12  total_open_amount       30556 non-null  float64       \n",
            " 13  baseline_create_date    30556 non-null  datetime64[ns]\n",
            " 14  cust_payment_terms      30556 non-null  object        \n",
            " 15  invoice_id              30556 non-null  float64       \n",
            " 16  isOpen                  30556 non-null  int64         \n",
            " 17  inv_curr_code           30556 non-null  int64         \n",
            " 18  avg_delay_as_per_terms  30556 non-null  float64       \n",
            " 19  cust_name(ENC)          30556 non-null  float64       \n",
            " 20  cust_num(ENC)           30556 non-null  float64       \n",
            " 21  time_given              30556 non-null  int64         \n",
            "dtypes: datetime64[ns](6), float64(8), int64(3), object(5)\n",
            "memory usage: 5.4+ MB\n"
          ],
          "name": "stdout"
        }
      ]
    },
    {
      "cell_type": "markdown",
      "metadata": {
        "id": "zIkov6Ti_LBj"
      },
      "source": [
        "Let us take a look at the scatter plot and visualize how it affects delay"
      ]
    },
    {
      "cell_type": "code",
      "metadata": {
        "colab": {
          "base_uri": "https://localhost:8080/",
          "height": 301
        },
        "id": "La59Zyzn_Kcy",
        "outputId": "5aebb8b9-f144-4572-e8ac-9d2fb607952b"
      },
      "source": [
        "# Sctter plot of \n",
        "plt.scatter(y_train,X_train['time_given'],color='black')\n",
        "plt.xlabel(\"time_given\")\n",
        "plt.ylabel(\"delay\")\n",
        "plt.title(\"delay Vs. time_given\")\n",
        "plt.show()"
      ],
      "execution_count": null,
      "outputs": [
        {
          "output_type": "display_data",
          "data": {
            "image/png": "[encoded data removed]",
            "text/plain": [
              "<Figure size 432x288 with 1 Axes>"
            ]
          },
          "metadata": {
            "tags": []
          }
        }
      ]
    },
    {
      "cell_type": "markdown",
      "metadata": {
        "id": "iKeWK26U_qOu"
      },
      "source": [
        "INFERENCE:\n",
        "\n",
        "*   It is observed from the graph that if more time is given to a client , delay is less and vice-versa\n",
        "\n",
        "\n"
      ]
    },
    {
      "cell_type": "markdown",
      "metadata": {
        "id": "-xUh7WSgy4Hm"
      },
      "source": [
        "The doc_id column has many unique values as  seen from below"
      ]
    },
    {
      "cell_type": "code",
      "metadata": {
        "colab": {
          "base_uri": "https://localhost:8080/"
        },
        "id": "pk3hRgcOujlA",
        "outputId": "d62ac865-642b-4231-c301-34b0fb508250"
      },
      "source": [
        "# analysis of unique values in doc_id\n",
        "len(X_train.doc_id.unique())"
      ],
      "execution_count": null,
      "outputs": [
        {
          "output_type": "execute_result",
          "data": {
            "text/plain": [
              "30556"
            ]
          },
          "metadata": {
            "tags": []
          },
          "execution_count": 218
        }
      ]
    },
    {
      "cell_type": "markdown",
      "metadata": {
        "id": "7pVYQ9elzHFE"
      },
      "source": [
        "As stated earlier now we engineeer a new column to replace \"total_open_amount\" by using log transform"
      ]
    },
    {
      "cell_type": "code",
      "metadata": {
        "id": "Zr0KRt6JHnPw"
      },
      "source": [
        "#Normalizing (log2 Transformation)\n",
        "X_train['total_open_amount_1']=np.log2(X_train['total_open_amount'])"
      ],
      "execution_count": null,
      "outputs": []
    },
    {
      "cell_type": "code",
      "metadata": {
        "colab": {
          "base_uri": "https://localhost:8080/",
          "height": 361
        },
        "id": "9rDpbsrv5_-I",
        "outputId": "4e6e81fc-4c82-4306-f278-9d358a7bbad3"
      },
      "source": [
        "import seaborn as sns\n",
        "sns.distplot(a=X_train['total_open_amount_1'], kde=False)"
      ],
      "execution_count": null,
      "outputs": [
        {
          "output_type": "stream",
          "text": [
            "/usr/local/lib/python3.6/dist-packages/seaborn/distributions.py:2557: FutureWarning: `distplot` is a deprecated function and will be removed in a future version. Please adapt your code to use either `displot` (a figure-level function with similar flexibility) or `histplot` (an axes-level function for histograms).\n",
            "  warnings.warn(msg, FutureWarning)\n"
          ],
          "name": "stderr"
        },
        {
          "output_type": "execute_result",
          "data": {
            "text/plain": [
              "<matplotlib.axes._subplots.AxesSubplot at 0x7f8651b4c1d0>"
            ]
          },
          "metadata": {
            "tags": []
          },
          "execution_count": 220
        },
        {
          "output_type": "display_data",
          "data": {
            "image/png": "[encoded data removed]",
            "text/plain": [
              "<Figure size 432x288 with 1 Axes>"
            ]
          },
          "metadata": {
            "tags": []
          }
        }
      ]
    },
    {
      "cell_type": "markdown",
      "metadata": {
        "id": "Sjf5LoGqzTXx"
      },
      "source": [
        "This plot seems closer to  a normal distribution as compared to before"
      ]
    },
    {
      "cell_type": "code",
      "metadata": {
        "id": "NE-4sgYOIFED"
      },
      "source": [
        "# Target encoding Business Code\n",
        "def BC_MAPPER(key):\n",
        "  if key not in BC_DICT.keys():\n",
        "    return 2 #default value\n",
        "  else:\n",
        "    return BC_DICT[key]"
      ],
      "execution_count": null,
      "outputs": []
    },
    {
      "cell_type": "markdown",
      "metadata": {
        "id": "p44JlT130BRD"
      },
      "source": [
        "Now below we create two new columns namely,\n",
        "\n",
        "\n",
        "*   business_code(ENC) --> encoded form of business_code\n",
        "*   due_month -->month of due_in_date\n",
        "\n"
      ]
    },
    {
      "cell_type": "code",
      "metadata": {
        "id": "6_JM1DXyIFBX"
      },
      "source": [
        "# Calling Encoder\n",
        "X_train['business_code(ENC)']=X_train['business_code'].map(BC_MAPPER)\n",
        "# Creating new feature due_month\n",
        "X_train['due_month']=X_train['due_in_date'].dt.month"
      ],
      "execution_count": null,
      "outputs": []
    },
    {
      "cell_type": "markdown",
      "metadata": {
        "id": "FIQtdhas0bFk"
      },
      "source": [
        "As business code is now in float we check its impact on delay"
      ]
    },
    {
      "cell_type": "code",
      "metadata": {
        "colab": {
          "base_uri": "https://localhost:8080/",
          "height": 286
        },
        "id": "-Wu9LmWjsT98",
        "outputId": "90fbd92e-8e0b-428b-f77d-5c93a8e4cbf0"
      },
      "source": [
        "# Impact of business code on delay\n",
        "import matplotlib.pyplot as plt\n",
        "plt.xlabel('business code')\n",
        "plt.ylabel('delay')\n",
        "plt.scatter(X_train['business_code(ENC)'],y_train,color='black')\n",
        "plt.show()"
      ],
      "execution_count": null,
      "outputs": [
        {
          "output_type": "display_data",
          "data": {
            "image/png": "[encoded data removed]",
            "text/plain": [
              "<Figure size 432x288 with 1 Axes>"
            ]
          },
          "metadata": {
            "tags": []
          }
        }
      ]
    },
    {
      "cell_type": "markdown",
      "metadata": {
        "id": "bOj73sI80jyf"
      },
      "source": [
        "NOTE\n",
        "\n",
        "From graph it is sceen that business codes encoded as higher integers tend to show less delay"
      ]
    },
    {
      "cell_type": "markdown",
      "metadata": {
        "id": "KQ_Lu4pVIE-g"
      },
      "source": [
        "now business code has been target encoded"
      ]
    },
    {
      "cell_type": "code",
      "metadata": {
        "id": "cEcZCqD1cVyi"
      },
      "source": [
        "# Creating feature due_day\n",
        "X_train['due_day']=X_train['due_in_date'].dt.day\n",
        "# Document create month\n",
        "X_train['doc_month']=X_train['document_create_date.1'].dt.month\n",
        "# Document create day\n",
        "X_train['doc_day']=X_train['document_create_date.1'].dt.day"
      ],
      "execution_count": null,
      "outputs": []
    },
    {
      "cell_type": "markdown",
      "metadata": {
        "id": "HaZBVla60-sn"
      },
      "source": [
        "# 8.1 Feature Selection"
      ]
    },
    {
      "cell_type": "markdown",
      "metadata": {
        "id": "ixfSUz2X4na0"
      },
      "source": [
        "Filter Methods"
      ]
    },
    {
      "cell_type": "code",
      "metadata": {
        "id": "RT9uZfoF11dG"
      },
      "source": [
        "# Using Filter methods \n",
        "\n",
        "import matplotlib.pyplot as plt\n",
        "import seaborn as sns\n",
        "from sklearn.model_selection import train_test_split\n",
        "from sklearn.feature_selection import VarianceThreshold"
      ],
      "execution_count": null,
      "outputs": []
    },
    {
      "cell_type": "markdown",
      "metadata": {
        "id": "UEVDY1Fa6I1A"
      },
      "source": [
        "Using Variance threshold :"
      ]
    },
    {
      "cell_type": "markdown",
      "metadata": {
        "id": "wkwv-IFim0Aq"
      },
      "source": [
        "**For** using Variance Threshold all features should be numerical which is not currently the case as seen below"
      ]
    },
    {
      "cell_type": "code",
      "metadata": {
        "colab": {
          "base_uri": "https://localhost:8080/"
        },
        "id": "yV70U5fanDOQ",
        "outputId": "b7be8a0f-53f9-49bb-f767-77cb8e514341"
      },
      "source": [
        "X_train.info()"
      ],
      "execution_count": null,
      "outputs": [
        {
          "output_type": "stream",
          "text": [
            "<class 'pandas.core.frame.DataFrame'>\n",
            "Int64Index: 30556 entries, 0 to 31911\n",
            "Data columns (total 28 columns):\n",
            " #   Column                  Non-Null Count  Dtype         \n",
            "---  ------                  --------------  -----         \n",
            " 0   business_code           30556 non-null  object        \n",
            " 1   cust_number             30556 non-null  object        \n",
            " 2   name_customer           30556 non-null  object        \n",
            " 3   clear_date              30556 non-null  datetime64[ns]\n",
            " 4   buisness_year           30556 non-null  float64       \n",
            " 5   doc_id                  30556 non-null  float64       \n",
            " 6   posting_date            30556 non-null  datetime64[ns]\n",
            " 7   document_create_date    30556 non-null  datetime64[ns]\n",
            " 8   document_create_date.1  30556 non-null  datetime64[ns]\n",
            " 9   due_in_date             30556 non-null  datetime64[ns]\n",
            " 10  document type           30556 non-null  object        \n",
            " 11  posting_id              30556 non-null  float64       \n",
            " 12  total_open_amount       30556 non-null  float64       \n",
            " 13  baseline_create_date    30556 non-null  datetime64[ns]\n",
            " 14  cust_payment_terms      30556 non-null  object        \n",
            " 15  invoice_id              30556 non-null  float64       \n",
            " 16  isOpen                  30556 non-null  int64         \n",
            " 17  inv_curr_code           30556 non-null  int64         \n",
            " 18  avg_delay_as_per_terms  30556 non-null  float64       \n",
            " 19  cust_name(ENC)          30556 non-null  float64       \n",
            " 20  cust_num(ENC)           30556 non-null  float64       \n",
            " 21  time_given              30556 non-null  int64         \n",
            " 22  total_open_amount_1     30556 non-null  float64       \n",
            " 23  business_code(ENC)      30556 non-null  float64       \n",
            " 24  due_month               30556 non-null  int64         \n",
            " 25  due_day                 30556 non-null  int64         \n",
            " 26  doc_month               30556 non-null  int64         \n",
            " 27  doc_day                 30556 non-null  int64         \n",
            "dtypes: datetime64[ns](6), float64(10), int64(7), object(5)\n",
            "memory usage: 6.8+ MB\n"
          ],
          "name": "stdout"
        }
      ]
    },
    {
      "cell_type": "markdown",
      "metadata": {
        "id": "PjKyjI9enIeP"
      },
      "source": [
        "So I copy X_train into a new df and drop all non-numeric columns so it can be passed to VAriance Threshold "
      ]
    },
    {
      "cell_type": "code",
      "metadata": {
        "colab": {
          "base_uri": "https://localhost:8080/"
        },
        "id": "_bEcg7MHnIBt",
        "outputId": "e5144bc7-053a-45c2-f7e5-23132c588874"
      },
      "source": [
        "train=X_train.copy()\n",
        "train.drop(['business_code', 'cust_number','name_customer','clear_date','posting_date','document_create_date', 'document_create_date.1', 'due_in_date' ,'document type','posting_id','baseline_create_date',\t'cust_payment_terms','isOpen'],axis=1,inplace=True)\n",
        "train.drop(['doc_id','invoice_id','total_open_amount'],axis=1,inplace=True)\n",
        "train.info()  "
      ],
      "execution_count": null,
      "outputs": [
        {
          "output_type": "stream",
          "text": [
            "<class 'pandas.core.frame.DataFrame'>\n",
            "Int64Index: 30556 entries, 0 to 31911\n",
            "Data columns (total 12 columns):\n",
            " #   Column                  Non-Null Count  Dtype  \n",
            "---  ------                  --------------  -----  \n",
            " 0   buisness_year           30556 non-null  float64\n",
            " 1   inv_curr_code           30556 non-null  int64  \n",
            " 2   avg_delay_as_per_terms  30556 non-null  float64\n",
            " 3   cust_name(ENC)          30556 non-null  float64\n",
            " 4   cust_num(ENC)           30556 non-null  float64\n",
            " 5   time_given              30556 non-null  int64  \n",
            " 6   total_open_amount_1     30556 non-null  float64\n",
            " 7   business_code(ENC)      30556 non-null  float64\n",
            " 8   due_month               30556 non-null  int64  \n",
            " 9   due_day                 30556 non-null  int64  \n",
            " 10  doc_month               30556 non-null  int64  \n",
            " 11  doc_day                 30556 non-null  int64  \n",
            "dtypes: float64(6), int64(6)\n",
            "memory usage: 3.0 MB\n"
          ],
          "name": "stdout"
        }
      ]
    },
    {
      "cell_type": "code",
      "metadata": {
        "colab": {
          "base_uri": "https://localhost:8080/"
        },
        "id": "Te0Kim_111Yd",
        "outputId": "d4f1ef68-98b1-4030-b763-aeac1d4daaf6"
      },
      "source": [
        "#Passing a value of zero for the parameter will filter all the features with zero variance\n",
        "constant_filter = VarianceThreshold(threshold=0)\n",
        "#we need to simply apply this filter to our training set as shown in the following example\n",
        "constant_filter.fit(train)\n",
        "#the number of non-constant features.\n",
        "len(train.columns[constant_filter.get_support()])"
      ],
      "execution_count": null,
      "outputs": [
        {
          "output_type": "execute_result",
          "data": {
            "text/plain": [
              "12"
            ]
          },
          "metadata": {
            "tags": []
          },
          "execution_count": 228
        }
      ]
    },
    {
      "cell_type": "markdown",
      "metadata": {
        "id": "rrhswFVcoWpH"
      },
      "source": [
        "Thus we can say that all the 12 columns are not constant in nature.\n",
        "\n",
        "This is also verified from below"
      ]
    },
    {
      "cell_type": "code",
      "metadata": {
        "colab": {
          "base_uri": "https://localhost:8080/"
        },
        "id": "va01Fixe11PE",
        "outputId": "4417726d-2833-4ea1-c3ab-3dd17a5c14fb"
      },
      "source": [
        "#Checking for constant columns\n",
        "constant_columns = [column for column in train.columns\n",
        "                    if column not in train.columns[constant_filter.get_support()]]\n",
        "\n",
        "print(len(constant_columns))"
      ],
      "execution_count": null,
      "outputs": [
        {
          "output_type": "stream",
          "text": [
            "0\n"
          ],
          "name": "stdout"
        }
      ]
    },
    {
      "cell_type": "markdown",
      "metadata": {
        "id": "DiXfLUALDDvr"
      },
      "source": [
        "Effect of invoice_currency code on delay"
      ]
    },
    {
      "cell_type": "code",
      "metadata": {
        "colab": {
          "base_uri": "https://localhost:8080/",
          "height": 766
        },
        "id": "9FOR1fVlBJhx",
        "outputId": "8fcd8d24-ae31-4a01-f9bf-aa9d0b0ba0e1"
      },
      "source": [
        "# Plot\n",
        "import seaborn as sns\n",
        "import matplotlib.pyplot as plt\n",
        "sns.set_theme(style=\"ticks\", color_codes=True)\n",
        "train=X_train.copy()\n",
        "train['delay']=y_train\n",
        "sns.catplot(x=\"inv_curr_code\", y=\"delay\",kind=\"bar\", data=train)  \n",
        "sns.catplot(x=\"buisness_year\",y=\"delay\",jitter=False,data=train)"
      ],
      "execution_count": null,
      "outputs": [
        {
          "output_type": "execute_result",
          "data": {
            "text/plain": [
              "<seaborn.axisgrid.FacetGrid at 0x7f86545f5208>"
            ]
          },
          "metadata": {
            "tags": []
          },
          "execution_count": 230
        },
        {
          "output_type": "display_data",
          "data": {
            "image/png": "[encoded data removed]",
            "text/plain": [
              "<Figure size 360x360 with 1 Axes>"
            ]
          },
          "metadata": {
            "tags": []
          }
        },
        {
          "output_type": "display_data",
          "data": {
            "image/png": "[encoded data removed]",
            "text/plain": [
              "<Figure size 360x360 with 1 Axes>"
            ]
          },
          "metadata": {
            "tags": []
          }
        }
      ]
    },
    {
      "cell_type": "markdown",
      "metadata": {
        "id": "_trmjcdNDUqm"
      },
      "source": [
        "INFERENCE--> Clients who use CAD as invoice_currency tend to delay more than those who use USD\n"
      ]
    },
    {
      "cell_type": "markdown",
      "metadata": {
        "id": "A-RtJqKY8I6f"
      },
      "source": [
        "# 8.2 Corelation and Covariace"
      ]
    },
    {
      "cell_type": "markdown",
      "metadata": {
        "id": "0EhcuY8a7FGh"
      },
      "source": [
        "Covariance & Corelation using HeatMap"
      ]
    },
    {
      "cell_type": "code",
      "metadata": {
        "colab": {
          "base_uri": "https://localhost:8080/",
          "height": 610
        },
        "id": "p8LaSth67EzJ",
        "outputId": "5a261f8b-98f6-4df6-dd16-baa6cc794fe7"
      },
      "source": [
        "#visualisation\n",
        "train=X_train.copy()\n",
        "train.drop(['business_code', 'cust_number','name_customer','clear_date','posting_date','document_create_date', 'document_create_date.1', 'due_in_date' ,'document type','posting_id','baseline_create_date',\t'cust_payment_terms','isOpen'],axis=1,inplace=True)\n",
        "corr=train.corr()\n",
        "plt.figure(figsize=(14,8))\n",
        "sns.heatmap(corr,annot=True)"
      ],
      "execution_count": null,
      "outputs": [
        {
          "output_type": "execute_result",
          "data": {
            "text/plain": [
              "<matplotlib.axes._subplots.AxesSubplot at 0x7f8651bf8320>"
            ]
          },
          "metadata": {
            "tags": []
          },
          "execution_count": 231
        },
        {
          "output_type": "display_data",
          "data": {
            "image/png": "[encoded data removed]",
            "text/plain": [
              "<Figure size 1008x576 with 2 Axes>"
            ]
          },
          "metadata": {
            "tags": []
          }
        }
      ]
    },
    {
      "cell_type": "markdown",
      "metadata": {
        "id": "6luMKdzL5vgv"
      },
      "source": [
        "This shows the covariance between different columns of the X_train data.\n",
        "\n",
        "*   The co-relation betweeen target and other columns should be high.\n",
        "*   The co-relation among other columns should be asa low as possible.\n",
        "\n"
      ]
    },
    {
      "cell_type": "markdown",
      "metadata": {
        "id": "kl6CpTyaKqUk"
      },
      "source": [
        "# 9.1 Fitting into Model"
      ]
    },
    {
      "cell_type": "markdown",
      "metadata": {
        "id": "Iqg_O7burKF0"
      },
      "source": [
        "Now finally fitting the model"
      ]
    },
    {
      "cell_type": "code",
      "metadata": {
        "colab": {
          "base_uri": "https://localhost:8080/"
        },
        "id": "yijETBGatCpp",
        "outputId": "49a349b4-510b-4e98-8889-9ee64e3bb9e0"
      },
      "source": [
        "X_train.shape"
      ],
      "execution_count": null,
      "outputs": [
        {
          "output_type": "execute_result",
          "data": {
            "text/plain": [
              "(30556, 28)"
            ]
          },
          "metadata": {
            "tags": []
          },
          "execution_count": 232
        }
      ]
    },
    {
      "cell_type": "code",
      "metadata": {
        "id": "wrC9mYy9tHPb"
      },
      "source": [
        "#Saving X_train to another variable (BACKUP)\n",
        "just_in_case=X_train.copy()"
      ],
      "execution_count": null,
      "outputs": []
    },
    {
      "cell_type": "code",
      "metadata": {
        "colab": {
          "base_uri": "https://localhost:8080/"
        },
        "id": "PcPPnV1atvvV",
        "outputId": "0afbd6b3-b40a-4335-ce72-376ece15caf1"
      },
      "source": [
        "X_train.drop(['business_code', 'cust_number','name_customer','clear_date','posting_date','document_create_date', 'document_create_date.1', 'due_in_date' ,'document type','posting_id','baseline_create_date',\t'cust_payment_terms','isOpen'],axis=1,inplace=True)\n",
        "X_train.info()"
      ],
      "execution_count": null,
      "outputs": [
        {
          "output_type": "stream",
          "text": [
            "<class 'pandas.core.frame.DataFrame'>\n",
            "Int64Index: 30556 entries, 0 to 31911\n",
            "Data columns (total 15 columns):\n",
            " #   Column                  Non-Null Count  Dtype  \n",
            "---  ------                  --------------  -----  \n",
            " 0   buisness_year           30556 non-null  float64\n",
            " 1   doc_id                  30556 non-null  float64\n",
            " 2   total_open_amount       30556 non-null  float64\n",
            " 3   invoice_id              30556 non-null  float64\n",
            " 4   inv_curr_code           30556 non-null  int64  \n",
            " 5   avg_delay_as_per_terms  30556 non-null  float64\n",
            " 6   cust_name(ENC)          30556 non-null  float64\n",
            " 7   cust_num(ENC)           30556 non-null  float64\n",
            " 8   time_given              30556 non-null  int64  \n",
            " 9   total_open_amount_1     30556 non-null  float64\n",
            " 10  business_code(ENC)      30556 non-null  float64\n",
            " 11  due_month               30556 non-null  int64  \n",
            " 12  due_day                 30556 non-null  int64  \n",
            " 13  doc_month               30556 non-null  int64  \n",
            " 14  doc_day                 30556 non-null  int64  \n",
            "dtypes: float64(9), int64(6)\n",
            "memory usage: 5.0 MB\n"
          ],
          "name": "stdout"
        }
      ]
    },
    {
      "cell_type": "code",
      "metadata": {
        "id": "25Y5eWm76e7c"
      },
      "source": [
        "X_train.drop(['doc_id','invoice_id','total_open_amount'],axis=1,inplace=True)"
      ],
      "execution_count": null,
      "outputs": []
    },
    {
      "cell_type": "code",
      "metadata": {
        "colab": {
          "base_uri": "https://localhost:8080/"
        },
        "id": "x09G0K-hvJ45",
        "outputId": "c9a44b73-f0c8-4657-91bf-329840e003e4"
      },
      "source": [
        "X_train.shape"
      ],
      "execution_count": null,
      "outputs": [
        {
          "output_type": "execute_result",
          "data": {
            "text/plain": [
              "(30556, 12)"
            ]
          },
          "metadata": {
            "tags": []
          },
          "execution_count": 236
        }
      ]
    },
    {
      "cell_type": "markdown",
      "metadata": {
        "id": "hU8hvXeWK7KV"
      },
      "source": [
        "# 9.2 Mapper Function"
      ]
    },
    {
      "cell_type": "markdown",
      "metadata": {
        "id": "dyJZOgHbwf54"
      },
      "source": [
        "Now , time has come to make our pre-processing function to make out test data ready,\n",
        "for making predictions."
      ]
    },
    {
      "cell_type": "code",
      "metadata": {
        "id": "zJtqA5HE7rye"
      },
      "source": [
        "# Defining Mapper Functions\n",
        "\n",
        "def cpt_mapper(key):\n",
        "  '''\n",
        "  maps customer payment terms\n",
        "  '''\n",
        "  if key not in target_mapper.keys():\n",
        "    return X_train['avg_delay_as_per_terms'].mean()\n",
        "  else:\n",
        "    return target_mapper[key]\n",
        "\n",
        "def cn_mapper(key):\n",
        "  '''\n",
        "  maps customer name\n",
        "  '''\n",
        "  if key not in col_map.keys():\n",
        "    return X_train['cust_name(ENC)'].mean()\n",
        "  else:\n",
        "    return col_map[key]\n",
        "\n",
        "def cno_mapper(key):\n",
        "  '''\n",
        "  maps customer number\n",
        "  '''\n",
        "  if key not in MAPPER.keys():\n",
        "    return X_train['cust_num(ENC)'].mean()\n",
        "  else:\n",
        "    return MAPPER[key]\n",
        "\n",
        "def BC_MAPPER(key):\n",
        "  '''\n",
        "  maps business code\n",
        "  '''\n",
        "  if key not in BC_DICT.keys():\n",
        "    return 2 #default value\n",
        "  else:\n",
        "    return BC_DICT[key]\n"
      ],
      "execution_count": null,
      "outputs": []
    },
    {
      "cell_type": "markdown",
      "metadata": {
        "id": "-m4lmpjELIAp"
      },
      "source": [
        "# 9.3 Preprocessing Function"
      ]
    },
    {
      "cell_type": "code",
      "metadata": {
        "id": "zqaqbj86x_0l"
      },
      "source": [
        "def preprocess(X_Set,y_Set):\n",
        "  '''\n",
        "  This function takes a data-set and preprocess it \n",
        "  exactly the same as X-train data\n",
        "  '''\n",
        "  # Creating a new column that is Invoice Currency code {0,1}\n",
        "\n",
        "  X_Set['inv_curr_code']=np.where(X_Set.invoice_currency=='CAD',0,1)\n",
        " \n",
        "  # Now we can drop the column invoice_currency column\n",
        "  X_Set.drop('invoice_currency',axis=1,inplace=True)\n",
        "  \n",
        "  # TARGET ENCODING\n",
        "  \n",
        "  # Customer payment terms\n",
        "\n",
        "\n",
        "  X_Set['avg_delay_as_per_terms']= X_Set['cust_payment_terms'].map(cpt_mapper)\n",
        "\n",
        "  # Customer Name\n",
        "\n",
        "  X_Set['cust_name(ENC)']=X_Set['name_customer'].map(cn_mapper)\n",
        "  \n",
        "  # Customer Number\n",
        "  X_Set['cust_num(ENC)']=X_Set['cust_number'].map(cno_mapper)\n",
        "\n",
        "  # Creating New column \" time_given \"\n",
        "\n",
        "  X_Set['time_given']=X_Set['due_in_date']-X_Set['document_create_date.1']\n",
        "  X_Set['time_given']=(X_Set['time_given']/ np.timedelta64(1, 'D')).astype(int)\n",
        "\n",
        "  # Log transforming total_open_amount\n",
        "  X_Set['total_open_amount_1']=np.log2(X_Set['total_open_amount'])\n",
        "\n",
        "  # Mapping business code as business_code(ENC)\n",
        "  X_Set['business_code(ENC)']=X_Set['business_code'].map(BC_MAPPER)\n",
        "\n",
        "  #Creting new feature due month\n",
        "  X_Set['due_month']=X_Set['due_in_date'].dt.month\n",
        "\n",
        "  # Creating feature due_day\n",
        "  X_Set['due_day']=X_Set['due_in_date'].dt.day\n",
        "  # Document create month\n",
        "  X_Set['doc_month']=X_Set['document_create_date.1'].dt.month\n",
        "  # Document create day\n",
        "  X_Set['doc_day']=X_Set['document_create_date.1'].dt.day\n",
        "\n",
        "  #Dropping Columns\n",
        "  X_Set.drop(['business_code', 'cust_number','name_customer','clear_date','posting_date','document_create_date', 'document_create_date.1', 'due_in_date' ,'document type','posting_id','baseline_create_date',\t'cust_payment_terms','isOpen'],axis=1,inplace=True)\n",
        "  X_Set.drop(['doc_id','invoice_id','total_open_amount'],axis=1,inplace=True)\n",
        "  \n",
        "  return X_Set,y_Set"
      ],
      "execution_count": null,
      "outputs": []
    },
    {
      "cell_type": "markdown",
      "metadata": {
        "id": "8qQ3Y9JcLT0A"
      },
      "source": [
        "# 10.1 Validation"
      ]
    },
    {
      "cell_type": "markdown",
      "metadata": {
        "id": "66WIQeCyLdGq"
      },
      "source": [
        "Spliting validation sets into x and y"
      ]
    },
    {
      "cell_type": "code",
      "metadata": {
        "id": "CSHaVdHGNMf2"
      },
      "source": [
        "# Validation 1\n",
        "X_Val1=val1.copy()\n",
        "y_Val1=X_Val1['delay']\n",
        "X_Val1.drop('delay',axis=1,inplace=True)"
      ],
      "execution_count": null,
      "outputs": []
    },
    {
      "cell_type": "code",
      "metadata": {
        "id": "Hwgqg1ocfHBN"
      },
      "source": [
        "#Validation 2\n",
        "X_Val2=val2.copy()\n",
        "y_Val2=X_Val2['delay']\n",
        "X_Val2.drop('delay',axis=1,inplace=True)"
      ],
      "execution_count": null,
      "outputs": []
    },
    {
      "cell_type": "markdown",
      "metadata": {
        "id": "1LcNWXf-SIGJ"
      },
      "source": [
        "# 10.2 Fitting the model"
      ]
    },
    {
      "cell_type": "code",
      "metadata": {
        "colab": {
          "base_uri": "https://localhost:8080/"
        },
        "id": "feMgMgpEiEUU",
        "outputId": "f420bdf4-a08b-4887-eae9-8d153e2dad20"
      },
      "source": [
        "#Fitting the model\n",
        "from sklearn.ensemble import RandomForestRegressor\n",
        "\n",
        "clf=RandomForestRegressor()\n",
        "clf.fit(X_train,y_train)"
      ],
      "execution_count": null,
      "outputs": [
        {
          "output_type": "execute_result",
          "data": {
            "text/plain": [
              "RandomForestRegressor(bootstrap=True, ccp_alpha=0.0, criterion='mse',\n",
              "                      max_depth=None, max_features='auto', max_leaf_nodes=None,\n",
              "                      max_samples=None, min_impurity_decrease=0.0,\n",
              "                      min_impurity_split=None, min_samples_leaf=1,\n",
              "                      min_samples_split=2, min_weight_fraction_leaf=0.0,\n",
              "                      n_estimators=100, n_jobs=None, oob_score=False,\n",
              "                      random_state=None, verbose=0, warm_start=False)"
            ]
          },
          "metadata": {
            "tags": []
          },
          "execution_count": 241
        }
      ]
    },
    {
      "cell_type": "markdown",
      "metadata": {
        "id": "2PwoFf9aMQ6p"
      },
      "source": [
        "Predicting on Validation sets"
      ]
    },
    {
      "cell_type": "code",
      "metadata": {
        "id": "Yx31Gku9jVps"
      },
      "source": [
        "# Predicting values for Validation Sets\n",
        "x_val1,y_val1=preprocess(X_Val1,y_Val1)\n",
        "x_val2,y_val2=preprocess(X_Val2,y_Val2)\n",
        "val1_preds=clf.predict(x_val1)\n",
        "val2_preds=clf.predict(x_val2)"
      ],
      "execution_count": null,
      "outputs": []
    },
    {
      "cell_type": "code",
      "metadata": {
        "id": "PAmVjE6voHbJ"
      },
      "source": [
        "# Creating a Evluation Function\n",
        "from sklearn.metrics import r2_score,mean_squared_error\n",
        "def evaluate_model(labels,predictions):\n",
        "  print(\"RMSE : \",mean_squared_error(labels,predictions,squared=False))\n",
        "  print(\"MSE : \",mean_squared_error(labels,predictions))\n",
        "  print(\"R^2 SCORE : \",r2_score(labels,predictions))\n"
      ],
      "execution_count": null,
      "outputs": []
    },
    {
      "cell_type": "code",
      "metadata": {
        "colab": {
          "base_uri": "https://localhost:8080/"
        },
        "id": "azQqf5zbqc4a",
        "outputId": "11641716-dc83-4eb1-8d71-e77eedbcc433"
      },
      "source": [
        "#Evluating the RandomForest Refressor\n",
        "evaluate_model(y_val1,val1_preds)\n",
        "evaluate_model(y_val2,val2_preds)\n"
      ],
      "execution_count": null,
      "outputs": [
        {
          "output_type": "stream",
          "text": [
            "RMSE :  7.170858697815403\n",
            "MSE :  51.42121446403482\n",
            "R^2 SCORE :  0.5263690699077093\n",
            "RMSE :  7.735628655521708\n",
            "MSE :  59.83995069612859\n",
            "R^2 SCORE :  0.4003962187230836\n"
          ],
          "name": "stdout"
        }
      ]
    },
    {
      "cell_type": "code",
      "metadata": {
        "colab": {
          "base_uri": "https://localhost:8080/"
        },
        "id": "_E1ysOfblc2g",
        "outputId": "307b6a60-6637-491b-da99-cc979b16ee1a"
      },
      "source": [
        "\n",
        "# Trying Lssso Reggressor\n",
        "from sklearn import linear_model\n",
        "reg = linear_model.Lasso(alpha=0.9)\n",
        "reg.fit(X_train,y_train)\n",
        "print(\"Results in Validation 1\")\n",
        "evaluate_model(y_val1,reg.predict(x_val1))\n",
        "print(\"Results in Validation 2\")\n",
        "evaluate_model(y_val2,reg.predict(x_val2))\n"
      ],
      "execution_count": null,
      "outputs": [
        {
          "output_type": "stream",
          "text": [
            "RMSE :  7.916231612432075\n",
            "MSE :  62.66672294166893\n",
            "R^2 SCORE :  0.4227888512151331\n",
            "RMSE :  7.938909772701923\n",
            "MSE :  63.02628837910209\n",
            "R^2 SCORE :  0.36846871709732376\n"
          ],
          "name": "stdout"
        }
      ]
    },
    {
      "cell_type": "code",
      "metadata": {
        "colab": {
          "base_uri": "https://localhost:8080/"
        },
        "id": "Kom5Zd5cNH1y",
        "outputId": "a45ef3b9-a235-432d-b1c5-9edf9d481ba3"
      },
      "source": [
        "\n",
        "#Trying RidgeRegression Model\n",
        "from sklearn import linear_model\n",
        "ridge = linear_model.Ridge(alpha=.1)\n",
        "ridge.fit(X_train,y_train)\n",
        "val1_preds=ridge.predict(x_val1)\n",
        "val2_preds=ridge.predict(x_val2)\n",
        "evaluate_model(y_val1,ridge.predict(x_val1))\n",
        "evaluate_model(y_val2,ridge.predict(x_val2))\n"
      ],
      "execution_count": null,
      "outputs": [
        {
          "output_type": "stream",
          "text": [
            "RMSE :  7.869813797537699\n",
            "MSE :  61.933969207914735\n",
            "R^2 SCORE :  0.42953810511868185\n",
            "RMSE :  7.904155524322943\n",
            "MSE :  62.47567455268489\n",
            "R^2 SCORE :  0.37398593642157796\n"
          ],
          "name": "stdout"
        }
      ]
    },
    {
      "cell_type": "markdown",
      "metadata": {
        "id": "ta-lscLSjv0z"
      },
      "source": [
        "From my experiments I found that the random forest regressor gave the best base results for me"
      ]
    },
    {
      "cell_type": "markdown",
      "metadata": {
        "id": "iTE_CSn0tHPC"
      },
      "source": [
        "\n",
        "\n",
        "*   Below is the list of all other models I tried .\n",
        "*   I found that the best result was given by RAndomForestRegressor()\n",
        "\n"
      ]
    },
    {
      "cell_type": "code",
      "metadata": {
        "colab": {
          "base_uri": "https://localhost:8080/",
          "height": 55
        },
        "id": "jwKmbSqzNHsV",
        "outputId": "0debfe9e-f5de-4a24-81ef-62bc012fafd7"
      },
      "source": [
        "'''\n",
        "#Trying SVC kernel='linear'\n",
        "from sklearn import svm\n",
        "regr = svm.SVR()\n",
        "regr.fit(X_train, y_train)\n",
        "y2_preds=ridge.predict(x)\n",
        "mean_squared_error(y2,y2_preds,squared=False)\n",
        "'''"
      ],
      "execution_count": null,
      "outputs": [
        {
          "output_type": "execute_result",
          "data": {
            "application/vnd.google.colaboratory.intrinsic+json": {
              "type": "string"
            },
            "text/plain": [
              "\"\\n#Trying SVC kernel='linear'\\nfrom sklearn import svm\\nregr = svm.SVR()\\nregr.fit(X_train, y_train)\\ny2_preds=ridge.predict(x)\\nmean_squared_error(y2,y2_preds,squared=False)\\n\""
            ]
          },
          "metadata": {
            "tags": []
          },
          "execution_count": 247
        }
      ]
    },
    {
      "cell_type": "code",
      "metadata": {
        "colab": {
          "base_uri": "https://localhost:8080/",
          "height": 73
        },
        "id": "3awYsLi8NHlz",
        "outputId": "2a84d85d-182e-432e-c632-fd4a024648e0"
      },
      "source": [
        "'''\n",
        "#Trying out GradientBoostRegressor\n",
        "from sklearn.ensemble import GradientBoostingRegressor\n",
        "est = GradientBoostingRegressor(n_estimators=100, learning_rate=0.1,\n",
        "    max_depth=1, random_state=0, loss='ls').fit(X_train, y_train)\n",
        "est.predict(x)\n",
        "y2_preds=ridge.predict(x)\n",
        "mean_squared_error(y2,y2_preds,squared=False)\n",
        "r2_score(y2,y_preds)\n",
        "'''\n"
      ],
      "execution_count": null,
      "outputs": [
        {
          "output_type": "execute_result",
          "data": {
            "application/vnd.google.colaboratory.intrinsic+json": {
              "type": "string"
            },
            "text/plain": [
              "\"\\n#Trying out GradientBoostRegressor\\nfrom sklearn.ensemble import GradientBoostingRegressor\\nest = GradientBoostingRegressor(n_estimators=100, learning_rate=0.1,\\n    max_depth=1, random_state=0, loss='ls').fit(X_train, y_train)\\nest.predict(x)\\ny2_preds=ridge.predict(x)\\nmean_squared_error(y2,y2_preds,squared=False)\\nr2_score(y2,y_preds)\\n\""
            ]
          },
          "metadata": {
            "tags": []
          },
          "execution_count": 248
        }
      ]
    },
    {
      "cell_type": "code",
      "metadata": {
        "colab": {
          "base_uri": "https://localhost:8080/",
          "height": 55
        },
        "id": "jP3JDm0qRV0s",
        "outputId": "499c8fc9-9a33-432f-c026-143433558538"
      },
      "source": [
        "'''\n",
        "#Lasso Variant\n",
        "from sklearn import linear_model\n",
        "reg = linear_model.LassoLars(alpha=.1)\n",
        "reg.fit(X_train,y_train)\n",
        "mean_squared_error(y2,y2_preds,squared=False)\n",
        "'''"
      ],
      "execution_count": null,
      "outputs": [
        {
          "output_type": "execute_result",
          "data": {
            "application/vnd.google.colaboratory.intrinsic+json": {
              "type": "string"
            },
            "text/plain": [
              "'\\n#Lasso Variant\\nfrom sklearn import linear_model\\nreg = linear_model.LassoLars(alpha=.1)\\nreg.fit(X_train,y_train)\\nmean_squared_error(y2,y2_preds,squared=False)\\n'"
            ]
          },
          "metadata": {
            "tags": []
          },
          "execution_count": 249
        }
      ]
    },
    {
      "cell_type": "markdown",
      "metadata": {
        "id": "U5J-cEbmtvE-"
      },
      "source": [
        "# 10.3 HyperParameter Tuning"
      ]
    },
    {
      "cell_type": "markdown",
      "metadata": {
        "id": "_1pIiL7_t7Mz"
      },
      "source": [
        "Fitting model with n_estimators=100"
      ]
    },
    {
      "cell_type": "code",
      "metadata": {
        "colab": {
          "base_uri": "https://localhost:8080/"
        },
        "id": "flrNqq85uHkp",
        "outputId": "38b6e25b-4b3b-426e-cfa3-94d4d1e474ea"
      },
      "source": [
        "# Fitting \n",
        "clf=RandomForestRegressor(n_estimators=100)\n",
        "clf.fit(X_train,y_train)"
      ],
      "execution_count": null,
      "outputs": [
        {
          "output_type": "execute_result",
          "data": {
            "text/plain": [
              "RandomForestRegressor(bootstrap=True, ccp_alpha=0.0, criterion='mse',\n",
              "                      max_depth=None, max_features='auto', max_leaf_nodes=None,\n",
              "                      max_samples=None, min_impurity_decrease=0.0,\n",
              "                      min_impurity_split=None, min_samples_leaf=1,\n",
              "                      min_samples_split=2, min_weight_fraction_leaf=0.0,\n",
              "                      n_estimators=100, n_jobs=None, oob_score=False,\n",
              "                      random_state=None, verbose=0, warm_start=False)"
            ]
          },
          "metadata": {
            "tags": []
          },
          "execution_count": 250
        }
      ]
    },
    {
      "cell_type": "code",
      "metadata": {
        "id": "G7SvTpxJuN3i"
      },
      "source": [
        "#Now making predictions on the same validation sets\n",
        "val1_pred=clf.predict(x_val1)\n",
        "val2_pred=clf.predict(x_val2)\n"
      ],
      "execution_count": null,
      "outputs": []
    },
    {
      "cell_type": "code",
      "metadata": {
        "colab": {
          "base_uri": "https://localhost:8080/"
        },
        "id": "GfJrpRetucL3",
        "outputId": "047ab61f-e00e-47c2-9fc3-bec0273e14ce"
      },
      "source": [
        "# Testing the accuracy\n",
        "evaluate_model(y_val1,val1_preds)\n",
        "evaluate_model(y_val2,val2_preds)"
      ],
      "execution_count": null,
      "outputs": [
        {
          "output_type": "stream",
          "text": [
            "RMSE :  7.869813797537699\n",
            "MSE :  61.933969207914735\n",
            "R^2 SCORE :  0.42953810511868185\n",
            "RMSE :  7.904155524322943\n",
            "MSE :  62.47567455268489\n",
            "R^2 SCORE :  0.37398593642157796\n"
          ],
          "name": "stdout"
        }
      ]
    },
    {
      "cell_type": "markdown",
      "metadata": {
        "id": "KZj5hJJHwzGr"
      },
      "source": [
        "As we can see tuning is not giving better results so I have used the base model"
      ]
    },
    {
      "cell_type": "markdown",
      "metadata": {
        "id": "GZhq3gY2ZF8s"
      },
      "source": [
        "# 10.4 Grid Search CV"
      ]
    },
    {
      "cell_type": "markdown",
      "metadata": {
        "id": "Di_Q5PXcZ_FQ"
      },
      "source": [
        "\n",
        "\n",
        "*   Here i am using grid Search CV to search for optimal parameters\n",
        "*   Grid Search first requires a parameter grid,which I am making below\n",
        "\n"
      ]
    },
    {
      "cell_type": "code",
      "metadata": {
        "colab": {
          "base_uri": "https://localhost:8080/"
        },
        "id": "71mUDIbQZ32q",
        "outputId": "9733305b-506f-40c8-d1ad-e30f6387e4fe"
      },
      "source": [
        "from sklearn.model_selection import RandomizedSearchCV\n",
        "# Number of trees in random forest\n",
        "n_estimators = [int(x) for x in np.linspace(start = 200, stop = 2000, num = 10)]\n",
        "# Number of features to consider at every split\n",
        "max_features = ['auto', 'sqrt']\n",
        "# Maximum number of levels in tree\n",
        "max_depth = [int(x) for x in np.linspace(10, 110, num = 11)]\n",
        "max_depth.append(None)\n",
        "# Minimum number of samples required to split a node\n",
        "min_samples_split = [2, 5, 10]\n",
        "# Minimum number of samples required at each leaf node\n",
        "min_samples_leaf = [1, 2, 4]\n",
        "# Method of selecting samples for training each tree\n",
        "bootstrap = [True, False]# Create the random grid\n",
        "random_grid = {'n_estimators': n_estimators,\n",
        "               'max_features': max_features,\n",
        "               'max_depth': max_depth,\n",
        "               'min_samples_split': min_samples_split,\n",
        "               'min_samples_leaf': min_samples_leaf,\n",
        "               'bootstrap': bootstrap}\n",
        "random_grid"
      ],
      "execution_count": null,
      "outputs": [
        {
          "output_type": "execute_result",
          "data": {
            "text/plain": [
              "{'bootstrap': [True, False],\n",
              " 'max_depth': [10, 20, 30, 40, 50, 60, 70, 80, 90, 100, 110, None],\n",
              " 'max_features': ['auto', 'sqrt'],\n",
              " 'min_samples_leaf': [1, 2, 4],\n",
              " 'min_samples_split': [2, 5, 10],\n",
              " 'n_estimators': [200, 400, 600, 800, 1000, 1200, 1400, 1600, 1800, 2000]}"
            ]
          },
          "metadata": {
            "tags": []
          },
          "execution_count": 264
        }
      ]
    },
    {
      "cell_type": "markdown",
      "metadata": {
        "id": "qhwy7ht9akz-"
      },
      "source": [
        "Now the parametrized grid is made."
      ]
    },
    {
      "cell_type": "markdown",
      "metadata": {
        "id": "DP40nydda1YH"
      },
      "source": [
        "Instantizing and Fitting the model"
      ]
    },
    {
      "cell_type": "code",
      "metadata": {
        "colab": {
          "base_uri": "https://localhost:8080/",
          "height": 498
        },
        "id": "OY_QqE7vZ3tt",
        "outputId": "a56810a1-4bda-4630-db38-1c06b4c4c10c"
      },
      "source": [
        "# Use the random grid to search for best hyperparameters\n",
        "# Random search of parameters, using 3 fold cross validation, \n",
        "# search across 100 different combinations, and use all available cores\n",
        "#rf_random = RandomizedSearchCV(estimator = clf, param_distributions = random_grid, n_iter = 100, cv = 3, verbose=2, random_state=42, n_jobs = -1)# Fit the random search model\n",
        "#rf_random.fit(X_train, y_train)"
      ],
      "execution_count": null,
      "outputs": [
        {
          "output_type": "stream",
          "text": [
            "Fitting 3 folds for each of 100 candidates, totalling 300 fits\n"
          ],
          "name": "stdout"
        },
        {
          "output_type": "stream",
          "text": [
            "[Parallel(n_jobs=-1)]: Using backend LokyBackend with 2 concurrent workers.\n",
            "/usr/local/lib/python3.6/dist-packages/joblib/externals/loky/process_executor.py:691: UserWarning: A worker stopped while some jobs were given to the executor. This can be caused by a too short worker timeout or by a memory leak.\n",
            "  \"timeout or by a memory leak.\", UserWarning\n",
            "[Parallel(n_jobs=-1)]: Done  37 tasks      | elapsed: 35.7min\n"
          ],
          "name": "stderr"
        },
        {
          "output_type": "error",
          "ename": "KeyboardInterrupt",
          "evalue": "ignored",
          "traceback": [
            "\u001b[0;31m---------------------------------------------------------------------------\u001b[0m",
            "\u001b[0;31mKeyboardInterrupt\u001b[0m                         Traceback (most recent call last)",
            "\u001b[0;32m<ipython-input-265-94a6d9718ad3>\u001b[0m in \u001b[0;36m<module>\u001b[0;34m()\u001b[0m\n\u001b[1;32m      3\u001b[0m \u001b[0;31m# search across 100 different combinations, and use all available cores\u001b[0m\u001b[0;34m\u001b[0m\u001b[0;34m\u001b[0m\u001b[0;34m\u001b[0m\u001b[0m\n\u001b[1;32m      4\u001b[0m \u001b[0mrf_random\u001b[0m \u001b[0;34m=\u001b[0m \u001b[0mRandomizedSearchCV\u001b[0m\u001b[0;34m(\u001b[0m\u001b[0mestimator\u001b[0m \u001b[0;34m=\u001b[0m \u001b[0mclf\u001b[0m\u001b[0;34m,\u001b[0m \u001b[0mparam_distributions\u001b[0m \u001b[0;34m=\u001b[0m \u001b[0mrandom_grid\u001b[0m\u001b[0;34m,\u001b[0m \u001b[0mn_iter\u001b[0m \u001b[0;34m=\u001b[0m \u001b[0;36m100\u001b[0m\u001b[0;34m,\u001b[0m \u001b[0mcv\u001b[0m \u001b[0;34m=\u001b[0m \u001b[0;36m3\u001b[0m\u001b[0;34m,\u001b[0m \u001b[0mverbose\u001b[0m\u001b[0;34m=\u001b[0m\u001b[0;36m2\u001b[0m\u001b[0;34m,\u001b[0m \u001b[0mrandom_state\u001b[0m\u001b[0;34m=\u001b[0m\u001b[0;36m42\u001b[0m\u001b[0;34m,\u001b[0m \u001b[0mn_jobs\u001b[0m \u001b[0;34m=\u001b[0m \u001b[0;34m-\u001b[0m\u001b[0;36m1\u001b[0m\u001b[0;34m)\u001b[0m\u001b[0;31m# Fit the random search model\u001b[0m\u001b[0;34m\u001b[0m\u001b[0;34m\u001b[0m\u001b[0m\n\u001b[0;32m----> 5\u001b[0;31m \u001b[0mrf_random\u001b[0m\u001b[0;34m.\u001b[0m\u001b[0mfit\u001b[0m\u001b[0;34m(\u001b[0m\u001b[0mX_train\u001b[0m\u001b[0;34m,\u001b[0m \u001b[0my_train\u001b[0m\u001b[0;34m)\u001b[0m\u001b[0;34m\u001b[0m\u001b[0;34m\u001b[0m\u001b[0m\n\u001b[0m",
            "\u001b[0;32m/usr/local/lib/python3.6/dist-packages/sklearn/model_selection/_search.py\u001b[0m in \u001b[0;36mfit\u001b[0;34m(self, X, y, groups, **fit_params)\u001b[0m\n\u001b[1;32m    708\u001b[0m                 \u001b[0;32mreturn\u001b[0m \u001b[0mresults\u001b[0m\u001b[0;34m\u001b[0m\u001b[0;34m\u001b[0m\u001b[0m\n\u001b[1;32m    709\u001b[0m \u001b[0;34m\u001b[0m\u001b[0m\n\u001b[0;32m--> 710\u001b[0;31m             \u001b[0mself\u001b[0m\u001b[0;34m.\u001b[0m\u001b[0m_run_search\u001b[0m\u001b[0;34m(\u001b[0m\u001b[0mevaluate_candidates\u001b[0m\u001b[0;34m)\u001b[0m\u001b[0;34m\u001b[0m\u001b[0;34m\u001b[0m\u001b[0m\n\u001b[0m\u001b[1;32m    711\u001b[0m \u001b[0;34m\u001b[0m\u001b[0m\n\u001b[1;32m    712\u001b[0m         \u001b[0;31m# For multi-metric evaluation, store the best_index_, best_params_ and\u001b[0m\u001b[0;34m\u001b[0m\u001b[0;34m\u001b[0m\u001b[0;34m\u001b[0m\u001b[0m\n",
            "\u001b[0;32m/usr/local/lib/python3.6/dist-packages/sklearn/model_selection/_search.py\u001b[0m in \u001b[0;36m_run_search\u001b[0;34m(self, evaluate_candidates)\u001b[0m\n\u001b[1;32m   1482\u001b[0m         evaluate_candidates(ParameterSampler(\n\u001b[1;32m   1483\u001b[0m             \u001b[0mself\u001b[0m\u001b[0;34m.\u001b[0m\u001b[0mparam_distributions\u001b[0m\u001b[0;34m,\u001b[0m \u001b[0mself\u001b[0m\u001b[0;34m.\u001b[0m\u001b[0mn_iter\u001b[0m\u001b[0;34m,\u001b[0m\u001b[0;34m\u001b[0m\u001b[0;34m\u001b[0m\u001b[0m\n\u001b[0;32m-> 1484\u001b[0;31m             random_state=self.random_state))\n\u001b[0m",
            "\u001b[0;32m/usr/local/lib/python3.6/dist-packages/sklearn/model_selection/_search.py\u001b[0m in \u001b[0;36mevaluate_candidates\u001b[0;34m(candidate_params)\u001b[0m\n\u001b[1;32m    687\u001b[0m                                \u001b[0;32mfor\u001b[0m \u001b[0mparameters\u001b[0m\u001b[0;34m,\u001b[0m \u001b[0;34m(\u001b[0m\u001b[0mtrain\u001b[0m\u001b[0;34m,\u001b[0m \u001b[0mtest\u001b[0m\u001b[0;34m)\u001b[0m\u001b[0;34m\u001b[0m\u001b[0;34m\u001b[0m\u001b[0m\n\u001b[1;32m    688\u001b[0m                                in product(candidate_params,\n\u001b[0;32m--> 689\u001b[0;31m                                           cv.split(X, y, groups)))\n\u001b[0m\u001b[1;32m    690\u001b[0m \u001b[0;34m\u001b[0m\u001b[0m\n\u001b[1;32m    691\u001b[0m                 \u001b[0;32mif\u001b[0m \u001b[0mlen\u001b[0m\u001b[0;34m(\u001b[0m\u001b[0mout\u001b[0m\u001b[0;34m)\u001b[0m \u001b[0;34m<\u001b[0m \u001b[0;36m1\u001b[0m\u001b[0;34m:\u001b[0m\u001b[0;34m\u001b[0m\u001b[0;34m\u001b[0m\u001b[0m\n",
            "\u001b[0;32m/usr/local/lib/python3.6/dist-packages/joblib/parallel.py\u001b[0m in \u001b[0;36m__call__\u001b[0;34m(self, iterable)\u001b[0m\n\u001b[1;32m   1052\u001b[0m \u001b[0;34m\u001b[0m\u001b[0m\n\u001b[1;32m   1053\u001b[0m             \u001b[0;32mwith\u001b[0m \u001b[0mself\u001b[0m\u001b[0;34m.\u001b[0m\u001b[0m_backend\u001b[0m\u001b[0;34m.\u001b[0m\u001b[0mretrieval_context\u001b[0m\u001b[0;34m(\u001b[0m\u001b[0;34m)\u001b[0m\u001b[0;34m:\u001b[0m\u001b[0;34m\u001b[0m\u001b[0;34m\u001b[0m\u001b[0m\n\u001b[0;32m-> 1054\u001b[0;31m                 \u001b[0mself\u001b[0m\u001b[0;34m.\u001b[0m\u001b[0mretrieve\u001b[0m\u001b[0;34m(\u001b[0m\u001b[0;34m)\u001b[0m\u001b[0;34m\u001b[0m\u001b[0;34m\u001b[0m\u001b[0m\n\u001b[0m\u001b[1;32m   1055\u001b[0m             \u001b[0;31m# Make sure that we get a last message telling us we are done\u001b[0m\u001b[0;34m\u001b[0m\u001b[0;34m\u001b[0m\u001b[0;34m\u001b[0m\u001b[0m\n\u001b[1;32m   1056\u001b[0m             \u001b[0melapsed_time\u001b[0m \u001b[0;34m=\u001b[0m \u001b[0mtime\u001b[0m\u001b[0;34m.\u001b[0m\u001b[0mtime\u001b[0m\u001b[0;34m(\u001b[0m\u001b[0;34m)\u001b[0m \u001b[0;34m-\u001b[0m \u001b[0mself\u001b[0m\u001b[0;34m.\u001b[0m\u001b[0m_start_time\u001b[0m\u001b[0;34m\u001b[0m\u001b[0;34m\u001b[0m\u001b[0m\n",
            "\u001b[0;32m/usr/local/lib/python3.6/dist-packages/joblib/parallel.py\u001b[0m in \u001b[0;36mretrieve\u001b[0;34m(self)\u001b[0m\n\u001b[1;32m    931\u001b[0m             \u001b[0;32mtry\u001b[0m\u001b[0;34m:\u001b[0m\u001b[0;34m\u001b[0m\u001b[0;34m\u001b[0m\u001b[0m\n\u001b[1;32m    932\u001b[0m                 \u001b[0;32mif\u001b[0m \u001b[0mgetattr\u001b[0m\u001b[0;34m(\u001b[0m\u001b[0mself\u001b[0m\u001b[0;34m.\u001b[0m\u001b[0m_backend\u001b[0m\u001b[0;34m,\u001b[0m \u001b[0;34m'supports_timeout'\u001b[0m\u001b[0;34m,\u001b[0m \u001b[0;32mFalse\u001b[0m\u001b[0;34m)\u001b[0m\u001b[0;34m:\u001b[0m\u001b[0;34m\u001b[0m\u001b[0;34m\u001b[0m\u001b[0m\n\u001b[0;32m--> 933\u001b[0;31m                     \u001b[0mself\u001b[0m\u001b[0;34m.\u001b[0m\u001b[0m_output\u001b[0m\u001b[0;34m.\u001b[0m\u001b[0mextend\u001b[0m\u001b[0;34m(\u001b[0m\u001b[0mjob\u001b[0m\u001b[0;34m.\u001b[0m\u001b[0mget\u001b[0m\u001b[0;34m(\u001b[0m\u001b[0mtimeout\u001b[0m\u001b[0;34m=\u001b[0m\u001b[0mself\u001b[0m\u001b[0;34m.\u001b[0m\u001b[0mtimeout\u001b[0m\u001b[0;34m)\u001b[0m\u001b[0;34m)\u001b[0m\u001b[0;34m\u001b[0m\u001b[0;34m\u001b[0m\u001b[0m\n\u001b[0m\u001b[1;32m    934\u001b[0m                 \u001b[0;32melse\u001b[0m\u001b[0;34m:\u001b[0m\u001b[0;34m\u001b[0m\u001b[0;34m\u001b[0m\u001b[0m\n\u001b[1;32m    935\u001b[0m                     \u001b[0mself\u001b[0m\u001b[0;34m.\u001b[0m\u001b[0m_output\u001b[0m\u001b[0;34m.\u001b[0m\u001b[0mextend\u001b[0m\u001b[0;34m(\u001b[0m\u001b[0mjob\u001b[0m\u001b[0;34m.\u001b[0m\u001b[0mget\u001b[0m\u001b[0;34m(\u001b[0m\u001b[0;34m)\u001b[0m\u001b[0;34m)\u001b[0m\u001b[0;34m\u001b[0m\u001b[0;34m\u001b[0m\u001b[0m\n",
            "\u001b[0;32m/usr/local/lib/python3.6/dist-packages/joblib/_parallel_backends.py\u001b[0m in \u001b[0;36mwrap_future_result\u001b[0;34m(future, timeout)\u001b[0m\n\u001b[1;32m    540\u001b[0m         AsyncResults.get from multiprocessing.\"\"\"\n\u001b[1;32m    541\u001b[0m         \u001b[0;32mtry\u001b[0m\u001b[0;34m:\u001b[0m\u001b[0;34m\u001b[0m\u001b[0;34m\u001b[0m\u001b[0m\n\u001b[0;32m--> 542\u001b[0;31m             \u001b[0;32mreturn\u001b[0m \u001b[0mfuture\u001b[0m\u001b[0;34m.\u001b[0m\u001b[0mresult\u001b[0m\u001b[0;34m(\u001b[0m\u001b[0mtimeout\u001b[0m\u001b[0;34m=\u001b[0m\u001b[0mtimeout\u001b[0m\u001b[0;34m)\u001b[0m\u001b[0;34m\u001b[0m\u001b[0;34m\u001b[0m\u001b[0m\n\u001b[0m\u001b[1;32m    543\u001b[0m         \u001b[0;32mexcept\u001b[0m \u001b[0mCfTimeoutError\u001b[0m \u001b[0;32mas\u001b[0m \u001b[0me\u001b[0m\u001b[0;34m:\u001b[0m\u001b[0;34m\u001b[0m\u001b[0;34m\u001b[0m\u001b[0m\n\u001b[1;32m    544\u001b[0m             \u001b[0;32mraise\u001b[0m \u001b[0mTimeoutError\u001b[0m \u001b[0;32mfrom\u001b[0m \u001b[0me\u001b[0m\u001b[0;34m\u001b[0m\u001b[0;34m\u001b[0m\u001b[0m\n",
            "\u001b[0;32m/usr/lib/python3.6/concurrent/futures/_base.py\u001b[0m in \u001b[0;36mresult\u001b[0;34m(self, timeout)\u001b[0m\n\u001b[1;32m    425\u001b[0m                 \u001b[0;32mreturn\u001b[0m \u001b[0mself\u001b[0m\u001b[0;34m.\u001b[0m\u001b[0m__get_result\u001b[0m\u001b[0;34m(\u001b[0m\u001b[0;34m)\u001b[0m\u001b[0;34m\u001b[0m\u001b[0;34m\u001b[0m\u001b[0m\n\u001b[1;32m    426\u001b[0m \u001b[0;34m\u001b[0m\u001b[0m\n\u001b[0;32m--> 427\u001b[0;31m             \u001b[0mself\u001b[0m\u001b[0;34m.\u001b[0m\u001b[0m_condition\u001b[0m\u001b[0;34m.\u001b[0m\u001b[0mwait\u001b[0m\u001b[0;34m(\u001b[0m\u001b[0mtimeout\u001b[0m\u001b[0;34m)\u001b[0m\u001b[0;34m\u001b[0m\u001b[0;34m\u001b[0m\u001b[0m\n\u001b[0m\u001b[1;32m    428\u001b[0m \u001b[0;34m\u001b[0m\u001b[0m\n\u001b[1;32m    429\u001b[0m             \u001b[0;32mif\u001b[0m \u001b[0mself\u001b[0m\u001b[0;34m.\u001b[0m\u001b[0m_state\u001b[0m \u001b[0;32min\u001b[0m \u001b[0;34m[\u001b[0m\u001b[0mCANCELLED\u001b[0m\u001b[0;34m,\u001b[0m \u001b[0mCANCELLED_AND_NOTIFIED\u001b[0m\u001b[0;34m]\u001b[0m\u001b[0;34m:\u001b[0m\u001b[0;34m\u001b[0m\u001b[0;34m\u001b[0m\u001b[0m\n",
            "\u001b[0;32m/usr/lib/python3.6/threading.py\u001b[0m in \u001b[0;36mwait\u001b[0;34m(self, timeout)\u001b[0m\n\u001b[1;32m    293\u001b[0m         \u001b[0;32mtry\u001b[0m\u001b[0;34m:\u001b[0m    \u001b[0;31m# restore state no matter what (e.g., KeyboardInterrupt)\u001b[0m\u001b[0;34m\u001b[0m\u001b[0;34m\u001b[0m\u001b[0m\n\u001b[1;32m    294\u001b[0m             \u001b[0;32mif\u001b[0m \u001b[0mtimeout\u001b[0m \u001b[0;32mis\u001b[0m \u001b[0;32mNone\u001b[0m\u001b[0;34m:\u001b[0m\u001b[0;34m\u001b[0m\u001b[0;34m\u001b[0m\u001b[0m\n\u001b[0;32m--> 295\u001b[0;31m                 \u001b[0mwaiter\u001b[0m\u001b[0;34m.\u001b[0m\u001b[0macquire\u001b[0m\u001b[0;34m(\u001b[0m\u001b[0;34m)\u001b[0m\u001b[0;34m\u001b[0m\u001b[0;34m\u001b[0m\u001b[0m\n\u001b[0m\u001b[1;32m    296\u001b[0m                 \u001b[0mgotit\u001b[0m \u001b[0;34m=\u001b[0m \u001b[0;32mTrue\u001b[0m\u001b[0;34m\u001b[0m\u001b[0;34m\u001b[0m\u001b[0m\n\u001b[1;32m    297\u001b[0m             \u001b[0;32melse\u001b[0m\u001b[0;34m:\u001b[0m\u001b[0;34m\u001b[0m\u001b[0;34m\u001b[0m\u001b[0m\n",
            "\u001b[0;31mKeyboardInterrupt\u001b[0m: "
          ]
        }
      ]
    },
    {
      "cell_type": "code",
      "metadata": {
        "id": "UjdgPKfNcQpb"
      },
      "source": [
        "#Finding the best parameters\n",
        "rf_random.best_params_"
      ],
      "execution_count": null,
      "outputs": []
    },
    {
      "cell_type": "markdown",
      "metadata": {
        "id": "AwH_-w_XR65T"
      },
      "source": [
        "# 11.1 Making predictions on the test data"
      ]
    },
    {
      "cell_type": "markdown",
      "metadata": {
        "id": "nf4YHrH3lrpb"
      },
      "source": [
        "Now I am making predictions on the test data."
      ]
    },
    {
      "cell_type": "code",
      "metadata": {
        "id": "N2WEre00SAQC"
      },
      "source": [
        "df=test_data.copy()"
      ],
      "execution_count": null,
      "outputs": []
    },
    {
      "cell_type": "markdown",
      "metadata": {
        "id": "CQGaW7DSl1Fq"
      },
      "source": [
        "It is to be noted that the test data is not yet processed and contains NULL values in the clear date column"
      ]
    },
    {
      "cell_type": "markdown",
      "metadata": {
        "id": "ZIlwPiXCl-hn"
      },
      "source": [
        "We need to fill these values with our predicted dates and finally bin them according to the following buckets.\n",
        "\n",
        "● 0-15 days\n",
        "\n",
        "● 16-30 days\n",
        "\n",
        "● 31-45 days\n",
        "\n",
        "● 46-60 days\n",
        "\n",
        "● Greater than 60 days\n",
        "\n",
        "\n"
      ]
    },
    {
      "cell_type": "markdown",
      "metadata": {
        "id": "1DbCK7tZqc1v"
      },
      "source": [
        "Now this is ready for preprocessing function"
      ]
    },
    {
      "cell_type": "code",
      "metadata": {
        "id": "qfsYm49cqyyn",
        "colab": {
          "base_uri": "https://localhost:8080/"
        },
        "outputId": "d86089fc-b410-40e9-bc23-957b62a96407"
      },
      "source": [
        "# X_test and y_test creation\n",
        "y_test=[]\n",
        "X_test,y_test=preprocess(test_data,y_test)\n",
        "X_test.info()"
      ],
      "execution_count": null,
      "outputs": [
        {
          "output_type": "stream",
          "text": [
            "<class 'pandas.core.frame.DataFrame'>\n",
            "Int64Index: 4188 entries, 45594 to 49999\n",
            "Data columns (total 12 columns):\n",
            " #   Column                  Non-Null Count  Dtype  \n",
            "---  ------                  --------------  -----  \n",
            " 0   buisness_year           4188 non-null   float64\n",
            " 1   inv_curr_code           4188 non-null   int64  \n",
            " 2   avg_delay_as_per_terms  4188 non-null   float64\n",
            " 3   cust_name(ENC)          4188 non-null   float64\n",
            " 4   cust_num(ENC)           4188 non-null   float64\n",
            " 5   time_given              4188 non-null   int64  \n",
            " 6   total_open_amount_1     4188 non-null   float64\n",
            " 7   business_code(ENC)      4188 non-null   float64\n",
            " 8   due_month               4188 non-null   int64  \n",
            " 9   due_day                 4188 non-null   int64  \n",
            " 10  doc_month               4188 non-null   int64  \n",
            " 11  doc_day                 4188 non-null   int64  \n",
            "dtypes: float64(6), int64(6)\n",
            "memory usage: 425.3 KB\n"
          ],
          "name": "stdout"
        },
        {
          "output_type": "stream",
          "text": [
            "/usr/local/lib/python3.6/dist-packages/ipykernel_launcher.py:8: SettingWithCopyWarning: \n",
            "A value is trying to be set on a copy of a slice from a DataFrame.\n",
            "Try using .loc[row_indexer,col_indexer] = value instead\n",
            "\n",
            "See the caveats in the documentation: https://pandas.pydata.org/pandas-docs/stable/user_guide/indexing.html#returning-a-view-versus-a-copy\n",
            "  \n",
            "/usr/local/lib/python3.6/dist-packages/pandas/core/frame.py:4174: SettingWithCopyWarning: \n",
            "A value is trying to be set on a copy of a slice from a DataFrame\n",
            "\n",
            "See the caveats in the documentation: https://pandas.pydata.org/pandas-docs/stable/user_guide/indexing.html#returning-a-view-versus-a-copy\n",
            "  errors=errors,\n",
            "/usr/local/lib/python3.6/dist-packages/ipykernel_launcher.py:18: SettingWithCopyWarning: \n",
            "A value is trying to be set on a copy of a slice from a DataFrame.\n",
            "Try using .loc[row_indexer,col_indexer] = value instead\n",
            "\n",
            "See the caveats in the documentation: https://pandas.pydata.org/pandas-docs/stable/user_guide/indexing.html#returning-a-view-versus-a-copy\n",
            "/usr/local/lib/python3.6/dist-packages/ipykernel_launcher.py:22: SettingWithCopyWarning: \n",
            "A value is trying to be set on a copy of a slice from a DataFrame.\n",
            "Try using .loc[row_indexer,col_indexer] = value instead\n",
            "\n",
            "See the caveats in the documentation: https://pandas.pydata.org/pandas-docs/stable/user_guide/indexing.html#returning-a-view-versus-a-copy\n",
            "/usr/local/lib/python3.6/dist-packages/ipykernel_launcher.py:25: SettingWithCopyWarning: \n",
            "A value is trying to be set on a copy of a slice from a DataFrame.\n",
            "Try using .loc[row_indexer,col_indexer] = value instead\n",
            "\n",
            "See the caveats in the documentation: https://pandas.pydata.org/pandas-docs/stable/user_guide/indexing.html#returning-a-view-versus-a-copy\n",
            "/usr/local/lib/python3.6/dist-packages/ipykernel_launcher.py:29: SettingWithCopyWarning: \n",
            "A value is trying to be set on a copy of a slice from a DataFrame.\n",
            "Try using .loc[row_indexer,col_indexer] = value instead\n",
            "\n",
            "See the caveats in the documentation: https://pandas.pydata.org/pandas-docs/stable/user_guide/indexing.html#returning-a-view-versus-a-copy\n",
            "/usr/local/lib/python3.6/dist-packages/ipykernel_launcher.py:30: SettingWithCopyWarning: \n",
            "A value is trying to be set on a copy of a slice from a DataFrame.\n",
            "Try using .loc[row_indexer,col_indexer] = value instead\n",
            "\n",
            "See the caveats in the documentation: https://pandas.pydata.org/pandas-docs/stable/user_guide/indexing.html#returning-a-view-versus-a-copy\n",
            "/usr/local/lib/python3.6/dist-packages/ipykernel_launcher.py:33: SettingWithCopyWarning: \n",
            "A value is trying to be set on a copy of a slice from a DataFrame.\n",
            "Try using .loc[row_indexer,col_indexer] = value instead\n",
            "\n",
            "See the caveats in the documentation: https://pandas.pydata.org/pandas-docs/stable/user_guide/indexing.html#returning-a-view-versus-a-copy\n",
            "/usr/local/lib/python3.6/dist-packages/ipykernel_launcher.py:36: SettingWithCopyWarning: \n",
            "A value is trying to be set on a copy of a slice from a DataFrame.\n",
            "Try using .loc[row_indexer,col_indexer] = value instead\n",
            "\n",
            "See the caveats in the documentation: https://pandas.pydata.org/pandas-docs/stable/user_guide/indexing.html#returning-a-view-versus-a-copy\n",
            "/usr/local/lib/python3.6/dist-packages/ipykernel_launcher.py:39: SettingWithCopyWarning: \n",
            "A value is trying to be set on a copy of a slice from a DataFrame.\n",
            "Try using .loc[row_indexer,col_indexer] = value instead\n",
            "\n",
            "See the caveats in the documentation: https://pandas.pydata.org/pandas-docs/stable/user_guide/indexing.html#returning-a-view-versus-a-copy\n",
            "/usr/local/lib/python3.6/dist-packages/ipykernel_launcher.py:42: SettingWithCopyWarning: \n",
            "A value is trying to be set on a copy of a slice from a DataFrame.\n",
            "Try using .loc[row_indexer,col_indexer] = value instead\n",
            "\n",
            "See the caveats in the documentation: https://pandas.pydata.org/pandas-docs/stable/user_guide/indexing.html#returning-a-view-versus-a-copy\n",
            "/usr/local/lib/python3.6/dist-packages/ipykernel_launcher.py:44: SettingWithCopyWarning: \n",
            "A value is trying to be set on a copy of a slice from a DataFrame.\n",
            "Try using .loc[row_indexer,col_indexer] = value instead\n",
            "\n",
            "See the caveats in the documentation: https://pandas.pydata.org/pandas-docs/stable/user_guide/indexing.html#returning-a-view-versus-a-copy\n",
            "/usr/local/lib/python3.6/dist-packages/ipykernel_launcher.py:46: SettingWithCopyWarning: \n",
            "A value is trying to be set on a copy of a slice from a DataFrame.\n",
            "Try using .loc[row_indexer,col_indexer] = value instead\n",
            "\n",
            "See the caveats in the documentation: https://pandas.pydata.org/pandas-docs/stable/user_guide/indexing.html#returning-a-view-versus-a-copy\n"
          ],
          "name": "stderr"
        }
      ]
    },
    {
      "cell_type": "markdown",
      "metadata": {
        "id": "g0vFrSnnsNHP"
      },
      "source": [
        "Making Predictions Using our RandomForest Regressor model"
      ]
    },
    {
      "cell_type": "code",
      "metadata": {
        "colab": {
          "base_uri": "https://localhost:8080/"
        },
        "id": "-VeOz6wPrR6w",
        "outputId": "906f7130-f878-4215-c822-83c16c9a9d9a"
      },
      "source": [
        "y_test=clf.predict(X_test)\n",
        "y_test"
      ],
      "execution_count": null,
      "outputs": [
        {
          "output_type": "execute_result",
          "data": {
            "text/plain": [
              "array([-1.84,  1.24,  0.17, ..., -0.05,  0.62, -3.34])"
            ]
          },
          "metadata": {
            "tags": []
          },
          "execution_count": 255
        }
      ]
    },
    {
      "cell_type": "markdown",
      "metadata": {
        "id": "eD4eFaPfvDUg"
      },
      "source": [
        "Rounding float to int"
      ]
    },
    {
      "cell_type": "markdown",
      "metadata": {
        "id": "zpeRWkYYn5pO"
      },
      "source": [
        "AS we are predicting the number of days of delay ,we require integers so here I round up the floating points to int"
      ]
    },
    {
      "cell_type": "code",
      "metadata": {
        "colab": {
          "base_uri": "https://localhost:8080/"
        },
        "id": "VZEY03NxsiMx",
        "outputId": "de0f09f5-0a49-4258-8294-41304edd4805"
      },
      "source": [
        "y_test_rounded=np.round(y_test).astype(int)\n",
        "y_test_rounded"
      ],
      "execution_count": null,
      "outputs": [
        {
          "output_type": "execute_result",
          "data": {
            "text/plain": [
              "array([-2,  1,  0, ...,  0,  1, -3])"
            ]
          },
          "metadata": {
            "tags": []
          },
          "execution_count": 256
        }
      ]
    },
    {
      "cell_type": "code",
      "metadata": {
        "colab": {
          "base_uri": "https://localhost:8080/",
          "height": 278
        },
        "id": "7j4R8rLZszuk",
        "outputId": "a017fc2c-d5b1-4b67-f07c-af4aed64ddc5"
      },
      "source": [
        "# Adding y_test to df\n",
        "df['delay']=y_test_rounded\n",
        "df.head()"
      ],
      "execution_count": null,
      "outputs": [
        {
          "output_type": "execute_result",
          "data": {
            "text/html": [
              "<div>\n",
              "<style scoped>\n",
              "    .dataframe tbody tr th:only-of-type {\n",
              "        vertical-align: middle;\n",
              "    }\n",
              "\n",
              "    .dataframe tbody tr th {\n",
              "        vertical-align: top;\n",
              "    }\n",
              "\n",
              "    .dataframe thead th {\n",
              "        text-align: right;\n",
              "    }\n",
              "</style>\n",
              "<table border=\"1\" class=\"dataframe\">\n",
              "  <thead>\n",
              "    <tr style=\"text-align: right;\">\n",
              "      <th></th>\n",
              "      <th>business_code</th>\n",
              "      <th>cust_number</th>\n",
              "      <th>name_customer</th>\n",
              "      <th>clear_date</th>\n",
              "      <th>buisness_year</th>\n",
              "      <th>doc_id</th>\n",
              "      <th>posting_date</th>\n",
              "      <th>document_create_date</th>\n",
              "      <th>document_create_date.1</th>\n",
              "      <th>due_in_date</th>\n",
              "      <th>invoice_currency</th>\n",
              "      <th>document type</th>\n",
              "      <th>posting_id</th>\n",
              "      <th>total_open_amount</th>\n",
              "      <th>baseline_create_date</th>\n",
              "      <th>cust_payment_terms</th>\n",
              "      <th>invoice_id</th>\n",
              "      <th>isOpen</th>\n",
              "      <th>delay</th>\n",
              "    </tr>\n",
              "  </thead>\n",
              "  <tbody>\n",
              "    <tr>\n",
              "      <th>45594</th>\n",
              "      <td>U001</td>\n",
              "      <td>0200769623</td>\n",
              "      <td>WAL-MAR systems</td>\n",
              "      <td>NaT</td>\n",
              "      <td>2020.0</td>\n",
              "      <td>1.930582e+09</td>\n",
              "      <td>2020-03-01</td>\n",
              "      <td>2020-02-29</td>\n",
              "      <td>2020-03-01</td>\n",
              "      <td>2020-03-16</td>\n",
              "      <td>USD</td>\n",
              "      <td>RV</td>\n",
              "      <td>1.0</td>\n",
              "      <td>13353.11</td>\n",
              "      <td>2020-03-01</td>\n",
              "      <td>NAH4</td>\n",
              "      <td>1.930582e+09</td>\n",
              "      <td>1</td>\n",
              "      <td>-2</td>\n",
              "    </tr>\n",
              "    <tr>\n",
              "      <th>45595</th>\n",
              "      <td>U001</td>\n",
              "      <td>0200782772</td>\n",
              "      <td>ASSOC G trust</td>\n",
              "      <td>NaT</td>\n",
              "      <td>2020.0</td>\n",
              "      <td>1.930870e+09</td>\n",
              "      <td>2020-05-06</td>\n",
              "      <td>2020-05-06</td>\n",
              "      <td>2020-05-06</td>\n",
              "      <td>2020-05-21</td>\n",
              "      <td>USD</td>\n",
              "      <td>RV</td>\n",
              "      <td>1.0</td>\n",
              "      <td>26157.86</td>\n",
              "      <td>2020-05-06</td>\n",
              "      <td>NAA8</td>\n",
              "      <td>1.930870e+09</td>\n",
              "      <td>1</td>\n",
              "      <td>1</td>\n",
              "    </tr>\n",
              "    <tr>\n",
              "      <th>45596</th>\n",
              "      <td>U001</td>\n",
              "      <td>0200794332</td>\n",
              "      <td>COST corporation</td>\n",
              "      <td>NaT</td>\n",
              "      <td>2020.0</td>\n",
              "      <td>1.930642e+09</td>\n",
              "      <td>2020-03-12</td>\n",
              "      <td>2020-03-11</td>\n",
              "      <td>2020-03-12</td>\n",
              "      <td>2020-03-27</td>\n",
              "      <td>USD</td>\n",
              "      <td>RV</td>\n",
              "      <td>1.0</td>\n",
              "      <td>83937.31</td>\n",
              "      <td>2020-03-12</td>\n",
              "      <td>NAAX</td>\n",
              "      <td>1.930642e+09</td>\n",
              "      <td>1</td>\n",
              "      <td>0</td>\n",
              "    </tr>\n",
              "    <tr>\n",
              "      <th>45597</th>\n",
              "      <td>U001</td>\n",
              "      <td>0200714710</td>\n",
              "      <td>SYSCO  co</td>\n",
              "      <td>NaT</td>\n",
              "      <td>2020.0</td>\n",
              "      <td>1.930628e+09</td>\n",
              "      <td>2020-03-12</td>\n",
              "      <td>2020-03-10</td>\n",
              "      <td>2020-03-12</td>\n",
              "      <td>2020-04-13</td>\n",
              "      <td>USD</td>\n",
              "      <td>RV</td>\n",
              "      <td>1.0</td>\n",
              "      <td>510.31</td>\n",
              "      <td>2020-03-12</td>\n",
              "      <td>NA32</td>\n",
              "      <td>1.930628e+09</td>\n",
              "      <td>1</td>\n",
              "      <td>1</td>\n",
              "    </tr>\n",
              "    <tr>\n",
              "      <th>45598</th>\n",
              "      <td>U001</td>\n",
              "      <td>0200744019</td>\n",
              "      <td>TARG llc</td>\n",
              "      <td>NaT</td>\n",
              "      <td>2020.0</td>\n",
              "      <td>1.930753e+09</td>\n",
              "      <td>2020-04-07</td>\n",
              "      <td>2020-04-06</td>\n",
              "      <td>2020-04-07</td>\n",
              "      <td>2020-04-22</td>\n",
              "      <td>USD</td>\n",
              "      <td>RV</td>\n",
              "      <td>1.0</td>\n",
              "      <td>16807.58</td>\n",
              "      <td>2020-04-07</td>\n",
              "      <td>NAA8</td>\n",
              "      <td>1.930753e+09</td>\n",
              "      <td>1</td>\n",
              "      <td>2</td>\n",
              "    </tr>\n",
              "  </tbody>\n",
              "</table>\n",
              "</div>"
            ],
            "text/plain": [
              "      business_code cust_number     name_customer  ...    invoice_id  isOpen  delay\n",
              "45594          U001  0200769623   WAL-MAR systems  ...  1.930582e+09       1     -2\n",
              "45595          U001  0200782772     ASSOC G trust  ...  1.930870e+09       1      1\n",
              "45596          U001  0200794332  COST corporation  ...  1.930642e+09       1      0\n",
              "45597          U001  0200714710         SYSCO  co  ...  1.930628e+09       1      1\n",
              "45598          U001  0200744019          TARG llc  ...  1.930753e+09       1      2\n",
              "\n",
              "[5 rows x 19 columns]"
            ]
          },
          "metadata": {
            "tags": []
          },
          "execution_count": 257
        }
      ]
    },
    {
      "cell_type": "code",
      "metadata": {
        "colab": {
          "base_uri": "https://localhost:8080/",
          "height": 278
        },
        "id": "oHjjIEOMwBTV",
        "outputId": "4864f404-b118-455b-8361-e3b2092574eb"
      },
      "source": [
        "# Converting due_in_date to Date-time\n",
        "df['due_in_date']=pd.to_datetime(df['due_in_date'],format='%Y%m%d')\n",
        "# COnverting delay to time delta\n",
        "df['delay']=pd.to_timedelta(df['delay'], unit='D')\n",
        "# Creating new column clear_date\n",
        "df['clear_date']=df['due_in_date']+df['delay']\n",
        "df.head()"
      ],
      "execution_count": null,
      "outputs": [
        {
          "output_type": "execute_result",
          "data": {
            "text/html": [
              "<div>\n",
              "<style scoped>\n",
              "    .dataframe tbody tr th:only-of-type {\n",
              "        vertical-align: middle;\n",
              "    }\n",
              "\n",
              "    .dataframe tbody tr th {\n",
              "        vertical-align: top;\n",
              "    }\n",
              "\n",
              "    .dataframe thead th {\n",
              "        text-align: right;\n",
              "    }\n",
              "</style>\n",
              "<table border=\"1\" class=\"dataframe\">\n",
              "  <thead>\n",
              "    <tr style=\"text-align: right;\">\n",
              "      <th></th>\n",
              "      <th>business_code</th>\n",
              "      <th>cust_number</th>\n",
              "      <th>name_customer</th>\n",
              "      <th>clear_date</th>\n",
              "      <th>buisness_year</th>\n",
              "      <th>doc_id</th>\n",
              "      <th>posting_date</th>\n",
              "      <th>document_create_date</th>\n",
              "      <th>document_create_date.1</th>\n",
              "      <th>due_in_date</th>\n",
              "      <th>invoice_currency</th>\n",
              "      <th>document type</th>\n",
              "      <th>posting_id</th>\n",
              "      <th>total_open_amount</th>\n",
              "      <th>baseline_create_date</th>\n",
              "      <th>cust_payment_terms</th>\n",
              "      <th>invoice_id</th>\n",
              "      <th>isOpen</th>\n",
              "      <th>delay</th>\n",
              "    </tr>\n",
              "  </thead>\n",
              "  <tbody>\n",
              "    <tr>\n",
              "      <th>45594</th>\n",
              "      <td>U001</td>\n",
              "      <td>0200769623</td>\n",
              "      <td>WAL-MAR systems</td>\n",
              "      <td>2020-03-14</td>\n",
              "      <td>2020.0</td>\n",
              "      <td>1.930582e+09</td>\n",
              "      <td>2020-03-01</td>\n",
              "      <td>2020-02-29</td>\n",
              "      <td>2020-03-01</td>\n",
              "      <td>2020-03-16</td>\n",
              "      <td>USD</td>\n",
              "      <td>RV</td>\n",
              "      <td>1.0</td>\n",
              "      <td>13353.11</td>\n",
              "      <td>2020-03-01</td>\n",
              "      <td>NAH4</td>\n",
              "      <td>1.930582e+09</td>\n",
              "      <td>1</td>\n",
              "      <td>-2 days</td>\n",
              "    </tr>\n",
              "    <tr>\n",
              "      <th>45595</th>\n",
              "      <td>U001</td>\n",
              "      <td>0200782772</td>\n",
              "      <td>ASSOC G trust</td>\n",
              "      <td>2020-05-22</td>\n",
              "      <td>2020.0</td>\n",
              "      <td>1.930870e+09</td>\n",
              "      <td>2020-05-06</td>\n",
              "      <td>2020-05-06</td>\n",
              "      <td>2020-05-06</td>\n",
              "      <td>2020-05-21</td>\n",
              "      <td>USD</td>\n",
              "      <td>RV</td>\n",
              "      <td>1.0</td>\n",
              "      <td>26157.86</td>\n",
              "      <td>2020-05-06</td>\n",
              "      <td>NAA8</td>\n",
              "      <td>1.930870e+09</td>\n",
              "      <td>1</td>\n",
              "      <td>1 days</td>\n",
              "    </tr>\n",
              "    <tr>\n",
              "      <th>45596</th>\n",
              "      <td>U001</td>\n",
              "      <td>0200794332</td>\n",
              "      <td>COST corporation</td>\n",
              "      <td>2020-03-27</td>\n",
              "      <td>2020.0</td>\n",
              "      <td>1.930642e+09</td>\n",
              "      <td>2020-03-12</td>\n",
              "      <td>2020-03-11</td>\n",
              "      <td>2020-03-12</td>\n",
              "      <td>2020-03-27</td>\n",
              "      <td>USD</td>\n",
              "      <td>RV</td>\n",
              "      <td>1.0</td>\n",
              "      <td>83937.31</td>\n",
              "      <td>2020-03-12</td>\n",
              "      <td>NAAX</td>\n",
              "      <td>1.930642e+09</td>\n",
              "      <td>1</td>\n",
              "      <td>0 days</td>\n",
              "    </tr>\n",
              "    <tr>\n",
              "      <th>45597</th>\n",
              "      <td>U001</td>\n",
              "      <td>0200714710</td>\n",
              "      <td>SYSCO  co</td>\n",
              "      <td>2020-04-14</td>\n",
              "      <td>2020.0</td>\n",
              "      <td>1.930628e+09</td>\n",
              "      <td>2020-03-12</td>\n",
              "      <td>2020-03-10</td>\n",
              "      <td>2020-03-12</td>\n",
              "      <td>2020-04-13</td>\n",
              "      <td>USD</td>\n",
              "      <td>RV</td>\n",
              "      <td>1.0</td>\n",
              "      <td>510.31</td>\n",
              "      <td>2020-03-12</td>\n",
              "      <td>NA32</td>\n",
              "      <td>1.930628e+09</td>\n",
              "      <td>1</td>\n",
              "      <td>1 days</td>\n",
              "    </tr>\n",
              "    <tr>\n",
              "      <th>45598</th>\n",
              "      <td>U001</td>\n",
              "      <td>0200744019</td>\n",
              "      <td>TARG llc</td>\n",
              "      <td>2020-04-24</td>\n",
              "      <td>2020.0</td>\n",
              "      <td>1.930753e+09</td>\n",
              "      <td>2020-04-07</td>\n",
              "      <td>2020-04-06</td>\n",
              "      <td>2020-04-07</td>\n",
              "      <td>2020-04-22</td>\n",
              "      <td>USD</td>\n",
              "      <td>RV</td>\n",
              "      <td>1.0</td>\n",
              "      <td>16807.58</td>\n",
              "      <td>2020-04-07</td>\n",
              "      <td>NAA8</td>\n",
              "      <td>1.930753e+09</td>\n",
              "      <td>1</td>\n",
              "      <td>2 days</td>\n",
              "    </tr>\n",
              "  </tbody>\n",
              "</table>\n",
              "</div>"
            ],
            "text/plain": [
              "      business_code cust_number     name_customer  ...    invoice_id  isOpen   delay\n",
              "45594          U001  0200769623   WAL-MAR systems  ...  1.930582e+09       1 -2 days\n",
              "45595          U001  0200782772     ASSOC G trust  ...  1.930870e+09       1  1 days\n",
              "45596          U001  0200794332  COST corporation  ...  1.930642e+09       1  0 days\n",
              "45597          U001  0200714710         SYSCO  co  ...  1.930628e+09       1  1 days\n",
              "45598          U001  0200744019          TARG llc  ...  1.930753e+09       1  2 days\n",
              "\n",
              "[5 rows x 19 columns]"
            ]
          },
          "metadata": {
            "tags": []
          },
          "execution_count": 258
        }
      ]
    },
    {
      "cell_type": "markdown",
      "metadata": {
        "id": "fC4qgIrayb1b"
      },
      "source": [
        "Thus we can predict the clear date of an invoice"
      ]
    },
    {
      "cell_type": "code",
      "metadata": {
        "id": "MhXGOyxYyBHV"
      },
      "source": [
        "# Function for bucketing\n",
        "from datetime import datetime, timedelta\n",
        "def bucketizer(delay):\n",
        "  '''\n",
        "  This function is used to map the delays to their \n",
        "  respective bucket\n",
        "  '''\n",
        "  delay=delay.total_seconds() / timedelta (days=1).total_seconds()\n",
        "  if delay <=15 :\n",
        "    return \"0-15 days\"\n",
        "  elif delay >=16 and delay <=30:\n",
        "    return \"15-30 days\"\n",
        "  elif delay >=31 and delay <=45:\n",
        "    return \"31-45 days\"\n",
        "  elif delay>=46 and delay<=60:\n",
        "    return \"46-60 days\"\n",
        "  else:\n",
        "    return \"greater than 60 days\""
      ],
      "execution_count": null,
      "outputs": []
    },
    {
      "cell_type": "code",
      "metadata": {
        "colab": {
          "base_uri": "https://localhost:8080/",
          "height": 330
        },
        "id": "mpFDYpqnzkU5",
        "outputId": "85deb413-a648-4caa-f6ec-f779743c2f2c"
      },
      "source": [
        "# Now Creating the Bucket column using this function\n",
        "df['bucket']=df['delay'].map(bucketizer)\n",
        "df.head()"
      ],
      "execution_count": null,
      "outputs": [
        {
          "output_type": "execute_result",
          "data": {
            "text/html": [
              "<div>\n",
              "<style scoped>\n",
              "    .dataframe tbody tr th:only-of-type {\n",
              "        vertical-align: middle;\n",
              "    }\n",
              "\n",
              "    .dataframe tbody tr th {\n",
              "        vertical-align: top;\n",
              "    }\n",
              "\n",
              "    .dataframe thead th {\n",
              "        text-align: right;\n",
              "    }\n",
              "</style>\n",
              "<table border=\"1\" class=\"dataframe\">\n",
              "  <thead>\n",
              "    <tr style=\"text-align: right;\">\n",
              "      <th></th>\n",
              "      <th>business_code</th>\n",
              "      <th>cust_number</th>\n",
              "      <th>name_customer</th>\n",
              "      <th>clear_date</th>\n",
              "      <th>buisness_year</th>\n",
              "      <th>doc_id</th>\n",
              "      <th>posting_date</th>\n",
              "      <th>document_create_date</th>\n",
              "      <th>document_create_date.1</th>\n",
              "      <th>due_in_date</th>\n",
              "      <th>invoice_currency</th>\n",
              "      <th>document type</th>\n",
              "      <th>posting_id</th>\n",
              "      <th>total_open_amount</th>\n",
              "      <th>baseline_create_date</th>\n",
              "      <th>cust_payment_terms</th>\n",
              "      <th>invoice_id</th>\n",
              "      <th>isOpen</th>\n",
              "      <th>delay</th>\n",
              "      <th>bucket</th>\n",
              "    </tr>\n",
              "  </thead>\n",
              "  <tbody>\n",
              "    <tr>\n",
              "      <th>45594</th>\n",
              "      <td>U001</td>\n",
              "      <td>0200769623</td>\n",
              "      <td>WAL-MAR systems</td>\n",
              "      <td>2020-03-14</td>\n",
              "      <td>2020.0</td>\n",
              "      <td>1.930582e+09</td>\n",
              "      <td>2020-03-01</td>\n",
              "      <td>2020-02-29</td>\n",
              "      <td>2020-03-01</td>\n",
              "      <td>2020-03-16</td>\n",
              "      <td>USD</td>\n",
              "      <td>RV</td>\n",
              "      <td>1.0</td>\n",
              "      <td>13353.11</td>\n",
              "      <td>2020-03-01</td>\n",
              "      <td>NAH4</td>\n",
              "      <td>1.930582e+09</td>\n",
              "      <td>1</td>\n",
              "      <td>-2 days</td>\n",
              "      <td>0-15 days</td>\n",
              "    </tr>\n",
              "    <tr>\n",
              "      <th>45595</th>\n",
              "      <td>U001</td>\n",
              "      <td>0200782772</td>\n",
              "      <td>ASSOC G trust</td>\n",
              "      <td>2020-05-22</td>\n",
              "      <td>2020.0</td>\n",
              "      <td>1.930870e+09</td>\n",
              "      <td>2020-05-06</td>\n",
              "      <td>2020-05-06</td>\n",
              "      <td>2020-05-06</td>\n",
              "      <td>2020-05-21</td>\n",
              "      <td>USD</td>\n",
              "      <td>RV</td>\n",
              "      <td>1.0</td>\n",
              "      <td>26157.86</td>\n",
              "      <td>2020-05-06</td>\n",
              "      <td>NAA8</td>\n",
              "      <td>1.930870e+09</td>\n",
              "      <td>1</td>\n",
              "      <td>1 days</td>\n",
              "      <td>0-15 days</td>\n",
              "    </tr>\n",
              "    <tr>\n",
              "      <th>45596</th>\n",
              "      <td>U001</td>\n",
              "      <td>0200794332</td>\n",
              "      <td>COST corporation</td>\n",
              "      <td>2020-03-27</td>\n",
              "      <td>2020.0</td>\n",
              "      <td>1.930642e+09</td>\n",
              "      <td>2020-03-12</td>\n",
              "      <td>2020-03-11</td>\n",
              "      <td>2020-03-12</td>\n",
              "      <td>2020-03-27</td>\n",
              "      <td>USD</td>\n",
              "      <td>RV</td>\n",
              "      <td>1.0</td>\n",
              "      <td>83937.31</td>\n",
              "      <td>2020-03-12</td>\n",
              "      <td>NAAX</td>\n",
              "      <td>1.930642e+09</td>\n",
              "      <td>1</td>\n",
              "      <td>0 days</td>\n",
              "      <td>0-15 days</td>\n",
              "    </tr>\n",
              "    <tr>\n",
              "      <th>45597</th>\n",
              "      <td>U001</td>\n",
              "      <td>0200714710</td>\n",
              "      <td>SYSCO  co</td>\n",
              "      <td>2020-04-14</td>\n",
              "      <td>2020.0</td>\n",
              "      <td>1.930628e+09</td>\n",
              "      <td>2020-03-12</td>\n",
              "      <td>2020-03-10</td>\n",
              "      <td>2020-03-12</td>\n",
              "      <td>2020-04-13</td>\n",
              "      <td>USD</td>\n",
              "      <td>RV</td>\n",
              "      <td>1.0</td>\n",
              "      <td>510.31</td>\n",
              "      <td>2020-03-12</td>\n",
              "      <td>NA32</td>\n",
              "      <td>1.930628e+09</td>\n",
              "      <td>1</td>\n",
              "      <td>1 days</td>\n",
              "      <td>0-15 days</td>\n",
              "    </tr>\n",
              "    <tr>\n",
              "      <th>45598</th>\n",
              "      <td>U001</td>\n",
              "      <td>0200744019</td>\n",
              "      <td>TARG llc</td>\n",
              "      <td>2020-04-24</td>\n",
              "      <td>2020.0</td>\n",
              "      <td>1.930753e+09</td>\n",
              "      <td>2020-04-07</td>\n",
              "      <td>2020-04-06</td>\n",
              "      <td>2020-04-07</td>\n",
              "      <td>2020-04-22</td>\n",
              "      <td>USD</td>\n",
              "      <td>RV</td>\n",
              "      <td>1.0</td>\n",
              "      <td>16807.58</td>\n",
              "      <td>2020-04-07</td>\n",
              "      <td>NAA8</td>\n",
              "      <td>1.930753e+09</td>\n",
              "      <td>1</td>\n",
              "      <td>2 days</td>\n",
              "      <td>0-15 days</td>\n",
              "    </tr>\n",
              "  </tbody>\n",
              "</table>\n",
              "</div>"
            ],
            "text/plain": [
              "      business_code cust_number     name_customer  ... isOpen   delay     bucket\n",
              "45594          U001  0200769623   WAL-MAR systems  ...      1 -2 days  0-15 days\n",
              "45595          U001  0200782772     ASSOC G trust  ...      1  1 days  0-15 days\n",
              "45596          U001  0200794332  COST corporation  ...      1  0 days  0-15 days\n",
              "45597          U001  0200714710         SYSCO  co  ...      1  1 days  0-15 days\n",
              "45598          U001  0200744019          TARG llc  ...      1  2 days  0-15 days\n",
              "\n",
              "[5 rows x 20 columns]"
            ]
          },
          "metadata": {
            "tags": []
          },
          "execution_count": 260
        }
      ]
    },
    {
      "cell_type": "code",
      "metadata": {
        "colab": {
          "base_uri": "https://localhost:8080/",
          "height": 379
        },
        "id": "tVEXiJ2pz0VC",
        "outputId": "0b97c122-7874-4899-d789-86ed0beab058"
      },
      "source": [
        "df.groupby('bucket').count()"
      ],
      "execution_count": null,
      "outputs": [
        {
          "output_type": "execute_result",
          "data": {
            "text/html": [
              "<div>\n",
              "<style scoped>\n",
              "    .dataframe tbody tr th:only-of-type {\n",
              "        vertical-align: middle;\n",
              "    }\n",
              "\n",
              "    .dataframe tbody tr th {\n",
              "        vertical-align: top;\n",
              "    }\n",
              "\n",
              "    .dataframe thead th {\n",
              "        text-align: right;\n",
              "    }\n",
              "</style>\n",
              "<table border=\"1\" class=\"dataframe\">\n",
              "  <thead>\n",
              "    <tr style=\"text-align: right;\">\n",
              "      <th></th>\n",
              "      <th>business_code</th>\n",
              "      <th>cust_number</th>\n",
              "      <th>name_customer</th>\n",
              "      <th>clear_date</th>\n",
              "      <th>buisness_year</th>\n",
              "      <th>doc_id</th>\n",
              "      <th>posting_date</th>\n",
              "      <th>document_create_date</th>\n",
              "      <th>document_create_date.1</th>\n",
              "      <th>due_in_date</th>\n",
              "      <th>invoice_currency</th>\n",
              "      <th>document type</th>\n",
              "      <th>posting_id</th>\n",
              "      <th>total_open_amount</th>\n",
              "      <th>baseline_create_date</th>\n",
              "      <th>cust_payment_terms</th>\n",
              "      <th>invoice_id</th>\n",
              "      <th>isOpen</th>\n",
              "      <th>delay</th>\n",
              "    </tr>\n",
              "    <tr>\n",
              "      <th>bucket</th>\n",
              "      <th></th>\n",
              "      <th></th>\n",
              "      <th></th>\n",
              "      <th></th>\n",
              "      <th></th>\n",
              "      <th></th>\n",
              "      <th></th>\n",
              "      <th></th>\n",
              "      <th></th>\n",
              "      <th></th>\n",
              "      <th></th>\n",
              "      <th></th>\n",
              "      <th></th>\n",
              "      <th></th>\n",
              "      <th></th>\n",
              "      <th></th>\n",
              "      <th></th>\n",
              "      <th></th>\n",
              "      <th></th>\n",
              "    </tr>\n",
              "  </thead>\n",
              "  <tbody>\n",
              "    <tr>\n",
              "      <th>0-15 days</th>\n",
              "      <td>4126</td>\n",
              "      <td>4126</td>\n",
              "      <td>4126</td>\n",
              "      <td>4126</td>\n",
              "      <td>4126</td>\n",
              "      <td>4126</td>\n",
              "      <td>4126</td>\n",
              "      <td>4126</td>\n",
              "      <td>4126</td>\n",
              "      <td>4126</td>\n",
              "      <td>4126</td>\n",
              "      <td>4126</td>\n",
              "      <td>4126</td>\n",
              "      <td>4126</td>\n",
              "      <td>4126</td>\n",
              "      <td>4126</td>\n",
              "      <td>4126</td>\n",
              "      <td>4126</td>\n",
              "      <td>4126</td>\n",
              "    </tr>\n",
              "    <tr>\n",
              "      <th>15-30 days</th>\n",
              "      <td>27</td>\n",
              "      <td>27</td>\n",
              "      <td>27</td>\n",
              "      <td>27</td>\n",
              "      <td>27</td>\n",
              "      <td>27</td>\n",
              "      <td>27</td>\n",
              "      <td>27</td>\n",
              "      <td>27</td>\n",
              "      <td>27</td>\n",
              "      <td>27</td>\n",
              "      <td>27</td>\n",
              "      <td>27</td>\n",
              "      <td>27</td>\n",
              "      <td>27</td>\n",
              "      <td>27</td>\n",
              "      <td>27</td>\n",
              "      <td>27</td>\n",
              "      <td>27</td>\n",
              "    </tr>\n",
              "    <tr>\n",
              "      <th>31-45 days</th>\n",
              "      <td>19</td>\n",
              "      <td>19</td>\n",
              "      <td>19</td>\n",
              "      <td>19</td>\n",
              "      <td>19</td>\n",
              "      <td>19</td>\n",
              "      <td>19</td>\n",
              "      <td>19</td>\n",
              "      <td>19</td>\n",
              "      <td>19</td>\n",
              "      <td>19</td>\n",
              "      <td>19</td>\n",
              "      <td>19</td>\n",
              "      <td>19</td>\n",
              "      <td>19</td>\n",
              "      <td>19</td>\n",
              "      <td>19</td>\n",
              "      <td>19</td>\n",
              "      <td>19</td>\n",
              "    </tr>\n",
              "    <tr>\n",
              "      <th>46-60 days</th>\n",
              "      <td>12</td>\n",
              "      <td>12</td>\n",
              "      <td>12</td>\n",
              "      <td>12</td>\n",
              "      <td>12</td>\n",
              "      <td>12</td>\n",
              "      <td>12</td>\n",
              "      <td>12</td>\n",
              "      <td>12</td>\n",
              "      <td>12</td>\n",
              "      <td>12</td>\n",
              "      <td>12</td>\n",
              "      <td>12</td>\n",
              "      <td>12</td>\n",
              "      <td>12</td>\n",
              "      <td>12</td>\n",
              "      <td>12</td>\n",
              "      <td>12</td>\n",
              "      <td>12</td>\n",
              "    </tr>\n",
              "    <tr>\n",
              "      <th>greater than 60 days</th>\n",
              "      <td>4</td>\n",
              "      <td>4</td>\n",
              "      <td>4</td>\n",
              "      <td>4</td>\n",
              "      <td>4</td>\n",
              "      <td>4</td>\n",
              "      <td>4</td>\n",
              "      <td>4</td>\n",
              "      <td>4</td>\n",
              "      <td>4</td>\n",
              "      <td>4</td>\n",
              "      <td>4</td>\n",
              "      <td>4</td>\n",
              "      <td>4</td>\n",
              "      <td>4</td>\n",
              "      <td>4</td>\n",
              "      <td>4</td>\n",
              "      <td>4</td>\n",
              "      <td>4</td>\n",
              "    </tr>\n",
              "  </tbody>\n",
              "</table>\n",
              "</div>"
            ],
            "text/plain": [
              "                      business_code  cust_number  ...  isOpen  delay\n",
              "bucket                                            ...               \n",
              "0-15 days                      4126         4126  ...    4126   4126\n",
              "15-30 days                       27           27  ...      27     27\n",
              "31-45 days                       19           19  ...      19     19\n",
              "46-60 days                       12           12  ...      12     12\n",
              "greater than 60 days              4            4  ...       4      4\n",
              "\n",
              "[5 rows x 19 columns]"
            ]
          },
          "metadata": {
            "tags": []
          },
          "execution_count": 261
        }
      ]
    },
    {
      "cell_type": "markdown",
      "metadata": {
        "id": "K7c1yAMi4CPg"
      },
      "source": [
        "Hence we have  bucketized all the test data entries and achieved our goal."
      ]
    },
    {
      "cell_type": "markdown",
      "metadata": {
        "id": "kqcemrfZw-cb"
      },
      "source": [
        "It is furthet clear from below,"
      ]
    },
    {
      "cell_type": "code",
      "metadata": {
        "id": "rQXjEOSB5MkG",
        "colab": {
          "base_uri": "https://localhost:8080/",
          "height": 206
        },
        "outputId": "dd969f23-34db-46e3-ae32-cf448ab0c5e9"
      },
      "source": [
        "df[['due_in_date','delay','clear_date','bucket']].head()"
      ],
      "execution_count": null,
      "outputs": [
        {
          "output_type": "execute_result",
          "data": {
            "text/html": [
              "<div>\n",
              "<style scoped>\n",
              "    .dataframe tbody tr th:only-of-type {\n",
              "        vertical-align: middle;\n",
              "    }\n",
              "\n",
              "    .dataframe tbody tr th {\n",
              "        vertical-align: top;\n",
              "    }\n",
              "\n",
              "    .dataframe thead th {\n",
              "        text-align: right;\n",
              "    }\n",
              "</style>\n",
              "<table border=\"1\" class=\"dataframe\">\n",
              "  <thead>\n",
              "    <tr style=\"text-align: right;\">\n",
              "      <th></th>\n",
              "      <th>due_in_date</th>\n",
              "      <th>delay</th>\n",
              "      <th>clear_date</th>\n",
              "      <th>bucket</th>\n",
              "    </tr>\n",
              "  </thead>\n",
              "  <tbody>\n",
              "    <tr>\n",
              "      <th>45594</th>\n",
              "      <td>2020-03-16</td>\n",
              "      <td>-2 days</td>\n",
              "      <td>2020-03-14</td>\n",
              "      <td>0-15 days</td>\n",
              "    </tr>\n",
              "    <tr>\n",
              "      <th>45595</th>\n",
              "      <td>2020-05-21</td>\n",
              "      <td>1 days</td>\n",
              "      <td>2020-05-22</td>\n",
              "      <td>0-15 days</td>\n",
              "    </tr>\n",
              "    <tr>\n",
              "      <th>45596</th>\n",
              "      <td>2020-03-27</td>\n",
              "      <td>0 days</td>\n",
              "      <td>2020-03-27</td>\n",
              "      <td>0-15 days</td>\n",
              "    </tr>\n",
              "    <tr>\n",
              "      <th>45597</th>\n",
              "      <td>2020-04-13</td>\n",
              "      <td>1 days</td>\n",
              "      <td>2020-04-14</td>\n",
              "      <td>0-15 days</td>\n",
              "    </tr>\n",
              "    <tr>\n",
              "      <th>45598</th>\n",
              "      <td>2020-04-22</td>\n",
              "      <td>2 days</td>\n",
              "      <td>2020-04-24</td>\n",
              "      <td>0-15 days</td>\n",
              "    </tr>\n",
              "  </tbody>\n",
              "</table>\n",
              "</div>"
            ],
            "text/plain": [
              "      due_in_date   delay clear_date     bucket\n",
              "45594  2020-03-16 -2 days 2020-03-14  0-15 days\n",
              "45595  2020-05-21  1 days 2020-05-22  0-15 days\n",
              "45596  2020-03-27  0 days 2020-03-27  0-15 days\n",
              "45597  2020-04-13  1 days 2020-04-14  0-15 days\n",
              "45598  2020-04-22  2 days 2020-04-24  0-15 days"
            ]
          },
          "metadata": {
            "tags": []
          },
          "execution_count": 262
        }
      ]
    },
    {
      "cell_type": "markdown",
      "metadata": {
        "id": "ievHEY-yx2yG"
      },
      "source": [
        "That's all !!! Thank You for ur time :)"
      ]
    },
    {
      "cell_type": "code",
      "metadata": {
        "id": "1_VBqfgOzSIv"
      },
      "source": [
        ""
      ],
      "execution_count": null,
      "outputs": []
    }
  ]
}